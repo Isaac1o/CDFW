{
 "cells": [
  {
   "cell_type": "code",
   "execution_count": 1,
   "metadata": {},
   "outputs": [],
   "source": [
    "import pandas as pd"
   ]
  },
  {
   "cell_type": "code",
   "execution_count": 22,
   "metadata": {},
   "outputs": [],
   "source": [
    "base_file = '/Users/chandannayak/Projects/CDFW/CDFW/twitter/coyotes/data/all_queries_01.csv'\n",
    "manual_check = 'check.xlsx'\n",
    "def save_merged(base_file, manual_check, file_name='merged.csv'):\n",
    "    base = pd.read_csv(base_file)\n",
    "    manual_check = pd.read_excel(manual_check)\n",
    "    merged_df = pd.concat([base, manual_check['check']], axis=1)\n",
    "    merged_df.to_csv(file_name, index=False)"
   ]
  },
  {
   "cell_type": "code",
   "execution_count": 29,
   "metadata": {},
   "outputs": [],
   "source": [
    "if __name__ == 'main':\n",
    "    save_merged(base_file, manual_check)"
   ]
  },
  {
   "cell_type": "code",
   "execution_count": null,
   "metadata": {},
   "outputs": [],
   "source": []
  }
 ],
 "metadata": {
  "interpreter": {
   "hash": "51257e3d6adcf4f249880334112f68e609bc91a365f964b61c4cee61bd4b0e6f"
  },
  "kernelspec": {
   "display_name": "Python 3.8.12 ('base')",
   "language": "python",
   "name": "python3"
  },
  "language_info": {
   "codemirror_mode": {
    "name": "ipython",
    "version": 3
   },
   "file_extension": ".py",
   "mimetype": "text/x-python",
   "name": "python",
   "nbconvert_exporter": "python",
   "pygments_lexer": "ipython3",
   "version": "3.8.12"
  },
  "orig_nbformat": 4
 },
 "nbformat": 4,
 "nbformat_minor": 2
}
