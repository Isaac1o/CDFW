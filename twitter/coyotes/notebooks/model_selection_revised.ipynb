{
 "cells": [
  {
   "cell_type": "code",
   "execution_count": 1,
   "metadata": {
    "tags": []
   },
   "outputs": [],
   "source": [
    "import pandas as pd\n",
    "import numpy as np\n",
    "from sklearn.naive_bayes import MultinomialNB\n",
    "from sklearn.naive_bayes import ComplementNB\n",
    "from sklearn.svm import SVC\n",
    "from sklearn.model_selection import train_test_split\n",
    "from sklearn.feature_extraction.text import CountVectorizer\n",
    "from utility.get_twitter import *\n",
    "from sklearn.model_selection import GridSearchCV\n",
    "from sklearn.pipeline import Pipeline\n",
    "from sklearn.metrics import log_loss, make_scorer\n",
    "from utility.text_normalizer import *\n",
    "from sklearn.metrics import confusion_matrix\n",
    "from sklearn.metrics import classification_report\n",
    "import seaborn as sns\n",
    "from sklearn.feature_extraction.text import TfidfVectorizer\n",
    "import sys"
   ]
  },
  {
   "cell_type": "markdown",
   "metadata": {
    "pycharm": {
     "name": "#%% md\n"
    }
   },
   "source": [
    "# Load data"
   ]
  },
  {
   "cell_type": "code",
   "execution_count": 2,
   "metadata": {
    "pycharm": {
     "name": "#%%\n"
    }
   },
   "outputs": [],
   "source": [
    "pd.set_option(\"display.max_colwidth\", None)"
   ]
  },
  {
   "cell_type": "code",
   "execution_count": 3,
   "metadata": {
    "jupyter": {
     "outputs_hidden": false
    },
    "pycharm": {
     "name": "#%%\n"
    }
   },
   "outputs": [
    {
     "data": {
      "text/plain": "       tweet_id  \\\n0  1.455952e+14   \n1  1.455952e+14   \n2  1.455933e+14   \n3  1.455932e+14   \n4  1.455930e+14   \n\n                                                                                                                                                                                                                                       tweet  \\\n0                                                                                                                                                                                @OnlineAlison Several comments later… “I feed the coyotes!”   \n1                                                                                                                                                      @johnlevenstein If we hadn’t defunded police there wouldn’t be so many coyotes!!!!!!!   \n2                                                                                                                                                                                           @TheOGpianoGeek That her COYOTE dues are late...   \n3  Hey Coyotes! There is a virtual PFC meeting next Wednesday, November 10th at 9:00 am. You don't wanna miss it.  Click here for the Zoom link:  https://t.co/2t8f4T7c9W or go to our website. #coyotepride #CHSPFC https://t.co/HDtuuiKqou   \n4          @DunkaPeacecraft The Dems have been in power for a year, they've done nothing with it and thus have nothing to campaign on so they're forced to pull stunts like this that are sure to blow up in their face Wile E Coyote style.   \n\n   revelant  sighting  lost_pet  coyote_death  eating  pet_coyote_interaction  \\\n0       1.0       0.0       0.0           0.0     0.0                     0.0   \n1       0.0       0.0       0.0           0.0     0.0                     0.0   \n2       0.0       0.0       0.0           0.0     0.0                     0.0   \n3       0.0       0.0       0.0           0.0     0.0                     0.0   \n4       0.0       0.0       0.0           0.0     0.0                     0.0   \n\n   traffic  howling  \n0      0.0      0.0  \n1      0.0      0.0  \n2      0.0      0.0  \n3      0.0      0.0  \n4      0.0      0.0  ",
      "text/html": "<div>\n<style scoped>\n    .dataframe tbody tr th:only-of-type {\n        vertical-align: middle;\n    }\n\n    .dataframe tbody tr th {\n        vertical-align: top;\n    }\n\n    .dataframe thead th {\n        text-align: right;\n    }\n</style>\n<table border=\"1\" class=\"dataframe\">\n  <thead>\n    <tr style=\"text-align: right;\">\n      <th></th>\n      <th>tweet_id</th>\n      <th>tweet</th>\n      <th>revelant</th>\n      <th>sighting</th>\n      <th>lost_pet</th>\n      <th>coyote_death</th>\n      <th>eating</th>\n      <th>pet_coyote_interaction</th>\n      <th>traffic</th>\n      <th>howling</th>\n    </tr>\n  </thead>\n  <tbody>\n    <tr>\n      <th>0</th>\n      <td>1.455952e+14</td>\n      <td>@OnlineAlison Several comments later… “I feed the coyotes!”</td>\n      <td>1.0</td>\n      <td>0.0</td>\n      <td>0.0</td>\n      <td>0.0</td>\n      <td>0.0</td>\n      <td>0.0</td>\n      <td>0.0</td>\n      <td>0.0</td>\n    </tr>\n    <tr>\n      <th>1</th>\n      <td>1.455952e+14</td>\n      <td>@johnlevenstein If we hadn’t defunded police there wouldn’t be so many coyotes!!!!!!!</td>\n      <td>0.0</td>\n      <td>0.0</td>\n      <td>0.0</td>\n      <td>0.0</td>\n      <td>0.0</td>\n      <td>0.0</td>\n      <td>0.0</td>\n      <td>0.0</td>\n    </tr>\n    <tr>\n      <th>2</th>\n      <td>1.455933e+14</td>\n      <td>@TheOGpianoGeek That her COYOTE dues are late...</td>\n      <td>0.0</td>\n      <td>0.0</td>\n      <td>0.0</td>\n      <td>0.0</td>\n      <td>0.0</td>\n      <td>0.0</td>\n      <td>0.0</td>\n      <td>0.0</td>\n    </tr>\n    <tr>\n      <th>3</th>\n      <td>1.455932e+14</td>\n      <td>Hey Coyotes! There is a virtual PFC meeting next Wednesday, November 10th at 9:00 am. You don't wanna miss it.  Click here for the Zoom link:  https://t.co/2t8f4T7c9W or go to our website. #coyotepride #CHSPFC https://t.co/HDtuuiKqou</td>\n      <td>0.0</td>\n      <td>0.0</td>\n      <td>0.0</td>\n      <td>0.0</td>\n      <td>0.0</td>\n      <td>0.0</td>\n      <td>0.0</td>\n      <td>0.0</td>\n    </tr>\n    <tr>\n      <th>4</th>\n      <td>1.455930e+14</td>\n      <td>@DunkaPeacecraft The Dems have been in power for a year, they've done nothing with it and thus have nothing to campaign on so they're forced to pull stunts like this that are sure to blow up in their face Wile E Coyote style.</td>\n      <td>0.0</td>\n      <td>0.0</td>\n      <td>0.0</td>\n      <td>0.0</td>\n      <td>0.0</td>\n      <td>0.0</td>\n      <td>0.0</td>\n      <td>0.0</td>\n    </tr>\n  </tbody>\n</table>\n</div>"
     },
     "execution_count": 3,
     "metadata": {},
     "output_type": "execute_result"
    }
   ],
   "source": [
    "data = pd.read_csv('../data/tagged_tweets.csv')\n",
    "data.head()"
   ]
  },
  {
   "cell_type": "markdown",
   "metadata": {
    "pycharm": {
     "name": "#%% md\n"
    }
   },
   "source": [
    "`tweet` is `X` `revelant` is `y`"
   ]
  },
  {
   "cell_type": "code",
   "execution_count": 4,
   "metadata": {
    "jupyter": {
     "outputs_hidden": false
    },
    "pycharm": {
     "name": "#%%\n"
    }
   },
   "outputs": [
    {
     "data": {
      "text/plain": "((422,), (422,))"
     },
     "execution_count": 4,
     "metadata": {},
     "output_type": "execute_result"
    }
   ],
   "source": [
    "X = data['tweet']\n",
    "y = data['revelant']\n",
    "X.shape, y.shape"
   ]
  },
  {
   "cell_type": "code",
   "execution_count": 5,
   "metadata": {
    "pycharm": {
     "name": "#%%\n"
    }
   },
   "outputs": [
    {
     "data": {
      "text/plain": "((105,), (317,))"
     },
     "execution_count": 5,
     "metadata": {},
     "output_type": "execute_result"
    }
   ],
   "source": [
    "y[y == 1].shape, y[y == 0].shape"
   ]
  },
  {
   "cell_type": "markdown",
   "metadata": {
    "pycharm": {
     "name": "#%% md\n"
    }
   },
   "source": [
    "# Split data into train, validation, test"
   ]
  },
  {
   "cell_type": "code",
   "execution_count": 45,
   "metadata": {
    "jupyter": {
     "outputs_hidden": false
    },
    "pycharm": {
     "name": "#%%\n"
    }
   },
   "outputs": [
    {
     "data": {
      "text/plain": "((316,), (106,), (316,), (106,))"
     },
     "execution_count": 45,
     "metadata": {},
     "output_type": "execute_result"
    }
   ],
   "source": [
    "X_train, X_test, y_train, y_test = train_test_split(X, y, test_size=.25, stratify=None)\n",
    "X_train.shape, X_test.shape, y_train.shape, y_test.shape"
   ]
  },
  {
   "cell_type": "code",
   "execution_count": 46,
   "outputs": [],
   "source": [
    "# Save training and test sets\n",
    "train = pd.DataFrame({'X':X_train, 'y':y_train})\n",
    "test = pd.DataFrame({'X': X_test, 'y': y_test})"
   ],
   "metadata": {
    "collapsed": false,
    "pycharm": {
     "name": "#%%\n"
    }
   }
  },
  {
   "cell_type": "code",
   "execution_count": 47,
   "outputs": [],
   "source": [
    "# train.to_csv('../data/train_initial.csv', index=None)\n",
    "# test.to_csv('../data/test_initial.csv', index=None)"
   ],
   "metadata": {
    "collapsed": false,
    "pycharm": {
     "name": "#%%\n"
    }
   }
  },
  {
   "cell_type": "code",
   "execution_count": 48,
   "outputs": [],
   "source": [
    "train = pd.read_csv('../data/train_initial.csv')\n",
    "test = pd.read_csv('../data/test_initial.csv')"
   ],
   "metadata": {
    "collapsed": false,
    "pycharm": {
     "name": "#%%\n"
    }
   }
  },
  {
   "cell_type": "code",
   "execution_count": 49,
   "outputs": [],
   "source": [
    "X_train = train['X']\n",
    "y_train = train['y']\n",
    "X_test = test['X']\n",
    "y_test = test['y']"
   ],
   "metadata": {
    "collapsed": false,
    "pycharm": {
     "name": "#%%\n"
    }
   }
  },
  {
   "cell_type": "markdown",
   "metadata": {
    "pycharm": {
     "name": "#%% md\n"
    }
   },
   "source": [
    "# Split val_test into validation and test"
   ]
  },
  {
   "cell_type": "code",
   "execution_count": 50,
   "metadata": {
    "pycharm": {
     "name": "#%%\n"
    }
   },
   "outputs": [
    {
     "data": {
      "text/plain": "(78.0, 27.0)"
     },
     "execution_count": 50,
     "metadata": {},
     "output_type": "execute_result"
    }
   ],
   "source": [
    "y_train[y_train==1].sum(), y_test[y_test==1].sum()"
   ]
  },
  {
   "cell_type": "markdown",
   "metadata": {
    "pycharm": {
     "name": "#%% md\n"
    }
   },
   "source": [
    "Training will be used to train all the models, validation will be used to select best model, and test will be used to test the final model"
   ]
  },
  {
   "cell_type": "markdown",
   "metadata": {
    "pycharm": {
     "name": "#%% md\n"
    }
   },
   "source": [
    "# Make Scorer for Cross Validation\n",
    "\n",
    "The scorer or metric im going to use to gauge how good a model is logloss"
   ]
  },
  {
   "cell_type": "code",
   "execution_count": 51,
   "metadata": {
    "jupyter": {
     "outputs_hidden": false
    },
    "pycharm": {
     "name": "#%%\n"
    }
   },
   "outputs": [],
   "source": [
    "LogLoss = make_scorer(log_loss, greater_is_better=False, needs_proba=True)"
   ]
  },
  {
   "cell_type": "markdown",
   "metadata": {
    "pycharm": {
     "name": "#%% md\n"
    }
   },
   "source": [
    "# Create function to measure metrics\n",
    "\n",
    "The loss we will be optimizing for is logloss"
   ]
  },
  {
   "cell_type": "code",
   "execution_count": 52,
   "metadata": {
    "jupyter": {
     "outputs_hidden": false
    },
    "pycharm": {
     "name": "#%%\n"
    }
   },
   "outputs": [],
   "source": [
    "def print_scores(model, y_true, X_val):\n",
    "    y_hat = model.predict_proba(X_val)[:,1]\n",
    "    y_pred = model.predict(X_val)\n",
    "    print(classification_report(y_true, y_pred, target_names=['irrelevant', 'relevant']))\n",
    "    print(f'Log Loss: {log_loss(y_true, y_hat):.5f}')\n",
    "    sns.heatmap(confusion_matrix(y_true, y_pred).T, square=True, annot=True, fmt='d')"
   ]
  },
  {
   "cell_type": "markdown",
   "metadata": {
    "pycharm": {
     "name": "#%% md\n"
    }
   },
   "source": [
    "# Candidate models\n",
    "\n",
    "The following are the models I will be selecting from:\n",
    "- CountVector -> NB\n",
    "- TFIDF -> NB\n",
    "- CountVector -> SVG\n",
    "- TFIDF -> SVG"
   ]
  },
  {
   "cell_type": "markdown",
   "metadata": {
    "pycharm": {
     "name": "#%% md\n"
    }
   },
   "source": [
    "# Model 1: Count -> NB"
   ]
  },
  {
   "cell_type": "code",
   "execution_count": 53,
   "metadata": {
    "jupyter": {
     "outputs_hidden": false
    },
    "pycharm": {
     "name": "#%%\n"
    }
   },
   "outputs": [],
   "source": [
    "count_vec = CountVectorizer(strip_accents='ascii')\n",
    "nb = MultinomialNB()\n",
    "pipeline = Pipeline(steps=[('wordcount', count_vec), ('bayes', nb)])\n",
    "params = {\n",
    "    'wordcount__preprocessor': [tweet_preprocessor],\n",
    "    'wordcount__ngram_range': [(1,2), (1,1)],\n",
    "    'wordcount__stop_words': ['english'],\n",
    "    'wordcount__min_df': [0, 1, 2],\n",
    "    'wordcount__lowercase': [True, False],\n",
    "    'bayes__alpha': [1, 2],\n",
    "}"
   ]
  },
  {
   "cell_type": "code",
   "execution_count": 54,
   "metadata": {
    "jupyter": {
     "outputs_hidden": false
    },
    "pycharm": {
     "name": "#%%\n"
    }
   },
   "outputs": [
    {
     "name": "stdout",
     "output_type": "stream",
     "text": [
      "Fitting 3 folds for each of 24 candidates, totalling 72 fits\n"
     ]
    },
    {
     "name": "stderr",
     "output_type": "stream",
     "text": [
      "/Users/Isaacbolo/opt/anaconda3/lib/python3.8/site-packages/sklearn/feature_extraction/text.py:388: UserWarning: Your stop_words may be inconsistent with your preprocessing. Tokenizing the stop words generated tokens ['ca', 'far', 'make', 'nt'] not in stop_words.\n",
      "  warnings.warn('Your stop_words may be inconsistent with '\n"
     ]
    },
    {
     "name": "stdout",
     "output_type": "stream",
     "text": [
      "CPU times: user 2.98 s, sys: 161 ms, total: 3.14 s\n",
      "Wall time: 1min 6s\n"
     ]
    },
    {
     "data": {
      "text/plain": "GridSearchCV(cv=3,\n             estimator=Pipeline(steps=[('wordcount',\n                                        CountVectorizer(strip_accents='ascii')),\n                                       ('bayes', MultinomialNB())]),\n             n_jobs=-1,\n             param_grid={'bayes__alpha': [1, 2],\n                         'wordcount__lowercase': [True, False],\n                         'wordcount__min_df': [0, 1, 2],\n                         'wordcount__ngram_range': [(1, 2), (1, 1)],\n                         'wordcount__preprocessor': [<function tweet_preprocessor at 0x7fa179c10550>],\n                         'wordcount__stop_words': ['english']},\n             scoring='neg_log_loss', verbose=50)"
     },
     "execution_count": 54,
     "metadata": {},
     "output_type": "execute_result"
    }
   ],
   "source": [
    "%%time\n",
    "# wcnb = GridSearchCV(pipeline, param_grid=params, verbose=50, n_jobs=-1, cv=3, scoring=LogLoss)\n",
    "wcnb = GridSearchCV(pipeline, param_grid=params, verbose=50, n_jobs=-1, cv=3, scoring='neg_log_loss')\n",
    "wcnb.fit(X_train, y_train)"
   ]
  },
  {
   "cell_type": "code",
   "execution_count": 55,
   "metadata": {
    "pycharm": {
     "name": "#%%\n"
    }
   },
   "outputs": [
    {
     "data": {
      "text/plain": "{'bayes__alpha': 2,\n 'wordcount__lowercase': True,\n 'wordcount__min_df': 0,\n 'wordcount__ngram_range': (1, 1),\n 'wordcount__preprocessor': <function utility.text_normalizer.tweet_preprocessor(tweet: str) -> str>,\n 'wordcount__stop_words': 'english'}"
     },
     "execution_count": 55,
     "metadata": {},
     "output_type": "execute_result"
    }
   ],
   "source": [
    "wcnb.best_params_"
   ]
  },
  {
   "cell_type": "code",
   "execution_count": 56,
   "metadata": {
    "pycharm": {
     "name": "#%%\n"
    }
   },
   "outputs": [
    {
     "data": {
      "text/plain": "-0.4789029924812394"
     },
     "execution_count": 56,
     "metadata": {},
     "output_type": "execute_result"
    }
   ],
   "source": [
    "wcnb.best_score_"
   ]
  },
  {
   "cell_type": "markdown",
   "metadata": {
    "pycharm": {
     "name": "#%% md\n"
    }
   },
   "source": [
    "# Model 2: TFIDF -> NB"
   ]
  },
  {
   "cell_type": "code",
   "execution_count": 58,
   "metadata": {
    "pycharm": {
     "name": "#%%\n"
    }
   },
   "outputs": [],
   "source": [
    "tfidf = TfidfVectorizer(smooth_idf=True, strip_accents='ascii')\n",
    "nb = MultinomialNB()\n",
    "pipeline = Pipeline([('tfidf', tfidf), ('nb', nb)])\n",
    "params = {\n",
    "    'tfidf__ngram_range': [(1,1), (1,2)],\n",
    "    'tfidf__max_df': [1,2],\n",
    "    'tfidf__min_df': [1,2],\n",
    "    'tfidf__preprocessor': [tweet_preprocessor],\n",
    "    'tfidf__stop_words': ['english'],\n",
    "    'tfidf__lowercase': [True, False],\n",
    "    'nb__alpha': [1, 2]\n",
    "}"
   ]
  },
  {
   "cell_type": "code",
   "execution_count": 59,
   "metadata": {
    "pycharm": {
     "name": "#%%\n"
    }
   },
   "outputs": [],
   "source": [
    "# tfidfnb = GridSearchCV(pipeline, param_grid=params, n_jobs=-1, verbose=50, cv=3, scoring=LogLoss)\n",
    "tfidfnb = GridSearchCV(pipeline, param_grid=params, n_jobs=-1, verbose=50, cv=3, scoring='neg_log_loss')"
   ]
  },
  {
   "cell_type": "code",
   "execution_count": 60,
   "metadata": {
    "pycharm": {
     "name": "#%%\n"
    }
   },
   "outputs": [
    {
     "name": "stdout",
     "output_type": "stream",
     "text": [
      "Fitting 3 folds for each of 32 candidates, totalling 96 fits\n"
     ]
    },
    {
     "name": "stderr",
     "output_type": "stream",
     "text": [
      "/Users/Isaacbolo/opt/anaconda3/lib/python3.8/site-packages/sklearn/model_selection/_search.py:918: UserWarning: One or more of the test scores are non-finite: [-0.52233032 -0.53170083         nan         nan -0.52475823 -0.53167121\n",
      " -0.5425149  -0.545652   -0.52233032 -0.53170083         nan         nan\n",
      " -0.52475823 -0.53167121 -0.5425149  -0.545652   -0.53643589 -0.5431306\n",
      "         nan         nan -0.53726892 -0.54261475 -0.54372052 -0.545962\n",
      " -0.53643589 -0.5431306          nan         nan -0.53726892 -0.54261475\n",
      " -0.54372052 -0.545962  ]\n",
      "  warnings.warn(\n",
      "/Users/Isaacbolo/opt/anaconda3/lib/python3.8/site-packages/sklearn/feature_extraction/text.py:388: UserWarning: Your stop_words may be inconsistent with your preprocessing. Tokenizing the stop words generated tokens ['ca', 'far', 'make', 'nt'] not in stop_words.\n",
      "  warnings.warn('Your stop_words may be inconsistent with '\n"
     ]
    },
    {
     "name": "stdout",
     "output_type": "stream",
     "text": [
      "CPU times: user 3.22 s, sys: 43.7 ms, total: 3.26 s\n",
      "Wall time: 1min 23s\n"
     ]
    },
    {
     "data": {
      "text/plain": "GridSearchCV(cv=3,\n             estimator=Pipeline(steps=[('tfidf',\n                                        TfidfVectorizer(strip_accents='ascii')),\n                                       ('nb', MultinomialNB())]),\n             n_jobs=-1,\n             param_grid={'nb__alpha': [1, 2], 'tfidf__lowercase': [True, False],\n                         'tfidf__max_df': [1, 2], 'tfidf__min_df': [1, 2],\n                         'tfidf__ngram_range': [(1, 1), (1, 2)],\n                         'tfidf__preprocessor': [<function tweet_preprocessor at 0x7fa179c10550>],\n                         'tfidf__stop_words': ['english']},\n             scoring='neg_log_loss', verbose=50)"
     },
     "execution_count": 60,
     "metadata": {},
     "output_type": "execute_result"
    }
   ],
   "source": [
    "%%time\n",
    "tfidfnb.fit(X_train, y_train)"
   ]
  },
  {
   "cell_type": "code",
   "execution_count": 61,
   "metadata": {
    "pycharm": {
     "name": "#%%\n"
    }
   },
   "outputs": [
    {
     "data": {
      "text/plain": "{'nb__alpha': 1,\n 'tfidf__lowercase': True,\n 'tfidf__max_df': 1,\n 'tfidf__min_df': 1,\n 'tfidf__ngram_range': (1, 1),\n 'tfidf__preprocessor': <function utility.text_normalizer.tweet_preprocessor(tweet: str) -> str>,\n 'tfidf__stop_words': 'english'}"
     },
     "execution_count": 61,
     "metadata": {},
     "output_type": "execute_result"
    }
   ],
   "source": [
    "tfidfnb.best_params_"
   ]
  },
  {
   "cell_type": "code",
   "execution_count": 62,
   "metadata": {
    "pycharm": {
     "name": "#%%\n"
    }
   },
   "outputs": [
    {
     "data": {
      "text/plain": "-0.5223303195353739"
     },
     "execution_count": 62,
     "metadata": {},
     "output_type": "execute_result"
    }
   ],
   "source": [
    "tfidfnb.best_score_"
   ]
  },
  {
   "cell_type": "markdown",
   "metadata": {
    "pycharm": {
     "name": "#%% md\n"
    }
   },
   "source": [
    "# Model 3: Count -> SVG"
   ]
  },
  {
   "cell_type": "code",
   "execution_count": 64,
   "metadata": {
    "pycharm": {
     "name": "#%%\n"
    }
   },
   "outputs": [],
   "source": [
    "count_vec = CountVectorizer(strip_accents='ascii')\n",
    "svmc = SVC(probability=True)\n",
    "pipeline = Pipeline([('count', count_vec), ('svm', svmc)])\n",
    "params = {\n",
    "    'count__ngram_range': [(1,2), (1,1)],\n",
    "    'count__min_df': [1],\n",
    "    'count__preprocessor': [tweet_preprocessor],\n",
    "    'count__stop_words': ['english'],\n",
    "    'count__lowercase': [True, False],\n",
    "    'svm__kernel': ['linear', 'sigmoid'],\n",
    "    'svm__C': [0.5, 1, 5],\n",
    "    'svm__class_weight': ['balanced'],\n",
    "}"
   ]
  },
  {
   "cell_type": "code",
   "execution_count": 65,
   "metadata": {
    "pycharm": {
     "name": "#%%\n"
    }
   },
   "outputs": [],
   "source": [
    "# cvsvm = GridSearchCV(pipeline, param_grid=params, n_jobs=-1, verbose=30, cv=3, scoring=LogLoss)\n",
    "cvsvm = GridSearchCV(pipeline, param_grid=params, n_jobs=-1, verbose=30, cv=3, scoring='neg_log_loss')"
   ]
  },
  {
   "cell_type": "code",
   "execution_count": 66,
   "metadata": {
    "pycharm": {
     "name": "#%%\n"
    }
   },
   "outputs": [
    {
     "name": "stdout",
     "output_type": "stream",
     "text": [
      "Fitting 3 folds for each of 24 candidates, totalling 72 fits\n"
     ]
    },
    {
     "name": "stderr",
     "output_type": "stream",
     "text": [
      "/Users/Isaacbolo/opt/anaconda3/lib/python3.8/site-packages/sklearn/feature_extraction/text.py:388: UserWarning: Your stop_words may be inconsistent with your preprocessing. Tokenizing the stop words generated tokens ['ca', 'far', 'make', 'nt'] not in stop_words.\n",
      "  warnings.warn('Your stop_words may be inconsistent with '\n"
     ]
    },
    {
     "name": "stdout",
     "output_type": "stream",
     "text": [
      "CPU times: user 3.07 s, sys: 46.9 ms, total: 3.12 s\n",
      "Wall time: 1min 9s\n"
     ]
    },
    {
     "data": {
      "text/plain": "GridSearchCV(cv=3,\n             estimator=Pipeline(steps=[('count',\n                                        CountVectorizer(strip_accents='ascii')),\n                                       ('svm', SVC(probability=True))]),\n             n_jobs=-1,\n             param_grid={'count__lowercase': [True, False],\n                         'count__min_df': [1],\n                         'count__ngram_range': [(1, 2), (1, 1)],\n                         'count__preprocessor': [<function tweet_preprocessor at 0x7fa179c10550>],\n                         'count__stop_words': ['english'],\n                         'svm__C': [0.5, 1, 5],\n                         'svm__class_weight': ['balanced'],\n                         'svm__kernel': ['linear', 'sigmoid']},\n             scoring='neg_log_loss', verbose=30)"
     },
     "execution_count": 66,
     "metadata": {},
     "output_type": "execute_result"
    }
   ],
   "source": [
    "%%time\n",
    "cvsvm.fit(X_train, y_train)"
   ]
  },
  {
   "cell_type": "code",
   "execution_count": 67,
   "metadata": {
    "pycharm": {
     "name": "#%%\n"
    }
   },
   "outputs": [
    {
     "data": {
      "text/plain": "{'count__lowercase': False,\n 'count__min_df': 1,\n 'count__ngram_range': (1, 2),\n 'count__preprocessor': <function utility.text_normalizer.tweet_preprocessor(tweet: str) -> str>,\n 'count__stop_words': 'english',\n 'svm__C': 0.5,\n 'svm__class_weight': 'balanced',\n 'svm__kernel': 'sigmoid'}"
     },
     "execution_count": 67,
     "metadata": {},
     "output_type": "execute_result"
    }
   ],
   "source": [
    "cvsvm.best_params_"
   ]
  },
  {
   "cell_type": "code",
   "execution_count": 68,
   "metadata": {
    "pycharm": {
     "name": "#%%\n"
    }
   },
   "outputs": [
    {
     "data": {
      "text/plain": "-0.43816178084726026"
     },
     "execution_count": 68,
     "metadata": {},
     "output_type": "execute_result"
    }
   ],
   "source": [
    "cvsvm.best_score_"
   ]
  },
  {
   "cell_type": "markdown",
   "metadata": {
    "pycharm": {
     "name": "#%% md\n"
    }
   },
   "source": [
    "# Model 4: tfidf -> SVM"
   ]
  },
  {
   "cell_type": "code",
   "execution_count": 69,
   "metadata": {
    "pycharm": {
     "name": "#%%\n"
    }
   },
   "outputs": [],
   "source": [
    "tfidf = TfidfVectorizer(smooth_idf=True, strip_accents='ascii')\n",
    "svmc = SVC(probability=True)\n",
    "pipeline = Pipeline([('tfidf', tfidf), ('svm', svmc)])\n",
    "params = {\n",
    "    'tfidf__ngram_range': [(1,2), (1,1)],\n",
    "    'tfidf__min_df': [0, 1],\n",
    "    'tfidf__lowercase': [True, False],\n",
    "    'tfidf__preprocessor': [tweet_preprocessor],\n",
    "    'tfidf__stop_words': ['english'],\n",
    "    'svm__kernel': ['linear', 'sigmoid'],\n",
    "    'svm__C': [1, 5],\n",
    "    'svm__class_weight': ['balanced'],\n",
    "}"
   ]
  },
  {
   "cell_type": "code",
   "execution_count": 70,
   "metadata": {
    "pycharm": {
     "name": "#%%\n"
    }
   },
   "outputs": [],
   "source": [
    "# tfidfsvm = GridSearchCV(pipeline, param_grid=params, n_jobs=-1, verbose=50, scoring=LogLoss)\n",
    "tfidfsvm = GridSearchCV(pipeline, param_grid=params, n_jobs=-1, verbose=50, scoring='neg_log_loss')"
   ]
  },
  {
   "cell_type": "code",
   "execution_count": 71,
   "metadata": {
    "pycharm": {
     "name": "#%%\n"
    }
   },
   "outputs": [
    {
     "name": "stdout",
     "output_type": "stream",
     "text": [
      "Fitting 5 folds for each of 32 candidates, totalling 160 fits\n"
     ]
    },
    {
     "name": "stderr",
     "output_type": "stream",
     "text": [
      "/Users/Isaacbolo/opt/anaconda3/lib/python3.8/site-packages/sklearn/feature_extraction/text.py:388: UserWarning: Your stop_words may be inconsistent with your preprocessing. Tokenizing the stop words generated tokens ['ca', 'far', 'make', 'nt'] not in stop_words.\n",
      "  warnings.warn('Your stop_words may be inconsistent with '\n"
     ]
    },
    {
     "name": "stdout",
     "output_type": "stream",
     "text": [
      "CPU times: user 3.21 s, sys: 65.8 ms, total: 3.28 s\n",
      "Wall time: 2min 21s\n"
     ]
    },
    {
     "data": {
      "text/plain": "GridSearchCV(estimator=Pipeline(steps=[('tfidf',\n                                        TfidfVectorizer(strip_accents='ascii')),\n                                       ('svm', SVC(probability=True))]),\n             n_jobs=-1,\n             param_grid={'svm__C': [1, 5], 'svm__class_weight': ['balanced'],\n                         'svm__kernel': ['linear', 'sigmoid'],\n                         'tfidf__lowercase': [True, False],\n                         'tfidf__min_df': [0, 1],\n                         'tfidf__ngram_range': [(1, 2), (1, 1)],\n                         'tfidf__preprocessor': [<function tweet_preprocessor at 0x7fa179c10550>],\n                         'tfidf__stop_words': ['english']},\n             scoring='neg_log_loss', verbose=50)"
     },
     "execution_count": 71,
     "metadata": {},
     "output_type": "execute_result"
    }
   ],
   "source": [
    "%%time\n",
    "tfidfsvm.fit(X_train, y_train)"
   ]
  },
  {
   "cell_type": "code",
   "execution_count": 72,
   "metadata": {
    "pycharm": {
     "name": "#%%\n"
    }
   },
   "outputs": [
    {
     "data": {
      "text/plain": "{'svm__C': 5,\n 'svm__class_weight': 'balanced',\n 'svm__kernel': 'linear',\n 'tfidf__lowercase': True,\n 'tfidf__min_df': 1,\n 'tfidf__ngram_range': (1, 1),\n 'tfidf__preprocessor': <function utility.text_normalizer.tweet_preprocessor(tweet: str) -> str>,\n 'tfidf__stop_words': 'english'}"
     },
     "execution_count": 72,
     "metadata": {},
     "output_type": "execute_result"
    }
   ],
   "source": [
    "tfidfsvm.best_params_"
   ]
  },
  {
   "cell_type": "code",
   "execution_count": 73,
   "metadata": {
    "pycharm": {
     "name": "#%%\n"
    }
   },
   "outputs": [
    {
     "data": {
      "text/plain": "-0.4756872608853938"
     },
     "execution_count": 73,
     "metadata": {},
     "output_type": "execute_result"
    }
   ],
   "source": [
    "tfidfsvm.best_score_"
   ]
  },
  {
   "cell_type": "code",
   "execution_count": 74,
   "outputs": [],
   "source": [
    "wcnb_rt = wcnb.best_estimator_\n",
    "tfidfnb_rt = tfidfnb.best_estimator_\n",
    "cvsvm_rt = cvsvm.best_estimator_\n",
    "tfidfsvm_rt = tfidfsvm.best_estimator_\n",
    "models = [wcnb_rt, tfidfnb_rt, cvsvm_rt, tfidfsvm_rt]"
   ],
   "metadata": {
    "collapsed": false,
    "pycharm": {
     "name": "#%%\n"
    }
   }
  },
  {
   "cell_type": "markdown",
   "metadata": {
    "pycharm": {
     "name": "#%% md\n"
    }
   },
   "source": [
    "# Train all models with k=10 for cross validation"
   ]
  },
  {
   "cell_type": "code",
   "execution_count": 75,
   "metadata": {
    "pycharm": {
     "name": "#%%\n"
    }
   },
   "outputs": [],
   "source": [
    "from sklearn.model_selection import cross_val_predict\n",
    "from sklearn.metrics import log_loss"
   ]
  },
  {
   "cell_type": "code",
   "execution_count": 76,
   "metadata": {
    "pycharm": {
     "name": "#%%\n"
    }
   },
   "outputs": [],
   "source": [
    "for model in models:\n",
    "    model.fit(X_train, y_train)"
   ]
  },
  {
   "cell_type": "code",
   "execution_count": 77,
   "metadata": {
    "pycharm": {
     "name": "#%%\n"
    }
   },
   "outputs": [],
   "source": [
    "model_log_losses = []\n",
    "for model in models:\n",
    "    y_hat = cross_val_predict(model, X_train, y_train, cv=10, method='predict_proba', n_jobs=-1)\n",
    "    ll = log_loss(y_train, y_hat[:,1])\n",
    "    model_log_losses.append(ll)"
   ]
  },
  {
   "cell_type": "code",
   "execution_count": 78,
   "metadata": {},
   "outputs": [
    {
     "name": "stdout",
     "output_type": "stream",
     "text": [
      "0.45718638908097897\n",
      "0.52424520378852\n",
      "0.42552038514223595\n",
      "0.5085881877006514\n"
     ]
    }
   ],
   "source": [
    "for loss in model_log_losses:\n",
    "    print(loss)"
   ]
  },
  {
   "cell_type": "code",
   "execution_count": 79,
   "metadata": {
    "pycharm": {
     "name": "#%%\n"
    }
   },
   "outputs": [
    {
     "name": "stdout",
     "output_type": "stream",
     "text": [
      "---Best model---\n",
      "Pipeline(steps=[('count',\n",
      "                 CountVectorizer(lowercase=False, ngram_range=(1, 2),\n",
      "                                 preprocessor=<function tweet_preprocessor at 0x7fa179c10550>,\n",
      "                                 stop_words='english', strip_accents='ascii')),\n",
      "                ('svm',\n",
      "                 SVC(C=0.5, class_weight='balanced', kernel='sigmoid',\n",
      "                     probability=True))]) 0.42552038514223595\n",
      "------\n"
     ]
    }
   ],
   "source": [
    "print('---Best model---')\n",
    "print(models[np.argmin(model_log_losses)], min(model_log_losses))\n",
    "print('------')"
   ]
  },
  {
   "cell_type": "code",
   "execution_count": 80,
   "outputs": [],
   "source": [
    "final_model = cvsvm"
   ],
   "metadata": {
    "collapsed": false,
    "pycharm": {
     "name": "#%%\n"
    }
   }
  },
  {
   "cell_type": "code",
   "execution_count": 81,
   "metadata": {
    "pycharm": {
     "name": "#%%\n"
    }
   },
   "outputs": [
    {
     "name": "stdout",
     "output_type": "stream",
     "text": [
      "              precision    recall  f1-score   support\n",
      "\n",
      "  irrelevant       0.93      0.82      0.87        79\n",
      "    relevant       0.61      0.81      0.70        27\n",
      "\n",
      "    accuracy                           0.82       106\n",
      "   macro avg       0.77      0.82      0.79       106\n",
      "weighted avg       0.85      0.82      0.83       106\n",
      "\n",
      "Log Loss: 0.41243\n"
     ]
    },
    {
     "data": {
      "text/plain": "<Figure size 432x288 with 2 Axes>",
      "image/png": "[encoded data removed]"
     },
     "metadata": {
      "needs_background": "light"
     },
     "output_type": "display_data"
    }
   ],
   "source": [
    "print_scores(final_model, y_test, X_test)"
   ]
  },
  {
   "cell_type": "markdown",
   "source": [
    "## Save final model"
   ],
   "metadata": {
    "collapsed": false,
    "pycharm": {
     "name": "#%% md\n"
    }
   }
  },
  {
   "cell_type": "code",
   "execution_count": 82,
   "outputs": [],
   "source": [
    "import joblib"
   ],
   "metadata": {
    "collapsed": false,
    "pycharm": {
     "name": "#%%\n"
    }
   }
  },
  {
   "cell_type": "code",
   "execution_count": 83,
   "outputs": [],
   "source": [
    "with open('../bayes_model/cvsvc_01.pkl', 'wb') as f:\n",
    "    joblib.dump(final_model, f)"
   ],
   "metadata": {
    "collapsed": false,
    "pycharm": {
     "name": "#%%\n"
    }
   }
  },
  {
   "cell_type": "markdown",
   "metadata": {
    "pycharm": {
     "name": "#%% md\n"
    }
   },
   "source": [
    "# Compare Final Model to Current Best Model"
   ]
  },
  {
   "cell_type": "code",
   "execution_count": 84,
   "metadata": {
    "pycharm": {
     "name": "#%%\n"
    }
   },
   "outputs": [],
   "source": [
    "best_model = joblib.load('../bayes_model/best_bayes_pipeline.pkl')"
   ]
  },
  {
   "cell_type": "code",
   "execution_count": 85,
   "metadata": {
    "pycharm": {
     "name": "#%%\n"
    }
   },
   "outputs": [
    {
     "name": "stdout",
     "output_type": "stream",
     "text": [
      "[1.]\n"
     ]
    },
    {
     "name": "stderr",
     "output_type": "stream",
     "text": [
      "/Users/Isaacbolo/opt/anaconda3/lib/python3.8/site-packages/sklearn/feature_extraction/text.py:388: UserWarning: Your stop_words may be inconsistent with your preprocessing. Tokenizing the stop words generated tokens ['ca', 'far', 'make', 'nt'] not in stop_words.\n",
      "  warnings.warn('Your stop_words may be inconsistent with '\n"
     ]
    }
   ],
   "source": [
    "print(best_model.predict(['I saw a coyote this afternoon running across the road']))"
   ]
  },
  {
   "cell_type": "code",
   "execution_count": 86,
   "metadata": {
    "pycharm": {
     "name": "#%%\n"
    }
   },
   "outputs": [
    {
     "name": "stdout",
     "output_type": "stream",
     "text": [
      "[1.]\n"
     ]
    }
   ],
   "source": [
    "print(final_model.predict(['I saw a coyote this afternoon running across the road']))"
   ]
  },
  {
   "cell_type": "code",
   "execution_count": 87,
   "metadata": {
    "pycharm": {
     "name": "#%%\n"
    }
   },
   "outputs": [
    {
     "name": "stdout",
     "output_type": "stream",
     "text": [
      "              precision    recall  f1-score   support\n",
      "\n",
      "  irrelevant       0.94      0.91      0.92        79\n",
      "    relevant       0.76      0.81      0.79        27\n",
      "\n",
      "    accuracy                           0.89       106\n",
      "   macro avg       0.85      0.86      0.85       106\n",
      "weighted avg       0.89      0.89      0.89       106\n",
      "\n",
      "Log Loss: 0.44803\n"
     ]
    },
    {
     "data": {
      "text/plain": "<Figure size 432x288 with 2 Axes>",
      "image/png": "[encoded data removed]"
     },
     "metadata": {
      "needs_background": "light"
     },
     "output_type": "display_data"
    }
   ],
   "source": [
    "print_scores(best_model, y_test, X_test)"
   ]
  },
  {
   "cell_type": "code",
   "execution_count": 88,
   "metadata": {
    "pycharm": {
     "name": "#%%\n"
    }
   },
   "outputs": [
    {
     "name": "stdout",
     "output_type": "stream",
     "text": [
      "              precision    recall  f1-score   support\n",
      "\n",
      "  irrelevant       0.93      0.82      0.87        79\n",
      "    relevant       0.61      0.81      0.70        27\n",
      "\n",
      "    accuracy                           0.82       106\n",
      "   macro avg       0.77      0.82      0.79       106\n",
      "weighted avg       0.85      0.82      0.83       106\n",
      "\n",
      "Log Loss: 0.41243\n"
     ]
    },
    {
     "data": {
      "text/plain": "<Figure size 432x288 with 2 Axes>",
      "image/png": "[encoded data removed]"
     },
     "metadata": {
      "needs_background": "light"
     },
     "output_type": "display_data"
    }
   ],
   "source": [
    "print_scores(final_model, y_test, X_test)"
   ]
  },
  {
   "cell_type": "markdown",
   "metadata": {
    "pycharm": {
     "name": "#%% md\n"
    }
   },
   "source": [
    "The final model preforms worse than the current best model. The current best model will be the one used.\n",
    "\n",
    "**HOWEVER**, I think the reason why the final model is performing better is because there is data leakage from the initial model to the test set. The current best model has very likely seen some of the data in the current test set, therefore, performing better than the final model."
   ]
  }
 ],
 "metadata": {
  "kernelspec": {
   "display_name": "Python 3",
   "language": "python",
   "name": "python3"
  },
  "language_info": {
   "codemirror_mode": {
    "name": "ipython",
    "version": 3
   },
   "file_extension": ".py",
   "mimetype": "text/x-python",
   "name": "python",
   "nbconvert_exporter": "python",
   "pygments_lexer": "ipython3",
   "version": "3.8.8"
  }
 },
 "nbformat": 4,
 "nbformat_minor": 4
}