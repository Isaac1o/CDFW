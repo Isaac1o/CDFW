{
 "cells": [
  {
   "cell_type": "code",
   "execution_count": 5,
   "metadata": {
    "jupyter": {
     "outputs_hidden": true
    }
   },
   "outputs": [],
   "source": [
    "import numpy as np\n",
    "import pandas as pd\n",
    "import matplotlib.pyplot as plt\n",
    "\n",
    "%config InlineBackend.figure_format = 'retina'\n",
    "pd.set_option(\"display.max_colwidth\", None)"
   ]
  },
  {
   "cell_type": "code",
   "execution_count": 6,
   "metadata": {
    "jupyter": {
     "outputs_hidden": false
    },
    "pycharm": {
     "name": "#%%\n"
    }
   },
   "outputs": [],
   "source": [
    "# Load data\n",
    "df = pd.read_csv('../data/all_queries.csv')"
   ]
  },
  {
   "cell_type": "code",
   "execution_count": 7,
   "metadata": {
    "jupyter": {
     "outputs_hidden": false
    },
    "pycharm": {
     "name": "#%%\n"
    }
   },
   "outputs": [
    {
     "data": {
      "text/html": [
       "<div>\n",
       "<style scoped>\n",
       "    .dataframe tbody tr th:only-of-type {\n",
       "        vertical-align: middle;\n",
       "    }\n",
       "\n",
       "    .dataframe tbody tr th {\n",
       "        vertical-align: top;\n",
       "    }\n",
       "\n",
       "    .dataframe thead th {\n",
       "        text-align: right;\n",
       "    }\n",
       "</style>\n",
       "<table border=\"1\" class=\"dataframe\">\n",
       "  <thead>\n",
       "    <tr style=\"text-align: right;\">\n",
       "      <th></th>\n",
       "      <th>date</th>\n",
       "      <th>time</th>\n",
       "      <th>tweet</th>\n",
       "      <th>tweet_id</th>\n",
       "      <th>hashtags</th>\n",
       "      <th>user_id</th>\n",
       "      <th>username</th>\n",
       "      <th>location</th>\n",
       "      <th>num_followers</th>\n",
       "      <th>geo_enabled</th>\n",
       "      <th>long</th>\n",
       "      <th>lat</th>\n",
       "      <th>relevant</th>\n",
       "      <th>neg_sent_score</th>\n",
       "      <th>neu_sent_score</th>\n",
       "      <th>pos_sent_score</th>\n",
       "      <th>compound_sent_score</th>\n",
       "      <th>sent_class</th>\n",
       "    </tr>\n",
       "  </thead>\n",
       "  <tbody>\n",
       "    <tr>\n",
       "      <th>0</th>\n",
       "      <td>11/8/21</td>\n",
       "      <td>17:11:01</td>\n",
       "      <td>Defender Radio Live: Canid Response Teams and Coexistence Lesley Sampson of Coyote Watch Canada joins Defender Radio Podcast host Michael Howie for a live event and recording in Hamilton, Ontario.  https://t.co/jLycjr3Xv7</td>\n",
       "      <td>1.460000e+18</td>\n",
       "      <td>[]</td>\n",
       "      <td>9.202440e+08</td>\n",
       "      <td>CoyoteWatchCAN</td>\n",
       "      <td>Ontario, CA</td>\n",
       "      <td>4420</td>\n",
       "      <td>True</td>\n",
       "      <td>NaN</td>\n",
       "      <td>NaN</td>\n",
       "      <td>0.0</td>\n",
       "      <td>0.000</td>\n",
       "      <td>0.912</td>\n",
       "      <td>0.088</td>\n",
       "      <td>0.2023</td>\n",
       "      <td>positive</td>\n",
       "    </tr>\n",
       "    <tr>\n",
       "      <th>1</th>\n",
       "      <td>11/8/21</td>\n",
       "      <td>14:25:52</td>\n",
       "      <td>Yaw 💃💃. Good Morning Twitter Family 🤩✨</td>\n",
       "      <td>1.460000e+18</td>\n",
       "      <td>[]</td>\n",
       "      <td>1.460000e+18</td>\n",
       "      <td>coyote_kissa1</td>\n",
       "      <td>Pasadena, CA</td>\n",
       "      <td>57</td>\n",
       "      <td>False</td>\n",
       "      <td>NaN</td>\n",
       "      <td>NaN</td>\n",
       "      <td>0.0</td>\n",
       "      <td>0.000</td>\n",
       "      <td>0.634</td>\n",
       "      <td>0.366</td>\n",
       "      <td>0.6369</td>\n",
       "      <td>positive</td>\n",
       "    </tr>\n",
       "    <tr>\n",
       "      <th>2</th>\n",
       "      <td>11/8/21</td>\n",
       "      <td>12:27:50</td>\n",
       "      <td>At this moment, I have a neighbor that lives 750 away. He keeps his two Labrador retrievers in a 15’ish square pen with a roof outside at night. How do I know this? Because I came hear them barking. Constantly. \\n\\nApparently they just won a debate with the coyotes. https://t.co/oJV5Swuc3f</td>\n",
       "      <td>1.460000e+18</td>\n",
       "      <td>[]</td>\n",
       "      <td>1.330000e+18</td>\n",
       "      <td>DavidCMaybury</td>\n",
       "      <td>Perris, CA</td>\n",
       "      <td>438</td>\n",
       "      <td>True</td>\n",
       "      <td>NaN</td>\n",
       "      <td>NaN</td>\n",
       "      <td>1.0</td>\n",
       "      <td>0.000</td>\n",
       "      <td>0.930</td>\n",
       "      <td>0.070</td>\n",
       "      <td>0.5719</td>\n",
       "      <td>positive</td>\n",
       "    </tr>\n",
       "    <tr>\n",
       "      <th>3</th>\n",
       "      <td>11/8/21</td>\n",
       "      <td>10:51:07</td>\n",
       "      <td>@AstroBackyard Had the coyotes barking within a few hundred feet of me in Joshua Tree tonight. I shined a light in their direction to let them know I’m aware of them. Oddly, one sounded like a dog.\\n\\nWhat freaked me out more were the hikers somewhere in the dark. I just heard foot steps!</td>\n",
       "      <td>1.460000e+18</td>\n",
       "      <td>[]</td>\n",
       "      <td>6.883438e+07</td>\n",
       "      <td>darrenreely</td>\n",
       "      <td>Los Angeles, CA</td>\n",
       "      <td>147</td>\n",
       "      <td>True</td>\n",
       "      <td>NaN</td>\n",
       "      <td>NaN</td>\n",
       "      <td>1.0</td>\n",
       "      <td>0.039</td>\n",
       "      <td>0.912</td>\n",
       "      <td>0.049</td>\n",
       "      <td>0.1511</td>\n",
       "      <td>positive</td>\n",
       "    </tr>\n",
       "    <tr>\n",
       "      <th>4</th>\n",
       "      <td>11/8/21</td>\n",
       "      <td>8:28:38</td>\n",
       "      <td>really just saw a coyote cross the street and stare at me as i drove by 😭😭😭 what the, la habra heights</td>\n",
       "      <td>1.460000e+18</td>\n",
       "      <td>[]</td>\n",
       "      <td>2.323440e+09</td>\n",
       "      <td>angeIiques</td>\n",
       "      <td>she/her</td>\n",
       "      <td>109</td>\n",
       "      <td>True</td>\n",
       "      <td>NaN</td>\n",
       "      <td>NaN</td>\n",
       "      <td>1.0</td>\n",
       "      <td>0.256</td>\n",
       "      <td>0.744</td>\n",
       "      <td>0.000</td>\n",
       "      <td>-0.8519</td>\n",
       "      <td>negative</td>\n",
       "    </tr>\n",
       "  </tbody>\n",
       "</table>\n",
       "</div>"
      ],
      "text/plain": [
       "      date      time  \\\n",
       "0  11/8/21  17:11:01   \n",
       "1  11/8/21  14:25:52   \n",
       "2  11/8/21  12:27:50   \n",
       "3  11/8/21  10:51:07   \n",
       "4  11/8/21   8:28:38   \n",
       "\n",
       "                                                                                                                                                                                                                                                                                                tweet  \\\n",
       "0                                                                       Defender Radio Live: Canid Response Teams and Coexistence Lesley Sampson of Coyote Watch Canada joins Defender Radio Podcast host Michael Howie for a live event and recording in Hamilton, Ontario.  https://t.co/jLycjr3Xv7   \n",
       "1                                                                                                                                                                                                                                                              Yaw 💃💃. Good Morning Twitter Family 🤩✨   \n",
       "2  At this moment, I have a neighbor that lives 750 away. He keeps his two Labrador retrievers in a 15’ish square pen with a roof outside at night. How do I know this? Because I came hear them barking. Constantly. \\n\\nApparently they just won a debate with the coyotes. https://t.co/oJV5Swuc3f   \n",
       "3   @AstroBackyard Had the coyotes barking within a few hundred feet of me in Joshua Tree tonight. I shined a light in their direction to let them know I’m aware of them. Oddly, one sounded like a dog.\\n\\nWhat freaked me out more were the hikers somewhere in the dark. I just heard foot steps!   \n",
       "4                                                                                                                                                                                              really just saw a coyote cross the street and stare at me as i drove by 😭😭😭 what the, la habra heights   \n",
       "\n",
       "       tweet_id hashtags       user_id        username         location  \\\n",
       "0  1.460000e+18       []  9.202440e+08  CoyoteWatchCAN     Ontario, CA    \n",
       "1  1.460000e+18       []  1.460000e+18   coyote_kissa1     Pasadena, CA   \n",
       "2  1.460000e+18       []  1.330000e+18   DavidCMaybury       Perris, CA   \n",
       "3  1.460000e+18       []  6.883438e+07     darrenreely  Los Angeles, CA   \n",
       "4  1.460000e+18       []  2.323440e+09      angeIiques          she/her   \n",
       "\n",
       "   num_followers  geo_enabled  long  lat  relevant  neg_sent_score  \\\n",
       "0           4420         True   NaN  NaN       0.0           0.000   \n",
       "1             57        False   NaN  NaN       0.0           0.000   \n",
       "2            438         True   NaN  NaN       1.0           0.000   \n",
       "3            147         True   NaN  NaN       1.0           0.039   \n",
       "4            109         True   NaN  NaN       1.0           0.256   \n",
       "\n",
       "   neu_sent_score  pos_sent_score  compound_sent_score sent_class  \n",
       "0           0.912           0.088               0.2023   positive  \n",
       "1           0.634           0.366               0.6369   positive  \n",
       "2           0.930           0.070               0.5719   positive  \n",
       "3           0.912           0.049               0.1511   positive  \n",
       "4           0.744           0.000              -0.8519   negative  "
      ]
     },
     "execution_count": 7,
     "metadata": {},
     "output_type": "execute_result"
    }
   ],
   "source": [
    "df.head()"
   ]
  },
  {
   "cell_type": "code",
   "execution_count": 9,
   "metadata": {},
   "outputs": [
    {
     "data": {
      "text/plain": [
       "0                                                                                           Defender Radio Live: Canid Response Teams and Coexistence Lesley Sampson of Coyote Watch Canada joins Defender Radio Podcast host Michael Howie for a live event and recording in Hamilton, Ontario.  https://t.co/jLycjr3Xv7\n",
       "1                                                                                                                                                                                                                                                                                  Yaw 💃💃. Good Morning Twitter Family 🤩✨\n",
       "6                                                                                                                                                                                                                                                                                           @shenjonsin but the coyotes !\n",
       "9                                                                                                                                                                                                                                       Wile E Coyote was a victim. The Road Runner is a fascist. https://t.co/GAaWTJ7xSu\n",
       "11    @WhatSayU_2020 @DineshDSouza Some children were brought here by coyotes [human smugglers]. In other cases, U.S. border officials separated children from their parents, and deported the parents.\\n\\nA federal court compelled the collection of contact information for parents, but poor records were maintained.\n",
       "Name: tweet, dtype: object"
      ]
     },
     "execution_count": 9,
     "metadata": {},
     "output_type": "execute_result"
    }
   ],
   "source": [
    "df_example = df[df.relevant == 0]['tweet'].head()\n",
    "df_example"
   ]
  },
  {
   "cell_type": "markdown",
   "metadata": {
    "pycharm": {
     "name": "#%% md\n"
    }
   },
   "source": [
    "Looks like saving the queries to csv reduced the accuracy of `tweet_id` and `user_id`. This might be a problem in the future and when I join future queries to this main csv. In the time being, I will join on `tweet`."
   ]
  },
  {
   "cell_type": "code",
   "execution_count": 4,
   "metadata": {
    "jupyter": {
     "outputs_hidden": false
    },
    "pycharm": {
     "name": "#%%\n"
    }
   },
   "outputs": [
    {
     "name": "stdout",
     "output_type": "stream",
     "text": [
      "<class 'pandas.core.frame.DataFrame'>\n",
      "RangeIndex: 855 entries, 0 to 854\n",
      "Data columns (total 18 columns):\n",
      " #   Column               Non-Null Count  Dtype  \n",
      "---  ------               --------------  -----  \n",
      " 0   date                 855 non-null    object \n",
      " 1   time                 855 non-null    object \n",
      " 2   tweet                855 non-null    object \n",
      " 3   tweet_id             855 non-null    float64\n",
      " 4   hashtags             855 non-null    object \n",
      " 5   user_id              855 non-null    float64\n",
      " 6   username             855 non-null    object \n",
      " 7   location             845 non-null    object \n",
      " 8   num_followers        855 non-null    int64  \n",
      " 9   geo_enabled          855 non-null    bool   \n",
      " 10  long                 5 non-null      float64\n",
      " 11  lat                  5 non-null      float64\n",
      " 12  relevant             855 non-null    float64\n",
      " 13  neg_sent_score       855 non-null    float64\n",
      " 14  neu_sent_score       855 non-null    float64\n",
      " 15  pos_sent_score       855 non-null    float64\n",
      " 16  compound_sent_score  855 non-null    float64\n",
      " 17  sent_class           855 non-null    object \n",
      "dtypes: bool(1), float64(9), int64(1), object(7)\n",
      "memory usage: 114.5+ KB\n"
     ]
    }
   ],
   "source": [
    "df.info()"
   ]
  },
  {
   "cell_type": "markdown",
   "metadata": {
    "pycharm": {
     "name": "#%% md\n"
    }
   },
   "source": [
    "# Comparing counts of relevant and irrelevant tweets"
   ]
  },
  {
   "cell_type": "code",
   "execution_count": 18,
   "metadata": {
    "pycharm": {
     "name": "#%%\n"
    }
   },
   "outputs": [],
   "source": [
    "counts = df.value_counts('relevant')"
   ]
  },
  {
   "cell_type": "code",
   "execution_count": 19,
   "metadata": {
    "pycharm": {
     "name": "#%%\n"
    }
   },
   "outputs": [
    {
     "data": {
      "image/png": "[encoded data removed]",
      "text/plain": [
       "<Figure size 720x576 with 1 Axes>"
      ]
     },
     "metadata": {
      "image/png": {
       "height": 492,
       "width": 608
      },
      "needs_background": "light"
     },
     "output_type": "display_data"
    }
   ],
   "source": [
    "fig, ax = plt.subplots(figsize=(10,8))\n",
    "ax.bar(['irrelevant', 'relevant'], counts, width=.67, color=['#6996b3', '#004c6d'])\n",
    "ax.set_title('Counts of Relevant and Irrelevant Tweets for Coyotes', fontsize=20)\n",
    "\n",
    "ax.spines['top'].set_visible(False)\n",
    "ax.spines['right'].set_visible(False)\n",
    "ax.tick_params(axis='x', bottom=False)\n",
    "ax.tick_params(axis='both', labelsize=15)\n",
    "\n",
    "plt.savefig('../images/counts_rel_irrel.png', transparent=True)\n",
    "plt.show()"
   ]
  },
  {
   "cell_type": "markdown",
   "metadata": {
    "pycharm": {
     "name": "#%% md\n"
    }
   },
   "source": [
    "# Exploring tweets that are not relevant"
   ]
  },
  {
   "cell_type": "code",
   "execution_count": 20,
   "metadata": {
    "jupyter": {
     "outputs_hidden": false
    },
    "pycharm": {
     "name": "#%%\n"
    }
   },
   "outputs": [],
   "source": [
    "df_nr = df[df['relevant'] == 0].copy()"
   ]
  },
  {
   "cell_type": "code",
   "execution_count": 21,
   "metadata": {
    "jupyter": {
     "outputs_hidden": false
    },
    "pycharm": {
     "name": "#%%\n"
    }
   },
   "outputs": [
    {
     "data": {
      "text/plain": [
       "(635, 18)"
      ]
     },
     "execution_count": 21,
     "metadata": {},
     "output_type": "execute_result"
    }
   ],
   "source": [
    "df_nr.shape"
   ]
  },
  {
   "cell_type": "markdown",
   "metadata": {
    "pycharm": {
     "name": "#%% md\n"
    }
   },
   "source": [
    "## Look at the tweets"
   ]
  },
  {
   "cell_type": "code",
   "execution_count": 22,
   "metadata": {
    "jupyter": {
     "outputs_hidden": false
    },
    "pycharm": {
     "name": "#%%\n"
    }
   },
   "outputs": [
    {
     "data": {
      "text/plain": [
       "0     Defender Radio Live: Canid Response Teams and ...\n",
       "1                Yaw 💃💃. Good Morning Twitter Family 🤩✨\n",
       "6                         @shenjonsin but the coyotes !\n",
       "9     Wile E Coyote was a victim. The Road Runner is...\n",
       "11    @WhatSayU_2020 @DineshDSouza Some children wer...\n",
       "Name: tweet, dtype: object"
      ]
     },
     "execution_count": 22,
     "metadata": {},
     "output_type": "execute_result"
    }
   ],
   "source": [
    "ir_tweets = df_nr['tweet']\n",
    "ir_tweets[:5]"
   ]
  },
  {
   "cell_type": "markdown",
   "metadata": {
    "pycharm": {
     "name": "#%% md\n"
    }
   },
   "source": [
    "### Lets look at the most common words"
   ]
  },
  {
   "cell_type": "code",
   "execution_count": 23,
   "metadata": {
    "jupyter": {
     "outputs_hidden": false
    },
    "pycharm": {
     "name": "#%%\n"
    }
   },
   "outputs": [],
   "source": [
    "from utility.text_normalizer import tweet_preprocessor"
   ]
  },
  {
   "cell_type": "code",
   "execution_count": 24,
   "metadata": {
    "jupyter": {
     "outputs_hidden": false
    },
    "pycharm": {
     "name": "#%%\n"
    }
   },
   "outputs": [
    {
     "data": {
      "text/plain": [
       "635"
      ]
     },
     "execution_count": 24,
     "metadata": {},
     "output_type": "execute_result"
    }
   ],
   "source": [
    "norm_tweets = [tweet_preprocessor(tweet) for tweet in ir_tweets]\n",
    "len(norm_tweets)"
   ]
  },
  {
   "cell_type": "code",
   "execution_count": 25,
   "metadata": {
    "jupyter": {
     "outputs_hidden": false
    },
    "pycharm": {
     "name": "#%%\n"
    }
   },
   "outputs": [],
   "source": [
    "from collections import Counter\n",
    "from sklearn.feature_extraction import _stop_words"
   ]
  },
  {
   "cell_type": "code",
   "execution_count": 26,
   "metadata": {
    "jupyter": {
     "outputs_hidden": false
    },
    "pycharm": {
     "name": "#%%\n"
    }
   },
   "outputs": [],
   "source": [
    "stop_words = _stop_words.ENGLISH_STOP_WORDS"
   ]
  },
  {
   "cell_type": "code",
   "execution_count": 27,
   "metadata": {
    "jupyter": {
     "outputs_hidden": false
    },
    "pycharm": {
     "name": "#%%\n"
    }
   },
   "outputs": [],
   "source": [
    "# Get all the words into one list, lowercase them, and remove stopwords\n",
    "def filter_tweets(tweets: list) -> list:\n",
    "    all_words = ' '.join(tweets).split(' ')\n",
    "    all_words = [w.lower() for w in all_words]\n",
    "    all_words = [w for w in all_words if w not in stop_words]\n",
    "    all_words = [w for w in all_words if w not in ['coyotes', 'coyote', 'amp']]  # amp is for ampersand\n",
    "    return all_words"
   ]
  },
  {
   "cell_type": "code",
   "execution_count": 28,
   "metadata": {
    "jupyter": {
     "outputs_hidden": false
    },
    "pycharm": {
     "name": "#%%\n"
    }
   },
   "outputs": [],
   "source": [
    "words = filter_tweets(norm_tweets)"
   ]
  },
  {
   "cell_type": "code",
   "execution_count": 29,
   "metadata": {
    "jupyter": {
     "outputs_hidden": false
    },
    "pycharm": {
     "name": "#%%\n"
    }
   },
   "outputs": [],
   "source": [
    "word_count = Counter(words)"
   ]
  },
  {
   "cell_type": "code",
   "execution_count": 30,
   "metadata": {
    "jupyter": {
     "outputs_hidden": false
    },
    "pycharm": {
     "name": "#%%\n"
    }
   },
   "outputs": [
    {
     "data": {
      "text/plain": [
       "[('like', 58),\n",
       " ('fur', 36),\n",
       " ('just', 32),\n",
       " ('los', 30),\n",
       " ('time', 27),\n",
       " ('dogs', 23),\n",
       " ('diagonal', 22),\n",
       " ('live', 21),\n",
       " ('got', 20),\n",
       " ('really', 20),\n",
       " ('good', 18),\n",
       " ('ducks', 18),\n",
       " ('tonight', 18),\n",
       " ('game', 18),\n",
       " ('foxes', 18),\n",
       " ('night', 17),\n",
       " ('need', 17),\n",
       " ('week', 17),\n",
       " ('new', 16),\n",
       " ('people', 15)]"
      ]
     },
     "execution_count": 30,
     "metadata": {},
     "output_type": "execute_result"
    }
   ],
   "source": [
    "# Most common 20 words from irrelevant tweets\n",
    "common_words = word_count.most_common(20)\n",
    "common_words"
   ]
  },
  {
   "cell_type": "markdown",
   "metadata": {
    "pycharm": {
     "name": "#%% md\n"
    }
   },
   "source": [
    "### Visualize most common 20 words from irrelevant tweets"
   ]
  },
  {
   "cell_type": "code",
   "execution_count": 31,
   "metadata": {
    "jupyter": {
     "outputs_hidden": false
    },
    "pycharm": {
     "name": "#%%\n"
    }
   },
   "outputs": [],
   "source": [
    "irrel_words = []\n",
    "irrel_counts = []\n",
    "for current_word, current_count in common_words:\n",
    "    irrel_words.append(current_word)\n",
    "    irrel_counts.append(current_count)\n",
    "\n",
    "irrel_words.reverse()\n",
    "irrel_counts.reverse()"
   ]
  },
  {
   "cell_type": "code",
   "execution_count": 32,
   "metadata": {
    "jupyter": {
     "outputs_hidden": false
    },
    "pycharm": {
     "name": "#%%\n"
    }
   },
   "outputs": [
    {
     "data": {
      "image/png": "[encoded data removed]",
      "text/plain": [
       "<Figure size 576x576 with 1 Axes>"
      ]
     },
     "metadata": {
      "image/png": {
       "height": 492,
       "width": 502
      },
      "needs_background": "light"
     },
     "output_type": "display_data"
    }
   ],
   "source": [
    "fig, ax = plt.subplots(figsize=(8, 8))\n",
    "\n",
    "ax.barh(irrel_words, irrel_counts, height=.66)\n",
    "ax.set_title('Most common words in irrelevant tweets')\n",
    "ax.set_xlabel('Word Count')\n",
    "ax.tick_params(axis='both', labelsize=8)\n",
    "\n",
    "ax.spines['right'].set_visible(False)\n",
    "ax.spines['top'].set_visible(False)\n",
    "\n",
    "plt.show()"
   ]
  },
  {
   "cell_type": "markdown",
   "metadata": {
    "pycharm": {
     "name": "#%% md\n"
    }
   },
   "source": [
    "Based on this plot there are some words we might want to exclude from our twitter api query. These include:\n",
    "- ducks\n",
    "- school\n",
    "- game\n",
    "- nhl\n",
    "- win\n",
    "- arizona\n",
    "- indian\n",
    "\n",
    "However, some of these words might be in relevant tweets. Lets take a look at the most common words in relevant tweets."
   ]
  },
  {
   "cell_type": "markdown",
   "metadata": {
    "pycharm": {
     "name": "#%% md\n"
    }
   },
   "source": [
    "# Exploring tweets that are relevant"
   ]
  },
  {
   "cell_type": "code",
   "execution_count": 33,
   "metadata": {
    "jupyter": {
     "outputs_hidden": false
    },
    "pycharm": {
     "name": "#%%\n"
    }
   },
   "outputs": [
    {
     "data": {
      "text/html": [
       "<div>\n",
       "<style scoped>\n",
       "    .dataframe tbody tr th:only-of-type {\n",
       "        vertical-align: middle;\n",
       "    }\n",
       "\n",
       "    .dataframe tbody tr th {\n",
       "        vertical-align: top;\n",
       "    }\n",
       "\n",
       "    .dataframe thead th {\n",
       "        text-align: right;\n",
       "    }\n",
       "</style>\n",
       "<table border=\"1\" class=\"dataframe\">\n",
       "  <thead>\n",
       "    <tr style=\"text-align: right;\">\n",
       "      <th></th>\n",
       "      <th>date</th>\n",
       "      <th>time</th>\n",
       "      <th>tweet</th>\n",
       "      <th>tweet_id</th>\n",
       "      <th>hashtags</th>\n",
       "      <th>user_id</th>\n",
       "      <th>username</th>\n",
       "      <th>location</th>\n",
       "      <th>num_followers</th>\n",
       "      <th>geo_enabled</th>\n",
       "      <th>long</th>\n",
       "      <th>lat</th>\n",
       "      <th>relevant</th>\n",
       "      <th>neg_sent_score</th>\n",
       "      <th>neu_sent_score</th>\n",
       "      <th>pos_sent_score</th>\n",
       "      <th>compound_sent_score</th>\n",
       "      <th>sent_class</th>\n",
       "    </tr>\n",
       "  </thead>\n",
       "  <tbody>\n",
       "    <tr>\n",
       "      <th>2</th>\n",
       "      <td>11/8/21</td>\n",
       "      <td>12:27:50</td>\n",
       "      <td>At this moment, I have a neighbor that lives 7...</td>\n",
       "      <td>1.460000e+18</td>\n",
       "      <td>[]</td>\n",
       "      <td>1.330000e+18</td>\n",
       "      <td>DavidCMaybury</td>\n",
       "      <td>Perris, CA</td>\n",
       "      <td>438</td>\n",
       "      <td>True</td>\n",
       "      <td>NaN</td>\n",
       "      <td>NaN</td>\n",
       "      <td>1.0</td>\n",
       "      <td>0.000</td>\n",
       "      <td>0.930</td>\n",
       "      <td>0.070</td>\n",
       "      <td>0.5719</td>\n",
       "      <td>positive</td>\n",
       "    </tr>\n",
       "    <tr>\n",
       "      <th>3</th>\n",
       "      <td>11/8/21</td>\n",
       "      <td>10:51:07</td>\n",
       "      <td>@AstroBackyard Had the coyotes barking within ...</td>\n",
       "      <td>1.460000e+18</td>\n",
       "      <td>[]</td>\n",
       "      <td>6.883438e+07</td>\n",
       "      <td>darrenreely</td>\n",
       "      <td>Los Angeles, CA</td>\n",
       "      <td>147</td>\n",
       "      <td>True</td>\n",
       "      <td>NaN</td>\n",
       "      <td>NaN</td>\n",
       "      <td>1.0</td>\n",
       "      <td>0.039</td>\n",
       "      <td>0.912</td>\n",
       "      <td>0.049</td>\n",
       "      <td>0.1511</td>\n",
       "      <td>positive</td>\n",
       "    </tr>\n",
       "    <tr>\n",
       "      <th>4</th>\n",
       "      <td>11/8/21</td>\n",
       "      <td>8:28:38</td>\n",
       "      <td>really just saw a coyote cross the street and ...</td>\n",
       "      <td>1.460000e+18</td>\n",
       "      <td>[]</td>\n",
       "      <td>2.323440e+09</td>\n",
       "      <td>angeIiques</td>\n",
       "      <td>she/her</td>\n",
       "      <td>109</td>\n",
       "      <td>True</td>\n",
       "      <td>NaN</td>\n",
       "      <td>NaN</td>\n",
       "      <td>1.0</td>\n",
       "      <td>0.256</td>\n",
       "      <td>0.744</td>\n",
       "      <td>0.000</td>\n",
       "      <td>-0.8519</td>\n",
       "      <td>negative</td>\n",
       "    </tr>\n",
       "    <tr>\n",
       "      <th>5</th>\n",
       "      <td>11/8/21</td>\n",
       "      <td>7:13:42</td>\n",
       "      <td>my dog just scared tf out of a coyote then cha...</td>\n",
       "      <td>1.460000e+18</td>\n",
       "      <td>[]</td>\n",
       "      <td>2.936604e+09</td>\n",
       "      <td>_danimaee</td>\n",
       "      <td>calabasas, ca</td>\n",
       "      <td>3446</td>\n",
       "      <td>True</td>\n",
       "      <td>NaN</td>\n",
       "      <td>NaN</td>\n",
       "      <td>1.0</td>\n",
       "      <td>0.142</td>\n",
       "      <td>0.782</td>\n",
       "      <td>0.076</td>\n",
       "      <td>-0.4215</td>\n",
       "      <td>negative</td>\n",
       "    </tr>\n",
       "    <tr>\n",
       "      <th>7</th>\n",
       "      <td>11/8/21</td>\n",
       "      <td>5:35:38</td>\n",
       "      <td>To make it worse no one else saw the coyote bruh</td>\n",
       "      <td>1.460000e+18</td>\n",
       "      <td>[]</td>\n",
       "      <td>7.540000e+17</td>\n",
       "      <td>SPACEAGEPlMP</td>\n",
       "      <td>Los Angeles, CA</td>\n",
       "      <td>8518</td>\n",
       "      <td>True</td>\n",
       "      <td>NaN</td>\n",
       "      <td>NaN</td>\n",
       "      <td>1.0</td>\n",
       "      <td>0.371</td>\n",
       "      <td>0.629</td>\n",
       "      <td>0.000</td>\n",
       "      <td>-0.6486</td>\n",
       "      <td>negative</td>\n",
       "    </tr>\n",
       "  </tbody>\n",
       "</table>\n",
       "</div>"
      ],
      "text/plain": [
       "      date      time                                              tweet  \\\n",
       "2  11/8/21  12:27:50  At this moment, I have a neighbor that lives 7...   \n",
       "3  11/8/21  10:51:07  @AstroBackyard Had the coyotes barking within ...   \n",
       "4  11/8/21   8:28:38  really just saw a coyote cross the street and ...   \n",
       "5  11/8/21   7:13:42  my dog just scared tf out of a coyote then cha...   \n",
       "7  11/8/21   5:35:38   To make it worse no one else saw the coyote bruh   \n",
       "\n",
       "       tweet_id hashtags       user_id       username         location  \\\n",
       "2  1.460000e+18       []  1.330000e+18  DavidCMaybury       Perris, CA   \n",
       "3  1.460000e+18       []  6.883438e+07    darrenreely  Los Angeles, CA   \n",
       "4  1.460000e+18       []  2.323440e+09     angeIiques          she/her   \n",
       "5  1.460000e+18       []  2.936604e+09      _danimaee    calabasas, ca   \n",
       "7  1.460000e+18       []  7.540000e+17   SPACEAGEPlMP  Los Angeles, CA   \n",
       "\n",
       "   num_followers  geo_enabled  long  lat  relevant  neg_sent_score  \\\n",
       "2            438         True   NaN  NaN       1.0           0.000   \n",
       "3            147         True   NaN  NaN       1.0           0.039   \n",
       "4            109         True   NaN  NaN       1.0           0.256   \n",
       "5           3446         True   NaN  NaN       1.0           0.142   \n",
       "7           8518         True   NaN  NaN       1.0           0.371   \n",
       "\n",
       "   neu_sent_score  pos_sent_score  compound_sent_score sent_class  \n",
       "2           0.930           0.070               0.5719   positive  \n",
       "3           0.912           0.049               0.1511   positive  \n",
       "4           0.744           0.000              -0.8519   negative  \n",
       "5           0.782           0.076              -0.4215   negative  \n",
       "7           0.629           0.000              -0.6486   negative  "
      ]
     },
     "execution_count": 33,
     "metadata": {},
     "output_type": "execute_result"
    }
   ],
   "source": [
    "df_rel = df[df['relevant'] == 1].copy()\n",
    "df_rel.head()"
   ]
  },
  {
   "cell_type": "code",
   "execution_count": 34,
   "metadata": {
    "jupyter": {
     "outputs_hidden": false
    },
    "pycharm": {
     "name": "#%%\n"
    }
   },
   "outputs": [
    {
     "data": {
      "text/plain": [
       "(220, 18)"
      ]
     },
     "execution_count": 34,
     "metadata": {},
     "output_type": "execute_result"
    }
   ],
   "source": [
    "df_rel.shape"
   ]
  },
  {
   "cell_type": "code",
   "execution_count": 35,
   "metadata": {
    "jupyter": {
     "outputs_hidden": false
    },
    "pycharm": {
     "name": "#%%\n"
    }
   },
   "outputs": [
    {
     "data": {
      "text/plain": [
       "2    At this moment, I have a neighbor that lives 7...\n",
       "3    @AstroBackyard Had the coyotes barking within ...\n",
       "4    really just saw a coyote cross the street and ...\n",
       "5    my dog just scared tf out of a coyote then cha...\n",
       "7     To make it worse no one else saw the coyote bruh\n",
       "Name: tweet, dtype: object"
      ]
     },
     "execution_count": 35,
     "metadata": {},
     "output_type": "execute_result"
    }
   ],
   "source": [
    "rel_tweets = df_rel['tweet']\n",
    "rel_tweets[:5]"
   ]
  },
  {
   "cell_type": "code",
   "execution_count": 36,
   "metadata": {
    "jupyter": {
     "outputs_hidden": false
    },
    "pycharm": {
     "name": "#%%\n"
    }
   },
   "outputs": [
    {
     "data": {
      "text/plain": [
       "['moment', 'neighbor', 'lives', 'away', 'keeps']"
      ]
     },
     "execution_count": 36,
     "metadata": {},
     "output_type": "execute_result"
    }
   ],
   "source": [
    "norm_rel_tweets = [tweet_preprocessor(tweet) for tweet in rel_tweets]\n",
    "rel_words = filter_tweets(norm_rel_tweets)\n",
    "rel_words[:5]"
   ]
  },
  {
   "cell_type": "code",
   "execution_count": 37,
   "metadata": {
    "jupyter": {
     "outputs_hidden": false
    },
    "pycharm": {
     "name": "#%%\n"
    }
   },
   "outputs": [
    {
     "data": {
      "text/plain": [
       "[('just', 42),\n",
       " ('dog', 27),\n",
       " ('like', 26),\n",
       " ('outside', 23),\n",
       " ('saw', 22),\n",
       " ('seen', 22),\n",
       " ('night', 20),\n",
       " ('cats', 20),\n",
       " ('morning', 20),\n",
       " ('pack', 20),\n",
       " ('cat', 18),\n",
       " ('howling', 17),\n",
       " ('neighborhood', 17),\n",
       " ('walk', 15),\n",
       " ('street', 14),\n",
       " ('house', 13),\n",
       " ('wildlife', 13),\n",
       " ('live', 13),\n",
       " ('away', 12),\n",
       " ('big', 12)]"
      ]
     },
     "execution_count": 37,
     "metadata": {},
     "output_type": "execute_result"
    }
   ],
   "source": [
    "rel_word_count = Counter(rel_words)\n",
    "common_rel_words = rel_word_count.most_common(20)\n",
    "common_rel_words"
   ]
  },
  {
   "cell_type": "code",
   "execution_count": 38,
   "metadata": {
    "jupyter": {
     "outputs_hidden": false
    },
    "pycharm": {
     "name": "#%%\n"
    }
   },
   "outputs": [],
   "source": [
    "rel_words = []\n",
    "rel_counts = []\n",
    "for current_word, current_count in common_rel_words:\n",
    "    rel_words.append(current_word)\n",
    "    rel_counts.append(current_count)\n",
    "\n",
    "rel_words.reverse()\n",
    "rel_counts.reverse()"
   ]
  },
  {
   "cell_type": "code",
   "execution_count": 39,
   "metadata": {
    "jupyter": {
     "outputs_hidden": false
    },
    "pycharm": {
     "name": "#%%\n"
    }
   },
   "outputs": [
    {
     "data": {
      "image/png": "[encoded data removed]",
      "text/plain": [
       "<Figure size 576x576 with 1 Axes>"
      ]
     },
     "metadata": {
      "image/png": {
       "height": 492,
       "width": 523
      },
      "needs_background": "light"
     },
     "output_type": "display_data"
    }
   ],
   "source": [
    "fig, ax = plt.subplots(figsize=(8, 8))\n",
    "\n",
    "ax.barh(rel_words, rel_counts, height=.66)\n",
    "ax.set_title('Most common words in relevant tweets')\n",
    "ax.set_xlabel('Word Count')\n",
    "ax.tick_params(axis='both', labelsize=8)\n",
    "\n",
    "ax.spines['right'].set_visible(False)\n",
    "ax.spines['top'].set_visible(False)\n",
    "\n",
    "plt.show()"
   ]
  },
  {
   "cell_type": "markdown",
   "metadata": {
    "pycharm": {
     "name": "#%% md\n"
    }
   },
   "source": [
    "Lets look at words that are in both the most common relevant and irrelevant tweets"
   ]
  },
  {
   "cell_type": "code",
   "execution_count": 40,
   "metadata": {
    "jupyter": {
     "outputs_hidden": false
    },
    "pycharm": {
     "name": "#%%\n"
    }
   },
   "outputs": [
    {
     "data": {
      "text/plain": [
       "{'just', 'like', 'live', 'night'}"
      ]
     },
     "execution_count": 40,
     "metadata": {},
     "output_type": "execute_result"
    }
   ],
   "source": [
    "rel_words_set = set(rel_words)\n",
    "irrel_words_set = set(irrel_words)\n",
    "words_in_both = rel_words_set.intersection(irrel_words_set)\n",
    "words_in_both"
   ]
  },
  {
   "cell_type": "markdown",
   "metadata": {
    "pycharm": {
     "name": "#%% md\n"
    }
   },
   "source": [
    "Lets look at the most common words that are only in the irrelevant tweets"
   ]
  },
  {
   "cell_type": "code",
   "execution_count": 41,
   "metadata": {
    "jupyter": {
     "outputs_hidden": false
    },
    "pycharm": {
     "name": "#%%\n"
    }
   },
   "outputs": [
    {
     "name": "stdout",
     "output_type": "stream",
     "text": [
      "{'really', 'dogs', 'tonight', 'ducks', 'got', 'foxes', 'time', 'new', 'game', 'los', 'week', 'people', 'diagonal', 'fur', 'need', 'good'}\n"
     ]
    }
   ],
   "source": [
    "only_irrel_words = irrel_words_set - rel_words_set\n",
    "print(only_irrel_words)"
   ]
  },
  {
   "cell_type": "markdown",
   "metadata": {
    "pycharm": {
     "name": "#%% md\n"
    }
   },
   "source": [
    "Might be a good idea to remove some of these words. Probably would want to remove the nouns:\n",
    "- indian\n",
    "- ducks\n",
    "- game\n",
    "- arizona\n",
    "- school\n",
    "- nhl\n",
    "- win (even though its not a noun im assuming its sports related)"
   ]
  },
  {
   "cell_type": "markdown",
   "metadata": {
    "pycharm": {
     "name": "#%% md\n"
    }
   },
   "source": [
    "### Visualize relevant and irrelevant common words together"
   ]
  },
  {
   "cell_type": "code",
   "execution_count": 53,
   "metadata": {
    "jupyter": {
     "outputs_hidden": false
    },
    "pycharm": {
     "name": "#%%\n"
    }
   },
   "outputs": [
    {
     "data": {
      "image/png": "[encoded data removed]",
      "text/plain": [
       "<Figure size 1080x720 with 2 Axes>"
      ]
     },
     "metadata": {
      "image/png": {
       "height": 611,
       "width": 966
      },
      "needs_background": "light"
     },
     "output_type": "display_data"
    }
   ],
   "source": [
    "fig, axes = plt.subplots(ncols=2,figsize=(15, 10))\n",
    "DEFAULT_COLOR = '#49a2b9'\n",
    "MATCHING_COLOR = 'red'\n",
    "\n",
    "# Relevant tweets\n",
    "\n",
    "rel_colors = []\n",
    "for word in rel_words:\n",
    "    if word in words_in_both:\n",
    "        rel_colors.append(MATCHING_COLOR)\n",
    "    else:\n",
    "        rel_colors.append(DEFAULT_COLOR)\n",
    "\n",
    "axes[0].barh(rel_words, rel_counts, height=.66, color=rel_colors)\n",
    "axes[0].set_title('Most common words in relevant tweets', size=18, weight='bold')\n",
    "axes[0].set_xlabel('Word Count')\n",
    "axes[0].tick_params(axis='both', labelsize=13)\n",
    "\n",
    "axes[0].spines['right'].set_visible(False)\n",
    "axes[0].spines['top'].set_visible(False)\n",
    "\n",
    "# Irrelevant tweets\n",
    "\n",
    "irrel_colors = []\n",
    "for word in irrel_words:\n",
    "    if word in words_in_both:\n",
    "        irrel_colors.append(MATCHING_COLOR)\n",
    "    else:\n",
    "        irrel_colors.append(DEFAULT_COLOR)\n",
    "\n",
    "axes[1].barh(irrel_words, irrel_counts, height=.66, color=irrel_colors)\n",
    "axes[1].set_title('Most common words in irrelevant tweets', size=18, weight='bold')\n",
    "axes[1].set_xlabel('Word Count')\n",
    "axes[1].tick_params(axis='both', labelsize=13)\n",
    "\n",
    "axes[1].spines['right'].set_visible(False)\n",
    "axes[1].spines['top'].set_visible(False)\n",
    "\n",
    "plt.savefig('../images/common_words.png', transparent=True)\n",
    "plt.show()"
   ]
  },
  {
   "cell_type": "markdown",
   "metadata": {
    "jupyter": {
     "outputs_hidden": false
    },
    "pycharm": {
     "name": "#%% md\n"
    }
   },
   "source": [
    "# Reclassify tweets"
   ]
  },
  {
   "cell_type": "code",
   "execution_count": 48,
   "metadata": {
    "pycharm": {
     "name": "#%%\n"
    }
   },
   "outputs": [],
   "source": [
    "from utility.classify_tweets import *\n",
    "pd.set_option(\"display.max_colwidth\", None)"
   ]
  },
  {
   "cell_type": "code",
   "execution_count": 45,
   "metadata": {
    "pycharm": {
     "name": "#%%\n"
    }
   },
   "outputs": [],
   "source": [
    "classification_values = classify_tweets(df['tweet'], '../bayes_model/best_bayes_pipeline.pkl')"
   ]
  },
  {
   "cell_type": "code",
   "execution_count": 69,
   "metadata": {
    "pycharm": {
     "name": "#%%\n"
    }
   },
   "outputs": [],
   "source": [
    "df['rel'] = classification_values"
   ]
  },
  {
   "cell_type": "code",
   "execution_count": null,
   "metadata": {
    "pycharm": {
     "name": "#%%\n"
    }
   },
   "outputs": [],
   "source": [
    "df[['tweet', 'rel']].sample(5)"
   ]
  },
  {
   "cell_type": "code",
   "execution_count": 73,
   "metadata": {
    "pycharm": {
     "name": "#%%\n"
    }
   },
   "outputs": [],
   "source": [
    "df['relevant'] = classification_values"
   ]
  },
  {
   "cell_type": "code",
   "execution_count": 76,
   "metadata": {
    "pycharm": {
     "name": "#%%\n"
    }
   },
   "outputs": [
    {
     "data": {
      "text/html": [
       "<div>\n",
       "<style scoped>\n",
       "    .dataframe tbody tr th:only-of-type {\n",
       "        vertical-align: middle;\n",
       "    }\n",
       "\n",
       "    .dataframe tbody tr th {\n",
       "        vertical-align: top;\n",
       "    }\n",
       "\n",
       "    .dataframe thead th {\n",
       "        text-align: right;\n",
       "    }\n",
       "</style>\n",
       "<table border=\"1\" class=\"dataframe\">\n",
       "  <thead>\n",
       "    <tr style=\"text-align: right;\">\n",
       "      <th></th>\n",
       "      <th>date</th>\n",
       "      <th>time</th>\n",
       "      <th>tweet</th>\n",
       "      <th>tweet_id</th>\n",
       "      <th>hashtags</th>\n",
       "      <th>user_id</th>\n",
       "      <th>username</th>\n",
       "      <th>location</th>\n",
       "      <th>num_followers</th>\n",
       "      <th>geo_enabled</th>\n",
       "      <th>long</th>\n",
       "      <th>lat</th>\n",
       "      <th>relevant</th>\n",
       "      <th>neg_sent_score</th>\n",
       "      <th>neu_sent_score</th>\n",
       "      <th>pos_sent_score</th>\n",
       "      <th>compound_sent_score</th>\n",
       "      <th>sent_class</th>\n",
       "      <th>new_class</th>\n",
       "      <th>rel</th>\n",
       "    </tr>\n",
       "  </thead>\n",
       "  <tbody>\n",
       "    <tr>\n",
       "      <th>735</th>\n",
       "      <td>11/23/21</td>\n",
       "      <td>19:38:47</td>\n",
       "      <td>Shoutout to when @redsteeze claimed kids separated from their parents at the border were smuggled by coyotes, because he’s a racist dickhole. \\n\\nThankfully, many have been reunited, and reparations will be paid to the victims of this Trump abomination soon. https://t.co/H0PRlJzaxF</td>\n",
       "      <td>1.460000e+18</td>\n",
       "      <td>[]</td>\n",
       "      <td>2.673524e+07</td>\n",
       "      <td>DerenNey</td>\n",
       "      <td>Oakland, CA</td>\n",
       "      <td>5546</td>\n",
       "      <td>True</td>\n",
       "      <td>NaN</td>\n",
       "      <td>NaN</td>\n",
       "      <td>0.0</td>\n",
       "      <td>0.181</td>\n",
       "      <td>0.761</td>\n",
       "      <td>0.058</td>\n",
       "      <td>-0.7184</td>\n",
       "      <td>negative</td>\n",
       "      <td>0.0</td>\n",
       "      <td>0.0</td>\n",
       "    </tr>\n",
       "    <tr>\n",
       "      <th>736</th>\n",
       "      <td>11/23/21</td>\n",
       "      <td>19:36:05</td>\n",
       "      <td>@stubbylegs @P_Smartypants @NolteNC I was right that the children who were separated were separated from their parents, not coyotes. \\n\\nYou were wrong. \\n\\nAnd it has broken you.</td>\n",
       "      <td>1.460000e+18</td>\n",
       "      <td>[]</td>\n",
       "      <td>2.673524e+07</td>\n",
       "      <td>DerenNey</td>\n",
       "      <td>Oakland, CA</td>\n",
       "      <td>5546</td>\n",
       "      <td>True</td>\n",
       "      <td>NaN</td>\n",
       "      <td>NaN</td>\n",
       "      <td>0.0</td>\n",
       "      <td>0.199</td>\n",
       "      <td>0.801</td>\n",
       "      <td>0.000</td>\n",
       "      <td>-0.7351</td>\n",
       "      <td>negative</td>\n",
       "      <td>0.0</td>\n",
       "      <td>0.0</td>\n",
       "    </tr>\n",
       "    <tr>\n",
       "      <th>737</th>\n",
       "      <td>11/23/21</td>\n",
       "      <td>19:31:26</td>\n",
       "      <td>@stubbylegs @P_Smartypants @NolteNC And by the way, I was proven entirely right. They are now paying the parents separated from their children, because they were not coyotes, they were just parents who got separated from their children. I was right — How does that make you feel?</td>\n",
       "      <td>1.460000e+18</td>\n",
       "      <td>[]</td>\n",
       "      <td>2.673524e+07</td>\n",
       "      <td>DerenNey</td>\n",
       "      <td>Oakland, CA</td>\n",
       "      <td>5546</td>\n",
       "      <td>True</td>\n",
       "      <td>NaN</td>\n",
       "      <td>NaN</td>\n",
       "      <td>0.0</td>\n",
       "      <td>0.000</td>\n",
       "      <td>1.000</td>\n",
       "      <td>0.000</td>\n",
       "      <td>0.0000</td>\n",
       "      <td>neutral</td>\n",
       "      <td>0.0</td>\n",
       "      <td>0.0</td>\n",
       "    </tr>\n",
       "    <tr>\n",
       "      <th>738</th>\n",
       "      <td>11/23/21</td>\n",
       "      <td>17:12:29</td>\n",
       "      <td>Two #coyotes, out for a morning hike along the trails in Golden Gate Park. They were on a bit of a mission as they just went straight through, no mingling.\\n.\\n.\\n#urbanwildlife #urbanecology #wildlifephotography https://t.co/2ngSyf9aGX</td>\n",
       "      <td>1.460000e+18</td>\n",
       "      <td>['coyotes', 'urbanwildlife', 'urbanecology', 'wildlifephotography']</td>\n",
       "      <td>8.980000e+17</td>\n",
       "      <td>EyaSpectre</td>\n",
       "      <td>San Francisco, CA</td>\n",
       "      <td>680</td>\n",
       "      <td>True</td>\n",
       "      <td>NaN</td>\n",
       "      <td>NaN</td>\n",
       "      <td>1.0</td>\n",
       "      <td>0.058</td>\n",
       "      <td>0.892</td>\n",
       "      <td>0.050</td>\n",
       "      <td>-0.0772</td>\n",
       "      <td>negative</td>\n",
       "      <td>1.0</td>\n",
       "      <td>1.0</td>\n",
       "    </tr>\n",
       "    <tr>\n",
       "      <th>739</th>\n",
       "      <td>11/23/21</td>\n",
       "      <td>10:56:10</td>\n",
       "      <td>just heard a mob of coyotes howling</td>\n",
       "      <td>1.460000e+18</td>\n",
       "      <td>[]</td>\n",
       "      <td>1.065499e+08</td>\n",
       "      <td>ravioli_jazz</td>\n",
       "      <td>San Francisco</td>\n",
       "      <td>190</td>\n",
       "      <td>False</td>\n",
       "      <td>NaN</td>\n",
       "      <td>NaN</td>\n",
       "      <td>1.0</td>\n",
       "      <td>0.000</td>\n",
       "      <td>1.000</td>\n",
       "      <td>0.000</td>\n",
       "      <td>0.0000</td>\n",
       "      <td>neutral</td>\n",
       "      <td>1.0</td>\n",
       "      <td>1.0</td>\n",
       "    </tr>\n",
       "  </tbody>\n",
       "</table>\n",
       "</div>"
      ],
      "text/plain": [
       "         date      time  \\\n",
       "735  11/23/21  19:38:47   \n",
       "736  11/23/21  19:36:05   \n",
       "737  11/23/21  19:31:26   \n",
       "738  11/23/21  17:12:29   \n",
       "739  11/23/21  10:56:10   \n",
       "\n",
       "                                                                                                                                                                                                                                                                                          tweet  \\\n",
       "735  Shoutout to when @redsteeze claimed kids separated from their parents at the border were smuggled by coyotes, because he’s a racist dickhole. \\n\\nThankfully, many have been reunited, and reparations will be paid to the victims of this Trump abomination soon. https://t.co/H0PRlJzaxF   \n",
       "736                                                                                                         @stubbylegs @P_Smartypants @NolteNC I was right that the children who were separated were separated from their parents, not coyotes. \\n\\nYou were wrong. \\n\\nAnd it has broken you.   \n",
       "737     @stubbylegs @P_Smartypants @NolteNC And by the way, I was proven entirely right. They are now paying the parents separated from their children, because they were not coyotes, they were just parents who got separated from their children. I was right — How does that make you feel?   \n",
       "738                                                Two #coyotes, out for a morning hike along the trails in Golden Gate Park. They were on a bit of a mission as they just went straight through, no mingling.\\n.\\n.\\n#urbanwildlife #urbanecology #wildlifephotography https://t.co/2ngSyf9aGX   \n",
       "739                                                                                                                                                                                                                                                         just heard a mob of coyotes howling   \n",
       "\n",
       "         tweet_id  \\\n",
       "735  1.460000e+18   \n",
       "736  1.460000e+18   \n",
       "737  1.460000e+18   \n",
       "738  1.460000e+18   \n",
       "739  1.460000e+18   \n",
       "\n",
       "                                                                hashtags  \\\n",
       "735                                                                   []   \n",
       "736                                                                   []   \n",
       "737                                                                   []   \n",
       "738  ['coyotes', 'urbanwildlife', 'urbanecology', 'wildlifephotography']   \n",
       "739                                                                   []   \n",
       "\n",
       "          user_id      username           location  num_followers  \\\n",
       "735  2.673524e+07      DerenNey        Oakland, CA           5546   \n",
       "736  2.673524e+07      DerenNey        Oakland, CA           5546   \n",
       "737  2.673524e+07      DerenNey        Oakland, CA           5546   \n",
       "738  8.980000e+17    EyaSpectre  San Francisco, CA            680   \n",
       "739  1.065499e+08  ravioli_jazz      San Francisco            190   \n",
       "\n",
       "     geo_enabled  long  lat  relevant  neg_sent_score  neu_sent_score  \\\n",
       "735         True   NaN  NaN       0.0           0.181           0.761   \n",
       "736         True   NaN  NaN       0.0           0.199           0.801   \n",
       "737         True   NaN  NaN       0.0           0.000           1.000   \n",
       "738         True   NaN  NaN       1.0           0.058           0.892   \n",
       "739        False   NaN  NaN       1.0           0.000           1.000   \n",
       "\n",
       "     pos_sent_score  compound_sent_score sent_class  new_class  rel  \n",
       "735           0.058              -0.7184   negative        0.0  0.0  \n",
       "736           0.000              -0.7351   negative        0.0  0.0  \n",
       "737           0.000               0.0000    neutral        0.0  0.0  \n",
       "738           0.050              -0.0772   negative        1.0  1.0  \n",
       "739           0.000               0.0000    neutral        1.0  1.0  "
      ]
     },
     "execution_count": 76,
     "metadata": {},
     "output_type": "execute_result"
    }
   ],
   "source": [
    "df.tail()"
   ]
  },
  {
   "cell_type": "code",
   "execution_count": 77,
   "metadata": {
    "pycharm": {
     "name": "#%%\n"
    }
   },
   "outputs": [],
   "source": [
    "df.drop(columns=['new_class', 'rel'], inplace=True)"
   ]
  },
  {
   "cell_type": "code",
   "execution_count": 79,
   "metadata": {
    "pycharm": {
     "name": "#%%\n"
    }
   },
   "outputs": [],
   "source": [
    "df.to_csv('/Users/Isaacbolo/CDFW/CDFW/twitter/coyotes/data/all_queries.csv', index=False, encoding='utf-8-sig')"
   ]
  },
  {
   "cell_type": "markdown",
   "metadata": {
    "pycharm": {
     "name": "#%% md\n"
    }
   },
   "source": [
    "# Looking at available long and lat data"
   ]
  },
  {
   "cell_type": "code",
   "execution_count": 5,
   "metadata": {
    "pycharm": {
     "name": "#%%\n"
    }
   },
   "outputs": [],
   "source": [
    "long = df['long']\n",
    "lat = df['lat']"
   ]
  },
  {
   "cell_type": "code",
   "execution_count": 10,
   "metadata": {
    "pycharm": {
     "name": "#%%\n"
    }
   },
   "outputs": [
    {
     "data": {
      "text/plain": [
       "(850, 5)"
      ]
     },
     "execution_count": 10,
     "metadata": {},
     "output_type": "execute_result"
    }
   ],
   "source": [
    "long.isnull().sum(), long.notnull().sum()"
   ]
  },
  {
   "cell_type": "code",
   "execution_count": 17,
   "metadata": {
    "pycharm": {
     "name": "#%%\n"
    }
   },
   "outputs": [
    {
     "data": {
      "image/png": "[encoded data removed]",
      "text/plain": [
       "<Figure size 360x360 with 1 Axes>"
      ]
     },
     "metadata": {
      "image/png": {
       "height": 318,
       "width": 320
      },
      "needs_background": "light"
     },
     "output_type": "display_data"
    }
   ],
   "source": [
    "fig, ax = plt.subplots(figsize=(5,5))\n",
    "ax.bar(['Null', 'Not Null'], [long.isnull().sum(), long.notnull().sum()], color=['#004c6d', '#7aa6c2'], width=.67)\n",
    "ax.set_title('Null vs Not Null Longitude and Latitude Counts')\n",
    "\n",
    "ax.spines['right'].set_visible(False)\n",
    "ax.spines['top'].set_visible(False)\n",
    "ax.tick_params(axis='x', bottom=False)\n",
    "\n",
    "plt.savefig('../images/count_long_lat.png', transparent=True)\n",
    "plt.show()"
   ]
  },
  {
   "cell_type": "code",
   "execution_count": null,
   "metadata": {
    "pycharm": {
     "name": "#%%\n"
    }
   },
   "outputs": [],
   "source": []
  }
 ],
 "metadata": {
  "kernelspec": {
   "display_name": "Python 3",
   "language": "python",
   "name": "python3"
  },
  "language_info": {
   "codemirror_mode": {
    "name": "ipython",
    "version": 3
   },
   "file_extension": ".py",
   "mimetype": "text/x-python",
   "name": "python",
   "nbconvert_exporter": "python",
   "pygments_lexer": "ipython3",
   "version": "3.8.8"
  }
 },
 "nbformat": 4,
 "nbformat_minor": 4
}