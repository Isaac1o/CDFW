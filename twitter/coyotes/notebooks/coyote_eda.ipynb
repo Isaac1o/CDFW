{
 "cells": [
  {
   "cell_type": "code",
   "execution_count": 153,
   "metadata": {
    "collapsed": true
   },
   "outputs": [],
   "source": [
    "import numpy as np\n",
    "import pandas as pd\n",
    "import matplotlib.pyplot as plt\n",
    "\n",
    "%config InlineBackend.figure_format = 'retina'"
   ]
  },
  {
   "cell_type": "code",
   "execution_count": 154,
   "outputs": [],
   "source": [
    "# Load data\n",
    "df = pd.read_csv('../data/all_queries.csv')"
   ],
   "metadata": {
    "collapsed": false,
    "pycharm": {
     "name": "#%%\n"
    }
   }
  },
  {
   "cell_type": "code",
   "execution_count": 155,
   "outputs": [
    {
     "data": {
      "text/plain": "      date      time                                              tweet  \\\n0  11/8/21  17:11:01  Defender Radio Live: Canid Response Teams and ...   \n1  11/8/21  14:25:52             Yaw 💃💃. Good Morning Twitter Family 🤩✨   \n2  11/8/21  12:27:50  At this moment, I have a neighbor that lives 7...   \n3  11/8/21  10:51:07  @AstroBackyard Had the coyotes barking within ...   \n4  11/8/21   8:28:38  really just saw a coyote cross the street and ...   \n\n       tweet_id hashtags       user_id        username         location  \\\n0  1.457760e+18       []  9.202440e+08  CoyoteWatchCAN     Ontario, CA    \n1  1.457720e+18       []  1.456960e+18   coyote_kissa1     Pasadena, CA   \n2  1.457690e+18       []  1.326530e+18   DavidCMaybury       Perris, CA   \n3  1.457660e+18       []  6.883438e+07     darrenreely  Los Angeles, CA   \n4  1.457630e+18       []  2.323440e+09      angeIiques          she/her   \n\n   num_followers geo_enabled  long  lat  relevant  neg_sent_score  \\\n0         4420.0        True   NaN  NaN       1.0           0.000   \n1           57.0       False   NaN  NaN       1.0           0.000   \n2          438.0        True   NaN  NaN       1.0           0.000   \n3          147.0        True   NaN  NaN       0.0           0.039   \n4          109.0        True   NaN  NaN       1.0           0.256   \n\n   neu_sent_score  pos_sent_score  compound_sent_score sent_class  \n0           0.912           0.088               0.2023   positive  \n1           0.634           0.366               0.6369   positive  \n2           0.930           0.070               0.5719   positive  \n3           0.912           0.049               0.1511   positive  \n4           0.744           0.000              -0.8519   negative  ",
      "text/html": "<div>\n<style scoped>\n    .dataframe tbody tr th:only-of-type {\n        vertical-align: middle;\n    }\n\n    .dataframe tbody tr th {\n        vertical-align: top;\n    }\n\n    .dataframe thead th {\n        text-align: right;\n    }\n</style>\n<table border=\"1\" class=\"dataframe\">\n  <thead>\n    <tr style=\"text-align: right;\">\n      <th></th>\n      <th>date</th>\n      <th>time</th>\n      <th>tweet</th>\n      <th>tweet_id</th>\n      <th>hashtags</th>\n      <th>user_id</th>\n      <th>username</th>\n      <th>location</th>\n      <th>num_followers</th>\n      <th>geo_enabled</th>\n      <th>long</th>\n      <th>lat</th>\n      <th>relevant</th>\n      <th>neg_sent_score</th>\n      <th>neu_sent_score</th>\n      <th>pos_sent_score</th>\n      <th>compound_sent_score</th>\n      <th>sent_class</th>\n    </tr>\n  </thead>\n  <tbody>\n    <tr>\n      <th>0</th>\n      <td>11/8/21</td>\n      <td>17:11:01</td>\n      <td>Defender Radio Live: Canid Response Teams and ...</td>\n      <td>1.457760e+18</td>\n      <td>[]</td>\n      <td>9.202440e+08</td>\n      <td>CoyoteWatchCAN</td>\n      <td>Ontario, CA</td>\n      <td>4420.0</td>\n      <td>True</td>\n      <td>NaN</td>\n      <td>NaN</td>\n      <td>1.0</td>\n      <td>0.000</td>\n      <td>0.912</td>\n      <td>0.088</td>\n      <td>0.2023</td>\n      <td>positive</td>\n    </tr>\n    <tr>\n      <th>1</th>\n      <td>11/8/21</td>\n      <td>14:25:52</td>\n      <td>Yaw 💃💃. Good Morning Twitter Family 🤩✨</td>\n      <td>1.457720e+18</td>\n      <td>[]</td>\n      <td>1.456960e+18</td>\n      <td>coyote_kissa1</td>\n      <td>Pasadena, CA</td>\n      <td>57.0</td>\n      <td>False</td>\n      <td>NaN</td>\n      <td>NaN</td>\n      <td>1.0</td>\n      <td>0.000</td>\n      <td>0.634</td>\n      <td>0.366</td>\n      <td>0.6369</td>\n      <td>positive</td>\n    </tr>\n    <tr>\n      <th>2</th>\n      <td>11/8/21</td>\n      <td>12:27:50</td>\n      <td>At this moment, I have a neighbor that lives 7...</td>\n      <td>1.457690e+18</td>\n      <td>[]</td>\n      <td>1.326530e+18</td>\n      <td>DavidCMaybury</td>\n      <td>Perris, CA</td>\n      <td>438.0</td>\n      <td>True</td>\n      <td>NaN</td>\n      <td>NaN</td>\n      <td>1.0</td>\n      <td>0.000</td>\n      <td>0.930</td>\n      <td>0.070</td>\n      <td>0.5719</td>\n      <td>positive</td>\n    </tr>\n    <tr>\n      <th>3</th>\n      <td>11/8/21</td>\n      <td>10:51:07</td>\n      <td>@AstroBackyard Had the coyotes barking within ...</td>\n      <td>1.457660e+18</td>\n      <td>[]</td>\n      <td>6.883438e+07</td>\n      <td>darrenreely</td>\n      <td>Los Angeles, CA</td>\n      <td>147.0</td>\n      <td>True</td>\n      <td>NaN</td>\n      <td>NaN</td>\n      <td>0.0</td>\n      <td>0.039</td>\n      <td>0.912</td>\n      <td>0.049</td>\n      <td>0.1511</td>\n      <td>positive</td>\n    </tr>\n    <tr>\n      <th>4</th>\n      <td>11/8/21</td>\n      <td>8:28:38</td>\n      <td>really just saw a coyote cross the street and ...</td>\n      <td>1.457630e+18</td>\n      <td>[]</td>\n      <td>2.323440e+09</td>\n      <td>angeIiques</td>\n      <td>she/her</td>\n      <td>109.0</td>\n      <td>True</td>\n      <td>NaN</td>\n      <td>NaN</td>\n      <td>1.0</td>\n      <td>0.256</td>\n      <td>0.744</td>\n      <td>0.000</td>\n      <td>-0.8519</td>\n      <td>negative</td>\n    </tr>\n  </tbody>\n</table>\n</div>"
     },
     "execution_count": 155,
     "metadata": {},
     "output_type": "execute_result"
    }
   ],
   "source": [
    "df.head()"
   ],
   "metadata": {
    "collapsed": false,
    "pycharm": {
     "name": "#%%\n"
    }
   }
  },
  {
   "cell_type": "markdown",
   "source": [
    "Looks like saving the queries to csv reduced the accuracy of `tweet_id` and `user_id`. This might be a problem in the future and when I join future queries to this main csv. In the time being, I will join on `tweet`."
   ],
   "metadata": {
    "collapsed": false,
    "pycharm": {
     "name": "#%% md\n"
    }
   }
  },
  {
   "cell_type": "code",
   "execution_count": 156,
   "outputs": [
    {
     "name": "stdout",
     "output_type": "stream",
     "text": [
      "<class 'pandas.core.frame.DataFrame'>\n",
      "RangeIndex: 539 entries, 0 to 538\n",
      "Data columns (total 18 columns):\n",
      " #   Column               Non-Null Count  Dtype  \n",
      "---  ------               --------------  -----  \n",
      " 0   date                 538 non-null    object \n",
      " 1   time                 538 non-null    object \n",
      " 2   tweet                538 non-null    object \n",
      " 3   tweet_id             538 non-null    float64\n",
      " 4   hashtags             538 non-null    object \n",
      " 5   user_id              538 non-null    float64\n",
      " 6   username             538 non-null    object \n",
      " 7   location             529 non-null    object \n",
      " 8   num_followers        538 non-null    float64\n",
      " 9   geo_enabled          538 non-null    object \n",
      " 10  long                 9 non-null      float64\n",
      " 11  lat                  9 non-null      float64\n",
      " 12  relevant             538 non-null    float64\n",
      " 13  neg_sent_score       538 non-null    float64\n",
      " 14  neu_sent_score       538 non-null    float64\n",
      " 15  pos_sent_score       538 non-null    float64\n",
      " 16  compound_sent_score  538 non-null    float64\n",
      " 17  sent_class           538 non-null    object \n",
      "dtypes: float64(10), object(8)\n",
      "memory usage: 75.9+ KB\n"
     ]
    }
   ],
   "source": [
    "df.info()"
   ],
   "metadata": {
    "collapsed": false,
    "pycharm": {
     "name": "#%%\n"
    }
   }
  },
  {
   "cell_type": "markdown",
   "source": [
    "# Exploring tweets that are not relevant"
   ],
   "metadata": {
    "collapsed": false,
    "pycharm": {
     "name": "#%% md\n"
    }
   }
  },
  {
   "cell_type": "code",
   "execution_count": 157,
   "outputs": [],
   "source": [
    "df_nr = df[df['relevant'] == 0].copy()"
   ],
   "metadata": {
    "collapsed": false,
    "pycharm": {
     "name": "#%%\n"
    }
   }
  },
  {
   "cell_type": "code",
   "execution_count": 158,
   "outputs": [
    {
     "data": {
      "text/plain": "(422, 18)"
     },
     "execution_count": 158,
     "metadata": {},
     "output_type": "execute_result"
    }
   ],
   "source": [
    "df_nr.shape"
   ],
   "metadata": {
    "collapsed": false,
    "pycharm": {
     "name": "#%%\n"
    }
   }
  },
  {
   "cell_type": "markdown",
   "source": [
    "## Look at the tweets"
   ],
   "metadata": {
    "collapsed": false,
    "pycharm": {
     "name": "#%% md\n"
    }
   }
  },
  {
   "cell_type": "code",
   "execution_count": 159,
   "outputs": [
    {
     "data": {
      "text/plain": "3     @AstroBackyard Had the coyotes barking within ...\n6                         @shenjonsin but the coyotes !\n7      To make it worse no one else saw the coyote bruh\n9     Wile E Coyote was a victim. The Road Runner is...\n11    @WhatSayU_2020 @DineshDSouza Some children wer...\nName: tweet, dtype: object"
     },
     "execution_count": 159,
     "metadata": {},
     "output_type": "execute_result"
    }
   ],
   "source": [
    "ir_tweets = df_nr['tweet']\n",
    "ir_tweets[:5]"
   ],
   "metadata": {
    "collapsed": false,
    "pycharm": {
     "name": "#%%\n"
    }
   }
  },
  {
   "cell_type": "markdown",
   "source": [
    "### Lets look at the most common words"
   ],
   "metadata": {
    "collapsed": false,
    "pycharm": {
     "name": "#%% md\n"
    }
   }
  },
  {
   "cell_type": "code",
   "execution_count": 160,
   "outputs": [],
   "source": [
    "from text_normalizer import tweet_preprocessor"
   ],
   "metadata": {
    "collapsed": false,
    "pycharm": {
     "name": "#%%\n"
    }
   }
  },
  {
   "cell_type": "code",
   "execution_count": 161,
   "outputs": [
    {
     "data": {
      "text/plain": "422"
     },
     "execution_count": 161,
     "metadata": {},
     "output_type": "execute_result"
    }
   ],
   "source": [
    "norm_tweets = [tweet_preprocessor(tweet) for tweet in ir_tweets]\n",
    "len(norm_tweets)"
   ],
   "metadata": {
    "collapsed": false,
    "pycharm": {
     "name": "#%%\n"
    }
   }
  },
  {
   "cell_type": "code",
   "execution_count": 162,
   "outputs": [],
   "source": [
    "from collections import Counter\n",
    "from sklearn.feature_extraction import _stop_words"
   ],
   "metadata": {
    "collapsed": false,
    "pycharm": {
     "name": "#%%\n"
    }
   }
  },
  {
   "cell_type": "code",
   "execution_count": 163,
   "outputs": [],
   "source": [
    "stop_words = _stop_words.ENGLISH_STOP_WORDS"
   ],
   "metadata": {
    "collapsed": false,
    "pycharm": {
     "name": "#%%\n"
    }
   }
  },
  {
   "cell_type": "code",
   "execution_count": 164,
   "outputs": [],
   "source": [
    "# Get all the words into one list, lowercase them, and remove stopwords\n",
    "def filter_tweets(tweets: list) -> list:\n",
    "    all_words = ' '.join(tweets).split(' ')\n",
    "    all_words = [w.lower() for w in all_words]\n",
    "    all_words = [w for w in all_words if w not in stop_words]\n",
    "    all_words = [w for w in all_words if w not in ['coyotes', 'coyote', 'amp']]  # amp is for ampersand\n",
    "    return all_words"
   ],
   "metadata": {
    "collapsed": false,
    "pycharm": {
     "name": "#%%\n"
    }
   }
  },
  {
   "cell_type": "code",
   "execution_count": 165,
   "outputs": [],
   "source": [
    "words = filter_tweets(norm_tweets)"
   ],
   "metadata": {
    "collapsed": false,
    "pycharm": {
     "name": "#%%\n"
    }
   }
  },
  {
   "cell_type": "code",
   "execution_count": 166,
   "outputs": [],
   "source": [
    "word_count = Counter(words)"
   ],
   "metadata": {
    "collapsed": false,
    "pycharm": {
     "name": "#%%\n"
    }
   }
  },
  {
   "cell_type": "code",
   "execution_count": 167,
   "outputs": [
    {
     "data": {
      "text/plain": "[('like', 45),\n ('ducks', 27),\n ('school', 23),\n ('game', 23),\n ('nhl', 22),\n ('win', 18),\n ('better', 17),\n ('high', 17),\n ('tonight', 15),\n ('come', 15),\n ('got', 14),\n ('hey', 14),\n ('arizona', 13),\n ('night', 13),\n ('springs', 13),\n ('week', 13),\n ('make', 12),\n ('new', 12),\n ('history', 12),\n ('indian', 12)]"
     },
     "execution_count": 167,
     "metadata": {},
     "output_type": "execute_result"
    }
   ],
   "source": [
    "# Most common 20 words from irrelevant tweets\n",
    "common_words = word_count.most_common(20)\n",
    "common_words"
   ],
   "metadata": {
    "collapsed": false,
    "pycharm": {
     "name": "#%%\n"
    }
   }
  },
  {
   "cell_type": "markdown",
   "source": [
    "### Visualize most common 20 words from irrelevant tweets"
   ],
   "metadata": {
    "collapsed": false,
    "pycharm": {
     "name": "#%% md\n"
    }
   }
  },
  {
   "cell_type": "code",
   "execution_count": 168,
   "outputs": [],
   "source": [
    "irrel_words = []\n",
    "irrel_counts = []\n",
    "for current_word, current_count in common_words:\n",
    "    irrel_words.append(current_word)\n",
    "    irrel_counts.append(current_count)\n",
    "\n",
    "irrel_words.reverse()\n",
    "irrel_counts.reverse()"
   ],
   "metadata": {
    "collapsed": false,
    "pycharm": {
     "name": "#%%\n"
    }
   }
  },
  {
   "cell_type": "code",
   "execution_count": 180,
   "outputs": [
    {
     "data": {
      "text/plain": "<Figure size 432x288 with 1 Axes>",
      "image/png": "[encoded data removed]"
     },
     "metadata": {
      "image/png": {
       "width": 385,
       "height": 275
      },
      "needs_background": "light"
     },
     "output_type": "display_data"
    }
   ],
   "source": [
    "fig, ax = plt.subplots(figsize=(6, 4))\n",
    "\n",
    "ax.barh(irrel_words, irrel_counts, height=.66)\n",
    "ax.set_title('Most common words in irrelevant tweets')\n",
    "ax.set_xlabel('Word Count')\n",
    "ax.tick_params(axis='both', labelsize=8)\n",
    "\n",
    "ax.spines['right'].set_visible(False)\n",
    "ax.spines['top'].set_visible(False)\n",
    "\n",
    "plt.show()"
   ],
   "metadata": {
    "collapsed": false,
    "pycharm": {
     "name": "#%%\n"
    }
   }
  },
  {
   "cell_type": "markdown",
   "source": [
    "Based on this plot there are some words we might want to exclude from our twitter api query. These include:\n",
    "- ducks\n",
    "- school\n",
    "- game\n",
    "- nhl\n",
    "- win\n",
    "- arizona\n",
    "- indian\n",
    "\n",
    "However, some of these words might be in relevant tweets. Lets take a look at the most common words in relevant tweets."
   ],
   "metadata": {
    "collapsed": false,
    "pycharm": {
     "name": "#%% md\n"
    }
   }
  },
  {
   "cell_type": "markdown",
   "source": [
    "# Exploring tweets that are relevant"
   ],
   "metadata": {
    "collapsed": false,
    "pycharm": {
     "name": "#%% md\n"
    }
   }
  },
  {
   "cell_type": "code",
   "execution_count": 170,
   "outputs": [
    {
     "data": {
      "text/plain": "      date      time                                              tweet  \\\n0  11/8/21  17:11:01  Defender Radio Live: Canid Response Teams and ...   \n1  11/8/21  14:25:52             Yaw 💃💃. Good Morning Twitter Family 🤩✨   \n2  11/8/21  12:27:50  At this moment, I have a neighbor that lives 7...   \n4  11/8/21   8:28:38  really just saw a coyote cross the street and ...   \n5  11/8/21   7:13:42  my dog just scared tf out of a coyote then cha...   \n\n       tweet_id hashtags       user_id        username       location  \\\n0  1.457760e+18       []  9.202440e+08  CoyoteWatchCAN   Ontario, CA    \n1  1.457720e+18       []  1.456960e+18   coyote_kissa1   Pasadena, CA   \n2  1.457690e+18       []  1.326530e+18   DavidCMaybury     Perris, CA   \n4  1.457630e+18       []  2.323440e+09      angeIiques        she/her   \n5  1.457610e+18       []  2.936604e+09       _danimaee  calabasas, ca   \n\n   num_followers geo_enabled  long  lat  relevant  neg_sent_score  \\\n0         4420.0        True   NaN  NaN       1.0           0.000   \n1           57.0       False   NaN  NaN       1.0           0.000   \n2          438.0        True   NaN  NaN       1.0           0.000   \n4          109.0        True   NaN  NaN       1.0           0.256   \n5         3446.0        True   NaN  NaN       1.0           0.142   \n\n   neu_sent_score  pos_sent_score  compound_sent_score sent_class  \n0           0.912           0.088               0.2023   positive  \n1           0.634           0.366               0.6369   positive  \n2           0.930           0.070               0.5719   positive  \n4           0.744           0.000              -0.8519   negative  \n5           0.782           0.076              -0.4215   negative  ",
      "text/html": "<div>\n<style scoped>\n    .dataframe tbody tr th:only-of-type {\n        vertical-align: middle;\n    }\n\n    .dataframe tbody tr th {\n        vertical-align: top;\n    }\n\n    .dataframe thead th {\n        text-align: right;\n    }\n</style>\n<table border=\"1\" class=\"dataframe\">\n  <thead>\n    <tr style=\"text-align: right;\">\n      <th></th>\n      <th>date</th>\n      <th>time</th>\n      <th>tweet</th>\n      <th>tweet_id</th>\n      <th>hashtags</th>\n      <th>user_id</th>\n      <th>username</th>\n      <th>location</th>\n      <th>num_followers</th>\n      <th>geo_enabled</th>\n      <th>long</th>\n      <th>lat</th>\n      <th>relevant</th>\n      <th>neg_sent_score</th>\n      <th>neu_sent_score</th>\n      <th>pos_sent_score</th>\n      <th>compound_sent_score</th>\n      <th>sent_class</th>\n    </tr>\n  </thead>\n  <tbody>\n    <tr>\n      <th>0</th>\n      <td>11/8/21</td>\n      <td>17:11:01</td>\n      <td>Defender Radio Live: Canid Response Teams and ...</td>\n      <td>1.457760e+18</td>\n      <td>[]</td>\n      <td>9.202440e+08</td>\n      <td>CoyoteWatchCAN</td>\n      <td>Ontario, CA</td>\n      <td>4420.0</td>\n      <td>True</td>\n      <td>NaN</td>\n      <td>NaN</td>\n      <td>1.0</td>\n      <td>0.000</td>\n      <td>0.912</td>\n      <td>0.088</td>\n      <td>0.2023</td>\n      <td>positive</td>\n    </tr>\n    <tr>\n      <th>1</th>\n      <td>11/8/21</td>\n      <td>14:25:52</td>\n      <td>Yaw 💃💃. Good Morning Twitter Family 🤩✨</td>\n      <td>1.457720e+18</td>\n      <td>[]</td>\n      <td>1.456960e+18</td>\n      <td>coyote_kissa1</td>\n      <td>Pasadena, CA</td>\n      <td>57.0</td>\n      <td>False</td>\n      <td>NaN</td>\n      <td>NaN</td>\n      <td>1.0</td>\n      <td>0.000</td>\n      <td>0.634</td>\n      <td>0.366</td>\n      <td>0.6369</td>\n      <td>positive</td>\n    </tr>\n    <tr>\n      <th>2</th>\n      <td>11/8/21</td>\n      <td>12:27:50</td>\n      <td>At this moment, I have a neighbor that lives 7...</td>\n      <td>1.457690e+18</td>\n      <td>[]</td>\n      <td>1.326530e+18</td>\n      <td>DavidCMaybury</td>\n      <td>Perris, CA</td>\n      <td>438.0</td>\n      <td>True</td>\n      <td>NaN</td>\n      <td>NaN</td>\n      <td>1.0</td>\n      <td>0.000</td>\n      <td>0.930</td>\n      <td>0.070</td>\n      <td>0.5719</td>\n      <td>positive</td>\n    </tr>\n    <tr>\n      <th>4</th>\n      <td>11/8/21</td>\n      <td>8:28:38</td>\n      <td>really just saw a coyote cross the street and ...</td>\n      <td>1.457630e+18</td>\n      <td>[]</td>\n      <td>2.323440e+09</td>\n      <td>angeIiques</td>\n      <td>she/her</td>\n      <td>109.0</td>\n      <td>True</td>\n      <td>NaN</td>\n      <td>NaN</td>\n      <td>1.0</td>\n      <td>0.256</td>\n      <td>0.744</td>\n      <td>0.000</td>\n      <td>-0.8519</td>\n      <td>negative</td>\n    </tr>\n    <tr>\n      <th>5</th>\n      <td>11/8/21</td>\n      <td>7:13:42</td>\n      <td>my dog just scared tf out of a coyote then cha...</td>\n      <td>1.457610e+18</td>\n      <td>[]</td>\n      <td>2.936604e+09</td>\n      <td>_danimaee</td>\n      <td>calabasas, ca</td>\n      <td>3446.0</td>\n      <td>True</td>\n      <td>NaN</td>\n      <td>NaN</td>\n      <td>1.0</td>\n      <td>0.142</td>\n      <td>0.782</td>\n      <td>0.076</td>\n      <td>-0.4215</td>\n      <td>negative</td>\n    </tr>\n  </tbody>\n</table>\n</div>"
     },
     "execution_count": 170,
     "metadata": {},
     "output_type": "execute_result"
    }
   ],
   "source": [
    "df_rel = df[df['relevant'] == 1].copy()\n",
    "df_rel.head()"
   ],
   "metadata": {
    "collapsed": false,
    "pycharm": {
     "name": "#%%\n"
    }
   }
  },
  {
   "cell_type": "code",
   "execution_count": 171,
   "outputs": [
    {
     "data": {
      "text/plain": "(116, 18)"
     },
     "execution_count": 171,
     "metadata": {},
     "output_type": "execute_result"
    }
   ],
   "source": [
    "df_rel.shape"
   ],
   "metadata": {
    "collapsed": false,
    "pycharm": {
     "name": "#%%\n"
    }
   }
  },
  {
   "cell_type": "code",
   "execution_count": 172,
   "outputs": [
    {
     "data": {
      "text/plain": "0    Defender Radio Live: Canid Response Teams and ...\n1               Yaw 💃💃. Good Morning Twitter Family 🤩✨\n2    At this moment, I have a neighbor that lives 7...\n4    really just saw a coyote cross the street and ...\n5    my dog just scared tf out of a coyote then cha...\nName: tweet, dtype: object"
     },
     "execution_count": 172,
     "metadata": {},
     "output_type": "execute_result"
    }
   ],
   "source": [
    "rel_tweets = df_rel['tweet']\n",
    "rel_tweets[:5]"
   ],
   "metadata": {
    "collapsed": false,
    "pycharm": {
     "name": "#%%\n"
    }
   }
  },
  {
   "cell_type": "code",
   "execution_count": 173,
   "outputs": [
    {
     "data": {
      "text/plain": "['defender', 'radio', 'live', 'canid', 'response']"
     },
     "execution_count": 173,
     "metadata": {},
     "output_type": "execute_result"
    }
   ],
   "source": [
    "norm_rel_tweets = [tweet_preprocessor(tweet) for tweet in rel_tweets]\n",
    "rel_words = filter_tweets(norm_rel_tweets)\n",
    "rel_words[:5]"
   ],
   "metadata": {
    "collapsed": false,
    "pycharm": {
     "name": "#%%\n"
    }
   }
  },
  {
   "cell_type": "code",
   "execution_count": 174,
   "outputs": [
    {
     "data": {
      "text/plain": "[('just', 24),\n ('dog', 19),\n ('outside', 13),\n ('like', 13),\n ('away', 11),\n ('let', 11),\n ('morning', 10),\n ('night', 10),\n ('cat', 10),\n ('seen', 10),\n ('know', 9),\n ('saw', 9),\n ('day', 9),\n ('deer', 8),\n ('neighborhood', 8),\n ('street', 7),\n ('car', 7),\n ('cats', 7),\n ('got', 7),\n ('walk', 7)]"
     },
     "execution_count": 174,
     "metadata": {},
     "output_type": "execute_result"
    }
   ],
   "source": [
    "rel_word_count = Counter(rel_words)\n",
    "common_rel_words = rel_word_count.most_common(20)\n",
    "common_rel_words"
   ],
   "metadata": {
    "collapsed": false,
    "pycharm": {
     "name": "#%%\n"
    }
   }
  },
  {
   "cell_type": "code",
   "execution_count": 175,
   "outputs": [],
   "source": [
    "rel_words = []\n",
    "rel_counts = []\n",
    "for current_word, current_count in common_rel_words:\n",
    "    rel_words.append(current_word)\n",
    "    rel_counts.append(current_count)\n",
    "\n",
    "rel_words.reverse()\n",
    "rel_counts.reverse()"
   ],
   "metadata": {
    "collapsed": false,
    "pycharm": {
     "name": "#%%\n"
    }
   }
  },
  {
   "cell_type": "code",
   "execution_count": 176,
   "outputs": [
    {
     "data": {
      "text/plain": "<Figure size 432x288 with 1 Axes>",
      "image/png": "[encoded data removed]"
     },
     "metadata": {
      "image/png": {
       "width": 414,
       "height": 275
      },
      "needs_background": "light"
     },
     "output_type": "display_data"
    }
   ],
   "source": [
    "fig, ax = plt.subplots(figsize=(6, 4))\n",
    "\n",
    "ax.barh(rel_words, rel_counts, height=.66)\n",
    "ax.set_title('Most common words in relevant tweets')\n",
    "ax.set_xlabel('Word Count')\n",
    "ax.tick_params(axis='both', labelsize=8)\n",
    "\n",
    "ax.spines['right'].set_visible(False)\n",
    "ax.spines['top'].set_visible(False)\n",
    "\n",
    "plt.show()"
   ],
   "metadata": {
    "collapsed": false,
    "pycharm": {
     "name": "#%%\n"
    }
   }
  },
  {
   "cell_type": "markdown",
   "source": [
    "Lets look at words that are in both the most common relevant and irrelevant tweets"
   ],
   "metadata": {
    "collapsed": false,
    "pycharm": {
     "name": "#%% md\n"
    }
   }
  },
  {
   "cell_type": "code",
   "execution_count": 177,
   "outputs": [
    {
     "data": {
      "text/plain": "{'got', 'like', 'night'}"
     },
     "execution_count": 177,
     "metadata": {},
     "output_type": "execute_result"
    }
   ],
   "source": [
    "rel_words_set = set(rel_words)\n",
    "irrel_words_set = set(irrel_words)\n",
    "words_in_both = rel_words_set.intersection(irrel_words_set)\n",
    "words_in_both"
   ],
   "metadata": {
    "collapsed": false,
    "pycharm": {
     "name": "#%%\n"
    }
   }
  },
  {
   "cell_type": "markdown",
   "source": [
    "Lets look at the most common words that are only in the irrelevant tweets"
   ],
   "metadata": {
    "collapsed": false,
    "pycharm": {
     "name": "#%% md\n"
    }
   }
  },
  {
   "cell_type": "code",
   "execution_count": 178,
   "outputs": [
    {
     "name": "stdout",
     "output_type": "stream",
     "text": [
      "{'new', 'springs', 'better', 'make', 'indian', 'tonight', 'hey', 'history', 'ducks', 'game', 'arizona', 'school', 'high', 'week', 'come', 'win', 'nhl'}\n"
     ]
    }
   ],
   "source": [
    "only_irrel_words = irrel_words_set - rel_words_set\n",
    "print(only_irrel_words)"
   ],
   "metadata": {
    "collapsed": false,
    "pycharm": {
     "name": "#%%\n"
    }
   }
  },
  {
   "cell_type": "markdown",
   "source": [
    "Might be a good idea to remove some of these words. Probably would want to remove the nouns:\n",
    "- indian\n",
    "- ducks\n",
    "- game\n",
    "- arizona\n",
    "- school\n",
    "- nhl\n",
    "- win (even though its not a noun im assuming its sports related)"
   ],
   "metadata": {
    "collapsed": false,
    "pycharm": {
     "name": "#%% md\n"
    }
   }
  },
  {
   "cell_type": "markdown",
   "source": [
    "### Visualize relevant and irrelevant common words together"
   ],
   "metadata": {
    "collapsed": false,
    "pycharm": {
     "name": "#%% md\n"
    }
   }
  },
  {
   "cell_type": "code",
   "execution_count": 185,
   "outputs": [
    {
     "data": {
      "text/plain": "<Figure size 720x288 with 2 Axes>",
      "image/png": "[encoded data removed]"
     },
     "metadata": {
      "image/png": {
       "width": 635,
       "height": 275
      },
      "needs_background": "light"
     },
     "output_type": "display_data"
    }
   ],
   "source": [
    "fig, axes = plt.subplots(ncols=2,figsize=(10, 4))\n",
    "DEFAULT_COLOR = '#49a2b9'\n",
    "MATCHING_COLOR = 'red'\n",
    "\n",
    "# Relevant tweets\n",
    "\n",
    "rel_colors = []\n",
    "for word in rel_words:\n",
    "    if word in words_in_both:\n",
    "        rel_colors.append(MATCHING_COLOR)\n",
    "    else:\n",
    "        rel_colors.append(DEFAULT_COLOR)\n",
    "\n",
    "axes[0].barh(rel_words, rel_counts, height=.66, color=rel_colors)\n",
    "axes[0].set_title('Most common words in relevant tweets')\n",
    "axes[0].set_xlabel('Word Count')\n",
    "axes[0].tick_params(axis='both', labelsize=8)\n",
    "\n",
    "axes[0].spines['right'].set_visible(False)\n",
    "axes[0].spines['top'].set_visible(False)\n",
    "\n",
    "# Irrelevant tweets\n",
    "\n",
    "irrel_colors = []\n",
    "for word in irrel_words:\n",
    "    if word in words_in_both:\n",
    "        irrel_colors.append(MATCHING_COLOR)\n",
    "    else:\n",
    "        irrel_colors.append(DEFAULT_COLOR)\n",
    "\n",
    "axes[1].barh(irrel_words, irrel_counts, height=.66, color=irrel_colors)\n",
    "axes[1].set_title('Most common words in irrelevant tweets')\n",
    "axes[1].set_xlabel('Word Count')\n",
    "axes[1].tick_params(axis='both', labelsize=8)\n",
    "\n",
    "axes[1].spines['right'].set_visible(False)\n",
    "axes[1].spines['top'].set_visible(False)\n",
    "\n",
    "plt.show()"
   ],
   "metadata": {
    "collapsed": false,
    "pycharm": {
     "name": "#%%\n"
    }
   }
  },
  {
   "cell_type": "code",
   "execution_count": 179,
   "outputs": [],
   "source": [],
   "metadata": {
    "collapsed": false,
    "pycharm": {
     "name": "#%%\n"
    }
   }
  }
 ],
 "metadata": {
  "kernelspec": {
   "display_name": "Python 3",
   "language": "python",
   "name": "python3"
  },
  "language_info": {
   "codemirror_mode": {
    "name": "ipython",
    "version": 2
   },
   "file_extension": ".py",
   "mimetype": "text/x-python",
   "name": "python",
   "nbconvert_exporter": "python",
   "pygments_lexer": "ipython2",
   "version": "2.7.6"
  }
 },
 "nbformat": 4,
 "nbformat_minor": 0
}