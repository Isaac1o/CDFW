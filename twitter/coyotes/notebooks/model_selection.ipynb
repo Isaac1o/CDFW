{
 "cells": [
  {
   "cell_type": "code",
   "execution_count": 1,
   "metadata": {
    "collapsed": true
   },
   "outputs": [],
   "source": [
    "import pandas as pd\n",
    "import numpy as np\n",
    "from sklearn.naive_bayes import MultinomialNB\n",
    "from sklearn.naive_bayes import ComplementNB\n",
    "from sklearn.svm import SVC\n",
    "from sklearn.model_selection import train_test_split\n",
    "from sklearn.feature_extraction.text import CountVectorizer\n",
    "from utility.get_twitter import *\n",
    "from sklearn.model_selection import GridSearchCV\n",
    "from sklearn.pipeline import Pipeline\n",
    "from sklearn.metrics import log_loss, make_scorer\n",
    "from utility.text_normalizer import *\n",
    "from sklearn.metrics import confusion_matrix\n",
    "from sklearn.metrics import classification_report\n",
    "import seaborn as sns\n",
    "from sklearn.feature_extraction.text import TfidfVectorizer"
   ]
  },
  {
   "cell_type": "code",
   "execution_count": 2,
   "metadata": {
    "pycharm": {
     "name": "#%%\n"
    }
   },
   "outputs": [
    {
     "data": {
      "text/plain": "       tweet_id                                              tweet  revelant  \\\n0  1.455952e+14  @OnlineAlison Several comments later… “I feed ...       1.0   \n1  1.455952e+14  @johnlevenstein If we hadn’t defunded police t...       0.0   \n2  1.455933e+14   @TheOGpianoGeek That her COYOTE dues are late...       0.0   \n3  1.455932e+14  Hey Coyotes! There is a virtual PFC meeting ne...       0.0   \n4  1.455930e+14  @DunkaPeacecraft The Dems have been in power f...       0.0   \n\n   sighting  lost_pet  coyote_death  eating  pet_coyote_interaction  traffic  \\\n0       0.0       0.0           0.0     0.0                     0.0      0.0   \n1       0.0       0.0           0.0     0.0                     0.0      0.0   \n2       0.0       0.0           0.0     0.0                     0.0      0.0   \n3       0.0       0.0           0.0     0.0                     0.0      0.0   \n4       0.0       0.0           0.0     0.0                     0.0      0.0   \n\n   howling  \n0      0.0  \n1      0.0  \n2      0.0  \n3      0.0  \n4      0.0  ",
      "text/html": "<div>\n<style scoped>\n    .dataframe tbody tr th:only-of-type {\n        vertical-align: middle;\n    }\n\n    .dataframe tbody tr th {\n        vertical-align: top;\n    }\n\n    .dataframe thead th {\n        text-align: right;\n    }\n</style>\n<table border=\"1\" class=\"dataframe\">\n  <thead>\n    <tr style=\"text-align: right;\">\n      <th></th>\n      <th>tweet_id</th>\n      <th>tweet</th>\n      <th>revelant</th>\n      <th>sighting</th>\n      <th>lost_pet</th>\n      <th>coyote_death</th>\n      <th>eating</th>\n      <th>pet_coyote_interaction</th>\n      <th>traffic</th>\n      <th>howling</th>\n    </tr>\n  </thead>\n  <tbody>\n    <tr>\n      <th>0</th>\n      <td>1.455952e+14</td>\n      <td>@OnlineAlison Several comments later… “I feed ...</td>\n      <td>1.0</td>\n      <td>0.0</td>\n      <td>0.0</td>\n      <td>0.0</td>\n      <td>0.0</td>\n      <td>0.0</td>\n      <td>0.0</td>\n      <td>0.0</td>\n    </tr>\n    <tr>\n      <th>1</th>\n      <td>1.455952e+14</td>\n      <td>@johnlevenstein If we hadn’t defunded police t...</td>\n      <td>0.0</td>\n      <td>0.0</td>\n      <td>0.0</td>\n      <td>0.0</td>\n      <td>0.0</td>\n      <td>0.0</td>\n      <td>0.0</td>\n      <td>0.0</td>\n    </tr>\n    <tr>\n      <th>2</th>\n      <td>1.455933e+14</td>\n      <td>@TheOGpianoGeek That her COYOTE dues are late...</td>\n      <td>0.0</td>\n      <td>0.0</td>\n      <td>0.0</td>\n      <td>0.0</td>\n      <td>0.0</td>\n      <td>0.0</td>\n      <td>0.0</td>\n      <td>0.0</td>\n    </tr>\n    <tr>\n      <th>3</th>\n      <td>1.455932e+14</td>\n      <td>Hey Coyotes! There is a virtual PFC meeting ne...</td>\n      <td>0.0</td>\n      <td>0.0</td>\n      <td>0.0</td>\n      <td>0.0</td>\n      <td>0.0</td>\n      <td>0.0</td>\n      <td>0.0</td>\n      <td>0.0</td>\n    </tr>\n    <tr>\n      <th>4</th>\n      <td>1.455930e+14</td>\n      <td>@DunkaPeacecraft The Dems have been in power f...</td>\n      <td>0.0</td>\n      <td>0.0</td>\n      <td>0.0</td>\n      <td>0.0</td>\n      <td>0.0</td>\n      <td>0.0</td>\n      <td>0.0</td>\n      <td>0.0</td>\n    </tr>\n  </tbody>\n</table>\n</div>"
     },
     "execution_count": 2,
     "metadata": {},
     "output_type": "execute_result"
    }
   ],
   "source": [
    "data = pd.read_csv('../data/tagged_tweets.csv')\n",
    "data.head()"
   ]
  },
  {
   "cell_type": "code",
   "execution_count": 3,
   "metadata": {
    "pycharm": {
     "name": "#%%\n"
    }
   },
   "outputs": [],
   "source": [
    "X = data['tweet']\n",
    "y = data['revelant']"
   ]
  },
  {
   "cell_type": "code",
   "execution_count": 4,
   "outputs": [
    {
     "data": {
      "text/plain": "(105,)"
     },
     "execution_count": 4,
     "metadata": {},
     "output_type": "execute_result"
    }
   ],
   "source": [
    "y[y==1].shape"
   ],
   "metadata": {
    "collapsed": false,
    "pycharm": {
     "name": "#%%\n"
    }
   }
  },
  {
   "cell_type": "markdown",
   "metadata": {
    "pycharm": {
     "name": "#%% md\n"
    }
   },
   "source": [
    "# Split data into train, validation, test"
   ]
  },
  {
   "cell_type": "code",
   "execution_count": 5,
   "metadata": {
    "pycharm": {
     "name": "#%%\n"
    }
   },
   "outputs": [
    {
     "data": {
      "text/plain": "((316,), (106,), (316,), (106,))"
     },
     "execution_count": 5,
     "metadata": {},
     "output_type": "execute_result"
    }
   ],
   "source": [
    "X_train, X_val_test, y_train, y_val_test = train_test_split(X, y, test_size=.25)\n",
    "X_train.shape, X_val_test.shape, y_train.shape, y_val_test.shape"
   ]
  },
  {
   "cell_type": "markdown",
   "metadata": {
    "pycharm": {
     "name": "#%% md\n"
    }
   },
   "source": [
    "### Split val_test into validation and test"
   ]
  },
  {
   "cell_type": "code",
   "execution_count": 6,
   "metadata": {
    "pycharm": {
     "name": "#%%\n"
    }
   },
   "outputs": [
    {
     "data": {
      "text/plain": "((53,), (53,), (53,), (53,))"
     },
     "execution_count": 6,
     "metadata": {},
     "output_type": "execute_result"
    }
   ],
   "source": [
    "X_val, X_test, y_val, y_test = train_test_split(X_val_test, y_val_test, test_size=.5)\n",
    "X_val.shape, y_val.shape, X_test.shape, y_test.shape"
   ]
  },
  {
   "cell_type": "code",
   "execution_count": 7,
   "outputs": [
    {
     "name": "stdout",
     "output_type": "stream",
     "text": [
      "(316,) (316,) (53,) (53,) (53,) (53,)\n"
     ]
    }
   ],
   "source": [
    "print(X_train.shape, y_train.shape, X_val.shape, y_val.shape, X_test.shape, y_test.shape)"
   ],
   "metadata": {
    "collapsed": false,
    "pycharm": {
     "name": "#%%\n"
    }
   }
  },
  {
   "cell_type": "markdown",
   "source": [
    "# Make Scorer for CV"
   ],
   "metadata": {
    "collapsed": false,
    "pycharm": {
     "name": "#%% md\n"
    }
   }
  },
  {
   "cell_type": "code",
   "execution_count": 8,
   "outputs": [],
   "source": [
    "LogLoss = make_scorer(log_loss, greater_is_better=False, needs_proba=True)"
   ],
   "metadata": {
    "collapsed": false,
    "pycharm": {
     "name": "#%%\n"
    }
   }
  },
  {
   "cell_type": "markdown",
   "metadata": {
    "pycharm": {
     "name": "#%% md\n"
    }
   },
   "source": [
    "# Model 1: CountVectorizer() -> NBmodel"
   ]
  },
  {
   "cell_type": "code",
   "execution_count": 9,
   "metadata": {
    "pycharm": {
     "name": "#%%\n"
    }
   },
   "outputs": [],
   "source": [
    "count_vec = CountVectorizer()\n",
    "nb = MultinomialNB()\n",
    "pipeline = Pipeline(steps=[('wordcount', count_vec), ('bayes', nb)])"
   ]
  },
  {
   "cell_type": "code",
   "execution_count": 10,
   "metadata": {
    "pycharm": {
     "name": "#%%\n"
    }
   },
   "outputs": [],
   "source": [
    "params = {\n",
    "    'wordcount__preprocessor': [tweet_preprocessor],\n",
    "    'wordcount__ngram_range': [(1,2), (1,1)],\n",
    "    'wordcount__stop_words': ['english', None],\n",
    "    'wordcount__lowercase': [True, False],\n",
    "    'wordcount__strip_accents': ['ascii'],\n",
    "    'wordcount__min_df': [0, 1, 2],\n",
    "    'bayes__alpha': [0, 1, 2],\n",
    "}"
   ]
  },
  {
   "cell_type": "code",
   "execution_count": 13,
   "metadata": {
    "pycharm": {
     "name": "#%%\n"
    }
   },
   "outputs": [],
   "source": [
    "wc_nb = GridSearchCV(pipeline, param_grid=params, n_jobs=-1, cv=3, scoring=LogLoss, verbose=50)"
   ]
  },
  {
   "cell_type": "code",
   "execution_count": 14,
   "metadata": {
    "pycharm": {
     "name": "#%%\n"
    }
   },
   "outputs": [
    {
     "name": "stdout",
     "output_type": "stream",
     "text": [
      "Fitting 3 folds for each of 72 candidates, totalling 216 fits\n"
     ]
    },
    {
     "name": "stderr",
     "output_type": "stream",
     "text": [
      "/Users/Isaacbolo/opt/anaconda3/lib/python3.8/site-packages/sklearn/feature_extraction/text.py:388: UserWarning: Your stop_words may be inconsistent with your preprocessing. Tokenizing the stop words generated tokens ['ca', 'far', 'make', 'nt'] not in stop_words.\n",
      "  warnings.warn('Your stop_words may be inconsistent with '\n"
     ]
    },
    {
     "name": "stdout",
     "output_type": "stream",
     "text": [
      "CPU times: user 3.71 s, sys: 204 ms, total: 3.91 s\n",
      "Wall time: 2min 25s\n"
     ]
    },
    {
     "data": {
      "text/plain": "GridSearchCV(cv=3,\n             estimator=Pipeline(steps=[('wordcount', CountVectorizer()),\n                                       ('bayes', MultinomialNB())]),\n             n_jobs=-1,\n             param_grid={'bayes__alpha': [0, 1, 2],\n                         'wordcount__lowercase': [True, False],\n                         'wordcount__min_df': [0, 1, 2],\n                         'wordcount__ngram_range': [(1, 2), (1, 1)],\n                         'wordcount__preprocessor': [<function tweet_preprocessor at 0x7fbcabb95310>],\n                         'wordcount__stop_words': ['english', None],\n                         'wordcount__strip_accents': ['ascii']},\n             scoring=make_scorer(log_loss, greater_is_better=False, needs_proba=True),\n             verbose=50)"
     },
     "execution_count": 14,
     "metadata": {},
     "output_type": "execute_result"
    }
   ],
   "source": [
    "%%time\n",
    "wc_nb.fit(X_train, y_train)"
   ]
  },
  {
   "cell_type": "code",
   "execution_count": 15,
   "metadata": {
    "pycharm": {
     "name": "#%%\n"
    }
   },
   "outputs": [
    {
     "data": {
      "text/plain": "-0.4610172370846799"
     },
     "execution_count": 15,
     "metadata": {},
     "output_type": "execute_result"
    }
   ],
   "source": [
    "wc_nb.best_score_"
   ]
  },
  {
   "cell_type": "code",
   "execution_count": 16,
   "outputs": [
    {
     "data": {
      "text/plain": "{'bayes__alpha': 2,\n 'wordcount__lowercase': True,\n 'wordcount__min_df': 2,\n 'wordcount__ngram_range': (1, 1),\n 'wordcount__preprocessor': <function utility.text_normalizer.tweet_preprocessor(tweet: str) -> str>,\n 'wordcount__stop_words': 'english',\n 'wordcount__strip_accents': 'ascii'}"
     },
     "execution_count": 16,
     "metadata": {},
     "output_type": "execute_result"
    }
   ],
   "source": [
    "wc_nb.best_params_"
   ],
   "metadata": {
    "collapsed": false,
    "pycharm": {
     "name": "#%%\n"
    }
   }
  },
  {
   "cell_type": "markdown",
   "metadata": {
    "pycharm": {
     "name": "#%% md\n"
    }
   },
   "source": [
    "## Metrics"
   ]
  },
  {
   "cell_type": "code",
   "execution_count": 17,
   "metadata": {
    "pycharm": {
     "name": "#%%\n"
    }
   },
   "outputs": [],
   "source": [
    "def print_scores(model, y_true, X_val):\n",
    "    y_hat = model.predict_proba(X_val)[:,1]\n",
    "    y_pred = model.predict(X_val)\n",
    "    print(classification_report(y_true, y_pred, target_names=['irrelevant', 'relevant']))\n",
    "    print(f'Log Loss: {log_loss(y_true, y_hat):.2f}')\n",
    "    sns.heatmap(confusion_matrix(y_true, y_pred).T, square=True, annot=True, fmt='d')"
   ]
  },
  {
   "cell_type": "code",
   "execution_count": 18,
   "metadata": {
    "pycharm": {
     "name": "#%%\n"
    }
   },
   "outputs": [
    {
     "name": "stdout",
     "output_type": "stream",
     "text": [
      "              precision    recall  f1-score   support\n",
      "\n",
      "  irrelevant       0.93      0.88      0.90        42\n",
      "    relevant       0.62      0.73      0.67        11\n",
      "\n",
      "    accuracy                           0.85        53\n",
      "   macro avg       0.77      0.80      0.78        53\n",
      "weighted avg       0.86      0.85      0.85        53\n",
      "\n",
      "Log Loss: 0.45\n"
     ]
    },
    {
     "data": {
      "text/plain": "<Figure size 432x288 with 2 Axes>",
      "image/png": "[encoded data removed]"
     },
     "metadata": {
      "needs_background": "light"
     },
     "output_type": "display_data"
    }
   ],
   "source": [
    "print_scores(wc_nb,y_val, X_val)"
   ]
  },
  {
   "cell_type": "markdown",
   "metadata": {
    "pycharm": {
     "name": "#%% md\n"
    }
   },
   "source": [
    "# Model 2: tfifd -> NBmodel"
   ]
  },
  {
   "cell_type": "code",
   "execution_count": 99,
   "metadata": {
    "pycharm": {
     "name": "#%%\n"
    }
   },
   "outputs": [
    {
     "data": {
      "text/plain": "dict_keys(['memory', 'steps', 'verbose', 'tfidf', 'nbc', 'tfidf__analyzer', 'tfidf__binary', 'tfidf__decode_error', 'tfidf__dtype', 'tfidf__encoding', 'tfidf__input', 'tfidf__lowercase', 'tfidf__max_df', 'tfidf__max_features', 'tfidf__min_df', 'tfidf__ngram_range', 'tfidf__norm', 'tfidf__preprocessor', 'tfidf__smooth_idf', 'tfidf__stop_words', 'tfidf__strip_accents', 'tfidf__sublinear_tf', 'tfidf__token_pattern', 'tfidf__tokenizer', 'tfidf__use_idf', 'tfidf__vocabulary', 'nbc__alpha', 'nbc__class_prior', 'nbc__fit_prior'])"
     },
     "execution_count": 99,
     "metadata": {},
     "output_type": "execute_result"
    }
   ],
   "source": [
    "tfidf = TfidfVectorizer(preprocessor=tweet_preprocessor, smooth_idf=True)\n",
    "nbc = MultinomialNB()\n",
    "model2_pipeline = Pipeline([('tfidf', tfidf), ('nbc', nbc)])\n",
    "model2_pipeline.get_params().keys()"
   ]
  },
  {
   "cell_type": "code",
   "execution_count": 100,
   "metadata": {
    "pycharm": {
     "name": "#%%\n"
    }
   },
   "outputs": [],
   "source": [
    "model2_params = {\n",
    "    'tfidf__ngram_range': [(1,1), (1,2)],\n",
    "    'tfidf__max_df': [1,2],\n",
    "    'tfidf__min_df': [1,2],\n",
    "    'tfidf__lowercase': [True, False],\n",
    "    'tfidf__stop_words': ['english', None],\n",
    "    'nbc__alpha': [0.1, 1]\n",
    "}"
   ]
  },
  {
   "cell_type": "code",
   "execution_count": 101,
   "metadata": {
    "pycharm": {
     "name": "#%%\n"
    }
   },
   "outputs": [],
   "source": [
    "tfidf_nbc = GridSearchCV(model2_pipeline, param_grid=model2_params, n_jobs=-1, verbose=3, cv=3, scoring=LogLoss)"
   ]
  },
  {
   "cell_type": "code",
   "execution_count": 102,
   "metadata": {
    "pycharm": {
     "name": "#%%\n"
    }
   },
   "outputs": [
    {
     "name": "stdout",
     "output_type": "stream",
     "text": [
      "Fitting 3 folds for each of 64 candidates, totalling 192 fits\n"
     ]
    },
    {
     "name": "stderr",
     "output_type": "stream",
     "text": [
      "/Users/Isaacbolo/opt/anaconda3/lib/python3.8/site-packages/sklearn/model_selection/_search.py:918: UserWarning: One or more of the test scores are non-finite: [-0.5523577  -0.54706108 -0.53765617 -0.52030903         nan         nan\n",
      "         nan         nan -0.48286533 -0.47414087 -0.48250966 -0.46261489\n",
      " -0.53714925 -0.53949739 -0.53701194 -0.52856137 -0.5523577  -0.54706108\n",
      " -0.53765617 -0.52030903         nan         nan         nan         nan\n",
      " -0.48286533 -0.47414087 -0.48250966 -0.46261489 -0.53714925 -0.53949739\n",
      " -0.53701194 -0.52856137 -0.54541984 -0.54392239 -0.55286527 -0.55058439\n",
      "         nan         nan         nan         nan -0.52107169 -0.51631301\n",
      " -0.53549894 -0.53371891 -0.52687303 -0.5218246  -0.52726574 -0.51926244\n",
      " -0.54541984 -0.54392239 -0.55286527 -0.55058439         nan         nan\n",
      "         nan         nan -0.52107169 -0.51631301 -0.53549894 -0.53371891\n",
      " -0.52687303 -0.5218246  -0.52726574 -0.51926244]\n",
      "  warnings.warn(\n"
     ]
    },
    {
     "data": {
      "text/plain": "GridSearchCV(cv=3,\n             estimator=Pipeline(steps=[('tfidf',\n                                        TfidfVectorizer(preprocessor=<function tweet_preprocessor at 0x7f8a88b64040>,\n                                                        stop_words='english')),\n                                       ('nbc', MultinomialNB())]),\n             n_jobs=-1,\n             param_grid={'nbc__alpha': [0.1, 1],\n                         'tfidf__lowercase': [True, False],\n                         'tfidf__max_df': [1, 2], 'tfidf__min_df': [1, 2],\n                         'tfidf__ngram_range': [(1, 1), (1, 2)],\n                         'tfidf__stop_words': ['english', None]},\n             scoring=make_scorer(log_loss, greater_is_better=False, needs_proba=True),\n             verbose=3)"
     },
     "execution_count": 102,
     "metadata": {},
     "output_type": "execute_result"
    }
   ],
   "source": [
    "tfidf_nbc.fit(X_train, y_train)"
   ]
  },
  {
   "cell_type": "code",
   "execution_count": 103,
   "metadata": {
    "pycharm": {
     "name": "#%%\n"
    }
   },
   "outputs": [
    {
     "data": {
      "text/plain": "Pipeline(steps=[('tfidf',\n                 TfidfVectorizer(max_df=2, ngram_range=(1, 2),\n                                 preprocessor=<function tweet_preprocessor at 0x7f8a88b64040>)),\n                ('nbc', MultinomialNB(alpha=0.1))])"
     },
     "execution_count": 103,
     "metadata": {},
     "output_type": "execute_result"
    }
   ],
   "source": [
    "tfidf_nbc.best_estimator_"
   ]
  },
  {
   "cell_type": "code",
   "execution_count": 104,
   "outputs": [
    {
     "name": "stdout",
     "output_type": "stream",
     "text": [
      "              precision    recall  f1-score   support\n",
      "\n",
      "  irrelevant       0.93      0.87      0.90        45\n",
      "    relevant       0.45      0.62      0.53         8\n",
      "\n",
      "    accuracy                           0.83        53\n",
      "   macro avg       0.69      0.75      0.71        53\n",
      "weighted avg       0.86      0.83      0.84        53\n",
      "\n",
      "Log Loss: 0.48\n"
     ]
    },
    {
     "data": {
      "text/plain": "<Figure size 432x288 with 2 Axes>",
      "image/png": "[encoded data removed]"
     },
     "metadata": {
      "needs_background": "light"
     },
     "output_type": "display_data"
    }
   ],
   "source": [
    "print_scores(tfidf_nbc, y_val, X_val)"
   ],
   "metadata": {
    "collapsed": false,
    "pycharm": {
     "name": "#%%\n"
    }
   }
  },
  {
   "cell_type": "markdown",
   "source": [
    "# Model 3: CountVectorizer -> ComplementNB"
   ],
   "metadata": {
    "collapsed": false,
    "pycharm": {
     "name": "#%% md\n"
    }
   }
  },
  {
   "cell_type": "code",
   "execution_count": 19,
   "outputs": [],
   "source": [
    "count_vec = CountVectorizer(preprocessor=tweet_preprocessor, input='content', decode_error='ignore', stop_words='english', lowercase=True, strip_accents='ascii')\n",
    "cnb = ComplementNB()\n",
    "model3_pipeline = Pipeline(steps=[('wordcount', count_vec), ('bayes', cnb)])"
   ],
   "metadata": {
    "collapsed": false,
    "pycharm": {
     "name": "#%%\n"
    }
   }
  },
  {
   "cell_type": "code",
   "execution_count": 20,
   "outputs": [],
   "source": [
    "params = {\n",
    "    'wordcount__ngram_range': [(1,2), (1,1), (2,2)],\n",
    "    'wordcount__min_df': [0, 1, 2, 3],\n",
    "    'wordcount__stop_words': ['english', None],\n",
    "    'wordcount__lowercase': [True, False],\n",
    "    'bayes__alpha': [0.1, 0.01, 1, 2],\n",
    "    'memory': ['wordcount']\n",
    "}"
   ],
   "metadata": {
    "collapsed": false,
    "pycharm": {
     "name": "#%%\n"
    }
   }
  },
  {
   "cell_type": "code",
   "execution_count": 21,
   "outputs": [],
   "source": [
    "model3_search = GridSearchCV(model3_pipeline, param_grid=params, n_jobs=-1, verbose=3)"
   ],
   "metadata": {
    "collapsed": false,
    "pycharm": {
     "name": "#%%\n"
    }
   }
  },
  {
   "cell_type": "code",
   "execution_count": 22,
   "outputs": [
    {
     "name": "stdout",
     "output_type": "stream",
     "text": [
      "Fitting 5 folds for each of 48 candidates, totalling 240 fits\n"
     ]
    },
    {
     "data": {
      "text/plain": "GridSearchCV(estimator=Pipeline(steps=[('wordcount',\n                                        CountVectorizer(decode_error='ignore',\n                                                        preprocessor=<function tweet_preprocessor at 0x7f9a0869db80>,\n                                                        stop_words='english',\n                                                        strip_accents='ascii')),\n                                       ('bayes', ComplementNB())]),\n             n_jobs=-1,\n             param_grid={'bayes__alpha': [0.1, 0.01, 1, 2],\n                         'memory': ['wordcount'],\n                         'wordcount__min_df': [0, 1, 2, 3],\n                         'wordcount__ngram_range': [(1, 2), (1, 1), (2, 2)]},\n             verbose=3)"
     },
     "execution_count": 22,
     "metadata": {},
     "output_type": "execute_result"
    }
   ],
   "source": [
    "model3_search.fit(X_train, y_train)"
   ],
   "metadata": {
    "collapsed": false,
    "pycharm": {
     "name": "#%%\n"
    }
   }
  },
  {
   "cell_type": "code",
   "execution_count": 23,
   "outputs": [
    {
     "data": {
      "text/plain": "Pipeline(memory='wordcount',\n         steps=[('wordcount',\n                 CountVectorizer(decode_error='ignore', min_df=2,\n                                 ngram_range=(2, 2),\n                                 preprocessor=<function tweet_preprocessor at 0x7f9a0869db80>,\n                                 stop_words='english', strip_accents='ascii')),\n                ('bayes', ComplementNB(alpha=0.1))])"
     },
     "execution_count": 23,
     "metadata": {},
     "output_type": "execute_result"
    }
   ],
   "source": [
    "model3_search.best_estimator_"
   ],
   "metadata": {
    "collapsed": false,
    "pycharm": {
     "name": "#%%\n"
    }
   }
  },
  {
   "cell_type": "code",
   "execution_count": 24,
   "outputs": [
    {
     "name": "stdout",
     "output_type": "stream",
     "text": [
      "              precision    recall  f1-score   support\n",
      "\n",
      "  irrelevant       0.76      0.97      0.86        40\n",
      "    relevant       0.50      0.08      0.13        13\n",
      "\n",
      "    accuracy                           0.75        53\n",
      "   macro avg       0.63      0.53      0.50        53\n",
      "weighted avg       0.70      0.75      0.68        53\n",
      "\n",
      "Log Loss: 0.63\n"
     ]
    },
    {
     "data": {
      "text/plain": "<Figure size 432x288 with 2 Axes>",
      "image/png": "[encoded data removed]"
     },
     "metadata": {
      "needs_background": "light"
     },
     "output_type": "display_data"
    }
   ],
   "source": [
    "print_scores(model3_search, y_val, X_val)"
   ],
   "metadata": {
    "collapsed": false,
    "pycharm": {
     "name": "#%%\n"
    }
   }
  },
  {
   "cell_type": "markdown",
   "source": [
    "# Model 4: CountVectorizer -> SVG"
   ],
   "metadata": {
    "collapsed": false,
    "pycharm": {
     "name": "#%% md\n"
    }
   }
  },
  {
   "cell_type": "code",
   "execution_count": 105,
   "outputs": [
    {
     "data": {
      "text/plain": "dict_keys(['memory', 'steps', 'verbose', 'count', 'svm', 'count__analyzer', 'count__binary', 'count__decode_error', 'count__dtype', 'count__encoding', 'count__input', 'count__lowercase', 'count__max_df', 'count__max_features', 'count__min_df', 'count__ngram_range', 'count__preprocessor', 'count__stop_words', 'count__strip_accents', 'count__token_pattern', 'count__tokenizer', 'count__vocabulary', 'svm__C', 'svm__break_ties', 'svm__cache_size', 'svm__class_weight', 'svm__coef0', 'svm__decision_function_shape', 'svm__degree', 'svm__gamma', 'svm__kernel', 'svm__max_iter', 'svm__probability', 'svm__random_state', 'svm__shrinking', 'svm__tol', 'svm__verbose'])"
     },
     "execution_count": 105,
     "metadata": {},
     "output_type": "execute_result"
    }
   ],
   "source": [
    "count_vec = CountVectorizer(preprocessor=tweet_preprocessor, input='content', decode_error='ignore', stop_words='english', lowercase=True, strip_accents='ascii')\n",
    "svm = SVC(probability=True)\n",
    "model4_pipeline = Pipeline([('count', count_vec), ('svm', svm)])\n",
    "model4_pipeline.get_params().keys()"
   ],
   "metadata": {
    "collapsed": false,
    "pycharm": {
     "name": "#%%\n"
    }
   }
  },
  {
   "cell_type": "code",
   "execution_count": 106,
   "outputs": [],
   "source": [
    "params = {\n",
    "    'count__ngram_range': [(1,2), (1,1)],\n",
    "    'count__min_df': [0, 1],\n",
    "    'count__stop_words': ['english', None],\n",
    "    'count__lowercase': [True, False],\n",
    "    'svm__kernel': ['linear', 'poly', 'rbf', 'sigmoid'],\n",
    "    'svm__C': [1, 5, 10],\n",
    "    'svm__class_weight': [None, 'balanced'],\n",
    "}"
   ],
   "metadata": {
    "collapsed": false,
    "pycharm": {
     "name": "#%%\n"
    }
   }
  },
  {
   "cell_type": "code",
   "execution_count": 107,
   "outputs": [],
   "source": [
    "model4_search = GridSearchCV(model4_pipeline, param_grid=params, n_jobs=-1, verbose=5, cv=3, scoring=LogLoss)"
   ],
   "metadata": {
    "collapsed": false,
    "pycharm": {
     "name": "#%%\n"
    }
   }
  },
  {
   "cell_type": "code",
   "execution_count": 108,
   "outputs": [
    {
     "name": "stdout",
     "output_type": "stream",
     "text": [
      "Fitting 3 folds for each of 384 candidates, totalling 1152 fits\n",
      "CPU times: user 6.58 s, sys: 428 ms, total: 7.01 s\n",
      "Wall time: 16min 2s\n"
     ]
    },
    {
     "data": {
      "text/plain": "GridSearchCV(cv=3,\n             estimator=Pipeline(steps=[('count',\n                                        CountVectorizer(decode_error='ignore',\n                                                        preprocessor=<function tweet_preprocessor at 0x7f8a88b64040>,\n                                                        stop_words='english',\n                                                        strip_accents='ascii')),\n                                       ('svm', SVC(probability=True))]),\n             n_jobs=-1,\n             param_grid={'count__lowercase': [True, False],\n                         'count__min_df': [0, 1],\n                         'count__ngram_range': [(1, 2), (1, 1)],\n                         'count__stop_words': ['english', None],\n                         'svm__C': [1, 5, 10],\n                         'svm__class_weight': [None, 'balanced'],\n                         'svm__kernel': ['linear', 'poly', 'rbf', 'sigmoid']},\n             scoring=make_scorer(log_loss, greater_is_better=False, needs_proba=True),\n             verbose=5)"
     },
     "execution_count": 108,
     "metadata": {},
     "output_type": "execute_result"
    }
   ],
   "source": [
    "%%time\n",
    "model4_search.fit(X_train, y_train)"
   ],
   "metadata": {
    "collapsed": false,
    "pycharm": {
     "name": "#%%\n"
    }
   }
  },
  {
   "cell_type": "code",
   "execution_count": 109,
   "outputs": [
    {
     "data": {
      "text/plain": "{'count__lowercase': False,\n 'count__min_df': 0,\n 'count__ngram_range': (1, 1),\n 'count__stop_words': 'english',\n 'svm__C': 1,\n 'svm__class_weight': None,\n 'svm__kernel': 'sigmoid'}"
     },
     "execution_count": 109,
     "metadata": {},
     "output_type": "execute_result"
    }
   ],
   "source": [
    "model4_search.best_params_"
   ],
   "metadata": {
    "collapsed": false,
    "pycharm": {
     "name": "#%%\n"
    }
   }
  },
  {
   "cell_type": "code",
   "execution_count": 121,
   "outputs": [
    {
     "data": {
      "text/plain": "-0.39381127486685424"
     },
     "execution_count": 121,
     "metadata": {},
     "output_type": "execute_result"
    }
   ],
   "source": [
    "model4_search.best_score_"
   ],
   "metadata": {
    "collapsed": false,
    "pycharm": {
     "name": "#%%\n"
    }
   }
  },
  {
   "cell_type": "code",
   "execution_count": 110,
   "outputs": [
    {
     "name": "stdout",
     "output_type": "stream",
     "text": [
      "              precision    recall  f1-score   support\n",
      "\n",
      "  irrelevant       0.93      0.93      0.93        45\n",
      "    relevant       0.62      0.62      0.62         8\n",
      "\n",
      "    accuracy                           0.89        53\n",
      "   macro avg       0.78      0.78      0.78        53\n",
      "weighted avg       0.89      0.89      0.89        53\n",
      "\n",
      "Log Loss: 0.39\n"
     ]
    },
    {
     "data": {
      "text/plain": "<Figure size 432x288 with 2 Axes>",
      "image/png": "[encoded data removed]"
     },
     "metadata": {
      "needs_background": "light"
     },
     "output_type": "display_data"
    }
   ],
   "source": [
    "print_scores(model4_search, y_val, X_val)"
   ],
   "metadata": {
    "collapsed": false,
    "pycharm": {
     "name": "#%%\n"
    }
   }
  },
  {
   "cell_type": "code",
   "execution_count": null,
   "outputs": [],
   "source": [],
   "metadata": {
    "collapsed": false,
    "pycharm": {
     "name": "#%%\n"
    }
   }
  },
  {
   "cell_type": "code",
   "execution_count": 111,
   "outputs": [],
   "source": [
    "count_vec = CountVectorizer(preprocessor=tweet_preprocessor, input='content', decode_error='ignore', stop_words='english', lowercase=True, strip_accents='ascii', min_df=0, ngram_range=(1,1))\n",
    "svm = SVC(probability=True, class_weight='balanced', kernel='sigmoid', C=5)\n",
    "svm_pipeline = Pipeline([('count', count_vec), ('svm', svm)])"
   ],
   "metadata": {
    "collapsed": false,
    "pycharm": {
     "name": "#%%\n"
    }
   }
  },
  {
   "cell_type": "code",
   "execution_count": 112,
   "outputs": [
    {
     "data": {
      "text/plain": "Pipeline(steps=[('count',\n                 CountVectorizer(decode_error='ignore', min_df=0,\n                                 preprocessor=<function tweet_preprocessor at 0x7f8a88b64040>,\n                                 stop_words='english', strip_accents='ascii')),\n                ('svm',\n                 SVC(C=5, class_weight='balanced', kernel='sigmoid',\n                     probability=True))])"
     },
     "execution_count": 112,
     "metadata": {},
     "output_type": "execute_result"
    }
   ],
   "source": [
    "svm_pipeline.fit(X_train, y_train)"
   ],
   "metadata": {
    "collapsed": false,
    "pycharm": {
     "name": "#%%\n"
    }
   }
  },
  {
   "cell_type": "code",
   "execution_count": 113,
   "outputs": [
    {
     "name": "stdout",
     "output_type": "stream",
     "text": [
      "              precision    recall  f1-score   support\n",
      "\n",
      "  irrelevant       0.95      0.91      0.93        45\n",
      "    relevant       0.60      0.75      0.67         8\n",
      "\n",
      "    accuracy                           0.89        53\n",
      "   macro avg       0.78      0.83      0.80        53\n",
      "weighted avg       0.90      0.89      0.89        53\n",
      "\n",
      "Log Loss: 0.35\n"
     ]
    },
    {
     "data": {
      "text/plain": "<Figure size 432x288 with 2 Axes>",
      "image/png": "[encoded data removed]"
     },
     "metadata": {
      "needs_background": "light"
     },
     "output_type": "display_data"
    }
   ],
   "source": [
    "print_scores(svm_pipeline, y_val, X_val)"
   ],
   "metadata": {
    "collapsed": false,
    "pycharm": {
     "name": "#%%\n"
    }
   }
  },
  {
   "cell_type": "code",
   "execution_count": 114,
   "outputs": [
    {
     "name": "stdout",
     "output_type": "stream",
     "text": [
      "              precision    recall  f1-score   support\n",
      "\n",
      "  irrelevant       0.95      0.91      0.93        45\n",
      "    relevant       0.60      0.75      0.67         8\n",
      "\n",
      "    accuracy                           0.89        53\n",
      "   macro avg       0.78      0.83      0.80        53\n",
      "weighted avg       0.90      0.89      0.89        53\n",
      "\n",
      "Log Loss: 0.35\n"
     ]
    },
    {
     "data": {
      "text/plain": "<Figure size 432x288 with 2 Axes>",
      "image/png": "[encoded data removed]"
     },
     "metadata": {
      "needs_background": "light"
     },
     "output_type": "display_data"
    }
   ],
   "source": [
    "print_scores(svm_pipeline, y_val, X_val)"
   ],
   "metadata": {
    "collapsed": false,
    "pycharm": {
     "name": "#%%\n"
    }
   }
  },
  {
   "cell_type": "markdown",
   "source": [
    "# Model5: Tfidf -> SVM"
   ],
   "metadata": {
    "collapsed": false,
    "pycharm": {
     "name": "#%% md\n"
    }
   }
  },
  {
   "cell_type": "code",
   "execution_count": 115,
   "outputs": [
    {
     "data": {
      "text/plain": "dict_keys(['memory', 'steps', 'verbose', 'tfidf', 'svm', 'tfidf__analyzer', 'tfidf__binary', 'tfidf__decode_error', 'tfidf__dtype', 'tfidf__encoding', 'tfidf__input', 'tfidf__lowercase', 'tfidf__max_df', 'tfidf__max_features', 'tfidf__min_df', 'tfidf__ngram_range', 'tfidf__norm', 'tfidf__preprocessor', 'tfidf__smooth_idf', 'tfidf__stop_words', 'tfidf__strip_accents', 'tfidf__sublinear_tf', 'tfidf__token_pattern', 'tfidf__tokenizer', 'tfidf__use_idf', 'tfidf__vocabulary', 'svm__C', 'svm__break_ties', 'svm__cache_size', 'svm__class_weight', 'svm__coef0', 'svm__decision_function_shape', 'svm__degree', 'svm__gamma', 'svm__kernel', 'svm__max_iter', 'svm__probability', 'svm__random_state', 'svm__shrinking', 'svm__tol', 'svm__verbose'])"
     },
     "execution_count": 115,
     "metadata": {},
     "output_type": "execute_result"
    }
   ],
   "source": [
    "tfidf = TfidfVectorizer(preprocessor=tweet_preprocessor, smooth_idf=True, stop_words='english', lowercase=True)\n",
    "svm = SVC(probability=True, class_weight='balanced')\n",
    "model5_pipeline = Pipeline([('tfidf', tfidf), ('svm', svm)])\n",
    "model5_pipeline.get_params().keys()"
   ],
   "metadata": {
    "collapsed": false,
    "pycharm": {
     "name": "#%%\n"
    }
   }
  },
  {
   "cell_type": "code",
   "execution_count": 116,
   "outputs": [],
   "source": [
    "params = {\n",
    "    'tfidf__ngram_range': [(1,2), (1,1)],\n",
    "    'tfidf__min_df': [0, 1],\n",
    "    'tfidf__stop_words': ['english', None],\n",
    "    'tfidf__lowercase': [True, False],\n",
    "    'svm__kernel': ['linear', 'poly', 'rbf', 'sigmoid'],\n",
    "    'svm__C': [1, 5, 10],\n",
    "}"
   ],
   "metadata": {
    "collapsed": false,
    "pycharm": {
     "name": "#%%\n"
    }
   }
  },
  {
   "cell_type": "code",
   "execution_count": 117,
   "outputs": [
    {
     "name": "stdout",
     "output_type": "stream",
     "text": [
      "Fitting 5 folds for each of 192 candidates, totalling 960 fits\n"
     ]
    },
    {
     "data": {
      "text/plain": "GridSearchCV(estimator=Pipeline(steps=[('tfidf',\n                                        TfidfVectorizer(preprocessor=<function tweet_preprocessor at 0x7f8a88b64040>,\n                                                        stop_words='english')),\n                                       ('svm',\n                                        SVC(class_weight='balanced',\n                                            probability=True))]),\n             n_jobs=-1,\n             param_grid={'svm__C': [1, 5, 10],\n                         'svm__kernel': ['linear', 'poly', 'rbf', 'sigmoid'],\n                         'tfidf__lowercase': [True, False],\n                         'tfidf__min_df': [0, 1],\n                         'tfidf__ngram_range': [(1, 2), (1, 1)],\n                         'tfidf__stop_words': ['english', None]},\n             scoring=make_scorer(log_loss, greater_is_better=False, needs_proba=True),\n             verbose=3)"
     },
     "execution_count": 117,
     "metadata": {},
     "output_type": "execute_result"
    }
   ],
   "source": [
    "model5_search = GridSearchCV(model5_pipeline, param_grid=params, n_jobs=-1, verbose=3, scoring=LogLoss)\n",
    "model5_search.fit(X_train, y_train)"
   ],
   "metadata": {
    "collapsed": false,
    "pycharm": {
     "name": "#%%\n"
    }
   }
  },
  {
   "cell_type": "code",
   "execution_count": 118,
   "outputs": [
    {
     "data": {
      "text/plain": "{'svm__C': 5,\n 'svm__kernel': 'linear',\n 'tfidf__lowercase': False,\n 'tfidf__min_df': 1,\n 'tfidf__ngram_range': (1, 1),\n 'tfidf__stop_words': 'english'}"
     },
     "execution_count": 118,
     "metadata": {},
     "output_type": "execute_result"
    }
   ],
   "source": [
    "model5_search.best_params_"
   ],
   "metadata": {
    "collapsed": false,
    "pycharm": {
     "name": "#%%\n"
    }
   }
  },
  {
   "cell_type": "code",
   "execution_count": 120,
   "outputs": [
    {
     "data": {
      "text/plain": "-0.4269014213250146"
     },
     "execution_count": 120,
     "metadata": {},
     "output_type": "execute_result"
    }
   ],
   "source": [
    "model5_search.best_score_"
   ],
   "metadata": {
    "collapsed": false,
    "pycharm": {
     "name": "#%%\n"
    }
   }
  },
  {
   "cell_type": "code",
   "execution_count": 119,
   "outputs": [
    {
     "name": "stdout",
     "output_type": "stream",
     "text": [
      "              precision    recall  f1-score   support\n",
      "\n",
      "  irrelevant       0.95      0.87      0.91        45\n",
      "    relevant       0.50      0.75      0.60         8\n",
      "\n",
      "    accuracy                           0.85        53\n",
      "   macro avg       0.73      0.81      0.75        53\n",
      "weighted avg       0.88      0.85      0.86        53\n",
      "\n",
      "Log Loss: 0.54\n"
     ]
    },
    {
     "data": {
      "text/plain": "<Figure size 432x288 with 2 Axes>",
      "image/png": "[encoded data removed]"
     },
     "metadata": {
      "needs_background": "light"
     },
     "output_type": "display_data"
    }
   ],
   "source": [
    "print_scores(model5_search, y_val, X_val)"
   ],
   "metadata": {
    "collapsed": false,
    "pycharm": {
     "name": "#%%\n"
    }
   }
  },
  {
   "cell_type": "markdown",
   "source": [
    "## Final Model: countVector -> SVG"
   ],
   "metadata": {
    "collapsed": false,
    "pycharm": {
     "name": "#%% md\n"
    }
   }
  },
  {
   "cell_type": "code",
   "execution_count": 36,
   "outputs": [],
   "source": [
    "tfidf = CountVectorizer(preprocessor=tweet_preprocessor, stop_words='english', lowercase=True, min_df=0, ngram_range=(1,1))\n",
    "svm = SVC(probability=True, class_weight='balanced', C=1, kernel='sigmoid')\n",
    "final_svg = Pipeline([('tfidf', tfidf), ('svm', svm)])"
   ],
   "metadata": {
    "collapsed": false,
    "pycharm": {
     "name": "#%%\n"
    }
   }
  },
  {
   "cell_type": "code",
   "execution_count": 37,
   "outputs": [],
   "source": [
    "# {'count__lowercase': False,\n",
    "#  'count__min_df': 0,\n",
    "#  'count__ngram_range': (1, 1),\n",
    "#  'count__stop_words': 'english',\n",
    "#  'svm__C': 1,\n",
    "#  'svm__class_weight': None,\n",
    "#  'svm__kernel': 'sigmoid'}"
   ],
   "metadata": {
    "collapsed": false,
    "pycharm": {
     "name": "#%%\n"
    }
   }
  },
  {
   "cell_type": "code",
   "execution_count": 38,
   "outputs": [
    {
     "name": "stderr",
     "output_type": "stream",
     "text": [
      "/Users/Isaacbolo/opt/anaconda3/lib/python3.8/site-packages/sklearn/feature_extraction/text.py:388: UserWarning: Your stop_words may be inconsistent with your preprocessing. Tokenizing the stop words generated tokens ['ca', 'nt'] not in stop_words.\n",
      "  warnings.warn('Your stop_words may be inconsistent with '\n"
     ]
    },
    {
     "data": {
      "text/plain": "Pipeline(steps=[('tfidf',\n                 CountVectorizer(min_df=0,\n                                 preprocessor=<function tweet_preprocessor at 0x7fdbbacd2040>,\n                                 stop_words='english')),\n                ('svm',\n                 SVC(C=1, class_weight='balanced', kernel='sigmoid',\n                     probability=True))])"
     },
     "execution_count": 38,
     "metadata": {},
     "output_type": "execute_result"
    }
   ],
   "source": [
    "final_svg.fit(X_train, y_train)"
   ],
   "metadata": {
    "collapsed": false,
    "pycharm": {
     "name": "#%%\n"
    }
   }
  },
  {
   "cell_type": "code",
   "execution_count": 39,
   "outputs": [
    {
     "name": "stdout",
     "output_type": "stream",
     "text": [
      "              precision    recall  f1-score   support\n",
      "\n",
      "  irrelevant       0.87      0.81      0.84        42\n",
      "    relevant       0.43      0.55      0.48        11\n",
      "\n",
      "    accuracy                           0.75        53\n",
      "   macro avg       0.65      0.68      0.66        53\n",
      "weighted avg       0.78      0.75      0.76        53\n",
      "\n",
      "Log Loss: 0.48\n"
     ]
    },
    {
     "data": {
      "text/plain": "<Figure size 432x288 with 2 Axes>",
      "image/png": "[encoded data removed]"
     },
     "metadata": {
      "needs_background": "light"
     },
     "output_type": "display_data"
    }
   ],
   "source": [
    "print_scores(final_svg, y_val, X_val)"
   ],
   "metadata": {
    "collapsed": false,
    "pycharm": {
     "name": "#%%\n"
    }
   }
  },
  {
   "cell_type": "code",
   "execution_count": 40,
   "outputs": [
    {
     "name": "stdout",
     "output_type": "stream",
     "text": [
      "              precision    recall  f1-score   support\n",
      "\n",
      "  irrelevant       0.83      0.85      0.84        40\n",
      "    relevant       0.50      0.46      0.48        13\n",
      "\n",
      "    accuracy                           0.75        53\n",
      "   macro avg       0.66      0.66      0.66        53\n",
      "weighted avg       0.75      0.75      0.75        53\n",
      "\n",
      "Log Loss: 0.40\n"
     ]
    },
    {
     "data": {
      "text/plain": "<Figure size 432x288 with 2 Axes>",
      "image/png": "[encoded data removed]"
     },
     "metadata": {
      "needs_background": "light"
     },
     "output_type": "display_data"
    }
   ],
   "source": [
    "print_scores(final_svg, y_test, X_test)"
   ],
   "metadata": {
    "collapsed": false,
    "pycharm": {
     "name": "#%%\n"
    }
   }
  },
  {
   "cell_type": "code",
   "execution_count": null,
   "outputs": [],
   "source": [],
   "metadata": {
    "collapsed": false,
    "pycharm": {
     "name": "#%%\n"
    }
   }
  },
  {
   "cell_type": "markdown",
   "source": [
    "# Final model: MultinomialNB"
   ],
   "metadata": {
    "collapsed": false,
    "pycharm": {
     "name": "#%% md\n"
    }
   }
  },
  {
   "cell_type": "code",
   "execution_count": 19,
   "outputs": [
    {
     "name": "stdout",
     "output_type": "stream",
     "text": [
      "              precision    recall  f1-score   support\n",
      "\n",
      "  irrelevant       0.90      0.95      0.92        38\n",
      "    relevant       0.85      0.73      0.79        15\n",
      "\n",
      "    accuracy                           0.89        53\n",
      "   macro avg       0.87      0.84      0.85        53\n",
      "weighted avg       0.88      0.89      0.88        53\n",
      "\n",
      "Log Loss: 0.34\n"
     ]
    },
    {
     "data": {
      "text/plain": "<Figure size 432x288 with 2 Axes>",
      "image/png": "[encoded data removed]"
     },
     "metadata": {
      "needs_background": "light"
     },
     "output_type": "display_data"
    }
   ],
   "source": [
    "# Score for final model using test set\n",
    "print_scores(wc_nb, y_test, X_test)"
   ],
   "metadata": {
    "collapsed": false,
    "pycharm": {
     "name": "#%%\n"
    }
   }
  },
  {
   "cell_type": "code",
   "execution_count": 20,
   "outputs": [
    {
     "name": "stdout",
     "output_type": "stream",
     "text": [
      "              precision    recall  f1-score   support\n",
      "\n",
      "  irrelevant       0.93      0.88      0.90        42\n",
      "    relevant       0.62      0.73      0.67        11\n",
      "\n",
      "    accuracy                           0.85        53\n",
      "   macro avg       0.77      0.80      0.78        53\n",
      "weighted avg       0.86      0.85      0.85        53\n",
      "\n",
      "Log Loss: 0.45\n"
     ]
    },
    {
     "data": {
      "text/plain": "<Figure size 432x288 with 2 Axes>",
      "image/png": "[encoded data removed]"
     },
     "metadata": {
      "needs_background": "light"
     },
     "output_type": "display_data"
    }
   ],
   "source": [
    "# Compare with validation set\n",
    "print_scores(wc_nb, y_val, X_val)"
   ],
   "metadata": {
    "collapsed": false,
    "pycharm": {
     "name": "#%%\n"
    }
   }
  },
  {
   "cell_type": "markdown",
   "source": [
    "# Save model"
   ],
   "metadata": {
    "collapsed": false,
    "pycharm": {
     "name": "#%% md\n"
    }
   }
  },
  {
   "cell_type": "code",
   "execution_count": 30,
   "outputs": [],
   "source": [
    "# import joblib"
   ],
   "metadata": {
    "collapsed": false,
    "pycharm": {
     "name": "#%%\n"
    }
   }
  },
  {
   "cell_type": "code",
   "execution_count": 31,
   "outputs": [],
   "source": [
    "# with open('../bayes_model/best_bayes_pipeline.pkl', 'wb') as f:\n",
    "#     joblib.dump(wc_nb, f)"
   ],
   "metadata": {
    "collapsed": false,
    "pycharm": {
     "name": "#%%\n"
    }
   }
  },
  {
   "cell_type": "code",
   "execution_count": null,
   "outputs": [],
   "source": [],
   "metadata": {
    "collapsed": false,
    "pycharm": {
     "name": "#%%\n"
    }
   }
  },
  {
   "cell_type": "code",
   "execution_count": null,
   "outputs": [],
   "source": [],
   "metadata": {
    "collapsed": false,
    "pycharm": {
     "name": "#%%\n"
    }
   }
  }
 ],
 "metadata": {
  "kernelspec": {
   "display_name": "Python 3",
   "language": "python",
   "name": "python3"
  },
  "language_info": {
   "codemirror_mode": {
    "name": "ipython",
    "version": 3
   },
   "file_extension": ".py",
   "mimetype": "text/x-python",
   "name": "python",
   "nbconvert_exporter": "python",
   "pygments_lexer": "ipython3",
   "version": "3.8.8"
  }
 },
 "nbformat": 4,
 "nbformat_minor": 1
}