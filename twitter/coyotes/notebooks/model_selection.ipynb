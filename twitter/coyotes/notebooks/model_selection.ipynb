{
 "cells": [
  {
   "cell_type": "code",
   "execution_count": 1,
   "metadata": {
    "collapsed": true
   },
   "outputs": [],
   "source": [
    "import pandas as pd\n",
    "import numpy as np\n",
    "from sklearn.naive_bayes import MultinomialNB\n",
    "from sklearn.naive_bayes import ComplementNB\n",
    "from sklearn.svm import SVC\n",
    "from sklearn.model_selection import train_test_split\n",
    "from sklearn.feature_extraction.text import CountVectorizer\n",
    "from utility.get_twitter import *\n",
    "from sklearn.model_selection import GridSearchCV\n",
    "from sklearn.pipeline import Pipeline\n",
    "from sklearn.metrics import log_loss\n",
    "from utility.text_normalizer import *\n",
    "from sklearn.metrics import confusion_matrix\n",
    "from sklearn.metrics import classification_report\n",
    "import seaborn as sns\n",
    "from sklearn.feature_extraction.text import TfidfVectorizer"
   ]
  },
  {
   "cell_type": "code",
   "execution_count": 2,
   "metadata": {
    "pycharm": {
     "name": "#%%\n"
    }
   },
   "outputs": [
    {
     "data": {
      "text/plain": "       tweet_id                                              tweet  revelant  \\\n0  1.455952e+14  @OnlineAlison Several comments later… “I feed ...       1.0   \n1  1.455952e+14  @johnlevenstein If we hadn’t defunded police t...       0.0   \n2  1.455933e+14   @TheOGpianoGeek That her COYOTE dues are late...       0.0   \n3  1.455932e+14  Hey Coyotes! There is a virtual PFC meeting ne...       0.0   \n4  1.455930e+14  @DunkaPeacecraft The Dems have been in power f...       0.0   \n\n   sighting  lost_pet  coyote_death  eating  pet_coyote_interaction  traffic  \\\n0       0.0       0.0           0.0     0.0                     0.0      0.0   \n1       0.0       0.0           0.0     0.0                     0.0      0.0   \n2       0.0       0.0           0.0     0.0                     0.0      0.0   \n3       0.0       0.0           0.0     0.0                     0.0      0.0   \n4       0.0       0.0           0.0     0.0                     0.0      0.0   \n\n   howling  \n0      0.0  \n1      0.0  \n2      0.0  \n3      0.0  \n4      0.0  ",
      "text/html": "<div>\n<style scoped>\n    .dataframe tbody tr th:only-of-type {\n        vertical-align: middle;\n    }\n\n    .dataframe tbody tr th {\n        vertical-align: top;\n    }\n\n    .dataframe thead th {\n        text-align: right;\n    }\n</style>\n<table border=\"1\" class=\"dataframe\">\n  <thead>\n    <tr style=\"text-align: right;\">\n      <th></th>\n      <th>tweet_id</th>\n      <th>tweet</th>\n      <th>revelant</th>\n      <th>sighting</th>\n      <th>lost_pet</th>\n      <th>coyote_death</th>\n      <th>eating</th>\n      <th>pet_coyote_interaction</th>\n      <th>traffic</th>\n      <th>howling</th>\n    </tr>\n  </thead>\n  <tbody>\n    <tr>\n      <th>0</th>\n      <td>1.455952e+14</td>\n      <td>@OnlineAlison Several comments later… “I feed ...</td>\n      <td>1.0</td>\n      <td>0.0</td>\n      <td>0.0</td>\n      <td>0.0</td>\n      <td>0.0</td>\n      <td>0.0</td>\n      <td>0.0</td>\n      <td>0.0</td>\n    </tr>\n    <tr>\n      <th>1</th>\n      <td>1.455952e+14</td>\n      <td>@johnlevenstein If we hadn’t defunded police t...</td>\n      <td>0.0</td>\n      <td>0.0</td>\n      <td>0.0</td>\n      <td>0.0</td>\n      <td>0.0</td>\n      <td>0.0</td>\n      <td>0.0</td>\n      <td>0.0</td>\n    </tr>\n    <tr>\n      <th>2</th>\n      <td>1.455933e+14</td>\n      <td>@TheOGpianoGeek That her COYOTE dues are late...</td>\n      <td>0.0</td>\n      <td>0.0</td>\n      <td>0.0</td>\n      <td>0.0</td>\n      <td>0.0</td>\n      <td>0.0</td>\n      <td>0.0</td>\n      <td>0.0</td>\n    </tr>\n    <tr>\n      <th>3</th>\n      <td>1.455932e+14</td>\n      <td>Hey Coyotes! There is a virtual PFC meeting ne...</td>\n      <td>0.0</td>\n      <td>0.0</td>\n      <td>0.0</td>\n      <td>0.0</td>\n      <td>0.0</td>\n      <td>0.0</td>\n      <td>0.0</td>\n      <td>0.0</td>\n    </tr>\n    <tr>\n      <th>4</th>\n      <td>1.455930e+14</td>\n      <td>@DunkaPeacecraft The Dems have been in power f...</td>\n      <td>0.0</td>\n      <td>0.0</td>\n      <td>0.0</td>\n      <td>0.0</td>\n      <td>0.0</td>\n      <td>0.0</td>\n      <td>0.0</td>\n      <td>0.0</td>\n    </tr>\n  </tbody>\n</table>\n</div>"
     },
     "execution_count": 2,
     "metadata": {},
     "output_type": "execute_result"
    }
   ],
   "source": [
    "data = pd.read_csv('../data/tagged_tweets.csv')\n",
    "data.head()"
   ]
  },
  {
   "cell_type": "code",
   "execution_count": 3,
   "metadata": {
    "pycharm": {
     "name": "#%%\n"
    }
   },
   "outputs": [],
   "source": [
    "X = data['tweet']\n",
    "y = data['revelant']"
   ]
  },
  {
   "cell_type": "markdown",
   "metadata": {
    "pycharm": {
     "name": "#%% md\n"
    }
   },
   "source": [
    "# Split data into train, validation, test"
   ]
  },
  {
   "cell_type": "code",
   "execution_count": 4,
   "metadata": {
    "pycharm": {
     "name": "#%%\n"
    }
   },
   "outputs": [
    {
     "data": {
      "text/plain": "((316,), (106,), (316,), (106,))"
     },
     "execution_count": 4,
     "metadata": {},
     "output_type": "execute_result"
    }
   ],
   "source": [
    "X_train, X_val_test, y_train, y_val_test = train_test_split(X, y, test_size=.25)\n",
    "X_train.shape, X_val_test.shape, y_train.shape, y_val_test.shape"
   ]
  },
  {
   "cell_type": "markdown",
   "metadata": {
    "pycharm": {
     "name": "#%% md\n"
    }
   },
   "source": [
    "### Split val_test into validation and test"
   ]
  },
  {
   "cell_type": "code",
   "execution_count": 5,
   "metadata": {
    "pycharm": {
     "name": "#%%\n"
    }
   },
   "outputs": [
    {
     "data": {
      "text/plain": "((53,), (53,), (53,), (53,))"
     },
     "execution_count": 5,
     "metadata": {},
     "output_type": "execute_result"
    }
   ],
   "source": [
    "X_val, X_test, y_val, y_test = train_test_split(X_val_test, y_val_test, test_size=.5)\n",
    "X_val.shape, y_val.shape, X_test.shape, y_test.shape"
   ]
  },
  {
   "cell_type": "markdown",
   "metadata": {
    "pycharm": {
     "name": "#%% md\n"
    }
   },
   "source": [
    "# Model 1: CountVectorizer() -> NBmodel"
   ]
  },
  {
   "cell_type": "code",
   "execution_count": 6,
   "metadata": {
    "pycharm": {
     "name": "#%%\n"
    }
   },
   "outputs": [],
   "source": [
    "count_vec = CountVectorizer()\n",
    "nb = MultinomialNB()\n",
    "pipeline = Pipeline(steps=[('wordcount', count_vec), ('bayes', nb)])"
   ]
  },
  {
   "cell_type": "code",
   "execution_count": 7,
   "metadata": {
    "pycharm": {
     "name": "#%%\n"
    }
   },
   "outputs": [],
   "source": [
    "params = {\n",
    "    'wordcount__preprocessor': [tweet_preprocessor],\n",
    "    'wordcount__ngram_range': [(1,2), (1,1), (2,2)],\n",
    "    'wordcount__stop_words': ['english'],\n",
    "    'wordcount__lowercase': [True],\n",
    "    'wordcount__strip_accents': ['ascii'],\n",
    "    'wordcount__min_df': [0, 1, 2],\n",
    "    'bayes__alpha': [0, 1, 2],\n",
    "}"
   ]
  },
  {
   "cell_type": "code",
   "execution_count": 8,
   "metadata": {
    "pycharm": {
     "name": "#%%\n"
    }
   },
   "outputs": [],
   "source": [
    "wc_nb = GridSearchCV(pipeline, param_grid=params, n_jobs=-1)"
   ]
  },
  {
   "cell_type": "code",
   "execution_count": 9,
   "metadata": {
    "pycharm": {
     "name": "#%%\n"
    }
   },
   "outputs": [
    {
     "name": "stdout",
     "output_type": "stream",
     "text": [
      "CPU times: user 3.6 s, sys: 183 ms, total: 3.78 s\n",
      "Wall time: 1min 42s\n"
     ]
    },
    {
     "data": {
      "text/plain": "GridSearchCV(estimator=Pipeline(steps=[('wordcount', CountVectorizer()),\n                                       ('bayes', MultinomialNB())]),\n             n_jobs=-1,\n             param_grid={'bayes__alpha': [0, 1, 2],\n                         'wordcount__lowercase': [True],\n                         'wordcount__min_df': [0, 1, 2],\n                         'wordcount__ngram_range': [(1, 2), (1, 1), (2, 2)],\n                         'wordcount__preprocessor': [<function tweet_preprocessor at 0x7f9a0869db80>],\n                         'wordcount__stop_words': ['english'],\n                         'wordcount__strip_accents': ['ascii']})"
     },
     "execution_count": 9,
     "metadata": {},
     "output_type": "execute_result"
    }
   ],
   "source": [
    "%%time\n",
    "wc_nb.fit(X_train, y_train)"
   ]
  },
  {
   "cell_type": "code",
   "execution_count": 10,
   "metadata": {
    "pycharm": {
     "name": "#%%\n"
    }
   },
   "outputs": [
    {
     "data": {
      "text/plain": "Pipeline(steps=[('wordcount',\n                 CountVectorizer(min_df=2, ngram_range=(1, 2),\n                                 preprocessor=<function tweet_preprocessor at 0x7f9a0869db80>,\n                                 stop_words='english', strip_accents='ascii')),\n                ('bayes', MultinomialNB(alpha=1))])"
     },
     "execution_count": 10,
     "metadata": {},
     "output_type": "execute_result"
    }
   ],
   "source": [
    "wc_nb.best_estimator_"
   ]
  },
  {
   "cell_type": "markdown",
   "metadata": {
    "pycharm": {
     "name": "#%% md\n"
    }
   },
   "source": [
    "## Metrics"
   ]
  },
  {
   "cell_type": "code",
   "execution_count": 11,
   "metadata": {
    "pycharm": {
     "name": "#%%\n"
    }
   },
   "outputs": [],
   "source": [
    "def print_scores(model, y_true, X_val):\n",
    "    y_hat = model.predict_proba(X_val)[:,1]\n",
    "    y_pred = model.predict(X_val)\n",
    "    print(classification_report(y_true, y_pred, target_names=['irrelevant', 'relevant']))\n",
    "    print(f'Log Loss: {log_loss(y_true, y_hat):.2f}')\n",
    "    sns.heatmap(confusion_matrix(y_true, y_pred).T, square=True, annot=True, fmt='d')"
   ]
  },
  {
   "cell_type": "code",
   "execution_count": 12,
   "metadata": {
    "pycharm": {
     "name": "#%%\n"
    }
   },
   "outputs": [
    {
     "name": "stdout",
     "output_type": "stream",
     "text": [
      "              precision    recall  f1-score   support\n",
      "\n",
      "  irrelevant       0.91      1.00      0.95        40\n",
      "    relevant       1.00      0.69      0.82        13\n",
      "\n",
      "    accuracy                           0.92        53\n",
      "   macro avg       0.95      0.85      0.89        53\n",
      "weighted avg       0.93      0.92      0.92        53\n",
      "\n",
      "Log Loss: 0.29\n"
     ]
    },
    {
     "data": {
      "text/plain": "<Figure size 432x288 with 2 Axes>",
      "image/png": "[encoded data removed]"
     },
     "metadata": {
      "needs_background": "light"
     },
     "output_type": "display_data"
    }
   ],
   "source": [
    "print_scores(wc_nb,y_val, X_val)"
   ]
  },
  {
   "cell_type": "markdown",
   "metadata": {
    "pycharm": {
     "name": "#%% md\n"
    }
   },
   "source": [
    "# Model 2: tfifd -> NBmodel"
   ]
  },
  {
   "cell_type": "code",
   "execution_count": 13,
   "metadata": {
    "pycharm": {
     "name": "#%%\n"
    }
   },
   "outputs": [
    {
     "data": {
      "text/plain": "dict_keys(['memory', 'steps', 'verbose', 'tfidf', 'nbc', 'tfidf__analyzer', 'tfidf__binary', 'tfidf__decode_error', 'tfidf__dtype', 'tfidf__encoding', 'tfidf__input', 'tfidf__lowercase', 'tfidf__max_df', 'tfidf__max_features', 'tfidf__min_df', 'tfidf__ngram_range', 'tfidf__norm', 'tfidf__preprocessor', 'tfidf__smooth_idf', 'tfidf__stop_words', 'tfidf__strip_accents', 'tfidf__sublinear_tf', 'tfidf__token_pattern', 'tfidf__tokenizer', 'tfidf__use_idf', 'tfidf__vocabulary', 'nbc__alpha', 'nbc__class_prior', 'nbc__fit_prior'])"
     },
     "execution_count": 13,
     "metadata": {},
     "output_type": "execute_result"
    }
   ],
   "source": [
    "tfidf = TfidfVectorizer(preprocessor=tweet_preprocessor, smooth_idf=True, stop_words='english', lowercase=True)\n",
    "nbc = MultinomialNB()\n",
    "model2_pipeline = Pipeline([('tfidf', tfidf), ('nbc', nbc)])\n",
    "model2_pipeline.get_params().keys()"
   ]
  },
  {
   "cell_type": "code",
   "execution_count": 14,
   "metadata": {
    "pycharm": {
     "name": "#%%\n"
    }
   },
   "outputs": [],
   "source": [
    "model2_params = {\n",
    "    'tfidf__ngram_range': [(1,1), (1,2), (2,2)],\n",
    "    'tfidf__max_df': [1,2],\n",
    "    'tfidf__min_df': [1,2],\n",
    "    'nbc__alpha': [0.01, 0.1,1]\n",
    "}"
   ]
  },
  {
   "cell_type": "code",
   "execution_count": 15,
   "metadata": {
    "pycharm": {
     "name": "#%%\n"
    }
   },
   "outputs": [],
   "source": [
    "tfidf_nbc = GridSearchCV(model2_pipeline, param_grid=model2_params, n_jobs=-1, verbose=3, cv=3)"
   ]
  },
  {
   "cell_type": "code",
   "execution_count": 16,
   "metadata": {
    "pycharm": {
     "name": "#%%\n"
    }
   },
   "outputs": [
    {
     "name": "stdout",
     "output_type": "stream",
     "text": [
      "Fitting 3 folds for each of 36 candidates, totalling 108 fits\n"
     ]
    },
    {
     "name": "stderr",
     "output_type": "stream",
     "text": [
      "/Users/Isaacbolo/opt/anaconda3/lib/python3.8/site-packages/sklearn/model_selection/_search.py:918: UserWarning: One or more of the test scores are non-finite: [0.72779275 0.70569033 0.74687032        nan        nan        nan\n",
      " 0.75630428 0.75627433 0.74687032 0.8196466  0.81012279 0.75944894\n",
      " 0.73411201 0.73411201 0.74372567        nan        nan        nan\n",
      " 0.77526205 0.775292   0.74687032 0.81018269 0.81329739 0.76262354\n",
      " 0.75315963 0.74998503 0.74998503        nan        nan        nan\n",
      " 0.75315963 0.74998503 0.74998503 0.78796047 0.78478586 0.75633423]\n",
      "  warnings.warn(\n"
     ]
    },
    {
     "data": {
      "text/plain": "GridSearchCV(cv=3,\n             estimator=Pipeline(steps=[('tfidf',\n                                        TfidfVectorizer(preprocessor=<function tweet_preprocessor at 0x7f9a0869db80>,\n                                                        stop_words='english')),\n                                       ('nbc', MultinomialNB())]),\n             n_jobs=-1,\n             param_grid={'nbc__alpha': [0.01, 0.1, 1], 'tfidf__max_df': [1, 2],\n                         'tfidf__min_df': [1, 2],\n                         'tfidf__ngram_range': [(1, 1), (1, 2), (2, 2)]},\n             verbose=3)"
     },
     "execution_count": 16,
     "metadata": {},
     "output_type": "execute_result"
    }
   ],
   "source": [
    "tfidf_nbc.fit(X_train, y_train)"
   ]
  },
  {
   "cell_type": "code",
   "execution_count": 17,
   "metadata": {
    "pycharm": {
     "name": "#%%\n"
    }
   },
   "outputs": [
    {
     "data": {
      "text/plain": "Pipeline(steps=[('tfidf',\n                 TfidfVectorizer(max_df=2, min_df=2,\n                                 preprocessor=<function tweet_preprocessor at 0x7f9a0869db80>,\n                                 stop_words='english')),\n                ('nbc', MultinomialNB(alpha=0.01))])"
     },
     "execution_count": 17,
     "metadata": {},
     "output_type": "execute_result"
    }
   ],
   "source": [
    "tfidf_nbc.best_estimator_"
   ]
  },
  {
   "cell_type": "code",
   "execution_count": 18,
   "outputs": [
    {
     "name": "stdout",
     "output_type": "stream",
     "text": [
      "              precision    recall  f1-score   support\n",
      "\n",
      "  irrelevant       0.82      0.90      0.86        40\n",
      "    relevant       0.56      0.38      0.45        13\n",
      "\n",
      "    accuracy                           0.77        53\n",
      "   macro avg       0.69      0.64      0.66        53\n",
      "weighted avg       0.75      0.77      0.76        53\n",
      "\n",
      "Log Loss: 0.70\n"
     ]
    },
    {
     "data": {
      "text/plain": "<Figure size 432x288 with 2 Axes>",
      "image/png": "[encoded data removed]"
     },
     "metadata": {
      "needs_background": "light"
     },
     "output_type": "display_data"
    }
   ],
   "source": [
    "print_scores(tfidf_nbc, y_val, X_val)"
   ],
   "metadata": {
    "collapsed": false,
    "pycharm": {
     "name": "#%%\n"
    }
   }
  },
  {
   "cell_type": "markdown",
   "source": [
    "# Model 3: CountVectorizer -> ComplementNB"
   ],
   "metadata": {
    "collapsed": false,
    "pycharm": {
     "name": "#%% md\n"
    }
   }
  },
  {
   "cell_type": "code",
   "execution_count": 19,
   "outputs": [],
   "source": [
    "count_vec = CountVectorizer(preprocessor=tweet_preprocessor, input='content', decode_error='ignore', stop_words='english', lowercase=True, strip_accents='ascii')\n",
    "cnb = ComplementNB()\n",
    "model3_pipeline = Pipeline(steps=[('wordcount', count_vec), ('bayes', cnb)])"
   ],
   "metadata": {
    "collapsed": false,
    "pycharm": {
     "name": "#%%\n"
    }
   }
  },
  {
   "cell_type": "code",
   "execution_count": 20,
   "outputs": [],
   "source": [
    "params = {\n",
    "    'wordcount__ngram_range': [(1,2), (1,1), (2,2)],\n",
    "    'wordcount__min_df': [0, 1, 2, 3],\n",
    "    'bayes__alpha': [0.1, 0.01, 1, 2],\n",
    "    'memory': ['wordcount']\n",
    "}"
   ],
   "metadata": {
    "collapsed": false,
    "pycharm": {
     "name": "#%%\n"
    }
   }
  },
  {
   "cell_type": "code",
   "execution_count": 21,
   "outputs": [],
   "source": [
    "model3_search = GridSearchCV(model3_pipeline, param_grid=params, n_jobs=-1, verbose=3)"
   ],
   "metadata": {
    "collapsed": false,
    "pycharm": {
     "name": "#%%\n"
    }
   }
  },
  {
   "cell_type": "code",
   "execution_count": 22,
   "outputs": [
    {
     "name": "stdout",
     "output_type": "stream",
     "text": [
      "Fitting 5 folds for each of 48 candidates, totalling 240 fits\n"
     ]
    },
    {
     "data": {
      "text/plain": "GridSearchCV(estimator=Pipeline(steps=[('wordcount',\n                                        CountVectorizer(decode_error='ignore',\n                                                        preprocessor=<function tweet_preprocessor at 0x7f9a0869db80>,\n                                                        stop_words='english',\n                                                        strip_accents='ascii')),\n                                       ('bayes', ComplementNB())]),\n             n_jobs=-1,\n             param_grid={'bayes__alpha': [0.1, 0.01, 1, 2],\n                         'memory': ['wordcount'],\n                         'wordcount__min_df': [0, 1, 2, 3],\n                         'wordcount__ngram_range': [(1, 2), (1, 1), (2, 2)]},\n             verbose=3)"
     },
     "execution_count": 22,
     "metadata": {},
     "output_type": "execute_result"
    }
   ],
   "source": [
    "model3_search.fit(X_train, y_train)"
   ],
   "metadata": {
    "collapsed": false,
    "pycharm": {
     "name": "#%%\n"
    }
   }
  },
  {
   "cell_type": "code",
   "execution_count": 23,
   "outputs": [
    {
     "data": {
      "text/plain": "Pipeline(memory='wordcount',\n         steps=[('wordcount',\n                 CountVectorizer(decode_error='ignore', min_df=2,\n                                 ngram_range=(2, 2),\n                                 preprocessor=<function tweet_preprocessor at 0x7f9a0869db80>,\n                                 stop_words='english', strip_accents='ascii')),\n                ('bayes', ComplementNB(alpha=0.1))])"
     },
     "execution_count": 23,
     "metadata": {},
     "output_type": "execute_result"
    }
   ],
   "source": [
    "model3_search.best_estimator_"
   ],
   "metadata": {
    "collapsed": false,
    "pycharm": {
     "name": "#%%\n"
    }
   }
  },
  {
   "cell_type": "code",
   "execution_count": 24,
   "outputs": [
    {
     "name": "stdout",
     "output_type": "stream",
     "text": [
      "              precision    recall  f1-score   support\n",
      "\n",
      "  irrelevant       0.76      0.97      0.86        40\n",
      "    relevant       0.50      0.08      0.13        13\n",
      "\n",
      "    accuracy                           0.75        53\n",
      "   macro avg       0.63      0.53      0.50        53\n",
      "weighted avg       0.70      0.75      0.68        53\n",
      "\n",
      "Log Loss: 0.63\n"
     ]
    },
    {
     "data": {
      "text/plain": "<Figure size 432x288 with 2 Axes>",
      "image/png": "[encoded data removed]"
     },
     "metadata": {
      "needs_background": "light"
     },
     "output_type": "display_data"
    }
   ],
   "source": [
    "print_scores(model3_search, y_val, X_val)"
   ],
   "metadata": {
    "collapsed": false,
    "pycharm": {
     "name": "#%%\n"
    }
   }
  },
  {
   "cell_type": "markdown",
   "source": [
    "# Model 4: CountVectorizer -> SVG"
   ],
   "metadata": {
    "collapsed": false,
    "pycharm": {
     "name": "#%% md\n"
    }
   }
  },
  {
   "cell_type": "code",
   "execution_count": 139,
   "outputs": [
    {
     "data": {
      "text/plain": "dict_keys(['memory', 'steps', 'verbose', 'count', 'svm', 'count__analyzer', 'count__binary', 'count__decode_error', 'count__dtype', 'count__encoding', 'count__input', 'count__lowercase', 'count__max_df', 'count__max_features', 'count__min_df', 'count__ngram_range', 'count__preprocessor', 'count__stop_words', 'count__strip_accents', 'count__token_pattern', 'count__tokenizer', 'count__vocabulary', 'svm__C', 'svm__break_ties', 'svm__cache_size', 'svm__class_weight', 'svm__coef0', 'svm__decision_function_shape', 'svm__degree', 'svm__gamma', 'svm__kernel', 'svm__max_iter', 'svm__probability', 'svm__random_state', 'svm__shrinking', 'svm__tol', 'svm__verbose'])"
     },
     "execution_count": 139,
     "metadata": {},
     "output_type": "execute_result"
    }
   ],
   "source": [
    "count_vec = CountVectorizer(preprocessor=tweet_preprocessor, input='content', decode_error='ignore', stop_words='english', lowercase=True, strip_accents='ascii')\n",
    "svm = SVC()\n",
    "model4_pipeline = Pipeline([('count', count_vec), ('svm', svm)])\n",
    "model4_pipeline.get_params().keys()"
   ],
   "metadata": {
    "collapsed": false,
    "pycharm": {
     "name": "#%%\n"
    }
   }
  },
  {
   "cell_type": "code",
   "execution_count": 146,
   "outputs": [],
   "source": [
    "params = {\n",
    "    'count__ngram_range': [(1,2), (1,1)],\n",
    "    'count__min_df': [0, 1],\n",
    "    'svm__kernel': ['linear', 'poly', 'rbf', 'sigmoid'],\n",
    "    'svm__C': [0.01, 0.5, 1, 5, 10],\n",
    "    'svm__class_weight': [None, 'balanced'],\n",
    "}"
   ],
   "metadata": {
    "collapsed": false,
    "pycharm": {
     "name": "#%%\n"
    }
   }
  },
  {
   "cell_type": "code",
   "execution_count": 147,
   "outputs": [],
   "source": [
    "model4_search = GridSearchCV(model4_pipeline, param_grid=params, n_jobs=-1, verbose=5)"
   ],
   "metadata": {
    "collapsed": false,
    "pycharm": {
     "name": "#%%\n"
    }
   }
  },
  {
   "cell_type": "code",
   "execution_count": 148,
   "outputs": [
    {
     "name": "stdout",
     "output_type": "stream",
     "text": [
      "Fitting 5 folds for each of 160 candidates, totalling 800 fits\n"
     ]
    },
    {
     "data": {
      "text/plain": "GridSearchCV(estimator=Pipeline(steps=[('count',\n                                        CountVectorizer(decode_error='ignore',\n                                                        preprocessor=<function tweet_preprocessor at 0x7f7b3a6fd9d0>,\n                                                        stop_words='english',\n                                                        strip_accents='ascii')),\n                                       ('svm', SVC())]),\n             n_jobs=-1,\n             param_grid={'count__min_df': [0, 1],\n                         'count__ngram_range': [(1, 2), (1, 1)],\n                         'svm__C': [0.01, 0.5, 1, 5, 10],\n                         'svm__class_weight': [None, 'balanced'],\n                         'svm__kernel': ['linear', 'poly', 'rbf', 'sigmoid']},\n             verbose=5)"
     },
     "execution_count": 148,
     "metadata": {},
     "output_type": "execute_result"
    }
   ],
   "source": [
    "model4_search.fit(X_train, y_train)"
   ],
   "metadata": {
    "collapsed": false,
    "pycharm": {
     "name": "#%%\n"
    }
   }
  },
  {
   "cell_type": "code",
   "execution_count": 158,
   "outputs": [
    {
     "data": {
      "text/plain": "{'count__min_df': 0,\n 'count__ngram_range': (1, 1),\n 'svm__C': 5,\n 'svm__class_weight': 'balanced',\n 'svm__kernel': 'sigmoid'}"
     },
     "execution_count": 158,
     "metadata": {},
     "output_type": "execute_result"
    }
   ],
   "source": [
    "model4_search.best_params_"
   ],
   "metadata": {
    "collapsed": false,
    "pycharm": {
     "name": "#%%\n"
    }
   }
  },
  {
   "cell_type": "code",
   "execution_count": 154,
   "outputs": [
    {
     "name": "stdout",
     "output_type": "stream",
     "text": [
      "              precision    recall  f1-score   support\n",
      "\n",
      "  irrelevant       0.81      0.92      0.86        37\n",
      "    relevant       0.73      0.50      0.59        16\n",
      "\n",
      "    accuracy                           0.79        53\n",
      "   macro avg       0.77      0.71      0.73        53\n",
      "weighted avg       0.78      0.79      0.78        53\n",
      "\n"
     ]
    },
    {
     "data": {
      "text/plain": "<Figure size 432x288 with 2 Axes>",
      "image/png": "[encoded data removed]"
     },
     "metadata": {
      "needs_background": "light"
     },
     "output_type": "display_data"
    }
   ],
   "source": [
    "print_scores(model4_search, y_val, X_val)"
   ],
   "metadata": {
    "collapsed": false,
    "pycharm": {
     "name": "#%%\n"
    }
   }
  },
  {
   "cell_type": "code",
   "execution_count": 25,
   "outputs": [],
   "source": [
    "count_vec = CountVectorizer(preprocessor=tweet_preprocessor, input='content', decode_error='ignore', stop_words='english', lowercase=True, strip_accents='ascii', min_df=0, ngram_range=(1,1))\n",
    "svm = SVC(probability=True, class_weight='balanced', kernel='sigmoid', C=5)\n",
    "svm_pipeline = Pipeline([('count', count_vec), ('svm', svm)])"
   ],
   "metadata": {
    "collapsed": false,
    "pycharm": {
     "name": "#%%\n"
    }
   }
  },
  {
   "cell_type": "code",
   "execution_count": 26,
   "outputs": [
    {
     "data": {
      "text/plain": "Pipeline(steps=[('count',\n                 CountVectorizer(decode_error='ignore', min_df=0,\n                                 preprocessor=<function tweet_preprocessor at 0x7f9a0869db80>,\n                                 stop_words='english', strip_accents='ascii')),\n                ('svm',\n                 SVC(C=5, class_weight='balanced', kernel='sigmoid',\n                     probability=True))])"
     },
     "execution_count": 26,
     "metadata": {},
     "output_type": "execute_result"
    }
   ],
   "source": [
    "svm_pipeline.fit(X_train, y_train)"
   ],
   "metadata": {
    "collapsed": false,
    "pycharm": {
     "name": "#%%\n"
    }
   }
  },
  {
   "cell_type": "code",
   "execution_count": 27,
   "outputs": [
    {
     "name": "stdout",
     "output_type": "stream",
     "text": [
      "              precision    recall  f1-score   support\n",
      "\n",
      "  irrelevant       0.89      0.97      0.93        40\n",
      "    relevant       0.89      0.62      0.73        13\n",
      "\n",
      "    accuracy                           0.89        53\n",
      "   macro avg       0.89      0.80      0.83        53\n",
      "weighted avg       0.89      0.89      0.88        53\n",
      "\n",
      "Log Loss: 0.34\n"
     ]
    },
    {
     "data": {
      "text/plain": "<Figure size 432x288 with 2 Axes>",
      "image/png": "[encoded data removed]"
     },
     "metadata": {
      "needs_background": "light"
     },
     "output_type": "display_data"
    }
   ],
   "source": [
    "print_scores(svm_pipeline, y_val, X_val)"
   ],
   "metadata": {
    "collapsed": false,
    "pycharm": {
     "name": "#%%\n"
    }
   }
  },
  {
   "cell_type": "markdown",
   "source": [
    "# Final model: MultinomialNB"
   ],
   "metadata": {
    "collapsed": false,
    "pycharm": {
     "name": "#%% md\n"
    }
   }
  },
  {
   "cell_type": "code",
   "execution_count": 28,
   "outputs": [
    {
     "name": "stdout",
     "output_type": "stream",
     "text": [
      "              precision    recall  f1-score   support\n",
      "\n",
      "  irrelevant       0.93      0.95      0.94        39\n",
      "    relevant       0.85      0.79      0.81        14\n",
      "\n",
      "    accuracy                           0.91        53\n",
      "   macro avg       0.89      0.87      0.88        53\n",
      "weighted avg       0.90      0.91      0.90        53\n",
      "\n",
      "Log Loss: 0.28\n"
     ]
    },
    {
     "data": {
      "text/plain": "<Figure size 432x288 with 2 Axes>",
      "image/png": "[encoded data removed]"
     },
     "metadata": {
      "needs_background": "light"
     },
     "output_type": "display_data"
    }
   ],
   "source": [
    "# Score for final model using test set\n",
    "print_scores(wc_nb, y_test, X_test)"
   ],
   "metadata": {
    "collapsed": false,
    "pycharm": {
     "name": "#%%\n"
    }
   }
  },
  {
   "cell_type": "code",
   "execution_count": 29,
   "outputs": [
    {
     "name": "stdout",
     "output_type": "stream",
     "text": [
      "              precision    recall  f1-score   support\n",
      "\n",
      "  irrelevant       0.91      1.00      0.95        40\n",
      "    relevant       1.00      0.69      0.82        13\n",
      "\n",
      "    accuracy                           0.92        53\n",
      "   macro avg       0.95      0.85      0.89        53\n",
      "weighted avg       0.93      0.92      0.92        53\n",
      "\n",
      "Log Loss: 0.29\n"
     ]
    },
    {
     "data": {
      "text/plain": "<Figure size 432x288 with 2 Axes>",
      "image/png": "[encoded data removed]"
     },
     "metadata": {
      "needs_background": "light"
     },
     "output_type": "display_data"
    }
   ],
   "source": [
    "# Compare with validation set\n",
    "print_scores(wc_nb, y_val, X_val)"
   ],
   "metadata": {
    "collapsed": false,
    "pycharm": {
     "name": "#%%\n"
    }
   }
  },
  {
   "cell_type": "markdown",
   "source": [
    "# Save model"
   ],
   "metadata": {
    "collapsed": false,
    "pycharm": {
     "name": "#%% md\n"
    }
   }
  },
  {
   "cell_type": "code",
   "execution_count": 30,
   "outputs": [],
   "source": [
    "import joblib"
   ],
   "metadata": {
    "collapsed": false,
    "pycharm": {
     "name": "#%%\n"
    }
   }
  },
  {
   "cell_type": "code",
   "execution_count": 31,
   "outputs": [],
   "source": [
    "with open('../bayes_model/best_bayes_pipeline.pkl', 'wb') as f:\n",
    "    joblib.dump(wc_nb, f)"
   ],
   "metadata": {
    "collapsed": false,
    "pycharm": {
     "name": "#%%\n"
    }
   }
  },
  {
   "cell_type": "code",
   "execution_count": null,
   "outputs": [],
   "source": [],
   "metadata": {
    "collapsed": false,
    "pycharm": {
     "name": "#%%\n"
    }
   }
  }
 ],
 "metadata": {
  "kernelspec": {
   "display_name": "Python 3",
   "language": "python",
   "name": "python3"
  },
  "language_info": {
   "codemirror_mode": {
    "name": "ipython",
    "version": 3
   },
   "file_extension": ".py",
   "mimetype": "text/x-python",
   "name": "python",
   "nbconvert_exporter": "python",
   "pygments_lexer": "ipython3",
   "version": "3.8.8"
  }
 },
 "nbformat": 4,
 "nbformat_minor": 1
}