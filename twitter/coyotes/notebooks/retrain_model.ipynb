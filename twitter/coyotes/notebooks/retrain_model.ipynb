{
 "cells": [
  {
   "cell_type": "code",
   "execution_count": 64,
   "metadata": {
    "collapsed": true
   },
   "outputs": [],
   "source": [
    "import pandas as pd\n",
    "import numpy as np\n",
    "from sklearn.naive_bayes import MultinomialNB\n",
    "from sklearn.naive_bayes import ComplementNB\n",
    "from sklearn.svm import SVC\n",
    "from sklearn.model_selection import train_test_split\n",
    "from sklearn.feature_extraction.text import CountVectorizer\n",
    "from utility.get_twitter import *\n",
    "from sklearn.model_selection import GridSearchCV\n",
    "from sklearn.pipeline import Pipeline\n",
    "from sklearn.metrics import log_loss, make_scorer\n",
    "from utility.text_normalizer import *\n",
    "from sklearn.metrics import confusion_matrix\n",
    "from sklearn.metrics import classification_report\n",
    "import seaborn as sns\n",
    "from sklearn.feature_extraction.text import TfidfVectorizer\n",
    "import joblib\n",
    "import copy"
   ]
  },
  {
   "cell_type": "code",
   "execution_count": 2,
   "outputs": [
    {
     "data": {
      "text/plain": "      date      time                                              tweet  \\\n0  11/8/21  17:11:01  Defender Radio Live: Canid Response Teams and ...   \n1  11/8/21  14:25:52             Yaw 💃💃. Good Morning Twitter Family 🤩✨   \n2  11/8/21  12:27:50  At this moment, I have a neighbor that lives 7...   \n3  11/8/21  10:51:07  @AstroBackyard Had the coyotes barking within ...   \n4  11/8/21   8:28:38  really just saw a coyote cross the street and ...   \n\n       tweet_id hashtags       user_id        username         location  \\\n0  1.460000e+18       []  9.202440e+08  CoyoteWatchCAN     Ontario, CA    \n1  1.460000e+18       []  1.460000e+18   coyote_kissa1     Pasadena, CA   \n2  1.460000e+18       []  1.330000e+18   DavidCMaybury       Perris, CA   \n3  1.460000e+18       []  6.883438e+07     darrenreely  Los Angeles, CA   \n4  1.460000e+18       []  2.323440e+09      angeIiques          she/her   \n\n   num_followers  geo_enabled  long  lat  relevant  neg_sent_score  \\\n0           4420         True   NaN  NaN       0.0           0.000   \n1             57        False   NaN  NaN       0.0           0.000   \n2            438         True   NaN  NaN       1.0           0.000   \n3            147         True   NaN  NaN       1.0           0.039   \n4            109         True   NaN  NaN       1.0           0.256   \n\n   neu_sent_score  pos_sent_score  compound_sent_score sent_class  \n0           0.912           0.088               0.2023   positive  \n1           0.634           0.366               0.6369   positive  \n2           0.930           0.070               0.5719   positive  \n3           0.912           0.049               0.1511   positive  \n4           0.744           0.000              -0.8519   negative  ",
      "text/html": "<div>\n<style scoped>\n    .dataframe tbody tr th:only-of-type {\n        vertical-align: middle;\n    }\n\n    .dataframe tbody tr th {\n        vertical-align: top;\n    }\n\n    .dataframe thead th {\n        text-align: right;\n    }\n</style>\n<table border=\"1\" class=\"dataframe\">\n  <thead>\n    <tr style=\"text-align: right;\">\n      <th></th>\n      <th>date</th>\n      <th>time</th>\n      <th>tweet</th>\n      <th>tweet_id</th>\n      <th>hashtags</th>\n      <th>user_id</th>\n      <th>username</th>\n      <th>location</th>\n      <th>num_followers</th>\n      <th>geo_enabled</th>\n      <th>long</th>\n      <th>lat</th>\n      <th>relevant</th>\n      <th>neg_sent_score</th>\n      <th>neu_sent_score</th>\n      <th>pos_sent_score</th>\n      <th>compound_sent_score</th>\n      <th>sent_class</th>\n    </tr>\n  </thead>\n  <tbody>\n    <tr>\n      <th>0</th>\n      <td>11/8/21</td>\n      <td>17:11:01</td>\n      <td>Defender Radio Live: Canid Response Teams and ...</td>\n      <td>1.460000e+18</td>\n      <td>[]</td>\n      <td>9.202440e+08</td>\n      <td>CoyoteWatchCAN</td>\n      <td>Ontario, CA</td>\n      <td>4420</td>\n      <td>True</td>\n      <td>NaN</td>\n      <td>NaN</td>\n      <td>0.0</td>\n      <td>0.000</td>\n      <td>0.912</td>\n      <td>0.088</td>\n      <td>0.2023</td>\n      <td>positive</td>\n    </tr>\n    <tr>\n      <th>1</th>\n      <td>11/8/21</td>\n      <td>14:25:52</td>\n      <td>Yaw 💃💃. Good Morning Twitter Family 🤩✨</td>\n      <td>1.460000e+18</td>\n      <td>[]</td>\n      <td>1.460000e+18</td>\n      <td>coyote_kissa1</td>\n      <td>Pasadena, CA</td>\n      <td>57</td>\n      <td>False</td>\n      <td>NaN</td>\n      <td>NaN</td>\n      <td>0.0</td>\n      <td>0.000</td>\n      <td>0.634</td>\n      <td>0.366</td>\n      <td>0.6369</td>\n      <td>positive</td>\n    </tr>\n    <tr>\n      <th>2</th>\n      <td>11/8/21</td>\n      <td>12:27:50</td>\n      <td>At this moment, I have a neighbor that lives 7...</td>\n      <td>1.460000e+18</td>\n      <td>[]</td>\n      <td>1.330000e+18</td>\n      <td>DavidCMaybury</td>\n      <td>Perris, CA</td>\n      <td>438</td>\n      <td>True</td>\n      <td>NaN</td>\n      <td>NaN</td>\n      <td>1.0</td>\n      <td>0.000</td>\n      <td>0.930</td>\n      <td>0.070</td>\n      <td>0.5719</td>\n      <td>positive</td>\n    </tr>\n    <tr>\n      <th>3</th>\n      <td>11/8/21</td>\n      <td>10:51:07</td>\n      <td>@AstroBackyard Had the coyotes barking within ...</td>\n      <td>1.460000e+18</td>\n      <td>[]</td>\n      <td>6.883438e+07</td>\n      <td>darrenreely</td>\n      <td>Los Angeles, CA</td>\n      <td>147</td>\n      <td>True</td>\n      <td>NaN</td>\n      <td>NaN</td>\n      <td>1.0</td>\n      <td>0.039</td>\n      <td>0.912</td>\n      <td>0.049</td>\n      <td>0.1511</td>\n      <td>positive</td>\n    </tr>\n    <tr>\n      <th>4</th>\n      <td>11/8/21</td>\n      <td>8:28:38</td>\n      <td>really just saw a coyote cross the street and ...</td>\n      <td>1.460000e+18</td>\n      <td>[]</td>\n      <td>2.323440e+09</td>\n      <td>angeIiques</td>\n      <td>she/her</td>\n      <td>109</td>\n      <td>True</td>\n      <td>NaN</td>\n      <td>NaN</td>\n      <td>1.0</td>\n      <td>0.256</td>\n      <td>0.744</td>\n      <td>0.000</td>\n      <td>-0.8519</td>\n      <td>negative</td>\n    </tr>\n  </tbody>\n</table>\n</div>"
     },
     "execution_count": 2,
     "metadata": {},
     "output_type": "execute_result"
    }
   ],
   "source": [
    "data = pd.read_csv('../data/all_queries.csv')\n",
    "data.head()"
   ],
   "metadata": {
    "collapsed": false,
    "pycharm": {
     "name": "#%%\n"
    }
   }
  },
  {
   "cell_type": "code",
   "execution_count": 112,
   "outputs": [
    {
     "data": {
      "text/plain": "                                               tweet  relevant\n0  Defender Radio Live: Canid Response Teams and ...       0.0\n1             Yaw 💃💃. Good Morning Twitter Family 🤩✨       0.0\n2  At this moment, I have a neighbor that lives 7...       1.0\n3  @AstroBackyard Had the coyotes barking within ...       1.0\n4  really just saw a coyote cross the street and ...       1.0",
      "text/html": "<div>\n<style scoped>\n    .dataframe tbody tr th:only-of-type {\n        vertical-align: middle;\n    }\n\n    .dataframe tbody tr th {\n        vertical-align: top;\n    }\n\n    .dataframe thead th {\n        text-align: right;\n    }\n</style>\n<table border=\"1\" class=\"dataframe\">\n  <thead>\n    <tr style=\"text-align: right;\">\n      <th></th>\n      <th>tweet</th>\n      <th>relevant</th>\n    </tr>\n  </thead>\n  <tbody>\n    <tr>\n      <th>0</th>\n      <td>Defender Radio Live: Canid Response Teams and ...</td>\n      <td>0.0</td>\n    </tr>\n    <tr>\n      <th>1</th>\n      <td>Yaw 💃💃. Good Morning Twitter Family 🤩✨</td>\n      <td>0.0</td>\n    </tr>\n    <tr>\n      <th>2</th>\n      <td>At this moment, I have a neighbor that lives 7...</td>\n      <td>1.0</td>\n    </tr>\n    <tr>\n      <th>3</th>\n      <td>@AstroBackyard Had the coyotes barking within ...</td>\n      <td>1.0</td>\n    </tr>\n    <tr>\n      <th>4</th>\n      <td>really just saw a coyote cross the street and ...</td>\n      <td>1.0</td>\n    </tr>\n  </tbody>\n</table>\n</div>"
     },
     "execution_count": 112,
     "metadata": {},
     "output_type": "execute_result"
    }
   ],
   "source": [
    "df = data[['tweet', 'relevant']]\n",
    "df.head()"
   ],
   "metadata": {
    "collapsed": false,
    "pycharm": {
     "name": "#%%\n"
    }
   }
  },
  {
   "cell_type": "code",
   "execution_count": 65,
   "outputs": [],
   "source": [
    "model = joblib.load('../bayes_model/best_bayes_pipeline.pkl')"
   ],
   "metadata": {
    "collapsed": false,
    "pycharm": {
     "name": "#%%\n"
    }
   }
  },
  {
   "cell_type": "code",
   "execution_count": 8,
   "outputs": [
    {
     "data": {
      "text/plain": "{'bayes__alpha': 1,\n 'wordcount__lowercase': True,\n 'wordcount__min_df': 2,\n 'wordcount__ngram_range': (1, 2),\n 'wordcount__preprocessor': <function utility.text_normalizer.tweet_preprocessor(tweet: str) -> str>,\n 'wordcount__stop_words': 'english',\n 'wordcount__strip_accents': 'ascii'}"
     },
     "execution_count": 8,
     "metadata": {},
     "output_type": "execute_result"
    }
   ],
   "source": [
    "model.best_params_"
   ],
   "metadata": {
    "collapsed": false,
    "pycharm": {
     "name": "#%%\n"
    }
   }
  },
  {
   "cell_type": "code",
   "execution_count": 10,
   "outputs": [
    {
     "name": "stderr",
     "output_type": "stream",
     "text": [
      "/Users/Isaacbolo/opt/anaconda3/lib/python3.8/site-packages/sklearn/feature_extraction/text.py:388: UserWarning: Your stop_words may be inconsistent with your preprocessing. Tokenizing the stop words generated tokens ['ca', 'far', 'make', 'nt'] not in stop_words.\n",
      "  warnings.warn('Your stop_words may be inconsistent with '\n"
     ]
    }
   ],
   "source": [
    "predic_proba = model.predict_proba(df['tweet'])"
   ],
   "metadata": {
    "collapsed": false,
    "pycharm": {
     "name": "#%%\n"
    }
   }
  },
  {
   "cell_type": "code",
   "execution_count": 13,
   "outputs": [
    {
     "name": "stderr",
     "output_type": "stream",
     "text": [
      "<ipython-input-13-5e1b6530cf6a>:1: SettingWithCopyWarning: \n",
      "A value is trying to be set on a copy of a slice from a DataFrame.\n",
      "Try using .loc[row_indexer,col_indexer] = value instead\n",
      "\n",
      "See the caveats in the documentation: https://pandas.pydata.org/pandas-docs/stable/user_guide/indexing.html#returning-a-view-versus-a-copy\n",
      "  df['proba_0'] = predic_proba[:,0]\n",
      "<ipython-input-13-5e1b6530cf6a>:2: SettingWithCopyWarning: \n",
      "A value is trying to be set on a copy of a slice from a DataFrame.\n",
      "Try using .loc[row_indexer,col_indexer] = value instead\n",
      "\n",
      "See the caveats in the documentation: https://pandas.pydata.org/pandas-docs/stable/user_guide/indexing.html#returning-a-view-versus-a-copy\n",
      "  df['proba_1'] = predic_proba[:,1]\n"
     ]
    }
   ],
   "source": [
    "df['proba_0'] = predic_proba[:,0]\n",
    "df['proba_1'] = predic_proba[:,1]"
   ],
   "metadata": {
    "collapsed": false,
    "pycharm": {
     "name": "#%%\n"
    }
   }
  },
  {
   "cell_type": "code",
   "execution_count": 15,
   "outputs": [
    {
     "data": {
      "text/plain": "                                               tweet  relevant   proba_0  \\\n0  Defender Radio Live: Canid Response Teams and ...       0.0  0.887770   \n1             Yaw 💃💃. Good Morning Twitter Family 🤩✨       0.0  0.641706   \n2  At this moment, I have a neighbor that lives 7...       1.0  0.035002   \n3  @AstroBackyard Had the coyotes barking within ...       1.0  0.547319   \n4  really just saw a coyote cross the street and ...       1.0  0.047740   \n\n    proba_1  \n0  0.112230  \n1  0.358294  \n2  0.964998  \n3  0.452681  \n4  0.952260  ",
      "text/html": "<div>\n<style scoped>\n    .dataframe tbody tr th:only-of-type {\n        vertical-align: middle;\n    }\n\n    .dataframe tbody tr th {\n        vertical-align: top;\n    }\n\n    .dataframe thead th {\n        text-align: right;\n    }\n</style>\n<table border=\"1\" class=\"dataframe\">\n  <thead>\n    <tr style=\"text-align: right;\">\n      <th></th>\n      <th>tweet</th>\n      <th>relevant</th>\n      <th>proba_0</th>\n      <th>proba_1</th>\n    </tr>\n  </thead>\n  <tbody>\n    <tr>\n      <th>0</th>\n      <td>Defender Radio Live: Canid Response Teams and ...</td>\n      <td>0.0</td>\n      <td>0.887770</td>\n      <td>0.112230</td>\n    </tr>\n    <tr>\n      <th>1</th>\n      <td>Yaw 💃💃. Good Morning Twitter Family 🤩✨</td>\n      <td>0.0</td>\n      <td>0.641706</td>\n      <td>0.358294</td>\n    </tr>\n    <tr>\n      <th>2</th>\n      <td>At this moment, I have a neighbor that lives 7...</td>\n      <td>1.0</td>\n      <td>0.035002</td>\n      <td>0.964998</td>\n    </tr>\n    <tr>\n      <th>3</th>\n      <td>@AstroBackyard Had the coyotes barking within ...</td>\n      <td>1.0</td>\n      <td>0.547319</td>\n      <td>0.452681</td>\n    </tr>\n    <tr>\n      <th>4</th>\n      <td>really just saw a coyote cross the street and ...</td>\n      <td>1.0</td>\n      <td>0.047740</td>\n      <td>0.952260</td>\n    </tr>\n  </tbody>\n</table>\n</div>"
     },
     "execution_count": 15,
     "metadata": {},
     "output_type": "execute_result"
    }
   ],
   "source": [
    "df.head()"
   ],
   "metadata": {
    "collapsed": false,
    "pycharm": {
     "name": "#%%\n"
    }
   }
  },
  {
   "cell_type": "code",
   "execution_count": 16,
   "outputs": [
    {
     "data": {
      "text/plain": "(1795, 4)"
     },
     "execution_count": 16,
     "metadata": {},
     "output_type": "execute_result"
    }
   ],
   "source": [
    "df_train = df[(df['proba_0'] > 0.85) | (df['proba_1'] > 0.85)]\n",
    "df_train.shape"
   ],
   "metadata": {
    "collapsed": false,
    "pycharm": {
     "name": "#%%\n"
    }
   }
  },
  {
   "cell_type": "code",
   "execution_count": 18,
   "outputs": [
    {
     "data": {
      "text/plain": "                                                  tweet  relevant   proba_0  \\\n0     Defender Radio Live: Canid Response Teams and ...       0.0  0.887770   \n2     At this moment, I have a neighbor that lives 7...       1.0  0.035002   \n4     really just saw a coyote cross the street and ...       1.0  0.047740   \n7      To make it worse no one else saw the coyote bruh       1.0  0.949047   \n8     my enemy the big coyote ran in front of my car...       1.0  0.023555   \n...                                                 ...       ...       ...   \n3594                        FUCK !! I just hit a coyote       1.0  0.141424   \n3595  I can't stop imagining this help. The Hounds o...       0.0  0.888760   \n3596  @jwrife I can’t have chickens. Too many predat...       0.0  0.853605   \n3599  Potential locations for the antics of Wild E. ...       0.0  0.951907   \n3600  Foxbody Coyote Swap Fuel Systems - Lets Break ...       0.0  0.926715   \n\n       proba_1  \n0     0.112230  \n2     0.964998  \n4     0.952260  \n7     0.050953  \n8     0.976445  \n...        ...  \n3594  0.858576  \n3595  0.111240  \n3596  0.146395  \n3599  0.048093  \n3600  0.073285  \n\n[1795 rows x 4 columns]",
      "text/html": "<div>\n<style scoped>\n    .dataframe tbody tr th:only-of-type {\n        vertical-align: middle;\n    }\n\n    .dataframe tbody tr th {\n        vertical-align: top;\n    }\n\n    .dataframe thead th {\n        text-align: right;\n    }\n</style>\n<table border=\"1\" class=\"dataframe\">\n  <thead>\n    <tr style=\"text-align: right;\">\n      <th></th>\n      <th>tweet</th>\n      <th>relevant</th>\n      <th>proba_0</th>\n      <th>proba_1</th>\n    </tr>\n  </thead>\n  <tbody>\n    <tr>\n      <th>0</th>\n      <td>Defender Radio Live: Canid Response Teams and ...</td>\n      <td>0.0</td>\n      <td>0.887770</td>\n      <td>0.112230</td>\n    </tr>\n    <tr>\n      <th>2</th>\n      <td>At this moment, I have a neighbor that lives 7...</td>\n      <td>1.0</td>\n      <td>0.035002</td>\n      <td>0.964998</td>\n    </tr>\n    <tr>\n      <th>4</th>\n      <td>really just saw a coyote cross the street and ...</td>\n      <td>1.0</td>\n      <td>0.047740</td>\n      <td>0.952260</td>\n    </tr>\n    <tr>\n      <th>7</th>\n      <td>To make it worse no one else saw the coyote bruh</td>\n      <td>1.0</td>\n      <td>0.949047</td>\n      <td>0.050953</td>\n    </tr>\n    <tr>\n      <th>8</th>\n      <td>my enemy the big coyote ran in front of my car...</td>\n      <td>1.0</td>\n      <td>0.023555</td>\n      <td>0.976445</td>\n    </tr>\n    <tr>\n      <th>...</th>\n      <td>...</td>\n      <td>...</td>\n      <td>...</td>\n      <td>...</td>\n    </tr>\n    <tr>\n      <th>3594</th>\n      <td>FUCK !! I just hit a coyote</td>\n      <td>1.0</td>\n      <td>0.141424</td>\n      <td>0.858576</td>\n    </tr>\n    <tr>\n      <th>3595</th>\n      <td>I can't stop imagining this help. The Hounds o...</td>\n      <td>0.0</td>\n      <td>0.888760</td>\n      <td>0.111240</td>\n    </tr>\n    <tr>\n      <th>3596</th>\n      <td>@jwrife I can’t have chickens. Too many predat...</td>\n      <td>0.0</td>\n      <td>0.853605</td>\n      <td>0.146395</td>\n    </tr>\n    <tr>\n      <th>3599</th>\n      <td>Potential locations for the antics of Wild E. ...</td>\n      <td>0.0</td>\n      <td>0.951907</td>\n      <td>0.048093</td>\n    </tr>\n    <tr>\n      <th>3600</th>\n      <td>Foxbody Coyote Swap Fuel Systems - Lets Break ...</td>\n      <td>0.0</td>\n      <td>0.926715</td>\n      <td>0.073285</td>\n    </tr>\n  </tbody>\n</table>\n<p>1795 rows × 4 columns</p>\n</div>"
     },
     "execution_count": 18,
     "metadata": {},
     "output_type": "execute_result"
    }
   ],
   "source": [
    "df_train"
   ],
   "metadata": {
    "collapsed": false,
    "pycharm": {
     "name": "#%%\n"
    }
   }
  },
  {
   "cell_type": "code",
   "execution_count": 20,
   "outputs": [],
   "source": [
    "df_train.to_csv('../data/training_data_01.csv', index=None)"
   ],
   "metadata": {
    "collapsed": false,
    "pycharm": {
     "name": "#%%\n"
    }
   }
  },
  {
   "cell_type": "code",
   "execution_count": 21,
   "outputs": [
    {
     "data": {
      "text/plain": "                                               tweet  relevant   proba_0  \\\n0  Defender Radio Live: Canid Response Teams and ...       0.0  0.887770   \n1  At this moment, I have a neighbor that lives 7...       1.0  0.035002   \n2  really just saw a coyote cross the street and ...       1.0  0.047740   \n3   To make it worse no one else saw the coyote bruh       1.0  0.949047   \n4  my enemy the big coyote ran in front of my car...       1.0  0.023555   \n\n    proba_1  \n0  0.112230  \n1  0.964998  \n2  0.952260  \n3  0.050953  \n4  0.976445  ",
      "text/html": "<div>\n<style scoped>\n    .dataframe tbody tr th:only-of-type {\n        vertical-align: middle;\n    }\n\n    .dataframe tbody tr th {\n        vertical-align: top;\n    }\n\n    .dataframe thead th {\n        text-align: right;\n    }\n</style>\n<table border=\"1\" class=\"dataframe\">\n  <thead>\n    <tr style=\"text-align: right;\">\n      <th></th>\n      <th>tweet</th>\n      <th>relevant</th>\n      <th>proba_0</th>\n      <th>proba_1</th>\n    </tr>\n  </thead>\n  <tbody>\n    <tr>\n      <th>0</th>\n      <td>Defender Radio Live: Canid Response Teams and ...</td>\n      <td>0.0</td>\n      <td>0.887770</td>\n      <td>0.112230</td>\n    </tr>\n    <tr>\n      <th>1</th>\n      <td>At this moment, I have a neighbor that lives 7...</td>\n      <td>1.0</td>\n      <td>0.035002</td>\n      <td>0.964998</td>\n    </tr>\n    <tr>\n      <th>2</th>\n      <td>really just saw a coyote cross the street and ...</td>\n      <td>1.0</td>\n      <td>0.047740</td>\n      <td>0.952260</td>\n    </tr>\n    <tr>\n      <th>3</th>\n      <td>To make it worse no one else saw the coyote bruh</td>\n      <td>1.0</td>\n      <td>0.949047</td>\n      <td>0.050953</td>\n    </tr>\n    <tr>\n      <th>4</th>\n      <td>my enemy the big coyote ran in front of my car...</td>\n      <td>1.0</td>\n      <td>0.023555</td>\n      <td>0.976445</td>\n    </tr>\n  </tbody>\n</table>\n</div>"
     },
     "execution_count": 21,
     "metadata": {},
     "output_type": "execute_result"
    }
   ],
   "source": [
    "df_train = pd.read_csv('../data/training_data_01.csv')\n",
    "df_train.head()"
   ],
   "metadata": {
    "collapsed": false,
    "pycharm": {
     "name": "#%%\n"
    }
   }
  },
  {
   "cell_type": "code",
   "execution_count": 22,
   "outputs": [],
   "source": [
    "X = df_train['tweet']\n",
    "y = df_train['relevant']"
   ],
   "metadata": {
    "collapsed": false,
    "pycharm": {
     "name": "#%%\n"
    }
   }
  },
  {
   "cell_type": "markdown",
   "source": [
    "# Split data"
   ],
   "metadata": {
    "collapsed": false,
    "pycharm": {
     "name": "#%% md\n"
    }
   }
  },
  {
   "cell_type": "code",
   "execution_count": 23,
   "outputs": [
    {
     "data": {
      "text/plain": "((1077,), (718,), (1077,), (718,))"
     },
     "execution_count": 23,
     "metadata": {},
     "output_type": "execute_result"
    }
   ],
   "source": [
    "X_train, X_val_test, y_train, y_val_test = train_test_split(X, y, test_size=.4, stratify=None)\n",
    "X_train.shape, X_val_test.shape, y_train.shape, y_val_test.shape"
   ],
   "metadata": {
    "collapsed": false,
    "pycharm": {
     "name": "#%%\n"
    }
   }
  },
  {
   "cell_type": "code",
   "execution_count": 24,
   "outputs": [
    {
     "data": {
      "text/plain": "((359,), (359,), (359,), (359,))"
     },
     "execution_count": 24,
     "metadata": {},
     "output_type": "execute_result"
    }
   ],
   "source": [
    "X_val, X_test, y_val, y_test = train_test_split(X_val_test, y_val_test, test_size=.5, stratify=None)\n",
    "X_val.shape, y_val.shape, X_test.shape, y_test.shape"
   ],
   "metadata": {
    "collapsed": false,
    "pycharm": {
     "name": "#%%\n"
    }
   }
  },
  {
   "cell_type": "code",
   "execution_count": 25,
   "outputs": [
    {
     "data": {
      "text/plain": "((1077,), (1077,), (359,), (359,), (359,), (359,))"
     },
     "execution_count": 25,
     "metadata": {},
     "output_type": "execute_result"
    }
   ],
   "source": [
    "# Check dim of training, validation, and test sets\n",
    "X_train.shape, y_train.shape, X_val.shape, y_val.shape, X_test.shape, y_test.shape"
   ],
   "metadata": {
    "collapsed": false,
    "pycharm": {
     "name": "#%%\n"
    }
   }
  },
  {
   "cell_type": "code",
   "execution_count": 27,
   "outputs": [
    {
     "data": {
      "text/plain": "(0.19405756731662024, 0.22284122562674094, 0.1894150417827298)"
     },
     "execution_count": 27,
     "metadata": {},
     "output_type": "execute_result"
    }
   ],
   "source": [
    "# Percent of y == 1\n",
    "y_train[y_train==1].sum() / len(y_train), y_val[y_val==1].sum() / len(y_val), y_test[y_test==1].sum() / len(y_test)"
   ],
   "metadata": {
    "collapsed": false,
    "pycharm": {
     "name": "#%%\n"
    }
   }
  },
  {
   "cell_type": "markdown",
   "source": [
    "# Metric Support Function"
   ],
   "metadata": {
    "collapsed": false,
    "pycharm": {
     "name": "#%% md\n"
    }
   }
  },
  {
   "cell_type": "code",
   "execution_count": 28,
   "outputs": [],
   "source": [
    "def print_scores(model, y_true, X_val):\n",
    "    y_hat = model.predict_proba(X_val)[:,1]\n",
    "    y_pred = model.predict(X_val)\n",
    "    print(classification_report(y_true, y_pred, target_names=['irrelevant', 'relevant']))\n",
    "    print(f'Log Loss: {log_loss(y_true, y_hat):.5f}')\n",
    "    sns.heatmap(confusion_matrix(y_true, y_pred).T, square=True, annot=True, fmt='d')"
   ],
   "metadata": {
    "collapsed": false,
    "pycharm": {
     "name": "#%%\n"
    }
   }
  },
  {
   "cell_type": "code",
   "execution_count": 99,
   "outputs": [],
   "source": [
    "def get_log_loss(model, y_true, X):\n",
    "    y_hat = model.predict_proba(X)[:,1]\n",
    "    return np.round(log_loss(y_true, y_hat), 4)"
   ],
   "metadata": {
    "collapsed": false,
    "pycharm": {
     "name": "#%%\n"
    }
   }
  },
  {
   "cell_type": "code",
   "execution_count": 53,
   "outputs": [],
   "source": [
    "LogLoss = make_scorer(log_loss, greater_is_better=False, needs_proba=True)"
   ],
   "metadata": {
    "collapsed": false,
    "pycharm": {
     "name": "#%%\n"
    }
   }
  },
  {
   "cell_type": "code",
   "execution_count": 67,
   "outputs": [
    {
     "data": {
      "text/plain": "False"
     },
     "execution_count": 67,
     "metadata": {},
     "output_type": "execute_result"
    }
   ],
   "source": [
    "model1 = copy.deepcopy(model.best_estimator_)\n",
    "model2 = copy.deepcopy(model.best_estimator_)\n",
    "model1 == model2"
   ],
   "metadata": {
    "collapsed": false,
    "pycharm": {
     "name": "#%%\n"
    }
   }
  },
  {
   "cell_type": "code",
   "execution_count": 68,
   "outputs": [
    {
     "name": "stderr",
     "output_type": "stream",
     "text": [
      "/Users/Isaacbolo/opt/anaconda3/lib/python3.8/site-packages/sklearn/feature_extraction/text.py:388: UserWarning: Your stop_words may be inconsistent with your preprocessing. Tokenizing the stop words generated tokens ['ca', 'far', 'make', 'nt'] not in stop_words.\n",
      "  warnings.warn('Your stop_words may be inconsistent with '\n"
     ]
    },
    {
     "data": {
      "text/plain": "Pipeline(steps=[('wordcount',\n                 CountVectorizer(min_df=2, ngram_range=(1, 2),\n                                 preprocessor=<function tweet_preprocessor at 0x7f949b49c310>,\n                                 stop_words='english', strip_accents='ascii')),\n                ('bayes', MultinomialNB(alpha=1))])"
     },
     "execution_count": 68,
     "metadata": {},
     "output_type": "execute_result"
    }
   ],
   "source": [
    "model1.fit(X_train, y_train)"
   ],
   "metadata": {
    "collapsed": false,
    "pycharm": {
     "name": "#%%\n"
    }
   }
  },
  {
   "cell_type": "code",
   "execution_count": 69,
   "outputs": [
    {
     "name": "stdout",
     "output_type": "stream",
     "text": [
      "              precision    recall  f1-score   support\n",
      "\n",
      "  irrelevant       0.98      0.92      0.95       279\n",
      "    relevant       0.78      0.95      0.86        80\n",
      "\n",
      "    accuracy                           0.93       359\n",
      "   macro avg       0.88      0.94      0.91       359\n",
      "weighted avg       0.94      0.93      0.93       359\n",
      "\n",
      "Log Loss: 0.31453\n"
     ]
    },
    {
     "data": {
      "text/plain": "<Figure size 432x288 with 2 Axes>",
      "image/png": "[encoded data removed]"
     },
     "metadata": {
      "needs_background": "light"
     },
     "output_type": "display_data"
    }
   ],
   "source": [
    "print_scores(model1, y_val, X_val)"
   ],
   "metadata": {
    "collapsed": false,
    "pycharm": {
     "name": "#%%\n"
    }
   }
  },
  {
   "cell_type": "code",
   "execution_count": 71,
   "outputs": [
    {
     "name": "stdout",
     "output_type": "stream",
     "text": [
      "              precision    recall  f1-score   support\n",
      "\n",
      "  irrelevant       0.99      0.96      0.98       279\n",
      "    relevant       0.89      0.96      0.92        80\n",
      "\n",
      "    accuracy                           0.96       359\n",
      "   macro avg       0.94      0.96      0.95       359\n",
      "weighted avg       0.97      0.96      0.96       359\n",
      "\n",
      "Log Loss: 0.15155\n"
     ]
    },
    {
     "data": {
      "text/plain": "<Figure size 432x288 with 2 Axes>",
      "image/png": "[encoded data removed]"
     },
     "metadata": {
      "needs_background": "light"
     },
     "output_type": "display_data"
    }
   ],
   "source": [
    "print_scores(model2, y_val, X_val)"
   ],
   "metadata": {
    "collapsed": false,
    "pycharm": {
     "name": "#%%\n"
    }
   }
  },
  {
   "cell_type": "code",
   "execution_count": 73,
   "outputs": [
    {
     "name": "stdout",
     "output_type": "stream",
     "text": [
      "              precision    recall  f1-score   support\n",
      "\n",
      "  irrelevant       1.00      0.94      0.97       291\n",
      "    relevant       0.80      0.99      0.88        68\n",
      "\n",
      "    accuracy                           0.95       359\n",
      "   macro avg       0.90      0.96      0.92       359\n",
      "weighted avg       0.96      0.95      0.95       359\n",
      "\n",
      "Log Loss: 0.19124\n"
     ]
    },
    {
     "data": {
      "text/plain": "<Figure size 432x288 with 2 Axes>",
      "image/png": "[encoded data removed]"
     },
     "metadata": {
      "needs_background": "light"
     },
     "output_type": "display_data"
    }
   ],
   "source": [
    "print_scores(model2, y_test, X_test)"
   ],
   "metadata": {
    "collapsed": false,
    "pycharm": {
     "name": "#%%\n"
    }
   }
  },
  {
   "cell_type": "markdown",
   "source": [
    "### Note:\n",
    "\n",
    "We can't compare our new model to the old model because the new training data is labeled with the old model. We can only use this data to compare new models"
   ],
   "metadata": {
    "collapsed": false,
    "pycharm": {
     "name": "#%% md\n"
    }
   }
  },
  {
   "cell_type": "markdown",
   "source": [
    "# Modeling"
   ],
   "metadata": {
    "collapsed": false,
    "pycharm": {
     "name": "#%% md\n"
    }
   }
  },
  {
   "cell_type": "code",
   "source": [
    "model.best_params_"
   ],
   "metadata": {
    "collapsed": false,
    "pycharm": {
     "name": "#%%\n"
    }
   },
   "execution_count": 80,
   "outputs": [
    {
     "data": {
      "text/plain": "{'bayes__alpha': 1,\n 'wordcount__lowercase': True,\n 'wordcount__min_df': 2,\n 'wordcount__ngram_range': (1, 2),\n 'wordcount__preprocessor': <function utility.text_normalizer.tweet_preprocessor(tweet: str) -> str>,\n 'wordcount__stop_words': 'english',\n 'wordcount__strip_accents': 'ascii'}"
     },
     "execution_count": 80,
     "metadata": {},
     "output_type": "execute_result"
    }
   ]
  },
  {
   "cell_type": "markdown",
   "source": [
    "# CV and NB"
   ],
   "metadata": {
    "collapsed": false,
    "pycharm": {
     "name": "#%% md\n"
    }
   }
  },
  {
   "cell_type": "code",
   "execution_count": 89,
   "outputs": [],
   "source": [
    "cv = CountVectorizer(lowercase=True, min_df=2, ngram_range=(1,2), preprocessor=tweet_preprocessor, stop_words='english', strip_accents='ascii')\n",
    "nb = MultinomialNB()\n",
    "pipeline = Pipeline([('cv', cv), ('nb', nb)])\n",
    "params = {\n",
    "    'nb__alpha': [5, 7, 10, 20]\n",
    "}\n",
    "search = GridSearchCV(pipeline, param_grid=params, scoring='neg_log_loss', cv=3, verbose=50, n_jobs=-1)"
   ],
   "metadata": {
    "collapsed": false,
    "pycharm": {
     "name": "#%%\n"
    }
   }
  },
  {
   "cell_type": "code",
   "execution_count": 90,
   "outputs": [
    {
     "name": "stdout",
     "output_type": "stream",
     "text": [
      "Fitting 3 folds for each of 4 candidates, totalling 12 fits\n"
     ]
    },
    {
     "name": "stderr",
     "output_type": "stream",
     "text": [
      "/Users/Isaacbolo/opt/anaconda3/lib/python3.8/site-packages/sklearn/feature_extraction/text.py:388: UserWarning: Your stop_words may be inconsistent with your preprocessing. Tokenizing the stop words generated tokens ['ca', 'far', 'make', 'nt'] not in stop_words.\n",
      "  warnings.warn('Your stop_words may be inconsistent with '\n"
     ]
    },
    {
     "data": {
      "text/plain": "GridSearchCV(cv=3,\n             estimator=Pipeline(steps=[('cv',\n                                        CountVectorizer(min_df=2,\n                                                        ngram_range=(1, 2),\n                                                        preprocessor=<function tweet_preprocessor at 0x7f949b49c310>,\n                                                        stop_words='english',\n                                                        strip_accents='ascii')),\n                                       ('nb', MultinomialNB())]),\n             n_jobs=-1, param_grid={'nb__alpha': [5, 7, 10, 20]},\n             scoring='neg_log_loss', verbose=50)"
     },
     "execution_count": 90,
     "metadata": {},
     "output_type": "execute_result"
    }
   ],
   "source": [
    "search.fit(X_train, y_train)"
   ],
   "metadata": {
    "collapsed": false,
    "pycharm": {
     "name": "#%%\n"
    }
   }
  },
  {
   "cell_type": "code",
   "execution_count": 91,
   "outputs": [
    {
     "data": {
      "text/plain": "{'nb__alpha': 5}"
     },
     "execution_count": 91,
     "metadata": {},
     "output_type": "execute_result"
    }
   ],
   "source": [
    "search.best_params_"
   ],
   "metadata": {
    "collapsed": false,
    "pycharm": {
     "name": "#%%\n"
    }
   }
  },
  {
   "cell_type": "code",
   "execution_count": 92,
   "outputs": [],
   "source": [
    "cvnb = search.best_estimator_"
   ],
   "metadata": {
    "collapsed": false,
    "pycharm": {
     "name": "#%%\n"
    }
   }
  },
  {
   "cell_type": "code",
   "execution_count": 100,
   "outputs": [
    {
     "name": "stdout",
     "output_type": "stream",
     "text": [
      "              precision    recall  f1-score   support\n",
      "\n",
      "  irrelevant       0.97      0.97      0.97       279\n",
      "    relevant       0.90      0.91      0.91        80\n",
      "\n",
      "    accuracy                           0.96       359\n",
      "   macro avg       0.94      0.94      0.94       359\n",
      "weighted avg       0.96      0.96      0.96       359\n",
      "\n",
      "Log Loss: 0.17488\n"
     ]
    },
    {
     "data": {
      "text/plain": "(None, 0.1749)"
     },
     "execution_count": 100,
     "metadata": {},
     "output_type": "execute_result"
    },
    {
     "data": {
      "text/plain": "<Figure size 432x288 with 2 Axes>",
      "image/png": "[encoded data removed]"
     },
     "metadata": {
      "needs_background": "light"
     },
     "output_type": "display_data"
    }
   ],
   "source": [
    "print_scores(cvnb, y_val, X_val), get_log_loss(cvnb, y_val, X_val)"
   ],
   "metadata": {
    "collapsed": false,
    "pycharm": {
     "name": "#%%\n"
    }
   }
  },
  {
   "cell_type": "code",
   "execution_count": 94,
   "outputs": [
    {
     "name": "stdout",
     "output_type": "stream",
     "text": [
      "              precision    recall  f1-score   support\n",
      "\n",
      "  irrelevant       0.98      0.92      0.95       279\n",
      "    relevant       0.78      0.95      0.86        80\n",
      "\n",
      "    accuracy                           0.93       359\n",
      "   macro avg       0.88      0.94      0.91       359\n",
      "weighted avg       0.94      0.93      0.93       359\n",
      "\n",
      "Log Loss: 0.31453\n"
     ]
    },
    {
     "data": {
      "text/plain": "<Figure size 432x288 with 2 Axes>",
      "image/png": "[encoded data removed]"
     },
     "metadata": {
      "needs_background": "light"
     },
     "output_type": "display_data"
    }
   ],
   "source": [
    "print_scores(model1, y_val, X_val)"
   ],
   "metadata": {
    "collapsed": false,
    "pycharm": {
     "name": "#%%\n"
    }
   }
  },
  {
   "cell_type": "markdown",
   "source": [
    "# CV SVM"
   ],
   "metadata": {
    "collapsed": false,
    "pycharm": {
     "name": "#%% md\n"
    }
   }
  },
  {
   "cell_type": "code",
   "execution_count": 166,
   "outputs": [],
   "source": [
    "svc = SVC(probability=True, class_weight='balanced')\n",
    "pipeline = Pipeline([('cv', cv), ('svc', svc)])\n",
    "params = {\n",
    "    'svc__C': np.linspace(.7, 1.3, 3),\n",
    "    'svc__kernel': ['sigmoid']\n",
    "}\n",
    "search = GridSearchCV(pipeline, param_grid=params, verbose=50, scoring='neg_log_loss', n_jobs=-1, cv=3)"
   ],
   "metadata": {
    "collapsed": false,
    "pycharm": {
     "name": "#%%\n"
    }
   }
  },
  {
   "cell_type": "code",
   "execution_count": 167,
   "outputs": [
    {
     "name": "stdout",
     "output_type": "stream",
     "text": [
      "Fitting 3 folds for each of 3 candidates, totalling 9 fits\n"
     ]
    },
    {
     "name": "stderr",
     "output_type": "stream",
     "text": [
      "/Users/Isaacbolo/opt/anaconda3/lib/python3.8/site-packages/sklearn/feature_extraction/text.py:388: UserWarning: Your stop_words may be inconsistent with your preprocessing. Tokenizing the stop words generated tokens ['ca', 'far', 'make', 'nt'] not in stop_words.\n",
      "  warnings.warn('Your stop_words may be inconsistent with '\n"
     ]
    },
    {
     "data": {
      "text/plain": "GridSearchCV(cv=3,\n             estimator=Pipeline(steps=[('cv',\n                                        CountVectorizer(min_df=2,\n                                                        ngram_range=(1, 2),\n                                                        preprocessor=<function tweet_preprocessor at 0x7f949b49c310>,\n                                                        stop_words='english',\n                                                        strip_accents='ascii')),\n                                       ('svc',\n                                        SVC(class_weight='balanced',\n                                            probability=True))]),\n             n_jobs=-1,\n             param_grid={'svc__C': array([0.7, 1. , 1.3]),\n                         'svc__kernel': ['sigmoid']},\n             scoring='neg_log_loss', verbose=50)"
     },
     "execution_count": 167,
     "metadata": {},
     "output_type": "execute_result"
    }
   ],
   "source": [
    "search.fit(X_train, y_train)"
   ],
   "metadata": {
    "collapsed": false,
    "pycharm": {
     "name": "#%%\n"
    }
   }
  },
  {
   "cell_type": "code",
   "execution_count": 168,
   "outputs": [
    {
     "data": {
      "text/plain": "{'svc__C': 1.0, 'svc__kernel': 'sigmoid'}"
     },
     "execution_count": 168,
     "metadata": {},
     "output_type": "execute_result"
    }
   ],
   "source": [
    "search.best_params_"
   ],
   "metadata": {
    "collapsed": false,
    "pycharm": {
     "name": "#%%\n"
    }
   }
  },
  {
   "cell_type": "code",
   "execution_count": 169,
   "outputs": [
    {
     "data": {
      "text/plain": "-0.1152211675082326"
     },
     "execution_count": 169,
     "metadata": {},
     "output_type": "execute_result"
    }
   ],
   "source": [
    "search.best_score_"
   ],
   "metadata": {
    "collapsed": false,
    "pycharm": {
     "name": "#%%\n"
    }
   }
  },
  {
   "cell_type": "code",
   "execution_count": 170,
   "outputs": [],
   "source": [
    "vcsvc = search.best_estimator_"
   ],
   "metadata": {
    "collapsed": false,
    "pycharm": {
     "name": "#%%\n"
    }
   }
  },
  {
   "cell_type": "code",
   "execution_count": 171,
   "outputs": [
    {
     "name": "stdout",
     "output_type": "stream",
     "text": [
      "              precision    recall  f1-score   support\n",
      "\n",
      "  irrelevant       0.97      0.96      0.97       279\n",
      "    relevant       0.87      0.91      0.89        80\n",
      "\n",
      "    accuracy                           0.95       359\n",
      "   macro avg       0.92      0.94      0.93       359\n",
      "weighted avg       0.95      0.95      0.95       359\n",
      "\n",
      "Log Loss: 0.20058\n"
     ]
    },
    {
     "data": {
      "text/plain": "<Figure size 432x288 with 2 Axes>",
      "image/png": "[encoded data removed]"
     },
     "metadata": {
      "needs_background": "light"
     },
     "output_type": "display_data"
    }
   ],
   "source": [
    "print_scores(vcsvc, y_val, X_val)"
   ],
   "metadata": {
    "collapsed": false,
    "pycharm": {
     "name": "#%%\n"
    }
   }
  },
  {
   "cell_type": "markdown",
   "source": [
    "# TFIDF and NB"
   ],
   "metadata": {
    "collapsed": false,
    "pycharm": {
     "name": "#%% md\n"
    }
   }
  },
  {
   "cell_type": "code",
   "execution_count": 145,
   "outputs": [],
   "source": [
    "tfidf = TfidfVectorizer(smooth_idf=True, strip_accents='ascii', lowercase=True, max_df=2, min_df=2, preprocessor=tweet_preprocessor, stop_words='english')\n",
    "nb = MultinomialNB()\n",
    "pipeline = Pipeline([('tfidf', tfidf), ('nb', nb)])\n",
    "params = {\n",
    "    'tfidf__ngram_range': [(1,1), (1,2)],\n",
    "    'nb__alpha': np.linspace(.5, 5, 4)\n",
    "}\n",
    "search = GridSearchCV(pipeline, param_grid=params, cv=3, verbose=50, n_jobs=-1, scoring='neg_log_loss')"
   ],
   "metadata": {
    "collapsed": false,
    "pycharm": {
     "name": "#%%\n"
    }
   }
  },
  {
   "cell_type": "code",
   "execution_count": 146,
   "outputs": [
    {
     "name": "stdout",
     "output_type": "stream",
     "text": [
      "Fitting 3 folds for each of 8 candidates, totalling 24 fits\n"
     ]
    },
    {
     "name": "stderr",
     "output_type": "stream",
     "text": [
      "/Users/Isaacbolo/opt/anaconda3/lib/python3.8/site-packages/sklearn/feature_extraction/text.py:388: UserWarning: Your stop_words may be inconsistent with your preprocessing. Tokenizing the stop words generated tokens ['ca', 'far', 'make', 'nt'] not in stop_words.\n",
      "  warnings.warn('Your stop_words may be inconsistent with '\n"
     ]
    },
    {
     "data": {
      "text/plain": "GridSearchCV(cv=3,\n             estimator=Pipeline(steps=[('tfidf',\n                                        TfidfVectorizer(max_df=2, min_df=2,\n                                                        preprocessor=<function tweet_preprocessor at 0x7f949b49c310>,\n                                                        stop_words='english',\n                                                        strip_accents='ascii')),\n                                       ('nb', MultinomialNB())]),\n             n_jobs=-1,\n             param_grid={'nb__alpha': array([0.5, 2. , 3.5, 5. ]),\n                         'tfidf__ngram_range': [(1, 1), (1, 2)]},\n             scoring='neg_log_loss', verbose=50)"
     },
     "execution_count": 146,
     "metadata": {},
     "output_type": "execute_result"
    }
   ],
   "source": [
    "search.fit(X_train, y_train)"
   ],
   "metadata": {
    "collapsed": false,
    "pycharm": {
     "name": "#%%\n"
    }
   }
  },
  {
   "cell_type": "code",
   "execution_count": 147,
   "outputs": [
    {
     "data": {
      "text/plain": "{'nb__alpha': 0.5, 'tfidf__ngram_range': (1, 2)}"
     },
     "execution_count": 147,
     "metadata": {},
     "output_type": "execute_result"
    }
   ],
   "source": [
    "search.best_params_"
   ],
   "metadata": {
    "collapsed": false,
    "pycharm": {
     "name": "#%%\n"
    }
   }
  },
  {
   "cell_type": "code",
   "execution_count": 148,
   "outputs": [
    {
     "data": {
      "text/plain": "-0.425723379687494"
     },
     "execution_count": 148,
     "metadata": {},
     "output_type": "execute_result"
    }
   ],
   "source": [
    "search.best_score_"
   ],
   "metadata": {
    "collapsed": false,
    "pycharm": {
     "name": "#%%\n"
    }
   }
  },
  {
   "cell_type": "code",
   "execution_count": 149,
   "outputs": [],
   "source": [
    "tfidfnb = search.best_estimator_"
   ],
   "metadata": {
    "collapsed": false,
    "pycharm": {
     "name": "#%%\n"
    }
   }
  },
  {
   "cell_type": "code",
   "execution_count": 150,
   "outputs": [
    {
     "name": "stdout",
     "output_type": "stream",
     "text": [
      "              precision    recall  f1-score   support\n",
      "\n",
      "  irrelevant       0.83      0.97      0.89       279\n",
      "    relevant       0.72      0.29      0.41        80\n",
      "\n",
      "    accuracy                           0.82       359\n",
      "   macro avg       0.77      0.63      0.65       359\n",
      "weighted avg       0.80      0.82      0.78       359\n",
      "\n",
      "Log Loss: 0.45973\n"
     ]
    },
    {
     "data": {
      "text/plain": "<Figure size 432x288 with 2 Axes>",
      "image/png": "[encoded data removed]"
     },
     "metadata": {
      "needs_background": "light"
     },
     "output_type": "display_data"
    }
   ],
   "source": [
    "print_scores(tfidfnb, y_val, X_val)"
   ],
   "metadata": {
    "collapsed": false,
    "pycharm": {
     "name": "#%%\n"
    }
   }
  },
  {
   "cell_type": "markdown",
   "source": [
    "# TFIDF and SVM"
   ],
   "metadata": {
    "collapsed": false,
    "pycharm": {
     "name": "#%% md\n"
    }
   }
  },
  {
   "cell_type": "code",
   "execution_count": 151,
   "outputs": [],
   "source": [
    "pipeline = Pipeline([('tfidf', tfidf), ('svc', svc)])\n",
    "params = {\n",
    "    'tfidf__ngram_range': [(1,1), (1,2)],\n",
    "    'svc__C': np.linspace(.5, 5, 5)\n",
    "}\n",
    "search = GridSearchCV(pipeline, param_grid=params, cv=3, verbose=50, n_jobs=-1, scoring='neg_log_loss')"
   ],
   "metadata": {
    "collapsed": false,
    "pycharm": {
     "name": "#%%\n"
    }
   }
  },
  {
   "cell_type": "code",
   "execution_count": 152,
   "outputs": [
    {
     "name": "stdout",
     "output_type": "stream",
     "text": [
      "Fitting 3 folds for each of 10 candidates, totalling 30 fits\n"
     ]
    },
    {
     "name": "stderr",
     "output_type": "stream",
     "text": [
      "/Users/Isaacbolo/opt/anaconda3/lib/python3.8/site-packages/sklearn/feature_extraction/text.py:388: UserWarning: Your stop_words may be inconsistent with your preprocessing. Tokenizing the stop words generated tokens ['ca', 'far', 'make', 'nt'] not in stop_words.\n",
      "  warnings.warn('Your stop_words may be inconsistent with '\n"
     ]
    },
    {
     "data": {
      "text/plain": "GridSearchCV(cv=3,\n             estimator=Pipeline(steps=[('tfidf',\n                                        TfidfVectorizer(max_df=2, min_df=2,\n                                                        preprocessor=<function tweet_preprocessor at 0x7f949b49c310>,\n                                                        stop_words='english',\n                                                        strip_accents='ascii')),\n                                       ('svc',\n                                        SVC(class_weight='balanced',\n                                            probability=True))]),\n             n_jobs=-1,\n             param_grid={'svc__C': array([0.5  , 1.625, 2.75 , 3.875, 5.   ]),\n                         'tfidf__ngram_range': [(1, 1), (1, 2)]},\n             scoring='neg_log_loss', verbose=50)"
     },
     "execution_count": 152,
     "metadata": {},
     "output_type": "execute_result"
    }
   ],
   "source": [
    "search.fit(X_train, y_train)"
   ],
   "metadata": {
    "collapsed": false,
    "pycharm": {
     "name": "#%%\n"
    }
   }
  },
  {
   "cell_type": "code",
   "execution_count": 153,
   "outputs": [
    {
     "data": {
      "text/plain": "-0.4496956888216727"
     },
     "execution_count": 153,
     "metadata": {},
     "output_type": "execute_result"
    }
   ],
   "source": [
    "search.best_score_"
   ],
   "metadata": {
    "collapsed": false,
    "pycharm": {
     "name": "#%%\n"
    }
   }
  },
  {
   "cell_type": "code",
   "execution_count": 154,
   "outputs": [
    {
     "data": {
      "text/plain": "{'svc__C': 0.5, 'tfidf__ngram_range': (1, 2)}"
     },
     "execution_count": 154,
     "metadata": {},
     "output_type": "execute_result"
    }
   ],
   "source": [
    "search.best_params_"
   ],
   "metadata": {
    "collapsed": false,
    "pycharm": {
     "name": "#%%\n"
    }
   }
  },
  {
   "cell_type": "code",
   "execution_count": 155,
   "outputs": [],
   "source": [
    "tfidfsvc = search.best_estimator_"
   ],
   "metadata": {
    "collapsed": false,
    "pycharm": {
     "name": "#%%\n"
    }
   }
  },
  {
   "cell_type": "code",
   "execution_count": 158,
   "outputs": [
    {
     "name": "stdout",
     "output_type": "stream",
     "text": [
      "              precision    recall  f1-score   support\n",
      "\n",
      "  irrelevant       0.86      0.91      0.88       279\n",
      "    relevant       0.61      0.46      0.52        80\n",
      "\n",
      "    accuracy                           0.81       359\n",
      "   macro avg       0.73      0.69      0.70       359\n",
      "weighted avg       0.80      0.81      0.80       359\n",
      "\n",
      "Log Loss: 0.48749\n"
     ]
    },
    {
     "data": {
      "text/plain": "<Figure size 432x288 with 2 Axes>",
      "image/png": "[encoded data removed]"
     },
     "metadata": {
      "needs_background": "light"
     },
     "output_type": "display_data"
    }
   ],
   "source": [
    "print_scores(tfidfsvc, y_val, X_val)"
   ],
   "metadata": {
    "collapsed": false,
    "pycharm": {
     "name": "#%%\n"
    }
   }
  },
  {
   "cell_type": "code",
   "execution_count": 172,
   "outputs": [
    {
     "name": "stdout",
     "output_type": "stream",
     "text": [
      "CountVector and NB log loss = 0.1749\n",
      "CountVector and SVC log loss = 0.2006\n"
     ]
    }
   ],
   "source": [
    "print('CountVector and NB log loss =', get_log_loss(cvnb, y_val, X_val))\n",
    "print('CountVector and SVC log loss =', get_log_loss(vcsvc, y_val, X_val))"
   ],
   "metadata": {
    "collapsed": false,
    "pycharm": {
     "name": "#%%\n"
    }
   }
  },
  {
   "cell_type": "markdown",
   "source": [
    "Final model is CountVector and NB"
   ],
   "metadata": {
    "collapsed": false,
    "pycharm": {
     "name": "#%% md\n"
    }
   }
  },
  {
   "cell_type": "code",
   "execution_count": 173,
   "outputs": [
    {
     "name": "stdout",
     "output_type": "stream",
     "text": [
      "              precision    recall  f1-score   support\n",
      "\n",
      "  irrelevant       0.98      0.97      0.97       291\n",
      "    relevant       0.86      0.91      0.89        68\n",
      "\n",
      "    accuracy                           0.96       359\n",
      "   macro avg       0.92      0.94      0.93       359\n",
      "weighted avg       0.96      0.96      0.96       359\n",
      "\n",
      "Log Loss: 0.15288\n"
     ]
    },
    {
     "data": {
      "text/plain": "<Figure size 432x288 with 2 Axes>",
      "image/png": "[encoded data removed]"
     },
     "metadata": {
      "needs_background": "light"
     },
     "output_type": "display_data"
    }
   ],
   "source": [
    "print_scores(cvnb, y_test, X_test)"
   ],
   "metadata": {
    "collapsed": false,
    "pycharm": {
     "name": "#%%\n"
    }
   }
  },
  {
   "cell_type": "code",
   "execution_count": 174,
   "outputs": [],
   "source": [
    "import joblib"
   ],
   "metadata": {
    "collapsed": false,
    "pycharm": {
     "name": "#%%\n"
    }
   }
  },
  {
   "cell_type": "code",
   "execution_count": 175,
   "outputs": [],
   "source": [
    "with open('../bayes_model/best_bayes_model_01.pkl', 'wb') as f:\n",
    "    joblib.dump(cvnb, f)"
   ],
   "metadata": {
    "collapsed": false,
    "pycharm": {
     "name": "#%%\n"
    }
   }
  },
  {
   "cell_type": "code",
   "execution_count": 176,
   "outputs": [],
   "source": [
    "m = joblib.load('../bayes_model/best_bayes_model_01.pkl')"
   ],
   "metadata": {
    "collapsed": false,
    "pycharm": {
     "name": "#%%\n"
    }
   }
  },
  {
   "cell_type": "code",
   "execution_count": 184,
   "outputs": [],
   "source": [
    "text = ['I saw a coyote eating a dog', 'Go Coyotes!', 'When do you think well see another coyote?', 'At home yesterday I saw a coyote hiding in the bush']"
   ],
   "metadata": {
    "collapsed": false,
    "pycharm": {
     "name": "#%%\n"
    }
   }
  },
  {
   "cell_type": "code",
   "execution_count": 185,
   "outputs": [
    {
     "data": {
      "text/plain": "array([1., 0., 0., 1.])"
     },
     "execution_count": 185,
     "metadata": {},
     "output_type": "execute_result"
    }
   ],
   "source": [
    "m.predict(text)"
   ],
   "metadata": {
    "collapsed": false,
    "pycharm": {
     "name": "#%%\n"
    }
   }
  },
  {
   "cell_type": "markdown",
   "source": [
    "# Need to check how to compare this model to the old model"
   ],
   "metadata": {
    "collapsed": false,
    "pycharm": {
     "name": "#%% md\n"
    }
   }
  },
  {
   "cell_type": "code",
   "execution_count": null,
   "outputs": [],
   "source": [],
   "metadata": {
    "collapsed": false,
    "pycharm": {
     "name": "#%%\n"
    }
   }
  }
 ],
 "metadata": {
  "kernelspec": {
   "display_name": "Python 3",
   "language": "python",
   "name": "python3"
  },
  "language_info": {
   "codemirror_mode": {
    "name": "ipython",
    "version": 2
   },
   "file_extension": ".py",
   "mimetype": "text/x-python",
   "name": "python",
   "nbconvert_exporter": "python",
   "pygments_lexer": "ipython2",
   "version": "2.7.6"
  }
 },
 "nbformat": 4,
 "nbformat_minor": 0
}