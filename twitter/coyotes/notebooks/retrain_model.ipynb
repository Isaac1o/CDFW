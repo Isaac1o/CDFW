{
 "cells": [
  {
   "cell_type": "code",
   "execution_count": 1,
   "metadata": {
    "collapsed": true
   },
   "outputs": [],
   "source": [
    "import pandas as pd\n",
    "import numpy as np\n",
    "from sklearn.naive_bayes import MultinomialNB\n",
    "from sklearn.naive_bayes import ComplementNB\n",
    "from sklearn.svm import SVC\n",
    "from sklearn.model_selection import train_test_split\n",
    "from sklearn.feature_extraction.text import CountVectorizer\n",
    "from utility.get_twitter import *\n",
    "from sklearn.model_selection import GridSearchCV, RandomizedSearchCV\n",
    "from sklearn.pipeline import Pipeline\n",
    "from sklearn.metrics import log_loss, make_scorer\n",
    "from utility.text_normalizer import *\n",
    "from sklearn.metrics import confusion_matrix\n",
    "from sklearn.metrics import classification_report\n",
    "import seaborn as sns\n",
    "from sklearn.feature_extraction.text import TfidfVectorizer\n",
    "import joblib\n",
    "import copy"
   ]
  },
  {
   "cell_type": "code",
   "execution_count": 2,
   "outputs": [],
   "source": [
    "pd.set_option(\"display.max_colwidth\", None)"
   ],
   "metadata": {
    "collapsed": false,
    "pycharm": {
     "name": "#%%\n"
    }
   }
  },
  {
   "cell_type": "code",
   "execution_count": 3,
   "metadata": {
    "pycharm": {
     "name": "#%%\n"
    }
   },
   "outputs": [
    {
     "data": {
      "text/plain": "      date      time  \\\n0  11/8/21  17:11:01   \n1  11/8/21  14:25:52   \n2  11/8/21  12:27:50   \n3  11/8/21  10:51:07   \n4  11/8/21   8:28:38   \n\n                                                                                                                                                                                                                                                                                                tweet  \\\n0                                                                       Defender Radio Live: Canid Response Teams and Coexistence Lesley Sampson of Coyote Watch Canada joins Defender Radio Podcast host Michael Howie for a live event and recording in Hamilton, Ontario.  https://t.co/jLycjr3Xv7   \n1                                                                                                                                                                                                                                                              Yaw 💃💃. Good Morning Twitter Family 🤩✨   \n2  At this moment, I have a neighbor that lives 750 away. He keeps his two Labrador retrievers in a 15’ish square pen with a roof outside at night. How do I know this? Because I came hear them barking. Constantly. \\n\\nApparently they just won a debate with the coyotes. https://t.co/oJV5Swuc3f   \n3   @AstroBackyard Had the coyotes barking within a few hundred feet of me in Joshua Tree tonight. I shined a light in their direction to let them know I’m aware of them. Oddly, one sounded like a dog.\\n\\nWhat freaked me out more were the hikers somewhere in the dark. I just heard foot steps!   \n4                                                                                                                                                                                              really just saw a coyote cross the street and stare at me as i drove by 😭😭😭 what the, la habra heights   \n\n       tweet_id hashtags       user_id        username         location  \\\n0  1.460000e+18       []  9.202440e+08  CoyoteWatchCAN     Ontario, CA    \n1  1.460000e+18       []  1.460000e+18   coyote_kissa1     Pasadena, CA   \n2  1.460000e+18       []  1.330000e+18   DavidCMaybury       Perris, CA   \n3  1.460000e+18       []  6.883438e+07     darrenreely  Los Angeles, CA   \n4  1.460000e+18       []  2.323440e+09      angeIiques          she/her   \n\n   num_followers  geo_enabled  long  lat  relevant  neg_sent_score  \\\n0           4420         True   NaN  NaN       0.0           0.000   \n1             57        False   NaN  NaN       0.0           0.000   \n2            438         True   NaN  NaN       1.0           0.000   \n3            147         True   NaN  NaN       1.0           0.039   \n4            109         True   NaN  NaN       1.0           0.256   \n\n   neu_sent_score  pos_sent_score  compound_sent_score sent_class  \n0           0.912           0.088               0.2023   positive  \n1           0.634           0.366               0.6369   positive  \n2           0.930           0.070               0.5719   positive  \n3           0.912           0.049               0.1511   positive  \n4           0.744           0.000              -0.8519   negative  ",
      "text/html": "<div>\n<style scoped>\n    .dataframe tbody tr th:only-of-type {\n        vertical-align: middle;\n    }\n\n    .dataframe tbody tr th {\n        vertical-align: top;\n    }\n\n    .dataframe thead th {\n        text-align: right;\n    }\n</style>\n<table border=\"1\" class=\"dataframe\">\n  <thead>\n    <tr style=\"text-align: right;\">\n      <th></th>\n      <th>date</th>\n      <th>time</th>\n      <th>tweet</th>\n      <th>tweet_id</th>\n      <th>hashtags</th>\n      <th>user_id</th>\n      <th>username</th>\n      <th>location</th>\n      <th>num_followers</th>\n      <th>geo_enabled</th>\n      <th>long</th>\n      <th>lat</th>\n      <th>relevant</th>\n      <th>neg_sent_score</th>\n      <th>neu_sent_score</th>\n      <th>pos_sent_score</th>\n      <th>compound_sent_score</th>\n      <th>sent_class</th>\n    </tr>\n  </thead>\n  <tbody>\n    <tr>\n      <th>0</th>\n      <td>11/8/21</td>\n      <td>17:11:01</td>\n      <td>Defender Radio Live: Canid Response Teams and Coexistence Lesley Sampson of Coyote Watch Canada joins Defender Radio Podcast host Michael Howie for a live event and recording in Hamilton, Ontario.  https://t.co/jLycjr3Xv7</td>\n      <td>1.460000e+18</td>\n      <td>[]</td>\n      <td>9.202440e+08</td>\n      <td>CoyoteWatchCAN</td>\n      <td>Ontario, CA</td>\n      <td>4420</td>\n      <td>True</td>\n      <td>NaN</td>\n      <td>NaN</td>\n      <td>0.0</td>\n      <td>0.000</td>\n      <td>0.912</td>\n      <td>0.088</td>\n      <td>0.2023</td>\n      <td>positive</td>\n    </tr>\n    <tr>\n      <th>1</th>\n      <td>11/8/21</td>\n      <td>14:25:52</td>\n      <td>Yaw 💃💃. Good Morning Twitter Family 🤩✨</td>\n      <td>1.460000e+18</td>\n      <td>[]</td>\n      <td>1.460000e+18</td>\n      <td>coyote_kissa1</td>\n      <td>Pasadena, CA</td>\n      <td>57</td>\n      <td>False</td>\n      <td>NaN</td>\n      <td>NaN</td>\n      <td>0.0</td>\n      <td>0.000</td>\n      <td>0.634</td>\n      <td>0.366</td>\n      <td>0.6369</td>\n      <td>positive</td>\n    </tr>\n    <tr>\n      <th>2</th>\n      <td>11/8/21</td>\n      <td>12:27:50</td>\n      <td>At this moment, I have a neighbor that lives 750 away. He keeps his two Labrador retrievers in a 15’ish square pen with a roof outside at night. How do I know this? Because I came hear them barking. Constantly. \\n\\nApparently they just won a debate with the coyotes. https://t.co/oJV5Swuc3f</td>\n      <td>1.460000e+18</td>\n      <td>[]</td>\n      <td>1.330000e+18</td>\n      <td>DavidCMaybury</td>\n      <td>Perris, CA</td>\n      <td>438</td>\n      <td>True</td>\n      <td>NaN</td>\n      <td>NaN</td>\n      <td>1.0</td>\n      <td>0.000</td>\n      <td>0.930</td>\n      <td>0.070</td>\n      <td>0.5719</td>\n      <td>positive</td>\n    </tr>\n    <tr>\n      <th>3</th>\n      <td>11/8/21</td>\n      <td>10:51:07</td>\n      <td>@AstroBackyard Had the coyotes barking within a few hundred feet of me in Joshua Tree tonight. I shined a light in their direction to let them know I’m aware of them. Oddly, one sounded like a dog.\\n\\nWhat freaked me out more were the hikers somewhere in the dark. I just heard foot steps!</td>\n      <td>1.460000e+18</td>\n      <td>[]</td>\n      <td>6.883438e+07</td>\n      <td>darrenreely</td>\n      <td>Los Angeles, CA</td>\n      <td>147</td>\n      <td>True</td>\n      <td>NaN</td>\n      <td>NaN</td>\n      <td>1.0</td>\n      <td>0.039</td>\n      <td>0.912</td>\n      <td>0.049</td>\n      <td>0.1511</td>\n      <td>positive</td>\n    </tr>\n    <tr>\n      <th>4</th>\n      <td>11/8/21</td>\n      <td>8:28:38</td>\n      <td>really just saw a coyote cross the street and stare at me as i drove by 😭😭😭 what the, la habra heights</td>\n      <td>1.460000e+18</td>\n      <td>[]</td>\n      <td>2.323440e+09</td>\n      <td>angeIiques</td>\n      <td>she/her</td>\n      <td>109</td>\n      <td>True</td>\n      <td>NaN</td>\n      <td>NaN</td>\n      <td>1.0</td>\n      <td>0.256</td>\n      <td>0.744</td>\n      <td>0.000</td>\n      <td>-0.8519</td>\n      <td>negative</td>\n    </tr>\n  </tbody>\n</table>\n</div>"
     },
     "execution_count": 3,
     "metadata": {},
     "output_type": "execute_result"
    }
   ],
   "source": [
    "data = pd.read_csv('../data/all_queries.csv')\n",
    "data.head()"
   ]
  },
  {
   "cell_type": "code",
   "execution_count": 4,
   "metadata": {
    "pycharm": {
     "name": "#%%\n"
    }
   },
   "outputs": [
    {
     "data": {
      "text/plain": "                                                                                                                                                                                                                                                                                                tweet  \\\n0                                                                       Defender Radio Live: Canid Response Teams and Coexistence Lesley Sampson of Coyote Watch Canada joins Defender Radio Podcast host Michael Howie for a live event and recording in Hamilton, Ontario.  https://t.co/jLycjr3Xv7   \n1                                                                                                                                                                                                                                                              Yaw 💃💃. Good Morning Twitter Family 🤩✨   \n2  At this moment, I have a neighbor that lives 750 away. He keeps his two Labrador retrievers in a 15’ish square pen with a roof outside at night. How do I know this? Because I came hear them barking. Constantly. \\n\\nApparently they just won a debate with the coyotes. https://t.co/oJV5Swuc3f   \n3   @AstroBackyard Had the coyotes barking within a few hundred feet of me in Joshua Tree tonight. I shined a light in their direction to let them know I’m aware of them. Oddly, one sounded like a dog.\\n\\nWhat freaked me out more were the hikers somewhere in the dark. I just heard foot steps!   \n4                                                                                                                                                                                              really just saw a coyote cross the street and stare at me as i drove by 😭😭😭 what the, la habra heights   \n\n   relevant  \n0       0.0  \n1       0.0  \n2       1.0  \n3       1.0  \n4       1.0  ",
      "text/html": "<div>\n<style scoped>\n    .dataframe tbody tr th:only-of-type {\n        vertical-align: middle;\n    }\n\n    .dataframe tbody tr th {\n        vertical-align: top;\n    }\n\n    .dataframe thead th {\n        text-align: right;\n    }\n</style>\n<table border=\"1\" class=\"dataframe\">\n  <thead>\n    <tr style=\"text-align: right;\">\n      <th></th>\n      <th>tweet</th>\n      <th>relevant</th>\n    </tr>\n  </thead>\n  <tbody>\n    <tr>\n      <th>0</th>\n      <td>Defender Radio Live: Canid Response Teams and Coexistence Lesley Sampson of Coyote Watch Canada joins Defender Radio Podcast host Michael Howie for a live event and recording in Hamilton, Ontario.  https://t.co/jLycjr3Xv7</td>\n      <td>0.0</td>\n    </tr>\n    <tr>\n      <th>1</th>\n      <td>Yaw 💃💃. Good Morning Twitter Family 🤩✨</td>\n      <td>0.0</td>\n    </tr>\n    <tr>\n      <th>2</th>\n      <td>At this moment, I have a neighbor that lives 750 away. He keeps his two Labrador retrievers in a 15’ish square pen with a roof outside at night. How do I know this? Because I came hear them barking. Constantly. \\n\\nApparently they just won a debate with the coyotes. https://t.co/oJV5Swuc3f</td>\n      <td>1.0</td>\n    </tr>\n    <tr>\n      <th>3</th>\n      <td>@AstroBackyard Had the coyotes barking within a few hundred feet of me in Joshua Tree tonight. I shined a light in their direction to let them know I’m aware of them. Oddly, one sounded like a dog.\\n\\nWhat freaked me out more were the hikers somewhere in the dark. I just heard foot steps!</td>\n      <td>1.0</td>\n    </tr>\n    <tr>\n      <th>4</th>\n      <td>really just saw a coyote cross the street and stare at me as i drove by 😭😭😭 what the, la habra heights</td>\n      <td>1.0</td>\n    </tr>\n  </tbody>\n</table>\n</div>"
     },
     "execution_count": 4,
     "metadata": {},
     "output_type": "execute_result"
    }
   ],
   "source": [
    "df = data[['tweet', 'relevant']]\n",
    "df.head()"
   ]
  },
  {
   "cell_type": "code",
   "execution_count": 5,
   "metadata": {
    "pycharm": {
     "name": "#%%\n"
    }
   },
   "outputs": [
    {
     "name": "stderr",
     "output_type": "stream",
     "text": [
      "/Users/Isaacbolo/opt/anaconda3/lib/python3.9/site-packages/sklearn/base.py:329: UserWarning: Trying to unpickle estimator CountVectorizer from version 0.24.1 when using version 1.0.2. This might lead to breaking code or invalid results. Use at your own risk. For more info please refer to:\n",
      "https://scikit-learn.org/stable/modules/model_persistence.html#security-maintainability-limitations\n",
      "  warnings.warn(\n",
      "/Users/Isaacbolo/opt/anaconda3/lib/python3.9/site-packages/sklearn/base.py:329: UserWarning: Trying to unpickle estimator MultinomialNB from version 0.24.1 when using version 1.0.2. This might lead to breaking code or invalid results. Use at your own risk. For more info please refer to:\n",
      "https://scikit-learn.org/stable/modules/model_persistence.html#security-maintainability-limitations\n",
      "  warnings.warn(\n",
      "/Users/Isaacbolo/opt/anaconda3/lib/python3.9/site-packages/sklearn/base.py:329: UserWarning: Trying to unpickle estimator Pipeline from version 0.24.1 when using version 1.0.2. This might lead to breaking code or invalid results. Use at your own risk. For more info please refer to:\n",
      "https://scikit-learn.org/stable/modules/model_persistence.html#security-maintainability-limitations\n",
      "  warnings.warn(\n",
      "/Users/Isaacbolo/opt/anaconda3/lib/python3.9/site-packages/sklearn/base.py:329: UserWarning: Trying to unpickle estimator GridSearchCV from version 0.24.1 when using version 1.0.2. This might lead to breaking code or invalid results. Use at your own risk. For more info please refer to:\n",
      "https://scikit-learn.org/stable/modules/model_persistence.html#security-maintainability-limitations\n",
      "  warnings.warn(\n"
     ]
    }
   ],
   "source": [
    "model = joblib.load('../bayes_model/best_bayes_pipeline.pkl')"
   ]
  },
  {
   "cell_type": "code",
   "execution_count": 6,
   "metadata": {
    "pycharm": {
     "name": "#%%\n"
    }
   },
   "outputs": [
    {
     "data": {
      "text/plain": "{'bayes__alpha': 1,\n 'wordcount__lowercase': True,\n 'wordcount__min_df': 2,\n 'wordcount__ngram_range': (1, 2),\n 'wordcount__preprocessor': <function utility.text_normalizer.tweet_preprocessor(tweet: str) -> str>,\n 'wordcount__stop_words': 'english',\n 'wordcount__strip_accents': 'ascii'}"
     },
     "execution_count": 6,
     "metadata": {},
     "output_type": "execute_result"
    }
   ],
   "source": [
    "model.best_params_"
   ]
  },
  {
   "cell_type": "code",
   "execution_count": 11,
   "metadata": {
    "pycharm": {
     "name": "#%%\n"
    }
   },
   "outputs": [
    {
     "name": "stderr",
     "output_type": "stream",
     "text": [
      "/Users/Isaacbolo/opt/anaconda3/lib/python3.9/site-packages/sklearn/feature_extraction/text.py:396: UserWarning: Your stop_words may be inconsistent with your preprocessing. Tokenizing the stop words generated tokens ['far', 'make'] not in stop_words.\n",
      "  warnings.warn(\n"
     ]
    }
   ],
   "source": [
    "predic_proba = model.predict_proba(df['tweet'])"
   ]
  },
  {
   "cell_type": "code",
   "execution_count": 12,
   "metadata": {
    "pycharm": {
     "name": "#%%\n"
    }
   },
   "outputs": [
    {
     "name": "stderr",
     "output_type": "stream",
     "text": [
      "/var/folders/50/cgfcx8d97_52qyt5jj7jf52w0000gn/T/ipykernel_92734/3948545355.py:1: SettingWithCopyWarning: \n",
      "A value is trying to be set on a copy of a slice from a DataFrame.\n",
      "Try using .loc[row_indexer,col_indexer] = value instead\n",
      "\n",
      "See the caveats in the documentation: https://pandas.pydata.org/pandas-docs/stable/user_guide/indexing.html#returning-a-view-versus-a-copy\n",
      "  df['proba_0'] = predic_proba[:,0]\n",
      "/var/folders/50/cgfcx8d97_52qyt5jj7jf52w0000gn/T/ipykernel_92734/3948545355.py:2: SettingWithCopyWarning: \n",
      "A value is trying to be set on a copy of a slice from a DataFrame.\n",
      "Try using .loc[row_indexer,col_indexer] = value instead\n",
      "\n",
      "See the caveats in the documentation: https://pandas.pydata.org/pandas-docs/stable/user_guide/indexing.html#returning-a-view-versus-a-copy\n",
      "  df['proba_1'] = predic_proba[:,1]\n"
     ]
    }
   ],
   "source": [
    "df['proba_0'] = predic_proba[:,0]\n",
    "df['proba_1'] = predic_proba[:,1]"
   ]
  },
  {
   "cell_type": "code",
   "execution_count": 13,
   "metadata": {
    "pycharm": {
     "name": "#%%\n"
    }
   },
   "outputs": [
    {
     "data": {
      "text/plain": "                                                                                                                                                                                                                                                                                                tweet  \\\n0                                                                       Defender Radio Live: Canid Response Teams and Coexistence Lesley Sampson of Coyote Watch Canada joins Defender Radio Podcast host Michael Howie for a live event and recording in Hamilton, Ontario.  https://t.co/jLycjr3Xv7   \n1                                                                                                                                                                                                                                                              Yaw 💃💃. Good Morning Twitter Family 🤩✨   \n2  At this moment, I have a neighbor that lives 750 away. He keeps his two Labrador retrievers in a 15’ish square pen with a roof outside at night. How do I know this? Because I came hear them barking. Constantly. \\n\\nApparently they just won a debate with the coyotes. https://t.co/oJV5Swuc3f   \n3   @AstroBackyard Had the coyotes barking within a few hundred feet of me in Joshua Tree tonight. I shined a light in their direction to let them know I’m aware of them. Oddly, one sounded like a dog.\\n\\nWhat freaked me out more were the hikers somewhere in the dark. I just heard foot steps!   \n4                                                                                                                                                                                              really just saw a coyote cross the street and stare at me as i drove by 😭😭😭 what the, la habra heights   \n\n   relevant   proba_0   proba_1  \n0       0.0  0.887770  0.112230  \n1       0.0  0.641706  0.358294  \n2       1.0  0.035002  0.964998  \n3       1.0  0.547319  0.452681  \n4       1.0  0.047740  0.952260  ",
      "text/html": "<div>\n<style scoped>\n    .dataframe tbody tr th:only-of-type {\n        vertical-align: middle;\n    }\n\n    .dataframe tbody tr th {\n        vertical-align: top;\n    }\n\n    .dataframe thead th {\n        text-align: right;\n    }\n</style>\n<table border=\"1\" class=\"dataframe\">\n  <thead>\n    <tr style=\"text-align: right;\">\n      <th></th>\n      <th>tweet</th>\n      <th>relevant</th>\n      <th>proba_0</th>\n      <th>proba_1</th>\n    </tr>\n  </thead>\n  <tbody>\n    <tr>\n      <th>0</th>\n      <td>Defender Radio Live: Canid Response Teams and Coexistence Lesley Sampson of Coyote Watch Canada joins Defender Radio Podcast host Michael Howie for a live event and recording in Hamilton, Ontario.  https://t.co/jLycjr3Xv7</td>\n      <td>0.0</td>\n      <td>0.887770</td>\n      <td>0.112230</td>\n    </tr>\n    <tr>\n      <th>1</th>\n      <td>Yaw 💃💃. Good Morning Twitter Family 🤩✨</td>\n      <td>0.0</td>\n      <td>0.641706</td>\n      <td>0.358294</td>\n    </tr>\n    <tr>\n      <th>2</th>\n      <td>At this moment, I have a neighbor that lives 750 away. He keeps his two Labrador retrievers in a 15’ish square pen with a roof outside at night. How do I know this? Because I came hear them barking. Constantly. \\n\\nApparently they just won a debate with the coyotes. https://t.co/oJV5Swuc3f</td>\n      <td>1.0</td>\n      <td>0.035002</td>\n      <td>0.964998</td>\n    </tr>\n    <tr>\n      <th>3</th>\n      <td>@AstroBackyard Had the coyotes barking within a few hundred feet of me in Joshua Tree tonight. I shined a light in their direction to let them know I’m aware of them. Oddly, one sounded like a dog.\\n\\nWhat freaked me out more were the hikers somewhere in the dark. I just heard foot steps!</td>\n      <td>1.0</td>\n      <td>0.547319</td>\n      <td>0.452681</td>\n    </tr>\n    <tr>\n      <th>4</th>\n      <td>really just saw a coyote cross the street and stare at me as i drove by 😭😭😭 what the, la habra heights</td>\n      <td>1.0</td>\n      <td>0.047740</td>\n      <td>0.952260</td>\n    </tr>\n  </tbody>\n</table>\n</div>"
     },
     "execution_count": 13,
     "metadata": {},
     "output_type": "execute_result"
    }
   ],
   "source": [
    "df.head()"
   ]
  },
  {
   "cell_type": "code",
   "execution_count": 14,
   "metadata": {
    "pycharm": {
     "name": "#%%\n"
    }
   },
   "outputs": [
    {
     "data": {
      "text/plain": "(1802, 4)"
     },
     "execution_count": 14,
     "metadata": {},
     "output_type": "execute_result"
    }
   ],
   "source": [
    "df_train = df[(df['proba_0'] > 0.85) | (df['proba_1'] > 0.85)]\n",
    "df_train.shape"
   ]
  },
  {
   "cell_type": "code",
   "execution_count": 15,
   "metadata": {
    "pycharm": {
     "name": "#%%\n"
    }
   },
   "outputs": [
    {
     "data": {
      "text/plain": "                                                                                                                                                                                                                                                                                                   tweet  \\\n0                                                                          Defender Radio Live: Canid Response Teams and Coexistence Lesley Sampson of Coyote Watch Canada joins Defender Radio Podcast host Michael Howie for a live event and recording in Hamilton, Ontario.  https://t.co/jLycjr3Xv7   \n2     At this moment, I have a neighbor that lives 750 away. He keeps his two Labrador retrievers in a 15’ish square pen with a roof outside at night. How do I know this? Because I came hear them barking. Constantly. \\n\\nApparently they just won a debate with the coyotes. https://t.co/oJV5Swuc3f   \n4                                                                                                                                                                                                 really just saw a coyote cross the street and stare at me as i drove by 😭😭😭 what the, la habra heights   \n7                                                                                                                                                                                                                                                       To make it worse no one else saw the coyote bruh   \n8                                                                                                                                                                       my enemy the big coyote ran in front of my car tonight, but i couldn’t end him like that. if i ever catch him it’ll be on though   \n...                                                                                                                                                                                                                                                                                                  ...   \n3594                                                                                                                                                                                                                                                                         FUCK !! I just hit a coyote   \n3595                                                                                                                                                                I can't stop imagining this help. The Hounds of Bakersfield nah bro that's a rabid methed up daytime coyote in a litter den downtown   \n3596                                                                                                                                                                           @jwrife I can’t have chickens. Too many predators: raccoons, foxes, coyotes and bobcats. Too bad cuz I love fresh eggs 🥚🍳   \n3599                                                                                                                              Potential locations for the antics of Wild E. Coyote and Roadrunner based on USGS habitat data https://t.co/PT0STjgrqi https://t.co/mpW9JOJBXa https://t.co/dqorVmDk8Q   \n3600                                                                                                                                                            Foxbody Coyote Swap Fuel Systems - Lets Break It Down - What Set Up I us... https://t.co/YejWEqAHCK via @YouTube https://t.co/slr4PYnfzX   \n\n      relevant   proba_0   proba_1  \n0          0.0  0.887770  0.112230  \n2          1.0  0.035002  0.964998  \n4          1.0  0.047740  0.952260  \n7          1.0  0.949047  0.050953  \n8          1.0  0.023555  0.976445  \n...        ...       ...       ...  \n3594       1.0  0.141424  0.858576  \n3595       0.0  0.888760  0.111240  \n3596       0.0  0.853605  0.146395  \n3599       0.0  0.951907  0.048093  \n3600       0.0  0.926715  0.073285  \n\n[1802 rows x 4 columns]",
      "text/html": "<div>\n<style scoped>\n    .dataframe tbody tr th:only-of-type {\n        vertical-align: middle;\n    }\n\n    .dataframe tbody tr th {\n        vertical-align: top;\n    }\n\n    .dataframe thead th {\n        text-align: right;\n    }\n</style>\n<table border=\"1\" class=\"dataframe\">\n  <thead>\n    <tr style=\"text-align: right;\">\n      <th></th>\n      <th>tweet</th>\n      <th>relevant</th>\n      <th>proba_0</th>\n      <th>proba_1</th>\n    </tr>\n  </thead>\n  <tbody>\n    <tr>\n      <th>0</th>\n      <td>Defender Radio Live: Canid Response Teams and Coexistence Lesley Sampson of Coyote Watch Canada joins Defender Radio Podcast host Michael Howie for a live event and recording in Hamilton, Ontario.  https://t.co/jLycjr3Xv7</td>\n      <td>0.0</td>\n      <td>0.887770</td>\n      <td>0.112230</td>\n    </tr>\n    <tr>\n      <th>2</th>\n      <td>At this moment, I have a neighbor that lives 750 away. He keeps his two Labrador retrievers in a 15’ish square pen with a roof outside at night. How do I know this? Because I came hear them barking. Constantly. \\n\\nApparently they just won a debate with the coyotes. https://t.co/oJV5Swuc3f</td>\n      <td>1.0</td>\n      <td>0.035002</td>\n      <td>0.964998</td>\n    </tr>\n    <tr>\n      <th>4</th>\n      <td>really just saw a coyote cross the street and stare at me as i drove by 😭😭😭 what the, la habra heights</td>\n      <td>1.0</td>\n      <td>0.047740</td>\n      <td>0.952260</td>\n    </tr>\n    <tr>\n      <th>7</th>\n      <td>To make it worse no one else saw the coyote bruh</td>\n      <td>1.0</td>\n      <td>0.949047</td>\n      <td>0.050953</td>\n    </tr>\n    <tr>\n      <th>8</th>\n      <td>my enemy the big coyote ran in front of my car tonight, but i couldn’t end him like that. if i ever catch him it’ll be on though</td>\n      <td>1.0</td>\n      <td>0.023555</td>\n      <td>0.976445</td>\n    </tr>\n    <tr>\n      <th>...</th>\n      <td>...</td>\n      <td>...</td>\n      <td>...</td>\n      <td>...</td>\n    </tr>\n    <tr>\n      <th>3594</th>\n      <td>FUCK !! I just hit a coyote</td>\n      <td>1.0</td>\n      <td>0.141424</td>\n      <td>0.858576</td>\n    </tr>\n    <tr>\n      <th>3595</th>\n      <td>I can't stop imagining this help. The Hounds of Bakersfield nah bro that's a rabid methed up daytime coyote in a litter den downtown</td>\n      <td>0.0</td>\n      <td>0.888760</td>\n      <td>0.111240</td>\n    </tr>\n    <tr>\n      <th>3596</th>\n      <td>@jwrife I can’t have chickens. Too many predators: raccoons, foxes, coyotes and bobcats. Too bad cuz I love fresh eggs 🥚🍳</td>\n      <td>0.0</td>\n      <td>0.853605</td>\n      <td>0.146395</td>\n    </tr>\n    <tr>\n      <th>3599</th>\n      <td>Potential locations for the antics of Wild E. Coyote and Roadrunner based on USGS habitat data https://t.co/PT0STjgrqi https://t.co/mpW9JOJBXa https://t.co/dqorVmDk8Q</td>\n      <td>0.0</td>\n      <td>0.951907</td>\n      <td>0.048093</td>\n    </tr>\n    <tr>\n      <th>3600</th>\n      <td>Foxbody Coyote Swap Fuel Systems - Lets Break It Down - What Set Up I us... https://t.co/YejWEqAHCK via @YouTube https://t.co/slr4PYnfzX</td>\n      <td>0.0</td>\n      <td>0.926715</td>\n      <td>0.073285</td>\n    </tr>\n  </tbody>\n</table>\n<p>1802 rows × 4 columns</p>\n</div>"
     },
     "execution_count": 15,
     "metadata": {},
     "output_type": "execute_result"
    }
   ],
   "source": [
    "df_train"
   ]
  },
  {
   "cell_type": "code",
   "execution_count": 20,
   "metadata": {
    "pycharm": {
     "name": "#%%\n"
    }
   },
   "outputs": [],
   "source": [
    "# df_train.to_csv('../data/training_data_01.csv', index=None, encoding='utf-8-sig')"
   ]
  },
  {
   "cell_type": "code",
   "execution_count": 7,
   "metadata": {
    "pycharm": {
     "name": "#%%\n"
    }
   },
   "outputs": [
    {
     "data": {
      "text/plain": "                                                                                                                                                                                                                                                                                                tweet  \\\n0                                                                       Defender Radio Live: Canid Response Teams and Coexistence Lesley Sampson of Coyote Watch Canada joins Defender Radio Podcast host Michael Howie for a live event and recording in Hamilton, Ontario.  https://t.co/jLycjr3Xv7   \n1  At this moment, I have a neighbor that lives 750 away. He keeps his two Labrador retrievers in a 15’ish square pen with a roof outside at night. How do I know this? Because I came hear them barking. Constantly. \\n\\nApparently they just won a debate with the coyotes. https://t.co/oJV5Swuc3f   \n2                                                                                                                                                                                              really just saw a coyote cross the street and stare at me as i drove by 😭😭😭 what the, la habra heights   \n3                                                                                                                                                                                                                                                    To make it worse no one else saw the coyote bruh   \n4                                                                                                                                                                    my enemy the big coyote ran in front of my car tonight, but i couldn’t end him like that. if i ever catch him it’ll be on though   \n\n   relevant   proba_0   proba_1  \n0       0.0  0.887770  0.112230  \n1       1.0  0.035002  0.964998  \n2       1.0  0.047740  0.952260  \n3       1.0  0.949047  0.050953  \n4       1.0  0.023555  0.976445  ",
      "text/html": "<div>\n<style scoped>\n    .dataframe tbody tr th:only-of-type {\n        vertical-align: middle;\n    }\n\n    .dataframe tbody tr th {\n        vertical-align: top;\n    }\n\n    .dataframe thead th {\n        text-align: right;\n    }\n</style>\n<table border=\"1\" class=\"dataframe\">\n  <thead>\n    <tr style=\"text-align: right;\">\n      <th></th>\n      <th>tweet</th>\n      <th>relevant</th>\n      <th>proba_0</th>\n      <th>proba_1</th>\n    </tr>\n  </thead>\n  <tbody>\n    <tr>\n      <th>0</th>\n      <td>Defender Radio Live: Canid Response Teams and Coexistence Lesley Sampson of Coyote Watch Canada joins Defender Radio Podcast host Michael Howie for a live event and recording in Hamilton, Ontario.  https://t.co/jLycjr3Xv7</td>\n      <td>0.0</td>\n      <td>0.887770</td>\n      <td>0.112230</td>\n    </tr>\n    <tr>\n      <th>1</th>\n      <td>At this moment, I have a neighbor that lives 750 away. He keeps his two Labrador retrievers in a 15’ish square pen with a roof outside at night. How do I know this? Because I came hear them barking. Constantly. \\n\\nApparently they just won a debate with the coyotes. https://t.co/oJV5Swuc3f</td>\n      <td>1.0</td>\n      <td>0.035002</td>\n      <td>0.964998</td>\n    </tr>\n    <tr>\n      <th>2</th>\n      <td>really just saw a coyote cross the street and stare at me as i drove by 😭😭😭 what the, la habra heights</td>\n      <td>1.0</td>\n      <td>0.047740</td>\n      <td>0.952260</td>\n    </tr>\n    <tr>\n      <th>3</th>\n      <td>To make it worse no one else saw the coyote bruh</td>\n      <td>1.0</td>\n      <td>0.949047</td>\n      <td>0.050953</td>\n    </tr>\n    <tr>\n      <th>4</th>\n      <td>my enemy the big coyote ran in front of my car tonight, but i couldn’t end him like that. if i ever catch him it’ll be on though</td>\n      <td>1.0</td>\n      <td>0.023555</td>\n      <td>0.976445</td>\n    </tr>\n  </tbody>\n</table>\n</div>"
     },
     "execution_count": 7,
     "metadata": {},
     "output_type": "execute_result"
    }
   ],
   "source": [
    "df_train = pd.read_csv('../data/training_data_01.csv')\n",
    "df_train.head()"
   ]
  },
  {
   "cell_type": "markdown",
   "source": [
    "Check data to see if classifications are good"
   ],
   "metadata": {
    "collapsed": false,
    "pycharm": {
     "name": "#%% md\n"
    }
   }
  },
  {
   "cell_type": "code",
   "execution_count": 8,
   "outputs": [
    {
     "data": {
      "text/plain": "                                                                                                                                                                                                                                                                                                                                 tweet  \\\n685                                                                                                                   Heinous and cruel experience for any dog and all wildlife caught in these devices.\\n'A living nightmare': Bellevue man urges caution after dog caught in coyote trap https://t.co/vkJAls1LNo via @IdahoMtExpress   \n921                                                                                                                                                                                                                                              not so rare coyote sighting (4th one we’ve seen this morning) https://t.co/3b7LAub5PB   \n1158                                                                                                                                                                                                      @ehuston101 @enkohl @EyaSpectre  my very short lens coyote encounter this morning on #carfree section of JFK #goldengatepark   \n411                                                                                                                                                                                                                                                              Coyotes creeping through the fog this morning https://t.co/R2j12XTnMS   \n1151                                                                                                                                                                                                                                                                             @sfmjm I was there this morning and saw a coyote too.   \n...                                                                                                                                                                                                                                                                                                                                ...   \n91                                                                                                                                                                                                                            San Diego Humane Society caring for coyote rescued from car bumper in San Marcos https://t.co/l1rE381UNZ   \n135                    2 am I let the dogs out.  \\n👇🏽escapes. Hubby &amp; I spend the wee morning hours driving, walking, screaming, shaking treats on the canyon where we live.  Owl almost hit my car.  Coyotes ran by. As I weep imagining Francis being food, he appears next to my car. Wanting treats. 😑 https://t.co/uJgxPOlTxh   \n61    @Southernvaper1 This is what I mean by playing with Eli. He never actually bit me. No pain. Just blood and stains on my shirts. But Eli has killed a coyote with a single bite to the neck. He is a badass dog. I love playing with him. It always ends with Eli on his back &amp; me rubbing his belly. https://t.co/ID8YPw2qGF   \n106                                                                                                                                       A Phoenix couple caught their cat chasing away a coyote from their home early in the morning and it was all captured on their security camera. \"Lucky, spunky cat.\"  https://t.co/8bnfBWc677   \n101                                                                                                                                       A Phoenix couple caught their cat chasing away a coyote from their home early in the morning and it was all captured on their security camera. \"Lucky, spunky cat.\"  https://t.co/9CgTd7O8rG   \n\n      relevant       proba_0   proba_1  \n685        1.0  1.479857e-01  0.852014  \n921        1.0  1.454051e-01  0.854595  \n1158       1.0  1.454051e-01  0.854595  \n411        1.0  1.454051e-01  0.854595  \n1151       1.0  1.454051e-01  0.854595  \n...        ...           ...       ...  \n91         1.0  3.320027e-06  0.999997  \n135        1.0  1.248066e-07  1.000000  \n61         1.0  9.081170e-08  1.000000  \n106        1.0  4.184189e-11  1.000000  \n101        1.0  4.184189e-11  1.000000  \n\n[389 rows x 4 columns]",
      "text/html": "<div>\n<style scoped>\n    .dataframe tbody tr th:only-of-type {\n        vertical-align: middle;\n    }\n\n    .dataframe tbody tr th {\n        vertical-align: top;\n    }\n\n    .dataframe thead th {\n        text-align: right;\n    }\n</style>\n<table border=\"1\" class=\"dataframe\">\n  <thead>\n    <tr style=\"text-align: right;\">\n      <th></th>\n      <th>tweet</th>\n      <th>relevant</th>\n      <th>proba_0</th>\n      <th>proba_1</th>\n    </tr>\n  </thead>\n  <tbody>\n    <tr>\n      <th>685</th>\n      <td>Heinous and cruel experience for any dog and all wildlife caught in these devices.\\n'A living nightmare': Bellevue man urges caution after dog caught in coyote trap https://t.co/vkJAls1LNo via @IdahoMtExpress</td>\n      <td>1.0</td>\n      <td>1.479857e-01</td>\n      <td>0.852014</td>\n    </tr>\n    <tr>\n      <th>921</th>\n      <td>not so rare coyote sighting (4th one we’ve seen this morning) https://t.co/3b7LAub5PB</td>\n      <td>1.0</td>\n      <td>1.454051e-01</td>\n      <td>0.854595</td>\n    </tr>\n    <tr>\n      <th>1158</th>\n      <td>@ehuston101 @enkohl @EyaSpectre  my very short lens coyote encounter this morning on #carfree section of JFK #goldengatepark</td>\n      <td>1.0</td>\n      <td>1.454051e-01</td>\n      <td>0.854595</td>\n    </tr>\n    <tr>\n      <th>411</th>\n      <td>Coyotes creeping through the fog this morning https://t.co/R2j12XTnMS</td>\n      <td>1.0</td>\n      <td>1.454051e-01</td>\n      <td>0.854595</td>\n    </tr>\n    <tr>\n      <th>1151</th>\n      <td>@sfmjm I was there this morning and saw a coyote too.</td>\n      <td>1.0</td>\n      <td>1.454051e-01</td>\n      <td>0.854595</td>\n    </tr>\n    <tr>\n      <th>...</th>\n      <td>...</td>\n      <td>...</td>\n      <td>...</td>\n      <td>...</td>\n    </tr>\n    <tr>\n      <th>91</th>\n      <td>San Diego Humane Society caring for coyote rescued from car bumper in San Marcos https://t.co/l1rE381UNZ</td>\n      <td>1.0</td>\n      <td>3.320027e-06</td>\n      <td>0.999997</td>\n    </tr>\n    <tr>\n      <th>135</th>\n      <td>2 am I let the dogs out.  \\n👇🏽escapes. Hubby &amp;amp; I spend the wee morning hours driving, walking, screaming, shaking treats on the canyon where we live.  Owl almost hit my car.  Coyotes ran by. As I weep imagining Francis being food, he appears next to my car. Wanting treats. 😑 https://t.co/uJgxPOlTxh</td>\n      <td>1.0</td>\n      <td>1.248066e-07</td>\n      <td>1.000000</td>\n    </tr>\n    <tr>\n      <th>61</th>\n      <td>@Southernvaper1 This is what I mean by playing with Eli. He never actually bit me. No pain. Just blood and stains on my shirts. But Eli has killed a coyote with a single bite to the neck. He is a badass dog. I love playing with him. It always ends with Eli on his back &amp;amp; me rubbing his belly. https://t.co/ID8YPw2qGF</td>\n      <td>1.0</td>\n      <td>9.081170e-08</td>\n      <td>1.000000</td>\n    </tr>\n    <tr>\n      <th>106</th>\n      <td>A Phoenix couple caught their cat chasing away a coyote from their home early in the morning and it was all captured on their security camera. \"Lucky, spunky cat.\"  https://t.co/8bnfBWc677</td>\n      <td>1.0</td>\n      <td>4.184189e-11</td>\n      <td>1.000000</td>\n    </tr>\n    <tr>\n      <th>101</th>\n      <td>A Phoenix couple caught their cat chasing away a coyote from their home early in the morning and it was all captured on their security camera. \"Lucky, spunky cat.\"  https://t.co/9CgTd7O8rG</td>\n      <td>1.0</td>\n      <td>4.184189e-11</td>\n      <td>1.000000</td>\n    </tr>\n  </tbody>\n</table>\n<p>389 rows × 4 columns</p>\n</div>"
     },
     "execution_count": 8,
     "metadata": {},
     "output_type": "execute_result"
    }
   ],
   "source": [
    "df_train[df_train['proba_1'] > 0.85].sort_values(['proba_1'], ascending=True)"
   ],
   "metadata": {
    "collapsed": false,
    "pycharm": {
     "name": "#%%\n"
    }
   }
  },
  {
   "cell_type": "code",
   "execution_count": 9,
   "outputs": [
    {
     "data": {
      "text/plain": "                                                                                                                                                                                                                                                                                                                                                      tweet  \\\n995                                                                                                                                                                                                                                                              @savg_coyote @Schmidt0810 @BoltUpHerbert @MaxxxMunich @chargers We can only hope honestly.   \n1311                                                                                                                                                                                                                                                                                                                     @Grimmy_Coyote His stuff is great.   \n638                                                                                                                                                                                                                                                              @JonPalarz @Coyotes_Hoops @Gavin_Murphy10 Congratulations on a great accomplishment Coach!   \n1684                                                                                                                                                                                                                                                                                            @coyote_witch You'll have to show photos of your intestines   \n843                                                                                                                                                                                                                                                                                                          @Nameless_Coyote Nonsense! Your art is lovely!   \n...                                                                                                                                                                                                                                                                                                                                                     ...   \n1503                                                                               On January 30, 2020, Alex Iafallo recorded his first career hat trick in a 3-2 win for the @LAKings over the Arizona Coyotes. Iafallo tied the game late in the third period, then won the game 24 seconds into overtime.\\n\\n#LAKings #GoKingsGo https://t.co/kA2MlVbOpZ   \n92                                                                                                                                                                                                The Fall Fun Run Continues this Wed at the Coyote Bar and Grill in Downtown Carlsbad.  Come see So Cal's all star jam band live!  https://t.co/ajwumPjTcp   \n167                                                                                                                                   Predictions for today:\\nKings &gt; Blues \\nLightning &gt; Sabres \\nCapitals &gt; Senators\\nPanthers &gt; Coyotes \\nRangers &gt; Flames\\nHurricanes &gt; Maple Leafs\\nBlue Jackets &gt; Stars \\n\\nSeason Record: 36-46   \n177   @ogiegoldthorpe @DomRichard1988 @alfred_jens @ldl716 Well he's signing with the Arizona Coyotes July 1, 2024 so they better trade him sooner. #Yotes already shedding contracts &amp; tanking to stock the future with some very high draft picks to lure him. Matthews is going to save hockey in the desert &amp; lead them to a Cup, not the Leafs   \n139                                                                      OCTOBER DAYE X TRAIL OF LIGHTNING\\n\\nAs apocalypse engulfs two worlds, Latinx atheist Serena discovers she's a coyote shapeshifter when the fae kidnap her BFF. But to free them both, Serena must risk destroying Faerie and Earth.\\n\\n#DVPit #A #P #F #UF \\n\\n#OWN #DIS #Atheism   \n\n      relevant   proba_0       proba_1  \n995        0.0  0.851327  1.486729e-01  \n1311       0.0  0.851327  1.486729e-01  \n638        0.0  0.851327  1.486729e-01  \n1684       0.0  0.851327  1.486729e-01  \n843        0.0  0.851327  1.486729e-01  \n...        ...       ...           ...  \n1503       0.0  0.999995  5.473302e-06  \n92         0.0  0.999996  4.182585e-06  \n167        0.0  0.999996  4.003349e-06  \n177        0.0  0.999997  3.205254e-06  \n139        0.0  1.000000  3.544856e-10  \n\n[1406 rows x 4 columns]",
      "text/html": "<div>\n<style scoped>\n    .dataframe tbody tr th:only-of-type {\n        vertical-align: middle;\n    }\n\n    .dataframe tbody tr th {\n        vertical-align: top;\n    }\n\n    .dataframe thead th {\n        text-align: right;\n    }\n</style>\n<table border=\"1\" class=\"dataframe\">\n  <thead>\n    <tr style=\"text-align: right;\">\n      <th></th>\n      <th>tweet</th>\n      <th>relevant</th>\n      <th>proba_0</th>\n      <th>proba_1</th>\n    </tr>\n  </thead>\n  <tbody>\n    <tr>\n      <th>995</th>\n      <td>@savg_coyote @Schmidt0810 @BoltUpHerbert @MaxxxMunich @chargers We can only hope honestly.</td>\n      <td>0.0</td>\n      <td>0.851327</td>\n      <td>1.486729e-01</td>\n    </tr>\n    <tr>\n      <th>1311</th>\n      <td>@Grimmy_Coyote His stuff is great.</td>\n      <td>0.0</td>\n      <td>0.851327</td>\n      <td>1.486729e-01</td>\n    </tr>\n    <tr>\n      <th>638</th>\n      <td>@JonPalarz @Coyotes_Hoops @Gavin_Murphy10 Congratulations on a great accomplishment Coach!</td>\n      <td>0.0</td>\n      <td>0.851327</td>\n      <td>1.486729e-01</td>\n    </tr>\n    <tr>\n      <th>1684</th>\n      <td>@coyote_witch You'll have to show photos of your intestines</td>\n      <td>0.0</td>\n      <td>0.851327</td>\n      <td>1.486729e-01</td>\n    </tr>\n    <tr>\n      <th>843</th>\n      <td>@Nameless_Coyote Nonsense! Your art is lovely!</td>\n      <td>0.0</td>\n      <td>0.851327</td>\n      <td>1.486729e-01</td>\n    </tr>\n    <tr>\n      <th>...</th>\n      <td>...</td>\n      <td>...</td>\n      <td>...</td>\n      <td>...</td>\n    </tr>\n    <tr>\n      <th>1503</th>\n      <td>On January 30, 2020, Alex Iafallo recorded his first career hat trick in a 3-2 win for the @LAKings over the Arizona Coyotes. Iafallo tied the game late in the third period, then won the game 24 seconds into overtime.\\n\\n#LAKings #GoKingsGo https://t.co/kA2MlVbOpZ</td>\n      <td>0.0</td>\n      <td>0.999995</td>\n      <td>5.473302e-06</td>\n    </tr>\n    <tr>\n      <th>92</th>\n      <td>The Fall Fun Run Continues this Wed at the Coyote Bar and Grill in Downtown Carlsbad.  Come see So Cal's all star jam band live!  https://t.co/ajwumPjTcp</td>\n      <td>0.0</td>\n      <td>0.999996</td>\n      <td>4.182585e-06</td>\n    </tr>\n    <tr>\n      <th>167</th>\n      <td>Predictions for today:\\nKings &amp;gt; Blues \\nLightning &amp;gt; Sabres \\nCapitals &amp;gt; Senators\\nPanthers &amp;gt; Coyotes \\nRangers &amp;gt; Flames\\nHurricanes &amp;gt; Maple Leafs\\nBlue Jackets &amp;gt; Stars \\n\\nSeason Record: 36-46</td>\n      <td>0.0</td>\n      <td>0.999996</td>\n      <td>4.003349e-06</td>\n    </tr>\n    <tr>\n      <th>177</th>\n      <td>@ogiegoldthorpe @DomRichard1988 @alfred_jens @ldl716 Well he's signing with the Arizona Coyotes July 1, 2024 so they better trade him sooner. #Yotes already shedding contracts &amp;amp; tanking to stock the future with some very high draft picks to lure him. Matthews is going to save hockey in the desert &amp;amp; lead them to a Cup, not the Leafs</td>\n      <td>0.0</td>\n      <td>0.999997</td>\n      <td>3.205254e-06</td>\n    </tr>\n    <tr>\n      <th>139</th>\n      <td>OCTOBER DAYE X TRAIL OF LIGHTNING\\n\\nAs apocalypse engulfs two worlds, Latinx atheist Serena discovers she's a coyote shapeshifter when the fae kidnap her BFF. But to free them both, Serena must risk destroying Faerie and Earth.\\n\\n#DVPit #A #P #F #UF \\n\\n#OWN #DIS #Atheism</td>\n      <td>0.0</td>\n      <td>1.000000</td>\n      <td>3.544856e-10</td>\n    </tr>\n  </tbody>\n</table>\n<p>1406 rows × 4 columns</p>\n</div>"
     },
     "execution_count": 9,
     "metadata": {},
     "output_type": "execute_result"
    }
   ],
   "source": [
    "df_train[df_train['proba_0'] > 0.85].sort_values(['proba_0'], ascending=True)"
   ],
   "metadata": {
    "collapsed": false,
    "pycharm": {
     "name": "#%%\n"
    }
   }
  },
  {
   "cell_type": "code",
   "execution_count": 10,
   "outputs": [],
   "source": [
    "X = df_train['tweet']\n",
    "y = df_train['relevant']"
   ],
   "metadata": {
    "collapsed": false,
    "pycharm": {
     "name": "#%%\n"
    }
   }
  },
  {
   "cell_type": "markdown",
   "metadata": {
    "pycharm": {
     "name": "#%% md\n"
    }
   },
   "source": [
    "# Split data"
   ]
  },
  {
   "cell_type": "code",
   "execution_count": 47,
   "metadata": {
    "pycharm": {
     "name": "#%%\n"
    }
   },
   "outputs": [
    {
     "data": {
      "text/plain": "((1256,), (539,), (1256,), (539,))"
     },
     "execution_count": 47,
     "metadata": {},
     "output_type": "execute_result"
    }
   ],
   "source": [
    "X_train, X_test, y_train, y_test = train_test_split(X, y, test_size=.3, stratify=None)\n",
    "X_train.shape, X_test.shape, y_train.shape, y_test.shape"
   ]
  },
  {
   "cell_type": "code",
   "metadata": {
    "pycharm": {
     "name": "#%%\n"
    }
   },
   "source": [
    "# Percent of y == 1\n",
    "y_train[y_train==1].sum() / len(y_train), y_test[y_test==1].sum() / len(y_test)"
   ],
   "execution_count": 48,
   "outputs": [
    {
     "data": {
      "text/plain": "(0.2085987261146497, 0.17625231910946196)"
     },
     "execution_count": 48,
     "metadata": {},
     "output_type": "execute_result"
    }
   ]
  },
  {
   "cell_type": "markdown",
   "source": [
    "About the same distribution of 1's for both training and test"
   ],
   "metadata": {
    "collapsed": false
   }
  },
  {
   "cell_type": "code",
   "execution_count": 13,
   "outputs": [
    {
     "ename": "NameError",
     "evalue": "name 'X_train' is not defined",
     "output_type": "error",
     "traceback": [
      "\u001B[0;31m---------------------------------------------------------------------------\u001B[0m",
      "\u001B[0;31mNameError\u001B[0m                                 Traceback (most recent call last)",
      "\u001B[0;32m/var/folders/50/cgfcx8d97_52qyt5jj7jf52w0000gn/T/ipykernel_11800/2655314333.py\u001B[0m in \u001B[0;36m<module>\u001B[0;34m\u001B[0m\n\u001B[1;32m      1\u001B[0m \u001B[0;31m# Save training and test sets\u001B[0m\u001B[0;34m\u001B[0m\u001B[0;34m\u001B[0m\u001B[0m\n\u001B[0;32m----> 2\u001B[0;31m \u001B[0mtrain\u001B[0m \u001B[0;34m=\u001B[0m \u001B[0mpd\u001B[0m\u001B[0;34m.\u001B[0m\u001B[0mDataFrame\u001B[0m\u001B[0;34m(\u001B[0m\u001B[0;34m{\u001B[0m\u001B[0;34m'X'\u001B[0m\u001B[0;34m:\u001B[0m\u001B[0mX_train\u001B[0m\u001B[0;34m,\u001B[0m \u001B[0;34m'y'\u001B[0m\u001B[0;34m:\u001B[0m\u001B[0my_train\u001B[0m\u001B[0;34m}\u001B[0m\u001B[0;34m)\u001B[0m\u001B[0;34m\u001B[0m\u001B[0;34m\u001B[0m\u001B[0m\n\u001B[0m\u001B[1;32m      3\u001B[0m \u001B[0mtest\u001B[0m \u001B[0;34m=\u001B[0m \u001B[0mpd\u001B[0m\u001B[0;34m.\u001B[0m\u001B[0mDataFrame\u001B[0m\u001B[0;34m(\u001B[0m\u001B[0;34m{\u001B[0m\u001B[0;34m'X'\u001B[0m\u001B[0;34m:\u001B[0m \u001B[0mX_test\u001B[0m\u001B[0;34m,\u001B[0m \u001B[0;34m'y'\u001B[0m\u001B[0;34m:\u001B[0m \u001B[0my_test\u001B[0m\u001B[0;34m}\u001B[0m\u001B[0;34m)\u001B[0m\u001B[0;34m\u001B[0m\u001B[0;34m\u001B[0m\u001B[0m\n\u001B[1;32m      4\u001B[0m \u001B[0mX_train\u001B[0m \u001B[0;34m=\u001B[0m \u001B[0mtrain\u001B[0m\u001B[0;34m[\u001B[0m\u001B[0;34m'X'\u001B[0m\u001B[0;34m]\u001B[0m\u001B[0;34m\u001B[0m\u001B[0;34m\u001B[0m\u001B[0m\n\u001B[1;32m      5\u001B[0m \u001B[0my_train\u001B[0m \u001B[0;34m=\u001B[0m \u001B[0mtrain\u001B[0m\u001B[0;34m[\u001B[0m\u001B[0;34m'y'\u001B[0m\u001B[0;34m]\u001B[0m\u001B[0;34m\u001B[0m\u001B[0;34m\u001B[0m\u001B[0m\n",
      "\u001B[0;31mNameError\u001B[0m: name 'X_train' is not defined"
     ]
    }
   ],
   "source": [
    "# Save training and test sets\n",
    "train = pd.DataFrame({'X':X_train, 'y':y_train})\n",
    "test = pd.DataFrame({'X': X_test, 'y': y_test})"
   ],
   "metadata": {
    "collapsed": false,
    "pycharm": {
     "name": "#%%\n"
    }
   }
  },
  {
   "cell_type": "code",
   "execution_count": 115,
   "outputs": [],
   "source": [
    "# train.to_csv('../data/retrain_training.csv', index=None)\n",
    "# test.to_csv('../data/retrain_test.csv', index=None)"
   ],
   "metadata": {
    "collapsed": false,
    "pycharm": {
     "name": "#%%\n"
    }
   }
  },
  {
   "cell_type": "code",
   "execution_count": 14,
   "outputs": [],
   "source": [
    "train = pd.read_csv('../data/retrain_training.csv')\n",
    "test = pd.read_csv('../data/retrain_test.csv')\n",
    "X_train = train['X']\n",
    "y_train = train['y']\n",
    "X_test = test['X']\n",
    "y_test = test['y']"
   ],
   "metadata": {
    "collapsed": false,
    "pycharm": {
     "name": "#%%\n"
    }
   }
  },
  {
   "cell_type": "markdown",
   "metadata": {
    "pycharm": {
     "name": "#%% md\n"
    }
   },
   "source": [
    "# Metric Support Function"
   ]
  },
  {
   "cell_type": "code",
   "execution_count": 15,
   "metadata": {
    "pycharm": {
     "name": "#%%\n"
    }
   },
   "outputs": [],
   "source": [
    "def print_scores(model, y_true, X_val):\n",
    "    y_hat = model.predict_proba(X_val)[:,1]\n",
    "    y_pred = model.predict(X_val)\n",
    "    print(classification_report(y_true, y_pred, target_names=['irrelevant', 'relevant']))\n",
    "    print(f'Log Loss: {log_loss(y_true, y_hat):.5f}')\n",
    "    sns.heatmap(confusion_matrix(y_true, y_pred).T, square=True, annot=True, fmt='d')"
   ]
  },
  {
   "cell_type": "code",
   "execution_count": 16,
   "metadata": {
    "pycharm": {
     "name": "#%%\n"
    }
   },
   "outputs": [],
   "source": [
    "def get_log_loss(model, y_true, X):\n",
    "    y_hat = model.predict_proba(X)[:,1]\n",
    "    return np.round(log_loss(y_true, y_hat), 4)"
   ]
  },
  {
   "cell_type": "markdown",
   "metadata": {
    "pycharm": {
     "name": "#%% md\n"
    }
   },
   "source": [
    "# Hyperparameter search"
   ]
  },
  {
   "cell_type": "markdown",
   "metadata": {
    "pycharm": {
     "name": "#%% md\n"
    }
   },
   "source": [
    "# CV and NB"
   ]
  },
  {
   "cell_type": "code",
   "execution_count": 17,
   "outputs": [],
   "source": [
    "models = []"
   ],
   "metadata": {
    "collapsed": false,
    "pycharm": {
     "name": "#%%\n"
    }
   }
  },
  {
   "cell_type": "code",
   "execution_count": 19,
   "metadata": {
    "pycharm": {
     "name": "#%%\n"
    }
   },
   "outputs": [],
   "source": [
    "cv = CountVectorizer(preprocessor=tweet_preprocessor, strip_accents='ascii')\n",
    "nb = MultinomialNB()\n",
    "pipeline = Pipeline([('cv', cv), ('nb', nb)])\n",
    "params = {\n",
    "    'cv__lowercase': [True, False],\n",
    "    'cv__min_df': [0,1,2],\n",
    "    'cv__ngram_range': [(1,1), (1,2)],\n",
    "    'cv__stop_words': ['english', None],\n",
    "    'nb__alpha': [1, 5, 7, 10, 20]\n",
    "}\n",
    "search = RandomizedSearchCV(pipeline, param_distributions=params, scoring='neg_log_loss', cv=3, verbose=50, n_jobs=-1, n_iter=15)"
   ]
  },
  {
   "cell_type": "code",
   "execution_count": 20,
   "metadata": {
    "pycharm": {
     "name": "#%%\n"
    }
   },
   "outputs": [
    {
     "name": "stdout",
     "output_type": "stream",
     "text": [
      "Fitting 3 folds for each of 15 candidates, totalling 45 fits\n"
     ]
    },
    {
     "name": "stderr",
     "output_type": "stream",
     "text": [
      "/Users/Isaacbolo/opt/anaconda3/lib/python3.9/site-packages/sklearn/feature_extraction/text.py:396: UserWarning: Your stop_words may be inconsistent with your preprocessing. Tokenizing the stop words generated tokens ['far', 'make'] not in stop_words.\n",
      "  warnings.warn(\n",
      "/Users/Isaacbolo/opt/anaconda3/lib/python3.9/site-packages/sklearn/feature_extraction/text.py:396: UserWarning: Your stop_words may be inconsistent with your preprocessing. Tokenizing the stop words generated tokens ['far', 'make'] not in stop_words.\n",
      "  warnings.warn(\n",
      "/Users/Isaacbolo/opt/anaconda3/lib/python3.9/site-packages/sklearn/feature_extraction/text.py:396: UserWarning: Your stop_words may be inconsistent with your preprocessing. Tokenizing the stop words generated tokens ['far', 'make'] not in stop_words.\n",
      "  warnings.warn(\n",
      "/Users/Isaacbolo/opt/anaconda3/lib/python3.9/site-packages/sklearn/feature_extraction/text.py:396: UserWarning: Your stop_words may be inconsistent with your preprocessing. Tokenizing the stop words generated tokens ['far', 'make'] not in stop_words.\n",
      "  warnings.warn(\n",
      "/Users/Isaacbolo/opt/anaconda3/lib/python3.9/site-packages/sklearn/feature_extraction/text.py:396: UserWarning: Your stop_words may be inconsistent with your preprocessing. Tokenizing the stop words generated tokens ['far', 'make'] not in stop_words.\n",
      "  warnings.warn(\n",
      "/Users/Isaacbolo/opt/anaconda3/lib/python3.9/site-packages/sklearn/feature_extraction/text.py:396: UserWarning: Your stop_words may be inconsistent with your preprocessing. Tokenizing the stop words generated tokens ['far', 'make'] not in stop_words.\n",
      "  warnings.warn(\n",
      "/Users/Isaacbolo/opt/anaconda3/lib/python3.9/site-packages/sklearn/feature_extraction/text.py:396: UserWarning: Your stop_words may be inconsistent with your preprocessing. Tokenizing the stop words generated tokens ['far', 'make'] not in stop_words.\n",
      "  warnings.warn(\n",
      "/Users/Isaacbolo/opt/anaconda3/lib/python3.9/site-packages/sklearn/feature_extraction/text.py:396: UserWarning: Your stop_words may be inconsistent with your preprocessing. Tokenizing the stop words generated tokens ['far', 'make'] not in stop_words.\n",
      "  warnings.warn(\n",
      "/Users/Isaacbolo/opt/anaconda3/lib/python3.9/site-packages/sklearn/feature_extraction/text.py:396: UserWarning: Your stop_words may be inconsistent with your preprocessing. Tokenizing the stop words generated tokens ['far', 'make'] not in stop_words.\n",
      "  warnings.warn(\n",
      "/Users/Isaacbolo/opt/anaconda3/lib/python3.9/site-packages/sklearn/feature_extraction/text.py:396: UserWarning: Your stop_words may be inconsistent with your preprocessing. Tokenizing the stop words generated tokens ['far', 'make'] not in stop_words.\n",
      "  warnings.warn(\n",
      "/Users/Isaacbolo/opt/anaconda3/lib/python3.9/site-packages/sklearn/feature_extraction/text.py:396: UserWarning: Your stop_words may be inconsistent with your preprocessing. Tokenizing the stop words generated tokens ['far', 'make'] not in stop_words.\n",
      "  warnings.warn(\n",
      "/Users/Isaacbolo/opt/anaconda3/lib/python3.9/site-packages/sklearn/feature_extraction/text.py:396: UserWarning: Your stop_words may be inconsistent with your preprocessing. Tokenizing the stop words generated tokens ['far', 'make'] not in stop_words.\n",
      "  warnings.warn(\n",
      "/Users/Isaacbolo/opt/anaconda3/lib/python3.9/site-packages/sklearn/feature_extraction/text.py:396: UserWarning: Your stop_words may be inconsistent with your preprocessing. Tokenizing the stop words generated tokens ['far', 'make'] not in stop_words.\n",
      "  warnings.warn(\n",
      "/Users/Isaacbolo/opt/anaconda3/lib/python3.9/site-packages/sklearn/feature_extraction/text.py:396: UserWarning: Your stop_words may be inconsistent with your preprocessing. Tokenizing the stop words generated tokens ['far', 'make'] not in stop_words.\n",
      "  warnings.warn(\n",
      "/Users/Isaacbolo/opt/anaconda3/lib/python3.9/site-packages/sklearn/feature_extraction/text.py:396: UserWarning: Your stop_words may be inconsistent with your preprocessing. Tokenizing the stop words generated tokens ['far', 'make'] not in stop_words.\n",
      "  warnings.warn(\n",
      "/Users/Isaacbolo/opt/anaconda3/lib/python3.9/site-packages/sklearn/feature_extraction/text.py:396: UserWarning: Your stop_words may be inconsistent with your preprocessing. Tokenizing the stop words generated tokens ['far', 'make'] not in stop_words.\n",
      "  warnings.warn(\n"
     ]
    },
    {
     "name": "stdout",
     "output_type": "stream",
     "text": [
      "CPU times: user 10.9 s, sys: 331 ms, total: 11.2 s\n",
      "Wall time: 2min 18s\n"
     ]
    },
    {
     "data": {
      "text/plain": "RandomizedSearchCV(cv=3,\n                   estimator=Pipeline(steps=[('cv',\n                                              CountVectorizer(preprocessor=<function tweet_preprocessor at 0x7f7fe1cbc790>,\n                                                              strip_accents='ascii')),\n                                             ('nb', MultinomialNB())]),\n                   n_iter=15, n_jobs=-1,\n                   param_distributions={'cv__lowercase': [True, False],\n                                        'cv__min_df': [0, 1, 2],\n                                        'cv__ngram_range': [(1, 1), (1, 2)],\n                                        'cv__stop_words': ['english', None],\n                                        'nb__alpha': [1, 5, 7, 10, 20]},\n                   scoring='neg_log_loss', verbose=50)"
     },
     "execution_count": 20,
     "metadata": {},
     "output_type": "execute_result"
    }
   ],
   "source": [
    "%%time\n",
    "search.fit(X_train, y_train)"
   ]
  },
  {
   "cell_type": "code",
   "execution_count": 21,
   "metadata": {
    "pycharm": {
     "name": "#%%\n"
    }
   },
   "outputs": [
    {
     "data": {
      "text/plain": "{'nb__alpha': 5,\n 'cv__stop_words': 'english',\n 'cv__ngram_range': (1, 1),\n 'cv__min_df': 2,\n 'cv__lowercase': False}"
     },
     "execution_count": 21,
     "metadata": {},
     "output_type": "execute_result"
    }
   ],
   "source": [
    "search.best_params_"
   ]
  },
  {
   "cell_type": "code",
   "execution_count": 22,
   "metadata": {
    "pycharm": {
     "name": "#%%\n"
    }
   },
   "outputs": [],
   "source": [
    "cvnb = search.best_estimator_\n",
    "models.append(cvnb)"
   ]
  },
  {
   "cell_type": "markdown",
   "metadata": {
    "pycharm": {
     "name": "#%% md\n"
    }
   },
   "source": [
    "# CV SVM"
   ]
  },
  {
   "cell_type": "code",
   "execution_count": 23,
   "metadata": {
    "pycharm": {
     "name": "#%%\n"
    }
   },
   "outputs": [],
   "source": [
    "svc = SVC(probability=True, class_weight='balanced')\n",
    "pipeline = Pipeline([('cv', cv), ('svc', svc)])\n",
    "params = {\n",
    "    'cv__lowercase': [True, False],\n",
    "    'cv__min_df': [0,1,2],\n",
    "    'cv__ngram_range': [(1,1), (1,2)],\n",
    "    'cv__stop_words': ['english', None],\n",
    "    'svc__kernel': ['sigmoid', 'linear', 'rbf']\n",
    "}\n",
    "search = RandomizedSearchCV(pipeline, param_distributions=params, verbose=50, scoring='neg_log_loss', n_jobs=-1, cv=3, n_iter=15)"
   ]
  },
  {
   "cell_type": "code",
   "execution_count": 24,
   "metadata": {
    "pycharm": {
     "name": "#%%\n"
    }
   },
   "outputs": [
    {
     "name": "stdout",
     "output_type": "stream",
     "text": [
      "Fitting 3 folds for each of 15 candidates, totalling 45 fits\n"
     ]
    },
    {
     "name": "stderr",
     "output_type": "stream",
     "text": [
      "/Users/Isaacbolo/opt/anaconda3/lib/python3.9/site-packages/sklearn/feature_extraction/text.py:396: UserWarning: Your stop_words may be inconsistent with your preprocessing. Tokenizing the stop words generated tokens ['far', 'make'] not in stop_words.\n",
      "  warnings.warn(\n",
      "/Users/Isaacbolo/opt/anaconda3/lib/python3.9/site-packages/sklearn/feature_extraction/text.py:396: UserWarning: Your stop_words may be inconsistent with your preprocessing. Tokenizing the stop words generated tokens ['far', 'make'] not in stop_words.\n",
      "  warnings.warn(\n",
      "/Users/Isaacbolo/opt/anaconda3/lib/python3.9/site-packages/sklearn/feature_extraction/text.py:396: UserWarning: Your stop_words may be inconsistent with your preprocessing. Tokenizing the stop words generated tokens ['far', 'make'] not in stop_words.\n",
      "  warnings.warn(\n",
      "/Users/Isaacbolo/opt/anaconda3/lib/python3.9/site-packages/sklearn/feature_extraction/text.py:396: UserWarning: Your stop_words may be inconsistent with your preprocessing. Tokenizing the stop words generated tokens ['far', 'make'] not in stop_words.\n",
      "  warnings.warn(\n",
      "/Users/Isaacbolo/opt/anaconda3/lib/python3.9/site-packages/sklearn/feature_extraction/text.py:396: UserWarning: Your stop_words may be inconsistent with your preprocessing. Tokenizing the stop words generated tokens ['far', 'make'] not in stop_words.\n",
      "  warnings.warn(\n",
      "/Users/Isaacbolo/opt/anaconda3/lib/python3.9/site-packages/sklearn/feature_extraction/text.py:396: UserWarning: Your stop_words may be inconsistent with your preprocessing. Tokenizing the stop words generated tokens ['far', 'make'] not in stop_words.\n",
      "  warnings.warn(\n",
      "/Users/Isaacbolo/opt/anaconda3/lib/python3.9/site-packages/sklearn/feature_extraction/text.py:396: UserWarning: Your stop_words may be inconsistent with your preprocessing. Tokenizing the stop words generated tokens ['far', 'make'] not in stop_words.\n",
      "  warnings.warn(\n",
      "/Users/Isaacbolo/opt/anaconda3/lib/python3.9/site-packages/sklearn/feature_extraction/text.py:396: UserWarning: Your stop_words may be inconsistent with your preprocessing. Tokenizing the stop words generated tokens ['far', 'make'] not in stop_words.\n",
      "  warnings.warn(\n",
      "/Users/Isaacbolo/opt/anaconda3/lib/python3.9/site-packages/sklearn/feature_extraction/text.py:396: UserWarning: Your stop_words may be inconsistent with your preprocessing. Tokenizing the stop words generated tokens ['far', 'make'] not in stop_words.\n",
      "  warnings.warn(\n",
      "/Users/Isaacbolo/opt/anaconda3/lib/python3.9/site-packages/sklearn/feature_extraction/text.py:396: UserWarning: Your stop_words may be inconsistent with your preprocessing. Tokenizing the stop words generated tokens ['far', 'make'] not in stop_words.\n",
      "  warnings.warn(\n",
      "/Users/Isaacbolo/opt/anaconda3/lib/python3.9/site-packages/sklearn/feature_extraction/text.py:396: UserWarning: Your stop_words may be inconsistent with your preprocessing. Tokenizing the stop words generated tokens ['far', 'make'] not in stop_words.\n",
      "  warnings.warn(\n",
      "/Users/Isaacbolo/opt/anaconda3/lib/python3.9/site-packages/sklearn/feature_extraction/text.py:396: UserWarning: Your stop_words may be inconsistent with your preprocessing. Tokenizing the stop words generated tokens ['far', 'make'] not in stop_words.\n",
      "  warnings.warn(\n",
      "/Users/Isaacbolo/opt/anaconda3/lib/python3.9/site-packages/sklearn/feature_extraction/text.py:396: UserWarning: Your stop_words may be inconsistent with your preprocessing. Tokenizing the stop words generated tokens ['far', 'make'] not in stop_words.\n",
      "  warnings.warn(\n",
      "/Users/Isaacbolo/opt/anaconda3/lib/python3.9/site-packages/sklearn/feature_extraction/text.py:396: UserWarning: Your stop_words may be inconsistent with your preprocessing. Tokenizing the stop words generated tokens ['far', 'make'] not in stop_words.\n",
      "  warnings.warn(\n",
      "/Users/Isaacbolo/opt/anaconda3/lib/python3.9/site-packages/sklearn/feature_extraction/text.py:396: UserWarning: Your stop_words may be inconsistent with your preprocessing. Tokenizing the stop words generated tokens ['far', 'make'] not in stop_words.\n",
      "  warnings.warn(\n",
      "/Users/Isaacbolo/opt/anaconda3/lib/python3.9/site-packages/sklearn/feature_extraction/text.py:396: UserWarning: Your stop_words may be inconsistent with your preprocessing. Tokenizing the stop words generated tokens ['far', 'make'] not in stop_words.\n",
      "  warnings.warn(\n",
      "/Users/Isaacbolo/opt/anaconda3/lib/python3.9/site-packages/sklearn/feature_extraction/text.py:396: UserWarning: Your stop_words may be inconsistent with your preprocessing. Tokenizing the stop words generated tokens ['far', 'make'] not in stop_words.\n",
      "  warnings.warn(\n",
      "/Users/Isaacbolo/opt/anaconda3/lib/python3.9/site-packages/sklearn/feature_extraction/text.py:396: UserWarning: Your stop_words may be inconsistent with your preprocessing. Tokenizing the stop words generated tokens ['far', 'make'] not in stop_words.\n",
      "  warnings.warn(\n",
      "/Users/Isaacbolo/opt/anaconda3/lib/python3.9/site-packages/sklearn/feature_extraction/text.py:396: UserWarning: Your stop_words may be inconsistent with your preprocessing. Tokenizing the stop words generated tokens ['far', 'make'] not in stop_words.\n",
      "  warnings.warn(\n",
      "/Users/Isaacbolo/opt/anaconda3/lib/python3.9/site-packages/sklearn/feature_extraction/text.py:396: UserWarning: Your stop_words may be inconsistent with your preprocessing. Tokenizing the stop words generated tokens ['far', 'make'] not in stop_words.\n",
      "  warnings.warn(\n",
      "/Users/Isaacbolo/opt/anaconda3/lib/python3.9/site-packages/sklearn/feature_extraction/text.py:396: UserWarning: Your stop_words may be inconsistent with your preprocessing. Tokenizing the stop words generated tokens ['far', 'make'] not in stop_words.\n",
      "  warnings.warn(\n",
      "/Users/Isaacbolo/opt/anaconda3/lib/python3.9/site-packages/sklearn/feature_extraction/text.py:396: UserWarning: Your stop_words may be inconsistent with your preprocessing. Tokenizing the stop words generated tokens ['far', 'make'] not in stop_words.\n",
      "  warnings.warn(\n",
      "/Users/Isaacbolo/opt/anaconda3/lib/python3.9/site-packages/sklearn/feature_extraction/text.py:396: UserWarning: Your stop_words may be inconsistent with your preprocessing. Tokenizing the stop words generated tokens ['far', 'make'] not in stop_words.\n",
      "  warnings.warn(\n",
      "/Users/Isaacbolo/opt/anaconda3/lib/python3.9/site-packages/sklearn/feature_extraction/text.py:396: UserWarning: Your stop_words may be inconsistent with your preprocessing. Tokenizing the stop words generated tokens ['far', 'make'] not in stop_words.\n",
      "  warnings.warn(\n",
      "/Users/Isaacbolo/opt/anaconda3/lib/python3.9/site-packages/sklearn/feature_extraction/text.py:396: UserWarning: Your stop_words may be inconsistent with your preprocessing. Tokenizing the stop words generated tokens ['far', 'make'] not in stop_words.\n",
      "  warnings.warn(\n"
     ]
    },
    {
     "data": {
      "text/plain": "RandomizedSearchCV(cv=3,\n                   estimator=Pipeline(steps=[('cv',\n                                              CountVectorizer(preprocessor=<function tweet_preprocessor at 0x7f7fe1cbc790>,\n                                                              strip_accents='ascii')),\n                                             ('svc',\n                                              SVC(class_weight='balanced',\n                                                  probability=True))]),\n                   n_iter=15, n_jobs=-1,\n                   param_distributions={'cv__lowercase': [True, False],\n                                        'cv__min_df': [0, 1, 2],\n                                        'cv__ngram_range': [(1, 1), (1, 2)],\n                                        'cv__stop_words': ['english', None],\n                                        'svc__kernel': ['sigmoid', 'linear',\n                                                        'rbf']},\n                   scoring='neg_log_loss', verbose=50)"
     },
     "execution_count": 24,
     "metadata": {},
     "output_type": "execute_result"
    }
   ],
   "source": [
    "search.fit(X_train, y_train)"
   ]
  },
  {
   "cell_type": "code",
   "execution_count": 25,
   "metadata": {
    "pycharm": {
     "name": "#%%\n"
    }
   },
   "outputs": [
    {
     "data": {
      "text/plain": "{'svc__kernel': 'sigmoid',\n 'cv__stop_words': 'english',\n 'cv__ngram_range': (1, 2),\n 'cv__min_df': 0,\n 'cv__lowercase': True}"
     },
     "execution_count": 25,
     "metadata": {},
     "output_type": "execute_result"
    }
   ],
   "source": [
    "search.best_params_"
   ]
  },
  {
   "cell_type": "code",
   "execution_count": 26,
   "metadata": {
    "pycharm": {
     "name": "#%%\n"
    }
   },
   "outputs": [],
   "source": [
    "cvsvc = search.best_estimator_"
   ]
  },
  {
   "cell_type": "code",
   "execution_count": 27,
   "outputs": [],
   "source": [
    "models.append(cvsvc)"
   ],
   "metadata": {
    "collapsed": false,
    "pycharm": {
     "name": "#%%\n"
    }
   }
  },
  {
   "cell_type": "markdown",
   "metadata": {
    "pycharm": {
     "name": "#%% md\n"
    }
   },
   "source": [
    "# TFIDF and NB"
   ]
  },
  {
   "cell_type": "code",
   "execution_count": 28,
   "metadata": {
    "pycharm": {
     "name": "#%%\n"
    }
   },
   "outputs": [],
   "source": [
    "tfidf = TfidfVectorizer(smooth_idf=True, strip_accents='ascii', preprocessor=tweet_preprocessor)\n",
    "nb = MultinomialNB()\n",
    "pipeline = Pipeline([('tfidf', tfidf), ('nb', nb)])\n",
    "params = {\n",
    "    'tfidf__ngram_range': [(1,1), (1,2)],\n",
    "    'tfidf__lowercase': [True, False],\n",
    "    'tfidf__max_df': [0,1,2,3],\n",
    "    'tfidf__min_df': [0,1,2,3],\n",
    "    'tfidf__stop_words': ['english', None],\n",
    "    'nb__alpha': np.linspace(.5, 5, 4)\n",
    "}\n",
    "search = RandomizedSearchCV(pipeline, param_distributions=params, cv=3, verbose=50, n_jobs=-1, scoring='neg_log_loss', n_iter=15)"
   ]
  },
  {
   "cell_type": "code",
   "execution_count": 29,
   "metadata": {
    "pycharm": {
     "name": "#%%\n"
    }
   },
   "outputs": [
    {
     "name": "stdout",
     "output_type": "stream",
     "text": [
      "Fitting 3 folds for each of 15 candidates, totalling 45 fits\n"
     ]
    },
    {
     "name": "stderr",
     "output_type": "stream",
     "text": [
      "/Users/Isaacbolo/opt/anaconda3/lib/python3.9/site-packages/sklearn/feature_extraction/text.py:396: UserWarning: Your stop_words may be inconsistent with your preprocessing. Tokenizing the stop words generated tokens ['far', 'make'] not in stop_words.\n",
      "  warnings.warn(\n",
      "/Users/Isaacbolo/opt/anaconda3/lib/python3.9/site-packages/sklearn/feature_extraction/text.py:396: UserWarning: Your stop_words may be inconsistent with your preprocessing. Tokenizing the stop words generated tokens ['far', 'make'] not in stop_words.\n",
      "  warnings.warn(\n",
      "/Users/Isaacbolo/opt/anaconda3/lib/python3.9/site-packages/sklearn/feature_extraction/text.py:396: UserWarning: Your stop_words may be inconsistent with your preprocessing. Tokenizing the stop words generated tokens ['far', 'make'] not in stop_words.\n",
      "  warnings.warn(\n",
      "/Users/Isaacbolo/opt/anaconda3/lib/python3.9/site-packages/sklearn/feature_extraction/text.py:396: UserWarning: Your stop_words may be inconsistent with your preprocessing. Tokenizing the stop words generated tokens ['far', 'make'] not in stop_words.\n",
      "  warnings.warn(\n",
      "/Users/Isaacbolo/opt/anaconda3/lib/python3.9/site-packages/sklearn/feature_extraction/text.py:396: UserWarning: Your stop_words may be inconsistent with your preprocessing. Tokenizing the stop words generated tokens ['far', 'make'] not in stop_words.\n",
      "  warnings.warn(\n",
      "/Users/Isaacbolo/opt/anaconda3/lib/python3.9/site-packages/sklearn/feature_extraction/text.py:396: UserWarning: Your stop_words may be inconsistent with your preprocessing. Tokenizing the stop words generated tokens ['far', 'make'] not in stop_words.\n",
      "  warnings.warn(\n",
      "/Users/Isaacbolo/opt/anaconda3/lib/python3.9/site-packages/sklearn/feature_extraction/text.py:396: UserWarning: Your stop_words may be inconsistent with your preprocessing. Tokenizing the stop words generated tokens ['far', 'make'] not in stop_words.\n",
      "  warnings.warn(\n",
      "/Users/Isaacbolo/opt/anaconda3/lib/python3.9/site-packages/sklearn/feature_extraction/text.py:396: UserWarning: Your stop_words may be inconsistent with your preprocessing. Tokenizing the stop words generated tokens ['far', 'make'] not in stop_words.\n",
      "  warnings.warn(\n",
      "/Users/Isaacbolo/opt/anaconda3/lib/python3.9/site-packages/sklearn/feature_extraction/text.py:396: UserWarning: Your stop_words may be inconsistent with your preprocessing. Tokenizing the stop words generated tokens ['far', 'make'] not in stop_words.\n",
      "  warnings.warn(\n",
      "/Users/Isaacbolo/opt/anaconda3/lib/python3.9/site-packages/sklearn/feature_extraction/text.py:396: UserWarning: Your stop_words may be inconsistent with your preprocessing. Tokenizing the stop words generated tokens ['far', 'make'] not in stop_words.\n",
      "  warnings.warn(\n",
      "/Users/Isaacbolo/opt/anaconda3/lib/python3.9/site-packages/sklearn/feature_extraction/text.py:396: UserWarning: Your stop_words may be inconsistent with your preprocessing. Tokenizing the stop words generated tokens ['far', 'make'] not in stop_words.\n",
      "  warnings.warn(\n",
      "/Users/Isaacbolo/opt/anaconda3/lib/python3.9/site-packages/sklearn/feature_extraction/text.py:396: UserWarning: Your stop_words may be inconsistent with your preprocessing. Tokenizing the stop words generated tokens ['far', 'make'] not in stop_words.\n",
      "  warnings.warn(\n",
      "/Users/Isaacbolo/opt/anaconda3/lib/python3.9/site-packages/sklearn/feature_extraction/text.py:396: UserWarning: Your stop_words may be inconsistent with your preprocessing. Tokenizing the stop words generated tokens ['far', 'make'] not in stop_words.\n",
      "  warnings.warn(\n",
      "/Users/Isaacbolo/opt/anaconda3/lib/python3.9/site-packages/sklearn/feature_extraction/text.py:396: UserWarning: Your stop_words may be inconsistent with your preprocessing. Tokenizing the stop words generated tokens ['far', 'make'] not in stop_words.\n",
      "  warnings.warn(\n",
      "/Users/Isaacbolo/opt/anaconda3/lib/python3.9/site-packages/sklearn/feature_extraction/text.py:396: UserWarning: Your stop_words may be inconsistent with your preprocessing. Tokenizing the stop words generated tokens ['far', 'make'] not in stop_words.\n",
      "  warnings.warn(\n",
      "/Users/Isaacbolo/opt/anaconda3/lib/python3.9/site-packages/sklearn/model_selection/_validation.py:372: FitFailedWarning: \n",
      "21 fits failed out of a total of 45.\n",
      "The score on these train-test partitions for these parameters will be set to nan.\n",
      "If these failures are not expected, you can try to debug them by setting error_score='raise'.\n",
      "\n",
      "Below are more details about the failures:\n",
      "--------------------------------------------------------------------------------\n",
      "18 fits failed with the following error:\n",
      "Traceback (most recent call last):\n",
      "  File \"/Users/Isaacbolo/opt/anaconda3/lib/python3.9/site-packages/sklearn/model_selection/_validation.py\", line 680, in _fit_and_score\n",
      "    estimator.fit(X_train, y_train, **fit_params)\n",
      "  File \"/Users/Isaacbolo/opt/anaconda3/lib/python3.9/site-packages/sklearn/pipeline.py\", line 390, in fit\n",
      "    Xt = self._fit(X, y, **fit_params_steps)\n",
      "  File \"/Users/Isaacbolo/opt/anaconda3/lib/python3.9/site-packages/sklearn/pipeline.py\", line 348, in _fit\n",
      "    X, fitted_transformer = fit_transform_one_cached(\n",
      "  File \"/Users/Isaacbolo/opt/anaconda3/lib/python3.9/site-packages/joblib/memory.py\", line 349, in __call__\n",
      "    return self.func(*args, **kwargs)\n",
      "  File \"/Users/Isaacbolo/opt/anaconda3/lib/python3.9/site-packages/sklearn/pipeline.py\", line 893, in _fit_transform_one\n",
      "    res = transformer.fit_transform(X, y, **fit_params)\n",
      "  File \"/Users/Isaacbolo/opt/anaconda3/lib/python3.9/site-packages/sklearn/feature_extraction/text.py\", line 2077, in fit_transform\n",
      "    X = super().fit_transform(raw_documents)\n",
      "  File \"/Users/Isaacbolo/opt/anaconda3/lib/python3.9/site-packages/sklearn/feature_extraction/text.py\", line 1344, in fit_transform\n",
      "    raise ValueError(\"max_df corresponds to < documents than min_df\")\n",
      "ValueError: max_df corresponds to < documents than min_df\n",
      "\n",
      "--------------------------------------------------------------------------------\n",
      "3 fits failed with the following error:\n",
      "Traceback (most recent call last):\n",
      "  File \"/Users/Isaacbolo/opt/anaconda3/lib/python3.9/site-packages/sklearn/model_selection/_validation.py\", line 680, in _fit_and_score\n",
      "    estimator.fit(X_train, y_train, **fit_params)\n",
      "  File \"/Users/Isaacbolo/opt/anaconda3/lib/python3.9/site-packages/sklearn/pipeline.py\", line 390, in fit\n",
      "    Xt = self._fit(X, y, **fit_params_steps)\n",
      "  File \"/Users/Isaacbolo/opt/anaconda3/lib/python3.9/site-packages/sklearn/pipeline.py\", line 348, in _fit\n",
      "    X, fitted_transformer = fit_transform_one_cached(\n",
      "  File \"/Users/Isaacbolo/opt/anaconda3/lib/python3.9/site-packages/joblib/memory.py\", line 349, in __call__\n",
      "    return self.func(*args, **kwargs)\n",
      "  File \"/Users/Isaacbolo/opt/anaconda3/lib/python3.9/site-packages/sklearn/pipeline.py\", line 893, in _fit_transform_one\n",
      "    res = transformer.fit_transform(X, y, **fit_params)\n",
      "  File \"/Users/Isaacbolo/opt/anaconda3/lib/python3.9/site-packages/sklearn/feature_extraction/text.py\", line 2077, in fit_transform\n",
      "    X = super().fit_transform(raw_documents)\n",
      "  File \"/Users/Isaacbolo/opt/anaconda3/lib/python3.9/site-packages/sklearn/feature_extraction/text.py\", line 1347, in fit_transform\n",
      "    X, self.stop_words_ = self._limit_features(\n",
      "  File \"/Users/Isaacbolo/opt/anaconda3/lib/python3.9/site-packages/sklearn/feature_extraction/text.py\", line 1179, in _limit_features\n",
      "    raise ValueError(\n",
      "ValueError: After pruning, no terms remain. Try a lower min_df or a higher max_df.\n",
      "\n",
      "  warnings.warn(some_fits_failed_message, FitFailedWarning)\n",
      "/Users/Isaacbolo/opt/anaconda3/lib/python3.9/site-packages/sklearn/model_selection/_search.py:969: UserWarning: One or more of the test scores are non-finite: [        nan -0.49625992 -0.498187           nan         nan         nan\n",
      " -0.49892595 -0.40903698 -0.44552876         nan -0.49177769         nan\n",
      " -0.49892595         nan -0.47948427]\n",
      "  warnings.warn(\n",
      "/Users/Isaacbolo/opt/anaconda3/lib/python3.9/site-packages/sklearn/feature_extraction/text.py:396: UserWarning: Your stop_words may be inconsistent with your preprocessing. Tokenizing the stop words generated tokens ['far', 'make'] not in stop_words.\n",
      "  warnings.warn(\n"
     ]
    },
    {
     "data": {
      "text/plain": "RandomizedSearchCV(cv=3,\n                   estimator=Pipeline(steps=[('tfidf',\n                                              TfidfVectorizer(preprocessor=<function tweet_preprocessor at 0x7f7fe1cbc790>,\n                                                              strip_accents='ascii')),\n                                             ('nb', MultinomialNB())]),\n                   n_iter=15, n_jobs=-1,\n                   param_distributions={'nb__alpha': array([0.5, 2. , 3.5, 5. ]),\n                                        'tfidf__lowercase': [True, False],\n                                        'tfidf__max_df': [0, 1, 2, 3],\n                                        'tfidf__min_df': [0, 1, 2, 3],\n                                        'tfidf__ngram_range': [(1, 1), (1, 2)],\n                                        'tfidf__stop_words': ['english', None]},\n                   scoring='neg_log_loss', verbose=50)"
     },
     "execution_count": 29,
     "metadata": {},
     "output_type": "execute_result"
    }
   ],
   "source": [
    "search.fit(X_train, y_train)"
   ]
  },
  {
   "cell_type": "code",
   "execution_count": 30,
   "metadata": {
    "pycharm": {
     "name": "#%%\n"
    }
   },
   "outputs": [
    {
     "data": {
      "text/plain": "{'tfidf__stop_words': 'english',\n 'tfidf__ngram_range': (1, 2),\n 'tfidf__min_df': 0,\n 'tfidf__max_df': 3,\n 'tfidf__lowercase': False,\n 'nb__alpha': 0.5}"
     },
     "execution_count": 30,
     "metadata": {},
     "output_type": "execute_result"
    }
   ],
   "source": [
    "search.best_params_"
   ]
  },
  {
   "cell_type": "code",
   "execution_count": 31,
   "metadata": {
    "pycharm": {
     "name": "#%%\n"
    }
   },
   "outputs": [],
   "source": [
    "tfidfnb = search.best_estimator_"
   ]
  },
  {
   "cell_type": "code",
   "execution_count": 32,
   "outputs": [],
   "source": [
    "models.append(tfidfnb)"
   ],
   "metadata": {
    "collapsed": false,
    "pycharm": {
     "name": "#%%\n"
    }
   }
  },
  {
   "cell_type": "markdown",
   "metadata": {
    "pycharm": {
     "name": "#%% md\n"
    }
   },
   "source": [
    "# TFIDF and SVM"
   ]
  },
  {
   "cell_type": "code",
   "execution_count": 33,
   "metadata": {
    "pycharm": {
     "name": "#%%\n"
    }
   },
   "outputs": [],
   "source": [
    "pipeline = Pipeline([('tfidf', tfidf), ('svc', svc)])\n",
    "params = {\n",
    "    'tfidf__ngram_range': [(1,1), (1,2)],\n",
    "    'tfidf__lowercase': [True, False],\n",
    "    'tfidf__max_df': [0,1,2,3],\n",
    "    'tfidf__min_df': [0,1,2,3],\n",
    "    'svc__kernel': ['sigmoid', 'linear', 'rbf']\n",
    "}\n",
    "search = RandomizedSearchCV(pipeline, param_distributions=params, cv=3, verbose=50, n_jobs=-1, scoring='neg_log_loss', n_iter=15)"
   ]
  },
  {
   "cell_type": "code",
   "execution_count": 34,
   "metadata": {
    "pycharm": {
     "name": "#%%\n"
    }
   },
   "outputs": [
    {
     "name": "stdout",
     "output_type": "stream",
     "text": [
      "Fitting 3 folds for each of 15 candidates, totalling 45 fits\n"
     ]
    },
    {
     "name": "stderr",
     "output_type": "stream",
     "text": [
      "/Users/Isaacbolo/opt/anaconda3/lib/python3.9/site-packages/sklearn/model_selection/_validation.py:372: FitFailedWarning: \n",
      "24 fits failed out of a total of 45.\n",
      "The score on these train-test partitions for these parameters will be set to nan.\n",
      "If these failures are not expected, you can try to debug them by setting error_score='raise'.\n",
      "\n",
      "Below are more details about the failures:\n",
      "--------------------------------------------------------------------------------\n",
      "9 fits failed with the following error:\n",
      "Traceback (most recent call last):\n",
      "  File \"/Users/Isaacbolo/opt/anaconda3/lib/python3.9/site-packages/sklearn/model_selection/_validation.py\", line 680, in _fit_and_score\n",
      "    estimator.fit(X_train, y_train, **fit_params)\n",
      "  File \"/Users/Isaacbolo/opt/anaconda3/lib/python3.9/site-packages/sklearn/pipeline.py\", line 390, in fit\n",
      "    Xt = self._fit(X, y, **fit_params_steps)\n",
      "  File \"/Users/Isaacbolo/opt/anaconda3/lib/python3.9/site-packages/sklearn/pipeline.py\", line 348, in _fit\n",
      "    X, fitted_transformer = fit_transform_one_cached(\n",
      "  File \"/Users/Isaacbolo/opt/anaconda3/lib/python3.9/site-packages/joblib/memory.py\", line 349, in __call__\n",
      "    return self.func(*args, **kwargs)\n",
      "  File \"/Users/Isaacbolo/opt/anaconda3/lib/python3.9/site-packages/sklearn/pipeline.py\", line 893, in _fit_transform_one\n",
      "    res = transformer.fit_transform(X, y, **fit_params)\n",
      "  File \"/Users/Isaacbolo/opt/anaconda3/lib/python3.9/site-packages/sklearn/feature_extraction/text.py\", line 2077, in fit_transform\n",
      "    X = super().fit_transform(raw_documents)\n",
      "  File \"/Users/Isaacbolo/opt/anaconda3/lib/python3.9/site-packages/sklearn/feature_extraction/text.py\", line 1347, in fit_transform\n",
      "    X, self.stop_words_ = self._limit_features(\n",
      "  File \"/Users/Isaacbolo/opt/anaconda3/lib/python3.9/site-packages/sklearn/feature_extraction/text.py\", line 1179, in _limit_features\n",
      "    raise ValueError(\n",
      "ValueError: After pruning, no terms remain. Try a lower min_df or a higher max_df.\n",
      "\n",
      "--------------------------------------------------------------------------------\n",
      "15 fits failed with the following error:\n",
      "Traceback (most recent call last):\n",
      "  File \"/Users/Isaacbolo/opt/anaconda3/lib/python3.9/site-packages/sklearn/model_selection/_validation.py\", line 680, in _fit_and_score\n",
      "    estimator.fit(X_train, y_train, **fit_params)\n",
      "  File \"/Users/Isaacbolo/opt/anaconda3/lib/python3.9/site-packages/sklearn/pipeline.py\", line 390, in fit\n",
      "    Xt = self._fit(X, y, **fit_params_steps)\n",
      "  File \"/Users/Isaacbolo/opt/anaconda3/lib/python3.9/site-packages/sklearn/pipeline.py\", line 348, in _fit\n",
      "    X, fitted_transformer = fit_transform_one_cached(\n",
      "  File \"/Users/Isaacbolo/opt/anaconda3/lib/python3.9/site-packages/joblib/memory.py\", line 349, in __call__\n",
      "    return self.func(*args, **kwargs)\n",
      "  File \"/Users/Isaacbolo/opt/anaconda3/lib/python3.9/site-packages/sklearn/pipeline.py\", line 893, in _fit_transform_one\n",
      "    res = transformer.fit_transform(X, y, **fit_params)\n",
      "  File \"/Users/Isaacbolo/opt/anaconda3/lib/python3.9/site-packages/sklearn/feature_extraction/text.py\", line 2077, in fit_transform\n",
      "    X = super().fit_transform(raw_documents)\n",
      "  File \"/Users/Isaacbolo/opt/anaconda3/lib/python3.9/site-packages/sklearn/feature_extraction/text.py\", line 1344, in fit_transform\n",
      "    raise ValueError(\"max_df corresponds to < documents than min_df\")\n",
      "ValueError: max_df corresponds to < documents than min_df\n",
      "\n",
      "  warnings.warn(some_fits_failed_message, FitFailedWarning)\n",
      "/Users/Isaacbolo/opt/anaconda3/lib/python3.9/site-packages/sklearn/model_selection/_search.py:969: UserWarning: One or more of the test scores are non-finite: [-0.47506943 -1.80413615         nan         nan         nan         nan\n",
      "         nan -0.48800013         nan -0.49814583 -1.65296033         nan\n",
      " -0.43444025 -0.4330526          nan]\n",
      "  warnings.warn(\n"
     ]
    },
    {
     "data": {
      "text/plain": "RandomizedSearchCV(cv=3,\n                   estimator=Pipeline(steps=[('tfidf',\n                                              TfidfVectorizer(preprocessor=<function tweet_preprocessor at 0x7f7fe1cbc790>,\n                                                              strip_accents='ascii')),\n                                             ('svc',\n                                              SVC(class_weight='balanced',\n                                                  probability=True))]),\n                   n_iter=15, n_jobs=-1,\n                   param_distributions={'svc__kernel': ['sigmoid', 'linear',\n                                                        'rbf'],\n                                        'tfidf__lowercase': [True, False],\n                                        'tfidf__max_df': [0, 1, 2, 3],\n                                        'tfidf__min_df': [0, 1, 2, 3],\n                                        'tfidf__ngram_range': [(1, 1), (1, 2)]},\n                   scoring='neg_log_loss', verbose=50)"
     },
     "execution_count": 34,
     "metadata": {},
     "output_type": "execute_result"
    }
   ],
   "source": [
    "search.fit(X_train, y_train)"
   ]
  },
  {
   "cell_type": "code",
   "execution_count": 35,
   "metadata": {
    "pycharm": {
     "name": "#%%\n"
    }
   },
   "outputs": [
    {
     "data": {
      "text/plain": "{'tfidf__ngram_range': (1, 2),\n 'tfidf__min_df': 1,\n 'tfidf__max_df': 2,\n 'tfidf__lowercase': False,\n 'svc__kernel': 'rbf'}"
     },
     "execution_count": 35,
     "metadata": {},
     "output_type": "execute_result"
    }
   ],
   "source": [
    "search.best_params_"
   ]
  },
  {
   "cell_type": "code",
   "execution_count": 36,
   "metadata": {
    "pycharm": {
     "name": "#%%\n"
    }
   },
   "outputs": [],
   "source": [
    "tfidfsvc = search.best_estimator_"
   ]
  },
  {
   "cell_type": "code",
   "execution_count": 37,
   "outputs": [],
   "source": [
    "models.append(tfidfsvc)"
   ],
   "metadata": {
    "collapsed": false,
    "pycharm": {
     "name": "#%%\n"
    }
   }
  },
  {
   "cell_type": "markdown",
   "metadata": {
    "pycharm": {
     "name": "#%% md\n"
    }
   },
   "source": [
    "# Model Selection using Cross Validation"
   ]
  },
  {
   "cell_type": "code",
   "execution_count": 38,
   "metadata": {
    "pycharm": {
     "name": "#%%\n"
    }
   },
   "outputs": [],
   "source": [
    "from sklearn.model_selection import cross_val_predict, KFold"
   ]
  },
  {
   "cell_type": "code",
   "execution_count": 39,
   "outputs": [],
   "source": [
    "folds = KFold(10, shuffle=False)"
   ],
   "metadata": {
    "collapsed": false,
    "pycharm": {
     "name": "#%%\n"
    }
   }
  },
  {
   "cell_type": "code",
   "execution_count": 40,
   "outputs": [],
   "source": [
    "def cv_log_loss(model, X_train, y_train, folds):\n",
    "    y_hat = cross_val_predict(model, X_train, y_train, cv=folds, n_jobs=-1, method='predict_proba')\n",
    "    return log_loss(y_train, y_hat[:, 1])"
   ],
   "metadata": {
    "collapsed": false,
    "pycharm": {
     "name": "#%%\n"
    }
   }
  },
  {
   "cell_type": "code",
   "execution_count": 41,
   "outputs": [
    {
     "name": "stderr",
     "output_type": "stream",
     "text": [
      "/Users/Isaacbolo/opt/anaconda3/lib/python3.9/site-packages/sklearn/feature_extraction/text.py:396: UserWarning: Your stop_words may be inconsistent with your preprocessing. Tokenizing the stop words generated tokens ['far', 'make'] not in stop_words.\n",
      "  warnings.warn(\n",
      "/Users/Isaacbolo/opt/anaconda3/lib/python3.9/site-packages/sklearn/feature_extraction/text.py:396: UserWarning: Your stop_words may be inconsistent with your preprocessing. Tokenizing the stop words generated tokens ['far', 'make'] not in stop_words.\n",
      "  warnings.warn(\n",
      "/Users/Isaacbolo/opt/anaconda3/lib/python3.9/site-packages/sklearn/feature_extraction/text.py:396: UserWarning: Your stop_words may be inconsistent with your preprocessing. Tokenizing the stop words generated tokens ['far', 'make'] not in stop_words.\n",
      "  warnings.warn(\n",
      "/Users/Isaacbolo/opt/anaconda3/lib/python3.9/site-packages/sklearn/feature_extraction/text.py:396: UserWarning: Your stop_words may be inconsistent with your preprocessing. Tokenizing the stop words generated tokens ['far', 'make'] not in stop_words.\n",
      "  warnings.warn(\n",
      "/Users/Isaacbolo/opt/anaconda3/lib/python3.9/site-packages/sklearn/feature_extraction/text.py:396: UserWarning: Your stop_words may be inconsistent with your preprocessing. Tokenizing the stop words generated tokens ['far', 'make'] not in stop_words.\n",
      "  warnings.warn(\n",
      "/Users/Isaacbolo/opt/anaconda3/lib/python3.9/site-packages/sklearn/feature_extraction/text.py:396: UserWarning: Your stop_words may be inconsistent with your preprocessing. Tokenizing the stop words generated tokens ['far', 'make'] not in stop_words.\n",
      "  warnings.warn(\n",
      "/Users/Isaacbolo/opt/anaconda3/lib/python3.9/site-packages/sklearn/feature_extraction/text.py:396: UserWarning: Your stop_words may be inconsistent with your preprocessing. Tokenizing the stop words generated tokens ['far', 'make'] not in stop_words.\n",
      "  warnings.warn(\n",
      "/Users/Isaacbolo/opt/anaconda3/lib/python3.9/site-packages/sklearn/feature_extraction/text.py:396: UserWarning: Your stop_words may be inconsistent with your preprocessing. Tokenizing the stop words generated tokens ['far', 'make'] not in stop_words.\n",
      "  warnings.warn(\n",
      "/Users/Isaacbolo/opt/anaconda3/lib/python3.9/site-packages/sklearn/feature_extraction/text.py:396: UserWarning: Your stop_words may be inconsistent with your preprocessing. Tokenizing the stop words generated tokens ['far', 'make'] not in stop_words.\n",
      "  warnings.warn(\n",
      "/Users/Isaacbolo/opt/anaconda3/lib/python3.9/site-packages/sklearn/feature_extraction/text.py:396: UserWarning: Your stop_words may be inconsistent with your preprocessing. Tokenizing the stop words generated tokens ['far', 'make'] not in stop_words.\n",
      "  warnings.warn(\n",
      "/Users/Isaacbolo/opt/anaconda3/lib/python3.9/site-packages/sklearn/feature_extraction/text.py:396: UserWarning: Your stop_words may be inconsistent with your preprocessing. Tokenizing the stop words generated tokens ['far', 'make'] not in stop_words.\n",
      "  warnings.warn(\n",
      "/Users/Isaacbolo/opt/anaconda3/lib/python3.9/site-packages/sklearn/feature_extraction/text.py:396: UserWarning: Your stop_words may be inconsistent with your preprocessing. Tokenizing the stop words generated tokens ['far', 'make'] not in stop_words.\n",
      "  warnings.warn(\n",
      "/Users/Isaacbolo/opt/anaconda3/lib/python3.9/site-packages/sklearn/feature_extraction/text.py:396: UserWarning: Your stop_words may be inconsistent with your preprocessing. Tokenizing the stop words generated tokens ['far', 'make'] not in stop_words.\n",
      "  warnings.warn(\n",
      "/Users/Isaacbolo/opt/anaconda3/lib/python3.9/site-packages/sklearn/feature_extraction/text.py:396: UserWarning: Your stop_words may be inconsistent with your preprocessing. Tokenizing the stop words generated tokens ['far', 'make'] not in stop_words.\n",
      "  warnings.warn(\n",
      "/Users/Isaacbolo/opt/anaconda3/lib/python3.9/site-packages/sklearn/feature_extraction/text.py:396: UserWarning: Your stop_words may be inconsistent with your preprocessing. Tokenizing the stop words generated tokens ['far', 'make'] not in stop_words.\n",
      "  warnings.warn(\n",
      "/Users/Isaacbolo/opt/anaconda3/lib/python3.9/site-packages/sklearn/feature_extraction/text.py:396: UserWarning: Your stop_words may be inconsistent with your preprocessing. Tokenizing the stop words generated tokens ['far', 'make'] not in stop_words.\n",
      "  warnings.warn(\n",
      "/Users/Isaacbolo/opt/anaconda3/lib/python3.9/site-packages/sklearn/feature_extraction/text.py:396: UserWarning: Your stop_words may be inconsistent with your preprocessing. Tokenizing the stop words generated tokens ['far', 'make'] not in stop_words.\n",
      "  warnings.warn(\n",
      "/Users/Isaacbolo/opt/anaconda3/lib/python3.9/site-packages/sklearn/feature_extraction/text.py:396: UserWarning: Your stop_words may be inconsistent with your preprocessing. Tokenizing the stop words generated tokens ['far', 'make'] not in stop_words.\n",
      "  warnings.warn(\n",
      "/Users/Isaacbolo/opt/anaconda3/lib/python3.9/site-packages/sklearn/feature_extraction/text.py:396: UserWarning: Your stop_words may be inconsistent with your preprocessing. Tokenizing the stop words generated tokens ['far', 'make'] not in stop_words.\n",
      "  warnings.warn(\n",
      "/Users/Isaacbolo/opt/anaconda3/lib/python3.9/site-packages/sklearn/feature_extraction/text.py:396: UserWarning: Your stop_words may be inconsistent with your preprocessing. Tokenizing the stop words generated tokens ['far', 'make'] not in stop_words.\n",
      "  warnings.warn(\n",
      "/Users/Isaacbolo/opt/anaconda3/lib/python3.9/site-packages/sklearn/feature_extraction/text.py:396: UserWarning: Your stop_words may be inconsistent with your preprocessing. Tokenizing the stop words generated tokens ['far', 'make'] not in stop_words.\n",
      "  warnings.warn(\n",
      "/Users/Isaacbolo/opt/anaconda3/lib/python3.9/site-packages/sklearn/feature_extraction/text.py:396: UserWarning: Your stop_words may be inconsistent with your preprocessing. Tokenizing the stop words generated tokens ['far', 'make'] not in stop_words.\n",
      "  warnings.warn(\n",
      "/Users/Isaacbolo/opt/anaconda3/lib/python3.9/site-packages/sklearn/feature_extraction/text.py:396: UserWarning: Your stop_words may be inconsistent with your preprocessing. Tokenizing the stop words generated tokens ['far', 'make'] not in stop_words.\n",
      "  warnings.warn(\n",
      "/Users/Isaacbolo/opt/anaconda3/lib/python3.9/site-packages/sklearn/feature_extraction/text.py:396: UserWarning: Your stop_words may be inconsistent with your preprocessing. Tokenizing the stop words generated tokens ['far', 'make'] not in stop_words.\n",
      "  warnings.warn(\n",
      "/Users/Isaacbolo/opt/anaconda3/lib/python3.9/site-packages/sklearn/feature_extraction/text.py:396: UserWarning: Your stop_words may be inconsistent with your preprocessing. Tokenizing the stop words generated tokens ['far', 'make'] not in stop_words.\n",
      "  warnings.warn(\n",
      "/Users/Isaacbolo/opt/anaconda3/lib/python3.9/site-packages/sklearn/feature_extraction/text.py:396: UserWarning: Your stop_words may be inconsistent with your preprocessing. Tokenizing the stop words generated tokens ['far', 'make'] not in stop_words.\n",
      "  warnings.warn(\n",
      "/Users/Isaacbolo/opt/anaconda3/lib/python3.9/site-packages/sklearn/feature_extraction/text.py:396: UserWarning: Your stop_words may be inconsistent with your preprocessing. Tokenizing the stop words generated tokens ['far', 'make'] not in stop_words.\n",
      "  warnings.warn(\n",
      "/Users/Isaacbolo/opt/anaconda3/lib/python3.9/site-packages/sklearn/feature_extraction/text.py:396: UserWarning: Your stop_words may be inconsistent with your preprocessing. Tokenizing the stop words generated tokens ['far', 'make'] not in stop_words.\n",
      "  warnings.warn(\n",
      "/Users/Isaacbolo/opt/anaconda3/lib/python3.9/site-packages/sklearn/feature_extraction/text.py:396: UserWarning: Your stop_words may be inconsistent with your preprocessing. Tokenizing the stop words generated tokens ['far', 'make'] not in stop_words.\n",
      "  warnings.warn(\n",
      "/Users/Isaacbolo/opt/anaconda3/lib/python3.9/site-packages/sklearn/feature_extraction/text.py:396: UserWarning: Your stop_words may be inconsistent with your preprocessing. Tokenizing the stop words generated tokens ['far', 'make'] not in stop_words.\n",
      "  warnings.warn(\n"
     ]
    }
   ],
   "source": [
    "losses = []\n",
    "for model in models:\n",
    "    losses.append((model, cv_log_loss(model, X_train, y_train, folds)))"
   ],
   "metadata": {
    "collapsed": false,
    "pycharm": {
     "name": "#%%\n"
    }
   }
  },
  {
   "cell_type": "code",
   "execution_count": 42,
   "outputs": [
    {
     "data": {
      "text/plain": "[(Pipeline(steps=[('cv',\n                   CountVectorizer(lowercase=False, min_df=2,\n                                   preprocessor=<function tweet_preprocessor at 0x7f7fe1cbc790>,\n                                   stop_words='english', strip_accents='ascii')),\n                  ('nb', MultinomialNB(alpha=5))]),\n  0.1546562865338145),\n (Pipeline(steps=[('cv',\n                   CountVectorizer(min_df=0, ngram_range=(1, 2),\n                                   preprocessor=<function tweet_preprocessor at 0x7f7fe1cbc790>,\n                                   stop_words='english', strip_accents='ascii')),\n                  ('svc',\n                   SVC(class_weight='balanced', kernel='sigmoid',\n                       probability=True))]),\n  0.11655289514578152),\n (Pipeline(steps=[('tfidf',\n                   TfidfVectorizer(lowercase=False, max_df=3, min_df=0,\n                                   ngram_range=(1, 2),\n                                   preprocessor=<function tweet_preprocessor at 0x7f7fe1cbc790>,\n                                   stop_words='english', strip_accents='ascii')),\n                  ('nb', MultinomialNB(alpha=0.5))]),\n  0.40450344859327086),\n (Pipeline(steps=[('tfidf',\n                   TfidfVectorizer(lowercase=False, max_df=2, ngram_range=(1, 2),\n                                   preprocessor=<function tweet_preprocessor at 0x7f7fe1cbc790>,\n                                   strip_accents='ascii')),\n                  ('svc', SVC(class_weight='balanced', probability=True))]),\n  0.5595946194083127)]"
     },
     "execution_count": 42,
     "metadata": {},
     "output_type": "execute_result"
    }
   ],
   "source": [
    "losses"
   ],
   "metadata": {
    "collapsed": false,
    "pycharm": {
     "name": "#%%\n"
    }
   }
  },
  {
   "cell_type": "code",
   "execution_count": 43,
   "metadata": {
    "pycharm": {
     "name": "#%%\n"
    }
   },
   "outputs": [
    {
     "name": "stdout",
     "output_type": "stream",
     "text": [
      "cv -> nb log loss = 0.1546562865338145\n",
      "cv -> svc log loss = 0.11655289514578152\n",
      "tfidf -> nb log loss = 0.40450344859327086\n",
      "tfidf -> svc log loss = 0.5595946194083127\n"
     ]
    }
   ],
   "source": [
    "print('cv -> nb log loss =', losses[0][1])\n",
    "print('cv -> svc log loss =', losses[1][1])\n",
    "print('tfidf -> nb log loss =', losses[2][1])\n",
    "print('tfidf -> svc log loss =', losses[3][1])"
   ]
  },
  {
   "cell_type": "markdown",
   "metadata": {
    "pycharm": {
     "name": "#%% md\n"
    }
   },
   "source": [
    "### Final model is CV and SVC"
   ]
  },
  {
   "cell_type": "code",
   "execution_count": 44,
   "outputs": [
    {
     "data": {
      "text/plain": "Pipeline(steps=[('cv',\n                 CountVectorizer(min_df=0, ngram_range=(1, 2),\n                                 preprocessor=<function tweet_preprocessor at 0x7f7fe1cbc790>,\n                                 stop_words='english', strip_accents='ascii')),\n                ('svc',\n                 SVC(class_weight='balanced', kernel='sigmoid',\n                     probability=True))])"
     },
     "execution_count": 44,
     "metadata": {},
     "output_type": "execute_result"
    }
   ],
   "source": [
    "best_model = losses[1][0]\n",
    "best_model"
   ],
   "metadata": {
    "collapsed": false,
    "pycharm": {
     "name": "#%%\n"
    }
   }
  },
  {
   "cell_type": "markdown",
   "metadata": {
    "pycharm": {
     "name": "#%% md\n"
    }
   },
   "source": [
    "Test on test set"
   ]
  },
  {
   "cell_type": "code",
   "execution_count": 45,
   "metadata": {
    "pycharm": {
     "name": "#%%\n"
    }
   },
   "outputs": [
    {
     "name": "stdout",
     "output_type": "stream",
     "text": [
      "              precision    recall  f1-score   support\n",
      "\n",
      "  irrelevant       0.98      0.98      0.98       444\n",
      "    relevant       0.89      0.89      0.89        95\n",
      "\n",
      "    accuracy                           0.96       539\n",
      "   macro avg       0.94      0.94      0.94       539\n",
      "weighted avg       0.96      0.96      0.96       539\n",
      "\n",
      "Log Loss: 0.17004\n"
     ]
    },
    {
     "data": {
      "text/plain": "<Figure size 432x288 with 2 Axes>",
      "image/png": "[encoded data removed]"
     },
     "metadata": {
      "needs_background": "light"
     },
     "output_type": "display_data"
    }
   ],
   "source": [
    "print_scores(best_model, y_test, X_test)"
   ]
  },
  {
   "cell_type": "code",
   "execution_count": 46,
   "metadata": {
    "pycharm": {
     "name": "#%%\n"
    }
   },
   "outputs": [],
   "source": [
    "import joblib"
   ]
  },
  {
   "cell_type": "code",
   "execution_count": 47,
   "metadata": {
    "pycharm": {
     "name": "#%%\n"
    }
   },
   "outputs": [],
   "source": [
    "# with open('../bayes_model/best_bayes_model_01.pkl', 'wb') as f:\n",
    "#     joblib.dump(best_model, f)"
   ]
  },
  {
   "cell_type": "code",
   "execution_count": 48,
   "metadata": {
    "pycharm": {
     "name": "#%%\n"
    }
   },
   "outputs": [],
   "source": [
    "m = joblib.load('../bayes_model/best_bayes_model_01.pkl')"
   ]
  },
  {
   "cell_type": "code",
   "execution_count": 49,
   "metadata": {
    "pycharm": {
     "name": "#%%\n"
    }
   },
   "outputs": [],
   "source": [
    "text = ['I saw a coyote eating a dog', 'Go Coyotes!', 'When do you think well see another coyote?', 'At home yesterday I saw a coyote hiding in the bush', 'Was driving and almost ran over a coyote...', 'Swear, I heard coyotes in my backyard. My dog was barking like nuts!']"
   ]
  },
  {
   "cell_type": "code",
   "execution_count": 141,
   "outputs": [
    {
     "data": {
      "text/plain": "array([0., 0., 0., 0., 1., 1.])"
     },
     "execution_count": 141,
     "metadata": {},
     "output_type": "execute_result"
    }
   ],
   "source": [
    "m.predict(text)"
   ],
   "metadata": {
    "collapsed": false,
    "pycharm": {
     "name": "#%%\n"
    }
   }
  },
  {
   "cell_type": "markdown",
   "metadata": {
    "pycharm": {
     "name": "#%% md\n"
    }
   },
   "source": [
    "# Need to check how to compare this model to the old model"
   ]
  },
  {
   "cell_type": "code",
   "execution_count": 52,
   "metadata": {
    "pycharm": {
     "name": "#%%\n"
    }
   },
   "outputs": [
    {
     "name": "stderr",
     "output_type": "stream",
     "text": [
      "/Users/Isaacbolo/opt/anaconda3/lib/python3.9/site-packages/sklearn/base.py:329: UserWarning: Trying to unpickle estimator CountVectorizer from version 0.24.1 when using version 1.0.2. This might lead to breaking code or invalid results. Use at your own risk. For more info please refer to:\n",
      "https://scikit-learn.org/stable/modules/model_persistence.html#security-maintainability-limitations\n",
      "  warnings.warn(\n",
      "/Users/Isaacbolo/opt/anaconda3/lib/python3.9/site-packages/sklearn/base.py:329: UserWarning: Trying to unpickle estimator SVC from version 0.24.1 when using version 1.0.2. This might lead to breaking code or invalid results. Use at your own risk. For more info please refer to:\n",
      "https://scikit-learn.org/stable/modules/model_persistence.html#security-maintainability-limitations\n",
      "  warnings.warn(\n",
      "/Users/Isaacbolo/opt/anaconda3/lib/python3.9/site-packages/sklearn/base.py:329: UserWarning: Trying to unpickle estimator Pipeline from version 0.24.1 when using version 1.0.2. This might lead to breaking code or invalid results. Use at your own risk. For more info please refer to:\n",
      "https://scikit-learn.org/stable/modules/model_persistence.html#security-maintainability-limitations\n",
      "  warnings.warn(\n",
      "/Users/Isaacbolo/opt/anaconda3/lib/python3.9/site-packages/sklearn/base.py:329: UserWarning: Trying to unpickle estimator GridSearchCV from version 0.24.1 when using version 1.0.2. This might lead to breaking code or invalid results. Use at your own risk. For more info please refer to:\n",
      "https://scikit-learn.org/stable/modules/model_persistence.html#security-maintainability-limitations\n",
      "  warnings.warn(\n"
     ]
    }
   ],
   "source": [
    "old_model = joblib.load('../bayes_model/cvsvc_01.pkl')"
   ]
  },
  {
   "cell_type": "code",
   "execution_count": 53,
   "metadata": {
    "pycharm": {
     "name": "#%%\n"
    }
   },
   "outputs": [
    {
     "name": "stderr",
     "output_type": "stream",
     "text": [
      "/Users/Isaacbolo/opt/anaconda3/lib/python3.9/site-packages/sklearn/feature_extraction/text.py:396: UserWarning: Your stop_words may be inconsistent with your preprocessing. Tokenizing the stop words generated tokens ['far', 'make'] not in stop_words.\n",
      "  warnings.warn(\n"
     ]
    },
    {
     "name": "stdout",
     "output_type": "stream",
     "text": [
      "              precision    recall  f1-score   support\n",
      "\n",
      "  irrelevant       0.98      0.90      0.94       444\n",
      "    relevant       0.66      0.91      0.76        95\n",
      "\n",
      "    accuracy                           0.90       539\n",
      "   macro avg       0.82      0.90      0.85       539\n",
      "weighted avg       0.92      0.90      0.91       539\n",
      "\n",
      "Log Loss: 0.24175\n"
     ]
    },
    {
     "data": {
      "text/plain": "<Figure size 432x288 with 2 Axes>",
      "image/png": "[encoded data removed]"
     },
     "metadata": {
      "needs_background": "light"
     },
     "output_type": "display_data"
    }
   ],
   "source": [
    "print_scores(old_model, y_test, X_test)"
   ]
  },
  {
   "cell_type": "code",
   "execution_count": 54,
   "metadata": {
    "pycharm": {
     "name": "#%%\n"
    }
   },
   "outputs": [
    {
     "name": "stdout",
     "output_type": "stream",
     "text": [
      "              precision    recall  f1-score   support\n",
      "\n",
      "  irrelevant       0.98      0.98      0.98       444\n",
      "    relevant       0.89      0.89      0.89        95\n",
      "\n",
      "    accuracy                           0.96       539\n",
      "   macro avg       0.94      0.94      0.94       539\n",
      "weighted avg       0.96      0.96      0.96       539\n",
      "\n",
      "Log Loss: 0.17004\n"
     ]
    },
    {
     "data": {
      "text/plain": "<Figure size 432x288 with 2 Axes>",
      "image/png": "[encoded data removed]"
     },
     "metadata": {
      "needs_background": "light"
     },
     "output_type": "display_data"
    }
   ],
   "source": [
    "print_scores(best_model, y_test, X_test)"
   ]
  },
  {
   "cell_type": "markdown",
   "metadata": {
    "pycharm": {
     "name": "#%% md\n"
    }
   },
   "source": [
    "The new models performs better"
   ]
  },
  {
   "cell_type": "markdown",
   "metadata": {
    "pycharm": {
     "name": "#%% md\n"
    }
   },
   "source": [
    "## Sanity Check"
   ]
  },
  {
   "cell_type": "code",
   "execution_count": 55,
   "outputs": [
    {
     "data": {
      "text/plain": "(200, 2)"
     },
     "execution_count": 55,
     "metadata": {},
     "output_type": "execute_result"
    }
   ],
   "source": [
    "sample = df[['tweet', 'relevant']].sample(200)\n",
    "sample.shape"
   ],
   "metadata": {
    "collapsed": false,
    "pycharm": {
     "name": "#%%\n"
    }
   }
  },
  {
   "cell_type": "code",
   "execution_count": 56,
   "outputs": [],
   "source": [
    "new_pred = m.predict(sample['tweet'])"
   ],
   "metadata": {
    "collapsed": false,
    "pycharm": {
     "name": "#%%\n"
    }
   }
  },
  {
   "cell_type": "code",
   "execution_count": 140,
   "outputs": [
    {
     "data": {
      "text/plain": "43"
     },
     "execution_count": 140,
     "metadata": {},
     "output_type": "execute_result"
    }
   ],
   "source": [
    "(new_pred == 1).sum()"
   ],
   "metadata": {
    "collapsed": false,
    "pycharm": {
     "name": "#%%\n"
    }
   }
  },
  {
   "cell_type": "code",
   "execution_count": 58,
   "outputs": [],
   "source": [
    "sample['new_pred'] = new_pred"
   ],
   "metadata": {
    "collapsed": false,
    "pycharm": {
     "name": "#%%\n"
    }
   }
  },
  {
   "cell_type": "code",
   "execution_count": 59,
   "outputs": [
    {
     "data": {
      "text/plain": "                                                                                                                                                                                                                                                                 tweet  \\\n1650                                                                                                                                                                      Ok. We have gone from lumbering not-thin monsters to speedy Wylie Coyotes!! #FullMoonFrights   \n3268                   .@HayesTSN's Most Irrelevant Teams in Sports...👀\\n\\n1. Sacramento Kings😬\\n\\nThe rest: Buffalo Sabres, Arizona Coyotes, New Jersey Devils, Jacksonville Jaguars, Arizona Diamondbacks, Pittsburgh Pirates, Orlando Magic, Minnesota Timberwolves   \n2656       In Fairfield, Ca (Solano County) and all over California and the country for that matter, wildlife is out there big time. Sightings of mountain lions, coyotes and even bears in Fairfield. Keep your pets on a leash and be alert. https://t.co/rATggRoHZt   \n2188                                                                                                                                                                                                                     @spacey_coyote @HeaterBloc Omg YES! YES! YES!   \n224                                                                                                                                                                                                      Never seen a coyote wandering around this late in the morning   \n...                                                                                                                                                                                                                                                                ...   \n3570                                                                                                                                                                                     @dbadgerNFT I said nope to the roadkill coyote scene. Maybe I will try again.   \n1631                                                                                                                                                                                                                       @MathieuFleury Looks like a well fed coyote   \n2218                                                                                                                                                                            I just liked “https://t.co/oR5bfxTnvH |  Manifesto” on #Vimeo: https://t.co/4NYz7M4cnW   \n2896                                                                                                                                                                                        @savg_coyote I know you’re mad that’s why I tweeted it you reminded me lol   \n198   Unfortunately roadkill has increased this year, especially deer and coyotes. Please drive safely through and adjacent to wildlife preserves. Photo: captured by wildlife cam on 10/14/21 8:52am. #powdercanyon #environmentalstewardship https://t.co/MKiOz1BAqK   \n\n      relevant  new_pred  \n1650       0.0       0.0  \n3268       0.0       0.0  \n2656       1.0       1.0  \n2188       0.0       0.0  \n224        1.0       1.0  \n...        ...       ...  \n3570       0.0       0.0  \n1631       0.0       0.0  \n2218       0.0       0.0  \n2896       0.0       0.0  \n198        1.0       1.0  \n\n[200 rows x 3 columns]",
      "text/html": "<div>\n<style scoped>\n    .dataframe tbody tr th:only-of-type {\n        vertical-align: middle;\n    }\n\n    .dataframe tbody tr th {\n        vertical-align: top;\n    }\n\n    .dataframe thead th {\n        text-align: right;\n    }\n</style>\n<table border=\"1\" class=\"dataframe\">\n  <thead>\n    <tr style=\"text-align: right;\">\n      <th></th>\n      <th>tweet</th>\n      <th>relevant</th>\n      <th>new_pred</th>\n    </tr>\n  </thead>\n  <tbody>\n    <tr>\n      <th>1650</th>\n      <td>Ok. We have gone from lumbering not-thin monsters to speedy Wylie Coyotes!! #FullMoonFrights</td>\n      <td>0.0</td>\n      <td>0.0</td>\n    </tr>\n    <tr>\n      <th>3268</th>\n      <td>.@HayesTSN's Most Irrelevant Teams in Sports...👀\\n\\n1. Sacramento Kings😬\\n\\nThe rest: Buffalo Sabres, Arizona Coyotes, New Jersey Devils, Jacksonville Jaguars, Arizona Diamondbacks, Pittsburgh Pirates, Orlando Magic, Minnesota Timberwolves</td>\n      <td>0.0</td>\n      <td>0.0</td>\n    </tr>\n    <tr>\n      <th>2656</th>\n      <td>In Fairfield, Ca (Solano County) and all over California and the country for that matter, wildlife is out there big time. Sightings of mountain lions, coyotes and even bears in Fairfield. Keep your pets on a leash and be alert. https://t.co/rATggRoHZt</td>\n      <td>1.0</td>\n      <td>1.0</td>\n    </tr>\n    <tr>\n      <th>2188</th>\n      <td>@spacey_coyote @HeaterBloc Omg YES! YES! YES!</td>\n      <td>0.0</td>\n      <td>0.0</td>\n    </tr>\n    <tr>\n      <th>224</th>\n      <td>Never seen a coyote wandering around this late in the morning</td>\n      <td>1.0</td>\n      <td>1.0</td>\n    </tr>\n    <tr>\n      <th>...</th>\n      <td>...</td>\n      <td>...</td>\n      <td>...</td>\n    </tr>\n    <tr>\n      <th>3570</th>\n      <td>@dbadgerNFT I said nope to the roadkill coyote scene. Maybe I will try again.</td>\n      <td>0.0</td>\n      <td>0.0</td>\n    </tr>\n    <tr>\n      <th>1631</th>\n      <td>@MathieuFleury Looks like a well fed coyote</td>\n      <td>0.0</td>\n      <td>0.0</td>\n    </tr>\n    <tr>\n      <th>2218</th>\n      <td>I just liked “https://t.co/oR5bfxTnvH |  Manifesto” on #Vimeo: https://t.co/4NYz7M4cnW</td>\n      <td>0.0</td>\n      <td>0.0</td>\n    </tr>\n    <tr>\n      <th>2896</th>\n      <td>@savg_coyote I know you’re mad that’s why I tweeted it you reminded me lol</td>\n      <td>0.0</td>\n      <td>0.0</td>\n    </tr>\n    <tr>\n      <th>198</th>\n      <td>Unfortunately roadkill has increased this year, especially deer and coyotes. Please drive safely through and adjacent to wildlife preserves. Photo: captured by wildlife cam on 10/14/21 8:52am. #powdercanyon #environmentalstewardship https://t.co/MKiOz1BAqK</td>\n      <td>1.0</td>\n      <td>1.0</td>\n    </tr>\n  </tbody>\n</table>\n<p>200 rows × 3 columns</p>\n</div>"
     },
     "execution_count": 59,
     "metadata": {},
     "output_type": "execute_result"
    }
   ],
   "source": [
    "sample"
   ],
   "metadata": {
    "collapsed": false,
    "pycharm": {
     "name": "#%%\n"
    }
   }
  },
  {
   "cell_type": "code",
   "execution_count": 60,
   "outputs": [
    {
     "name": "stderr",
     "output_type": "stream",
     "text": [
      "/var/folders/50/cgfcx8d97_52qyt5jj7jf52w0000gn/T/ipykernel_11800/2677081143.py:1: SettingWithCopyWarning: \n",
      "A value is trying to be set on a copy of a slice from a DataFrame.\n",
      "Try using .loc[row_indexer,col_indexer] = value instead\n",
      "\n",
      "See the caveats in the documentation: https://pandas.pydata.org/pandas-docs/stable/user_guide/indexing.html#returning-a-view-versus-a-copy\n",
      "  df['new_pred'] = m.predict(df['tweet'])\n"
     ]
    }
   ],
   "source": [
    "df['new_pred'] = m.predict(df['tweet'])"
   ],
   "metadata": {
    "collapsed": false,
    "pycharm": {
     "name": "#%%\n"
    }
   }
  },
  {
   "cell_type": "code",
   "execution_count": 61,
   "outputs": [
    {
     "data": {
      "text/plain": "(708, 815)"
     },
     "execution_count": 61,
     "metadata": {},
     "output_type": "execute_result"
    }
   ],
   "source": [
    "(df['new_pred'] == 1).sum(), (df['relevant'] == 1).sum()"
   ],
   "metadata": {
    "collapsed": false,
    "pycharm": {
     "name": "#%%\n"
    }
   }
  },
  {
   "cell_type": "code",
   "execution_count": 139,
   "outputs": [
    {
     "name": "stdout",
     "output_type": "stream",
     "text": [
      "              precision    recall  f1-score   support\n",
      "\n",
      "  irrelevant       0.98      0.98      0.98       444\n",
      "    relevant       0.89      0.89      0.89        95\n",
      "\n",
      "    accuracy                           0.96       539\n",
      "   macro avg       0.94      0.94      0.94       539\n",
      "weighted avg       0.96      0.96      0.96       539\n",
      "\n",
      "Log Loss: 0.17004\n"
     ]
    },
    {
     "data": {
      "text/plain": "<Figure size 432x288 with 2 Axes>",
      "image/png": "[encoded data removed]"
     },
     "metadata": {
      "needs_background": "light"
     },
     "output_type": "display_data"
    }
   ],
   "source": [
    "print_scores(m, y_test, X_test)"
   ],
   "metadata": {
    "collapsed": false,
    "pycharm": {
     "name": "#%%\n"
    }
   }
  },
  {
   "cell_type": "markdown",
   "source": [
    "# Relabel all data and save it into a new dataframe"
   ],
   "metadata": {
    "collapsed": false,
    "pycharm": {
     "name": "#%% md\n"
    }
   }
  },
  {
   "cell_type": "code",
   "execution_count": 142,
   "outputs": [
    {
     "data": {
      "text/plain": "      date      time  \\\n0  11/8/21  17:11:01   \n1  11/8/21  14:25:52   \n2  11/8/21  12:27:50   \n3  11/8/21  10:51:07   \n4  11/8/21   8:28:38   \n\n                                                                                                                                                                                                                                                                                                tweet  \\\n0                                                                       Defender Radio Live: Canid Response Teams and Coexistence Lesley Sampson of Coyote Watch Canada joins Defender Radio Podcast host Michael Howie for a live event and recording in Hamilton, Ontario.  https://t.co/jLycjr3Xv7   \n1                                                                                                                                                                                                                                                              Yaw 💃💃. Good Morning Twitter Family 🤩✨   \n2  At this moment, I have a neighbor that lives 750 away. He keeps his two Labrador retrievers in a 15’ish square pen with a roof outside at night. How do I know this? Because I came hear them barking. Constantly. \\n\\nApparently they just won a debate with the coyotes. https://t.co/oJV5Swuc3f   \n3   @AstroBackyard Had the coyotes barking within a few hundred feet of me in Joshua Tree tonight. I shined a light in their direction to let them know I’m aware of them. Oddly, one sounded like a dog.\\n\\nWhat freaked me out more were the hikers somewhere in the dark. I just heard foot steps!   \n4                                                                                                                                                                                              really just saw a coyote cross the street and stare at me as i drove by 😭😭😭 what the, la habra heights   \n\n       tweet_id hashtags       user_id        username         location  \\\n0  1.460000e+18       []  9.202440e+08  CoyoteWatchCAN     Ontario, CA    \n1  1.460000e+18       []  1.460000e+18   coyote_kissa1     Pasadena, CA   \n2  1.460000e+18       []  1.330000e+18   DavidCMaybury       Perris, CA   \n3  1.460000e+18       []  6.883438e+07     darrenreely  Los Angeles, CA   \n4  1.460000e+18       []  2.323440e+09      angeIiques          she/her   \n\n   num_followers  geo_enabled  long  lat  relevant  neg_sent_score  \\\n0           4420         True   NaN  NaN       0.0           0.000   \n1             57        False   NaN  NaN       0.0           0.000   \n2            438         True   NaN  NaN       1.0           0.000   \n3            147         True   NaN  NaN       1.0           0.039   \n4            109         True   NaN  NaN       1.0           0.256   \n\n   neu_sent_score  pos_sent_score  compound_sent_score sent_class  \n0           0.912           0.088               0.2023   positive  \n1           0.634           0.366               0.6369   positive  \n2           0.930           0.070               0.5719   positive  \n3           0.912           0.049               0.1511   positive  \n4           0.744           0.000              -0.8519   negative  ",
      "text/html": "<div>\n<style scoped>\n    .dataframe tbody tr th:only-of-type {\n        vertical-align: middle;\n    }\n\n    .dataframe tbody tr th {\n        vertical-align: top;\n    }\n\n    .dataframe thead th {\n        text-align: right;\n    }\n</style>\n<table border=\"1\" class=\"dataframe\">\n  <thead>\n    <tr style=\"text-align: right;\">\n      <th></th>\n      <th>date</th>\n      <th>time</th>\n      <th>tweet</th>\n      <th>tweet_id</th>\n      <th>hashtags</th>\n      <th>user_id</th>\n      <th>username</th>\n      <th>location</th>\n      <th>num_followers</th>\n      <th>geo_enabled</th>\n      <th>long</th>\n      <th>lat</th>\n      <th>relevant</th>\n      <th>neg_sent_score</th>\n      <th>neu_sent_score</th>\n      <th>pos_sent_score</th>\n      <th>compound_sent_score</th>\n      <th>sent_class</th>\n    </tr>\n  </thead>\n  <tbody>\n    <tr>\n      <th>0</th>\n      <td>11/8/21</td>\n      <td>17:11:01</td>\n      <td>Defender Radio Live: Canid Response Teams and Coexistence Lesley Sampson of Coyote Watch Canada joins Defender Radio Podcast host Michael Howie for a live event and recording in Hamilton, Ontario.  https://t.co/jLycjr3Xv7</td>\n      <td>1.460000e+18</td>\n      <td>[]</td>\n      <td>9.202440e+08</td>\n      <td>CoyoteWatchCAN</td>\n      <td>Ontario, CA</td>\n      <td>4420</td>\n      <td>True</td>\n      <td>NaN</td>\n      <td>NaN</td>\n      <td>0.0</td>\n      <td>0.000</td>\n      <td>0.912</td>\n      <td>0.088</td>\n      <td>0.2023</td>\n      <td>positive</td>\n    </tr>\n    <tr>\n      <th>1</th>\n      <td>11/8/21</td>\n      <td>14:25:52</td>\n      <td>Yaw 💃💃. Good Morning Twitter Family 🤩✨</td>\n      <td>1.460000e+18</td>\n      <td>[]</td>\n      <td>1.460000e+18</td>\n      <td>coyote_kissa1</td>\n      <td>Pasadena, CA</td>\n      <td>57</td>\n      <td>False</td>\n      <td>NaN</td>\n      <td>NaN</td>\n      <td>0.0</td>\n      <td>0.000</td>\n      <td>0.634</td>\n      <td>0.366</td>\n      <td>0.6369</td>\n      <td>positive</td>\n    </tr>\n    <tr>\n      <th>2</th>\n      <td>11/8/21</td>\n      <td>12:27:50</td>\n      <td>At this moment, I have a neighbor that lives 750 away. He keeps his two Labrador retrievers in a 15’ish square pen with a roof outside at night. How do I know this? Because I came hear them barking. Constantly. \\n\\nApparently they just won a debate with the coyotes. https://t.co/oJV5Swuc3f</td>\n      <td>1.460000e+18</td>\n      <td>[]</td>\n      <td>1.330000e+18</td>\n      <td>DavidCMaybury</td>\n      <td>Perris, CA</td>\n      <td>438</td>\n      <td>True</td>\n      <td>NaN</td>\n      <td>NaN</td>\n      <td>1.0</td>\n      <td>0.000</td>\n      <td>0.930</td>\n      <td>0.070</td>\n      <td>0.5719</td>\n      <td>positive</td>\n    </tr>\n    <tr>\n      <th>3</th>\n      <td>11/8/21</td>\n      <td>10:51:07</td>\n      <td>@AstroBackyard Had the coyotes barking within a few hundred feet of me in Joshua Tree tonight. I shined a light in their direction to let them know I’m aware of them. Oddly, one sounded like a dog.\\n\\nWhat freaked me out more were the hikers somewhere in the dark. I just heard foot steps!</td>\n      <td>1.460000e+18</td>\n      <td>[]</td>\n      <td>6.883438e+07</td>\n      <td>darrenreely</td>\n      <td>Los Angeles, CA</td>\n      <td>147</td>\n      <td>True</td>\n      <td>NaN</td>\n      <td>NaN</td>\n      <td>1.0</td>\n      <td>0.039</td>\n      <td>0.912</td>\n      <td>0.049</td>\n      <td>0.1511</td>\n      <td>positive</td>\n    </tr>\n    <tr>\n      <th>4</th>\n      <td>11/8/21</td>\n      <td>8:28:38</td>\n      <td>really just saw a coyote cross the street and stare at me as i drove by 😭😭😭 what the, la habra heights</td>\n      <td>1.460000e+18</td>\n      <td>[]</td>\n      <td>2.323440e+09</td>\n      <td>angeIiques</td>\n      <td>she/her</td>\n      <td>109</td>\n      <td>True</td>\n      <td>NaN</td>\n      <td>NaN</td>\n      <td>1.0</td>\n      <td>0.256</td>\n      <td>0.744</td>\n      <td>0.000</td>\n      <td>-0.8519</td>\n      <td>negative</td>\n    </tr>\n  </tbody>\n</table>\n</div>"
     },
     "execution_count": 142,
     "metadata": {},
     "output_type": "execute_result"
    }
   ],
   "source": [
    "df = pd.read_csv('../data/all_queries.csv')\n",
    "df.head()"
   ],
   "metadata": {
    "collapsed": false,
    "pycharm": {
     "name": "#%%\n"
    }
   }
  },
  {
   "cell_type": "code",
   "execution_count": 143,
   "outputs": [],
   "source": [
    "df['relevant'] = m.predict(df['tweet'])"
   ],
   "metadata": {
    "collapsed": false,
    "pycharm": {
     "name": "#%%\n"
    }
   }
  },
  {
   "cell_type": "code",
   "execution_count": 144,
   "outputs": [
    {
     "data": {
      "text/plain": "      date      time  \\\n0  11/8/21  17:11:01   \n1  11/8/21  14:25:52   \n2  11/8/21  12:27:50   \n3  11/8/21  10:51:07   \n4  11/8/21   8:28:38   \n\n                                                                                                                                                                                                                                                                                                tweet  \\\n0                                                                       Defender Radio Live: Canid Response Teams and Coexistence Lesley Sampson of Coyote Watch Canada joins Defender Radio Podcast host Michael Howie for a live event and recording in Hamilton, Ontario.  https://t.co/jLycjr3Xv7   \n1                                                                                                                                                                                                                                                              Yaw 💃💃. Good Morning Twitter Family 🤩✨   \n2  At this moment, I have a neighbor that lives 750 away. He keeps his two Labrador retrievers in a 15’ish square pen with a roof outside at night. How do I know this? Because I came hear them barking. Constantly. \\n\\nApparently they just won a debate with the coyotes. https://t.co/oJV5Swuc3f   \n3   @AstroBackyard Had the coyotes barking within a few hundred feet of me in Joshua Tree tonight. I shined a light in their direction to let them know I’m aware of them. Oddly, one sounded like a dog.\\n\\nWhat freaked me out more were the hikers somewhere in the dark. I just heard foot steps!   \n4                                                                                                                                                                                              really just saw a coyote cross the street and stare at me as i drove by 😭😭😭 what the, la habra heights   \n\n       tweet_id hashtags       user_id        username         location  \\\n0  1.460000e+18       []  9.202440e+08  CoyoteWatchCAN     Ontario, CA    \n1  1.460000e+18       []  1.460000e+18   coyote_kissa1     Pasadena, CA   \n2  1.460000e+18       []  1.330000e+18   DavidCMaybury       Perris, CA   \n3  1.460000e+18       []  6.883438e+07     darrenreely  Los Angeles, CA   \n4  1.460000e+18       []  2.323440e+09      angeIiques          she/her   \n\n   num_followers  geo_enabled  long  lat  relevant  neg_sent_score  \\\n0           4420         True   NaN  NaN       0.0           0.000   \n1             57        False   NaN  NaN       0.0           0.000   \n2            438         True   NaN  NaN       1.0           0.000   \n3            147         True   NaN  NaN       1.0           0.039   \n4            109         True   NaN  NaN       1.0           0.256   \n\n   neu_sent_score  pos_sent_score  compound_sent_score sent_class  \n0           0.912           0.088               0.2023   positive  \n1           0.634           0.366               0.6369   positive  \n2           0.930           0.070               0.5719   positive  \n3           0.912           0.049               0.1511   positive  \n4           0.744           0.000              -0.8519   negative  ",
      "text/html": "<div>\n<style scoped>\n    .dataframe tbody tr th:only-of-type {\n        vertical-align: middle;\n    }\n\n    .dataframe tbody tr th {\n        vertical-align: top;\n    }\n\n    .dataframe thead th {\n        text-align: right;\n    }\n</style>\n<table border=\"1\" class=\"dataframe\">\n  <thead>\n    <tr style=\"text-align: right;\">\n      <th></th>\n      <th>date</th>\n      <th>time</th>\n      <th>tweet</th>\n      <th>tweet_id</th>\n      <th>hashtags</th>\n      <th>user_id</th>\n      <th>username</th>\n      <th>location</th>\n      <th>num_followers</th>\n      <th>geo_enabled</th>\n      <th>long</th>\n      <th>lat</th>\n      <th>relevant</th>\n      <th>neg_sent_score</th>\n      <th>neu_sent_score</th>\n      <th>pos_sent_score</th>\n      <th>compound_sent_score</th>\n      <th>sent_class</th>\n    </tr>\n  </thead>\n  <tbody>\n    <tr>\n      <th>0</th>\n      <td>11/8/21</td>\n      <td>17:11:01</td>\n      <td>Defender Radio Live: Canid Response Teams and Coexistence Lesley Sampson of Coyote Watch Canada joins Defender Radio Podcast host Michael Howie for a live event and recording in Hamilton, Ontario.  https://t.co/jLycjr3Xv7</td>\n      <td>1.460000e+18</td>\n      <td>[]</td>\n      <td>9.202440e+08</td>\n      <td>CoyoteWatchCAN</td>\n      <td>Ontario, CA</td>\n      <td>4420</td>\n      <td>True</td>\n      <td>NaN</td>\n      <td>NaN</td>\n      <td>0.0</td>\n      <td>0.000</td>\n      <td>0.912</td>\n      <td>0.088</td>\n      <td>0.2023</td>\n      <td>positive</td>\n    </tr>\n    <tr>\n      <th>1</th>\n      <td>11/8/21</td>\n      <td>14:25:52</td>\n      <td>Yaw 💃💃. Good Morning Twitter Family 🤩✨</td>\n      <td>1.460000e+18</td>\n      <td>[]</td>\n      <td>1.460000e+18</td>\n      <td>coyote_kissa1</td>\n      <td>Pasadena, CA</td>\n      <td>57</td>\n      <td>False</td>\n      <td>NaN</td>\n      <td>NaN</td>\n      <td>0.0</td>\n      <td>0.000</td>\n      <td>0.634</td>\n      <td>0.366</td>\n      <td>0.6369</td>\n      <td>positive</td>\n    </tr>\n    <tr>\n      <th>2</th>\n      <td>11/8/21</td>\n      <td>12:27:50</td>\n      <td>At this moment, I have a neighbor that lives 750 away. He keeps his two Labrador retrievers in a 15’ish square pen with a roof outside at night. How do I know this? Because I came hear them barking. Constantly. \\n\\nApparently they just won a debate with the coyotes. https://t.co/oJV5Swuc3f</td>\n      <td>1.460000e+18</td>\n      <td>[]</td>\n      <td>1.330000e+18</td>\n      <td>DavidCMaybury</td>\n      <td>Perris, CA</td>\n      <td>438</td>\n      <td>True</td>\n      <td>NaN</td>\n      <td>NaN</td>\n      <td>1.0</td>\n      <td>0.000</td>\n      <td>0.930</td>\n      <td>0.070</td>\n      <td>0.5719</td>\n      <td>positive</td>\n    </tr>\n    <tr>\n      <th>3</th>\n      <td>11/8/21</td>\n      <td>10:51:07</td>\n      <td>@AstroBackyard Had the coyotes barking within a few hundred feet of me in Joshua Tree tonight. I shined a light in their direction to let them know I’m aware of them. Oddly, one sounded like a dog.\\n\\nWhat freaked me out more were the hikers somewhere in the dark. I just heard foot steps!</td>\n      <td>1.460000e+18</td>\n      <td>[]</td>\n      <td>6.883438e+07</td>\n      <td>darrenreely</td>\n      <td>Los Angeles, CA</td>\n      <td>147</td>\n      <td>True</td>\n      <td>NaN</td>\n      <td>NaN</td>\n      <td>1.0</td>\n      <td>0.039</td>\n      <td>0.912</td>\n      <td>0.049</td>\n      <td>0.1511</td>\n      <td>positive</td>\n    </tr>\n    <tr>\n      <th>4</th>\n      <td>11/8/21</td>\n      <td>8:28:38</td>\n      <td>really just saw a coyote cross the street and stare at me as i drove by 😭😭😭 what the, la habra heights</td>\n      <td>1.460000e+18</td>\n      <td>[]</td>\n      <td>2.323440e+09</td>\n      <td>angeIiques</td>\n      <td>she/her</td>\n      <td>109</td>\n      <td>True</td>\n      <td>NaN</td>\n      <td>NaN</td>\n      <td>1.0</td>\n      <td>0.256</td>\n      <td>0.744</td>\n      <td>0.000</td>\n      <td>-0.8519</td>\n      <td>negative</td>\n    </tr>\n  </tbody>\n</table>\n</div>"
     },
     "execution_count": 144,
     "metadata": {},
     "output_type": "execute_result"
    }
   ],
   "source": [
    "df.head()"
   ],
   "metadata": {
    "collapsed": false,
    "pycharm": {
     "name": "#%%\n"
    }
   }
  },
  {
   "cell_type": "code",
   "execution_count": 145,
   "outputs": [],
   "source": [
    "# df.to_csv('../data/all_queries_01.csv', index=None)"
   ],
   "metadata": {
    "collapsed": false,
    "pycharm": {
     "name": "#%%\n"
    }
   }
  },
  {
   "cell_type": "code",
   "execution_count": 146,
   "outputs": [],
   "source": [
    "df_old = pd.read_csv('../data/all_queries.csv')\n",
    "df_new = pd.read_csv('../data/all_queries_01.csv')"
   ],
   "metadata": {
    "collapsed": false,
    "pycharm": {
     "name": "#%%\n"
    }
   }
  },
  {
   "cell_type": "code",
   "execution_count": 147,
   "outputs": [
    {
     "data": {
      "text/plain": "(924, 817)"
     },
     "execution_count": 147,
     "metadata": {},
     "output_type": "execute_result"
    }
   ],
   "source": [
    "(df_old['relevant'] == 1).sum(), (df_new['relevant'] == 1).sum()"
   ],
   "metadata": {
    "collapsed": false,
    "pycharm": {
     "name": "#%%\n"
    }
   }
  },
  {
   "cell_type": "code",
   "execution_count": 148,
   "outputs": [],
   "source": [
    "df_new['location'] = 'all'"
   ],
   "metadata": {
    "collapsed": false,
    "pycharm": {
     "name": "#%%\n"
    }
   }
  },
  {
   "cell_type": "markdown",
   "source": [
    "# Plot"
   ],
   "metadata": {
    "collapsed": false,
    "pycharm": {
     "name": "#%% md\n"
    }
   }
  },
  {
   "cell_type": "code",
   "execution_count": 63,
   "outputs": [],
   "source": [
    "from sklearn.decomposition import PCA"
   ],
   "metadata": {
    "collapsed": false,
    "pycharm": {
     "name": "#%%\n"
    }
   }
  },
  {
   "cell_type": "code",
   "execution_count": 66,
   "outputs": [
    {
     "name": "stdout",
     "output_type": "stream",
     "text": [
      "['__abstractmethods__', '__annotations__', '__class__', '__delattr__', '__dict__', '__dir__', '__doc__', '__eq__', '__format__', '__ge__', '__getattribute__', '__getitem__', '__getstate__', '__gt__', '__hash__', '__init__', '__init_subclass__', '__le__', '__len__', '__lt__', '__module__', '__ne__', '__new__', '__reduce__', '__reduce_ex__', '__repr__', '__setattr__', '__setstate__', '__sizeof__', '__sklearn_is_fitted__', '__str__', '__subclasshook__', '__weakref__', '_abc_impl', '_can_inverse_transform', '_can_transform', '_check_feature_names', '_check_fit_params', '_check_n_features', '_estimator_type', '_final_estimator', '_fit', '_get_param_names', '_get_params', '_get_tags', '_iter', '_log_message', '_more_tags', '_pairwise', '_replace_estimator', '_repr_html_', '_repr_html_inner', '_repr_mimebundle_', '_required_parameters', '_set_params', '_sk_visual_block_', '_validate_data', '_validate_names', '_validate_steps', 'classes_', 'decision_function', 'feature_names_in_', 'fit', 'fit_predict', 'fit_transform', 'get_feature_names_out', 'get_params', 'inverse_transform', 'memory', 'n_features_in_', 'named_steps', 'predict', 'predict_log_proba', 'predict_proba', 'score', 'score_samples', 'set_params', 'steps', 'transform', 'verbose']\n"
     ]
    }
   ],
   "source": [
    "print(dir(best_model))"
   ],
   "metadata": {
    "collapsed": false,
    "pycharm": {
     "name": "#%%\n"
    }
   }
  },
  {
   "cell_type": "code",
   "execution_count": 81,
   "outputs": [],
   "source": [
    "wc_matrix_new_model = best_model[:1].transform(df['tweet'])\n",
    "wc_matrix_old_model = old_model.best_estimator_[:1].transform(df['tweet'])"
   ],
   "metadata": {
    "collapsed": false,
    "pycharm": {
     "name": "#%%\n"
    }
   }
  },
  {
   "cell_type": "code",
   "execution_count": 83,
   "outputs": [],
   "source": [
    "pca = PCA(n_components=2)\n",
    "new_pca = pca.fit_transform(wc_matrix_new_model.toarray())\n",
    "old_pca = pca.fit_transform(wc_matrix_old_model.toarray())"
   ],
   "metadata": {
    "collapsed": false,
    "pycharm": {
     "name": "#%%\n"
    }
   }
  },
  {
   "cell_type": "code",
   "execution_count": 98,
   "outputs": [],
   "source": [
    "plot_data = pd.DataFrame(data={'x': [x[0] for x in new_pca],\n",
    "                               'y': [y[1] for y in new_pca],\n",
    "                               'old_pred': df['relevant'],\n",
    "                               'new_pred': df['new_pred']})"
   ],
   "metadata": {
    "collapsed": false,
    "pycharm": {
     "name": "#%%\n"
    }
   }
  },
  {
   "cell_type": "code",
   "execution_count": 115,
   "outputs": [
    {
     "data": {
      "text/plain": "          x         y  old_pred  new_pred\n0 -0.827492 -0.284329       0.0       0.0\n1 -0.475469 -0.031288       0.0       0.0\n2  0.602434 -0.025988       1.0       1.0\n3  0.656677 -0.087480       1.0       1.0\n4  0.506728 -0.001584       1.0       1.0",
      "text/html": "<div>\n<style scoped>\n    .dataframe tbody tr th:only-of-type {\n        vertical-align: middle;\n    }\n\n    .dataframe tbody tr th {\n        vertical-align: top;\n    }\n\n    .dataframe thead th {\n        text-align: right;\n    }\n</style>\n<table border=\"1\" class=\"dataframe\">\n  <thead>\n    <tr style=\"text-align: right;\">\n      <th></th>\n      <th>x</th>\n      <th>y</th>\n      <th>old_pred</th>\n      <th>new_pred</th>\n    </tr>\n  </thead>\n  <tbody>\n    <tr>\n      <th>0</th>\n      <td>-0.827492</td>\n      <td>-0.284329</td>\n      <td>0.0</td>\n      <td>0.0</td>\n    </tr>\n    <tr>\n      <th>1</th>\n      <td>-0.475469</td>\n      <td>-0.031288</td>\n      <td>0.0</td>\n      <td>0.0</td>\n    </tr>\n    <tr>\n      <th>2</th>\n      <td>0.602434</td>\n      <td>-0.025988</td>\n      <td>1.0</td>\n      <td>1.0</td>\n    </tr>\n    <tr>\n      <th>3</th>\n      <td>0.656677</td>\n      <td>-0.087480</td>\n      <td>1.0</td>\n      <td>1.0</td>\n    </tr>\n    <tr>\n      <th>4</th>\n      <td>0.506728</td>\n      <td>-0.001584</td>\n      <td>1.0</td>\n      <td>1.0</td>\n    </tr>\n  </tbody>\n</table>\n</div>"
     },
     "execution_count": 115,
     "metadata": {},
     "output_type": "execute_result"
    }
   ],
   "source": [
    "plot_data.head()"
   ],
   "metadata": {
    "collapsed": false,
    "pycharm": {
     "name": "#%%\n"
    }
   }
  },
  {
   "cell_type": "code",
   "execution_count": 117,
   "outputs": [
    {
     "data": {
      "text/plain": "                  x             y     old_pred     new_pred\ncount  3.601000e+03  3.601000e+03  3601.000000  3601.000000\nmean  -1.321107e-16  3.700197e-17     0.226326     0.196612\nstd    6.519051e-01  4.982764e-01     0.418511     0.397492\nmin   -1.788519e+00 -9.429254e-01     0.000000     0.000000\n25%   -6.402889e-01 -8.346771e-02     0.000000     0.000000\n50%    3.909545e-01 -1.622173e-02     0.000000     0.000000\n75%    4.509200e-01  2.052806e-02     0.000000     0.000000\nmax    3.979965e+00  4.173591e+00     1.000000     1.000000",
      "text/html": "<div>\n<style scoped>\n    .dataframe tbody tr th:only-of-type {\n        vertical-align: middle;\n    }\n\n    .dataframe tbody tr th {\n        vertical-align: top;\n    }\n\n    .dataframe thead th {\n        text-align: right;\n    }\n</style>\n<table border=\"1\" class=\"dataframe\">\n  <thead>\n    <tr style=\"text-align: right;\">\n      <th></th>\n      <th>x</th>\n      <th>y</th>\n      <th>old_pred</th>\n      <th>new_pred</th>\n    </tr>\n  </thead>\n  <tbody>\n    <tr>\n      <th>count</th>\n      <td>3.601000e+03</td>\n      <td>3.601000e+03</td>\n      <td>3601.000000</td>\n      <td>3601.000000</td>\n    </tr>\n    <tr>\n      <th>mean</th>\n      <td>-1.321107e-16</td>\n      <td>3.700197e-17</td>\n      <td>0.226326</td>\n      <td>0.196612</td>\n    </tr>\n    <tr>\n      <th>std</th>\n      <td>6.519051e-01</td>\n      <td>4.982764e-01</td>\n      <td>0.418511</td>\n      <td>0.397492</td>\n    </tr>\n    <tr>\n      <th>min</th>\n      <td>-1.788519e+00</td>\n      <td>-9.429254e-01</td>\n      <td>0.000000</td>\n      <td>0.000000</td>\n    </tr>\n    <tr>\n      <th>25%</th>\n      <td>-6.402889e-01</td>\n      <td>-8.346771e-02</td>\n      <td>0.000000</td>\n      <td>0.000000</td>\n    </tr>\n    <tr>\n      <th>50%</th>\n      <td>3.909545e-01</td>\n      <td>-1.622173e-02</td>\n      <td>0.000000</td>\n      <td>0.000000</td>\n    </tr>\n    <tr>\n      <th>75%</th>\n      <td>4.509200e-01</td>\n      <td>2.052806e-02</td>\n      <td>0.000000</td>\n      <td>0.000000</td>\n    </tr>\n    <tr>\n      <th>max</th>\n      <td>3.979965e+00</td>\n      <td>4.173591e+00</td>\n      <td>1.000000</td>\n      <td>1.000000</td>\n    </tr>\n  </tbody>\n</table>\n</div>"
     },
     "execution_count": 117,
     "metadata": {},
     "output_type": "execute_result"
    }
   ],
   "source": [
    "plot_data.describe()"
   ],
   "metadata": {
    "collapsed": false,
    "pycharm": {
     "name": "#%%\n"
    }
   }
  },
  {
   "cell_type": "code",
   "execution_count": 118,
   "outputs": [],
   "source": [
    "plot_data = plot_data[plot_data['y'] < 4]"
   ],
   "metadata": {
    "collapsed": false,
    "pycharm": {
     "name": "#%%\n"
    }
   }
  },
  {
   "cell_type": "code",
   "execution_count": 119,
   "outputs": [],
   "source": [
    "new_pred_1 = plot_data[plot_data['new_pred'] == 1]\n",
    "new_pred_0 = plot_data[plot_data['new_pred'] == 0]\n",
    "old_pred_1 = plot_data[plot_data['old_pred'] == 1]\n",
    "old_pred_0 = plot_data[plot_data['old_pred'] == 0]"
   ],
   "metadata": {
    "collapsed": false,
    "pycharm": {
     "name": "#%%\n"
    }
   }
  },
  {
   "cell_type": "code",
   "execution_count": 120,
   "outputs": [],
   "source": [
    "import matplotlib.pyplot as plt"
   ],
   "metadata": {
    "collapsed": false,
    "pycharm": {
     "name": "#%%\n"
    }
   }
  },
  {
   "cell_type": "code",
   "execution_count": 137,
   "outputs": [
    {
     "data": {
      "text/plain": "<Figure size 1440x720 with 2 Axes>",
      "image/png": "[encoded data removed]"
     },
     "metadata": {
      "needs_background": "light"
     },
     "output_type": "display_data"
    }
   ],
   "source": [
    "fig, axes = plt.subplots(figsize=(20,10), ncols=2)\n",
    "axes[0].scatter(new_pred_1['x'], new_pred_1['y'], color='green', label='1')\n",
    "axes[0].scatter(new_pred_0['x'], new_pred_0['y'], color='red', label='0', alpha=.4)\n",
    "axes[0].set_title('New Model')\n",
    "\n",
    "axes[1].scatter(old_pred_0['x'], old_pred_0['y'], color='green', label='1')\n",
    "axes[1].scatter(old_pred_0['x'], old_pred_0['y'], color='red', label='0', alpha=.4)\n",
    "axes[1].set_title('Old Model')\n",
    "\n",
    "axes[0].legend()\n",
    "axes[1].legend()\n",
    "plt.show()"
   ],
   "metadata": {
    "collapsed": false,
    "pycharm": {
     "name": "#%%\n"
    }
   }
  },
  {
   "cell_type": "code",
   "execution_count": null,
   "outputs": [],
   "source": [],
   "metadata": {
    "collapsed": false,
    "pycharm": {
     "name": "#%%\n"
    }
   }
  }
 ],
 "metadata": {
  "kernelspec": {
   "display_name": "Python 3",
   "language": "python",
   "name": "python3"
  },
  "language_info": {
   "codemirror_mode": {
    "name": "ipython",
    "version": 3
   },
   "file_extension": ".py",
   "mimetype": "text/x-python",
   "name": "python",
   "nbconvert_exporter": "python",
   "pygments_lexer": "ipython3",
   "version": "3.8.8"
  }
 },
 "nbformat": 4,
 "nbformat_minor": 1
}