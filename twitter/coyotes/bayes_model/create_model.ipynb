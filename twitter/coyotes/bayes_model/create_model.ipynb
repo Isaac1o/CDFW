{
 "cells": [
  {
   "cell_type": "code",
   "execution_count": 28,
   "metadata": {
    "collapsed": true
   },
   "outputs": [],
   "source": [
    "import pandas as pd\n",
    "import numpy as np\n",
    "from sklearn.naive_bayes import MultinomialNB\n",
    "from sklearn.model_selection import train_test_split\n",
    "from sklearn.feature_extraction.text import CountVectorizer\n",
    "from sklearn.metrics import accuracy_score\n",
    "from utility.get_twitter import *\n",
    "from sklearn.model_selection import GridSearchCV\n",
    "from sklearn.pipeline import Pipeline\n",
    "from sklearn.metrics import log_loss"
   ]
  },
  {
   "cell_type": "code",
   "execution_count": 29,
   "outputs": [
    {
     "data": {
      "text/plain": "       tweet_id                                              tweet  revelant  \\\n0  1.455952e+14  @OnlineAlison Several comments later… “I feed ...       1.0   \n1  1.455952e+14  @johnlevenstein If we hadn’t defunded police t...       0.0   \n2  1.455933e+14   @TheOGpianoGeek That her COYOTE dues are late...       0.0   \n3  1.455932e+14  Hey Coyotes! There is a virtual PFC meeting ne...       0.0   \n4  1.455930e+14  @DunkaPeacecraft The Dems have been in power f...       0.0   \n\n   sighting  lost_pet  coyote_death  eating  pet_coyote_interaction  traffic  \\\n0       0.0       0.0           0.0     0.0                     0.0      0.0   \n1       0.0       0.0           0.0     0.0                     0.0      0.0   \n2       0.0       0.0           0.0     0.0                     0.0      0.0   \n3       0.0       0.0           0.0     0.0                     0.0      0.0   \n4       0.0       0.0           0.0     0.0                     0.0      0.0   \n\n   howling  \n0      0.0  \n1      0.0  \n2      0.0  \n3      0.0  \n4      0.0  ",
      "text/html": "<div>\n<style scoped>\n    .dataframe tbody tr th:only-of-type {\n        vertical-align: middle;\n    }\n\n    .dataframe tbody tr th {\n        vertical-align: top;\n    }\n\n    .dataframe thead th {\n        text-align: right;\n    }\n</style>\n<table border=\"1\" class=\"dataframe\">\n  <thead>\n    <tr style=\"text-align: right;\">\n      <th></th>\n      <th>tweet_id</th>\n      <th>tweet</th>\n      <th>revelant</th>\n      <th>sighting</th>\n      <th>lost_pet</th>\n      <th>coyote_death</th>\n      <th>eating</th>\n      <th>pet_coyote_interaction</th>\n      <th>traffic</th>\n      <th>howling</th>\n    </tr>\n  </thead>\n  <tbody>\n    <tr>\n      <th>0</th>\n      <td>1.455952e+14</td>\n      <td>@OnlineAlison Several comments later… “I feed ...</td>\n      <td>1.0</td>\n      <td>0.0</td>\n      <td>0.0</td>\n      <td>0.0</td>\n      <td>0.0</td>\n      <td>0.0</td>\n      <td>0.0</td>\n      <td>0.0</td>\n    </tr>\n    <tr>\n      <th>1</th>\n      <td>1.455952e+14</td>\n      <td>@johnlevenstein If we hadn’t defunded police t...</td>\n      <td>0.0</td>\n      <td>0.0</td>\n      <td>0.0</td>\n      <td>0.0</td>\n      <td>0.0</td>\n      <td>0.0</td>\n      <td>0.0</td>\n      <td>0.0</td>\n    </tr>\n    <tr>\n      <th>2</th>\n      <td>1.455933e+14</td>\n      <td>@TheOGpianoGeek That her COYOTE dues are late...</td>\n      <td>0.0</td>\n      <td>0.0</td>\n      <td>0.0</td>\n      <td>0.0</td>\n      <td>0.0</td>\n      <td>0.0</td>\n      <td>0.0</td>\n      <td>0.0</td>\n    </tr>\n    <tr>\n      <th>3</th>\n      <td>1.455932e+14</td>\n      <td>Hey Coyotes! There is a virtual PFC meeting ne...</td>\n      <td>0.0</td>\n      <td>0.0</td>\n      <td>0.0</td>\n      <td>0.0</td>\n      <td>0.0</td>\n      <td>0.0</td>\n      <td>0.0</td>\n      <td>0.0</td>\n    </tr>\n    <tr>\n      <th>4</th>\n      <td>1.455930e+14</td>\n      <td>@DunkaPeacecraft The Dems have been in power f...</td>\n      <td>0.0</td>\n      <td>0.0</td>\n      <td>0.0</td>\n      <td>0.0</td>\n      <td>0.0</td>\n      <td>0.0</td>\n      <td>0.0</td>\n      <td>0.0</td>\n    </tr>\n  </tbody>\n</table>\n</div>"
     },
     "execution_count": 29,
     "metadata": {},
     "output_type": "execute_result"
    }
   ],
   "source": [
    "# Load manually tagged tweets\n",
    "df = pd.read_csv('../data/tagged_tweets.csv')\n",
    "df.head()"
   ],
   "metadata": {
    "collapsed": false,
    "pycharm": {
     "name": "#%%\n"
    }
   }
  },
  {
   "cell_type": "code",
   "execution_count": 30,
   "outputs": [],
   "source": [
    "X = df['tweet']\n",
    "y = df['revelant']"
   ],
   "metadata": {
    "collapsed": false,
    "pycharm": {
     "name": "#%%\n"
    }
   }
  },
  {
   "cell_type": "markdown",
   "source": [
    "# Find best hyperparameters"
   ],
   "metadata": {
    "collapsed": false,
    "pycharm": {
     "name": "#%% md\n"
    }
   }
  },
  {
   "cell_type": "code",
   "execution_count": 6,
   "outputs": [
    {
     "data": {
      "text/plain": "dict_keys(['memory', 'steps', 'verbose', 'wordcount', 'bayes', 'wordcount__analyzer', 'wordcount__binary', 'wordcount__decode_error', 'wordcount__dtype', 'wordcount__encoding', 'wordcount__input', 'wordcount__lowercase', 'wordcount__max_df', 'wordcount__max_features', 'wordcount__min_df', 'wordcount__ngram_range', 'wordcount__preprocessor', 'wordcount__stop_words', 'wordcount__strip_accents', 'wordcount__token_pattern', 'wordcount__tokenizer', 'wordcount__vocabulary', 'bayes__alpha', 'bayes__class_prior', 'bayes__fit_prior'])"
     },
     "execution_count": 6,
     "metadata": {},
     "output_type": "execute_result"
    }
   ],
   "source": [
    "# Initialize CountVectorizer and Naive Bayes object to pass into a pipeline.\n",
    "# Pipeline does the following:\n",
    "# Tweets -> CountVectorizer to get word count -> Naive Bayes model to predict relevancy\n",
    "count_vec = CountVectorizer()\n",
    "nb = MultinomialNB()\n",
    "pipeline = Pipeline(steps=[('wordcount', count_vec), ('bayes', nb)])\n",
    "pipeline.get_params().keys()"
   ],
   "metadata": {
    "collapsed": false,
    "pycharm": {
     "name": "#%%\n"
    }
   }
  },
  {
   "cell_type": "code",
   "execution_count": 33,
   "outputs": [],
   "source": [
    "from utility.text_normalizer import *"
   ],
   "metadata": {
    "collapsed": false,
    "pycharm": {
     "name": "#%%\n"
    }
   }
  },
  {
   "cell_type": "code",
   "execution_count": 8,
   "outputs": [],
   "source": [
    "# Different hyper-parameters to try\n",
    "params = {\n",
    "    'wordcount__input': ['content'],\n",
    "    'wordcount__decode_error': ['ignore'],\n",
    "    'wordcount__preprocessor': [tweet_preprocessor],\n",
    "    'wordcount__ngram_range': [(1,2), (1,1), (2,2)],\n",
    "    'wordcount__stop_words': ['english'],\n",
    "    'wordcount__lowercase': [True, False],\n",
    "    'wordcount__strip_accents': ['ascii'],\n",
    "    'wordcount__min_df': [0, 1, 2, 3],\n",
    "    'bayes__alpha': [0, 1, 2],\n",
    "    'memory': ['wordcount']\n",
    "}"
   ],
   "metadata": {
    "collapsed": false,
    "pycharm": {
     "name": "#%%\n"
    }
   }
  },
  {
   "cell_type": "code",
   "execution_count": 31,
   "outputs": [
    {
     "data": {
      "text/plain": "((337,), (85,), (337,), (85,))"
     },
     "execution_count": 31,
     "metadata": {},
     "output_type": "execute_result"
    }
   ],
   "source": [
    "x_train, x_test, y_train, y_test = train_test_split(X, y, test_size=.2)\n",
    "x_train.shape, x_test.shape, y_train.shape, y_test.shape"
   ],
   "metadata": {
    "collapsed": false,
    "pycharm": {
     "name": "#%%\n"
    }
   }
  },
  {
   "cell_type": "code",
   "execution_count": 10,
   "outputs": [],
   "source": [
    "# Find best hyper-parameters for CountVectorizer() and MultinomialNB()\n",
    "search = GridSearchCV(pipeline, param_grid=params, n_jobs=-1)"
   ],
   "metadata": {
    "collapsed": false,
    "pycharm": {
     "name": "#%%\n"
    }
   }
  },
  {
   "cell_type": "code",
   "execution_count": 11,
   "outputs": [
    {
     "data": {
      "text/plain": "GridSearchCV(estimator=Pipeline(steps=[('wordcount', CountVectorizer()),\n                                       ('bayes', MultinomialNB())]),\n             n_jobs=-1,\n             param_grid={'bayes__alpha': [0, 1, 2], 'memory': ['wordcount'],\n                         'wordcount__decode_error': ['ignore'],\n                         'wordcount__input': ['content'],\n                         'wordcount__lowercase': [True, False],\n                         'wordcount__min_df': [0, 1, 2, 3],\n                         'wordcount__ngram_range': [(1, 2), (1, 1), (2, 2)],\n                         'wordcount__preprocessor': [<function tweet_preprocessor at 0x7fe5c9bf0040>],\n                         'wordcount__stop_words': ['english'],\n                         'wordcount__strip_accents': ['ascii']})"
     },
     "execution_count": 11,
     "metadata": {},
     "output_type": "execute_result"
    }
   ],
   "source": [
    "search.fit(x_train, y_train)"
   ],
   "metadata": {
    "collapsed": false,
    "pycharm": {
     "name": "#%%\n"
    }
   }
  },
  {
   "cell_type": "code",
   "execution_count": 13,
   "outputs": [],
   "source": [
    "best_pipeline = search.best_estimator_"
   ],
   "metadata": {
    "collapsed": false,
    "pycharm": {
     "name": "#%%\n"
    }
   }
  },
  {
   "cell_type": "code",
   "execution_count": 14,
   "outputs": [
    {
     "data": {
      "text/plain": "0.8488147497805091"
     },
     "execution_count": 14,
     "metadata": {},
     "output_type": "execute_result"
    }
   ],
   "source": [
    "search.best_score_"
   ],
   "metadata": {
    "collapsed": false,
    "pycharm": {
     "name": "#%%\n"
    }
   }
  },
  {
   "cell_type": "code",
   "execution_count": 16,
   "outputs": [
    {
     "data": {
      "text/plain": "{'bayes__alpha': 1,\n 'memory': 'wordcount',\n 'wordcount__decode_error': 'ignore',\n 'wordcount__input': 'content',\n 'wordcount__lowercase': True,\n 'wordcount__min_df': 2,\n 'wordcount__ngram_range': (1, 1),\n 'wordcount__preprocessor': <function utility.text_normalizer.tweet_preprocessor(tweet: str) -> str>,\n 'wordcount__stop_words': 'english',\n 'wordcount__strip_accents': 'ascii'}"
     },
     "execution_count": 16,
     "metadata": {},
     "output_type": "execute_result"
    }
   ],
   "source": [
    "# Best hyper-parameters\n",
    "search.best_params_"
   ],
   "metadata": {
    "collapsed": false,
    "pycharm": {
     "name": "#%%\n"
    }
   }
  },
  {
   "cell_type": "code",
   "execution_count": 21,
   "outputs": [
    {
     "data": {
      "text/plain": "array([6.61814984e-02, 3.91921439e-02, 3.33496306e-03, 2.49258160e-01,\n       9.41983985e-01, 6.08708933e-02, 6.94038331e-02, 1.56703296e-02,\n       5.87431151e-01, 7.47566113e-01, 9.51139572e-01, 8.51713473e-01,\n       1.17310184e-01, 3.82652498e-02, 3.04415305e-01, 2.75189484e-01,\n       9.70886221e-01, 9.82590299e-01, 2.02122870e-01, 3.61827831e-01,\n       5.28528559e-01, 8.25088652e-01, 2.54679035e-01, 4.58305827e-02,\n       5.23896974e-04, 1.42923820e-01, 8.10301163e-01, 2.99230928e-01,\n       7.69296297e-01, 3.04477872e-01, 1.96197365e-01, 2.38099453e-01,\n       8.36376978e-06, 2.49258160e-01, 4.97306061e-04, 1.08361378e-01,\n       1.67659956e-02, 1.85536801e-01, 9.99624057e-01, 9.99912774e-01,\n       4.06251105e-03, 3.53540663e-01, 2.94169337e-01, 3.12106899e-01,\n       5.08221706e-01, 3.50476659e-01, 5.36553976e-02, 2.20646960e-03,\n       1.05017416e-02, 4.18647520e-05, 2.49258160e-01, 9.21075802e-01,\n       2.19627484e-01, 5.30578411e-01, 3.38867348e-01, 2.25862170e-01,\n       1.45518718e-02, 2.16847580e-01, 3.14103491e-02, 9.43416076e-02,\n       1.50591160e-02, 4.05966830e-01, 1.35946717e-01, 8.66698667e-01,\n       8.13583182e-02, 3.53552200e-01, 3.00114342e-01, 3.21855798e-01,\n       2.54679035e-01, 1.45921031e-01, 1.31369943e-01, 7.71484761e-01,\n       2.08700179e-02, 3.07808293e-01, 5.25431982e-01, 2.42639560e-02,\n       1.05613577e-01, 1.60395927e-01, 1.29827169e-03, 2.29826082e-01,\n       1.50474300e-01, 9.50209167e-01, 2.42639560e-02, 8.55243080e-01,\n       4.18506558e-02])"
     },
     "execution_count": 21,
     "metadata": {},
     "output_type": "execute_result"
    }
   ],
   "source": [
    "y_hat = best_pipeline.predict_proba(x_test)[:,1]\n",
    "y_hat"
   ],
   "metadata": {
    "collapsed": false,
    "pycharm": {
     "name": "#%%\n"
    }
   }
  },
  {
   "cell_type": "code",
   "execution_count": 22,
   "outputs": [
    {
     "data": {
      "text/plain": "0.41224883226657494"
     },
     "execution_count": 22,
     "metadata": {},
     "output_type": "execute_result"
    }
   ],
   "source": [
    "log_loss(y_test, y_hat)"
   ],
   "metadata": {
    "collapsed": false,
    "pycharm": {
     "name": "#%%\n"
    }
   }
  },
  {
   "cell_type": "code",
   "execution_count": 23,
   "outputs": [
    {
     "data": {
      "text/plain": "0.8588235294117647"
     },
     "execution_count": 23,
     "metadata": {},
     "output_type": "execute_result"
    }
   ],
   "source": [
    "# Compare on test set\n",
    "best_pipeline.score(x_test, y_test)"
   ],
   "metadata": {
    "collapsed": false,
    "pycharm": {
     "name": "#%%\n"
    }
   }
  },
  {
   "cell_type": "code",
   "execution_count": 24,
   "outputs": [],
   "source": [
    "# Sample tweets to see how model does\n",
    "tweets = ['The Coyotes are my favorite team', 'I like wolfs', 'The coyote attacked my dog']"
   ],
   "metadata": {
    "collapsed": false,
    "pycharm": {
     "name": "#%%\n"
    }
   }
  },
  {
   "cell_type": "code",
   "execution_count": 25,
   "outputs": [
    {
     "data": {
      "text/plain": "array([0., 0., 1.])"
     },
     "execution_count": 25,
     "metadata": {},
     "output_type": "execute_result"
    }
   ],
   "source": [
    "best_pipeline.predict(tweets)"
   ],
   "metadata": {
    "collapsed": false,
    "pycharm": {
     "name": "#%%\n"
    }
   }
  },
  {
   "cell_type": "markdown",
   "source": [
    "# Save model"
   ],
   "metadata": {
    "collapsed": false,
    "pycharm": {
     "name": "#%% md\n"
    }
   }
  },
  {
   "cell_type": "code",
   "execution_count": 26,
   "outputs": [],
   "source": [
    "import joblib"
   ],
   "metadata": {
    "collapsed": false,
    "pycharm": {
     "name": "#%%\n"
    }
   }
  },
  {
   "cell_type": "code",
   "execution_count": 27,
   "outputs": [],
   "source": [
    "with open('bayes_pipeline.pkl', 'wb') as f:\n",
    "    joblib.dump(best_pipeline, f)"
   ],
   "metadata": {
    "collapsed": false,
    "pycharm": {
     "name": "#%%\n"
    }
   }
  },
  {
   "cell_type": "markdown",
   "source": [
    "---------------"
   ],
   "metadata": {
    "collapsed": false,
    "pycharm": {
     "name": "#%% md\n"
    }
   }
  },
  {
   "cell_type": "markdown",
   "source": [
    "{'bayes__alpha': 1,\n",
    " 'wordcount__decode_error': 'ignore',\n",
    " 'wordcount__input': 'content',\n",
    " 'wordcount__lowercase': True,\n",
    " 'wordcount__min_df': 2,\n",
    " 'wordcount__stop_words': 'english',\n",
    " 'wordcount__strip_accents': 'ascii',\n",
    " 'wordcount__tokenizer': <function text_normalizer.normalize_tweet(tweet)>}"
   ],
   "metadata": {
    "collapsed": false,
    "pycharm": {
     "name": "#%% md\n"
    }
   }
  },
  {
   "cell_type": "markdown",
   "source": [
    "# Lets try adding TFIDF"
   ],
   "metadata": {
    "collapsed": false,
    "pycharm": {
     "name": "#%% md\n"
    }
   }
  },
  {
   "cell_type": "code",
   "execution_count": 32,
   "outputs": [],
   "source": [
    "from sklearn.feature_extraction.text import TfidfVectorizer"
   ],
   "metadata": {
    "collapsed": false,
    "pycharm": {
     "name": "#%%\n"
    }
   }
  },
  {
   "cell_type": "code",
   "execution_count": 34,
   "outputs": [],
   "source": [
    "tfidf = TfidfVectorizer(input='content', lowercase=True, preprocessor=tweet_preprocessor, stop_words='english')"
   ],
   "metadata": {
    "collapsed": false,
    "pycharm": {
     "name": "#%%\n"
    }
   }
  },
  {
   "cell_type": "code",
   "execution_count": 36,
   "outputs": [
    {
     "data": {
      "text/plain": "TfidfVectorizer(preprocessor=<function tweet_preprocessor at 0x7fe5c9bf0040>,\n                stop_words='english')"
     },
     "execution_count": 36,
     "metadata": {},
     "output_type": "execute_result"
    }
   ],
   "source": [
    "tfidf.fit(x_train)"
   ],
   "metadata": {
    "collapsed": false,
    "pycharm": {
     "name": "#%%\n"
    }
   }
  },
  {
   "cell_type": "code",
   "execution_count": 37,
   "outputs": [],
   "source": [
    "matrix = tfidf.transform(x_train)"
   ],
   "metadata": {
    "collapsed": false,
    "pycharm": {
     "name": "#%%\n"
    }
   }
  },
  {
   "cell_type": "code",
   "execution_count": 39,
   "outputs": [
    {
     "name": "stdout",
     "output_type": "stream",
     "text": [
      "['__abs__', '__add__', '__array_priority__', '__bool__', '__class__', '__delattr__', '__dict__', '__dir__', '__div__', '__doc__', '__eq__', '__format__', '__ge__', '__getattr__', '__getattribute__', '__getitem__', '__gt__', '__hash__', '__iadd__', '__idiv__', '__imul__', '__init__', '__init_subclass__', '__isub__', '__iter__', '__itruediv__', '__le__', '__len__', '__lt__', '__matmul__', '__module__', '__mul__', '__ne__', '__neg__', '__new__', '__nonzero__', '__pow__', '__radd__', '__rdiv__', '__reduce__', '__reduce_ex__', '__repr__', '__rmatmul__', '__rmul__', '__round__', '__rsub__', '__rtruediv__', '__setattr__', '__setitem__', '__sizeof__', '__slotnames__', '__str__', '__sub__', '__subclasshook__', '__truediv__', '__weakref__', '_add_dense', '_add_sparse', '_arg_min_or_max', '_arg_min_or_max_axis', '_asindices', '_binopt', '_cs_matrix__get_has_canonical_format', '_cs_matrix__get_sorted', '_cs_matrix__set_has_canonical_format', '_cs_matrix__set_sorted', '_deduped_data', '_divide', '_divide_sparse', '_get_arrayXarray', '_get_arrayXint', '_get_arrayXslice', '_get_columnXarray', '_get_dtype', '_get_intXarray', '_get_intXint', '_get_intXslice', '_get_sliceXarray', '_get_sliceXint', '_get_sliceXslice', '_get_submatrix', '_imag', '_inequality', '_insert_many', '_major_index_fancy', '_major_slice', '_maximum_minimum', '_min_or_max', '_min_or_max_axis', '_minor_index_fancy', '_minor_reduce', '_minor_slice', '_mul_multivector', '_mul_scalar', '_mul_sparse_matrix', '_mul_vector', '_prepare_indices', '_process_toarray_args', '_real', '_rsub_dense', '_scalar_binopt', '_set_arrayXarray', '_set_arrayXarray_sparse', '_set_dtype', '_set_intXint', '_set_many', '_set_self', '_setdiag', '_shape', '_sub_dense', '_sub_sparse', '_swap', '_validate_indices', '_with_data', '_zero_many', 'arcsin', 'arcsinh', 'arctan', 'arctanh', 'argmax', 'argmin', 'asformat', 'asfptype', 'astype', 'ceil', 'check_format', 'conj', 'conjugate', 'copy', 'count_nonzero', 'data', 'deg2rad', 'diagonal', 'dot', 'dtype', 'eliminate_zeros', 'expm1', 'floor', 'format', 'getH', 'get_shape', 'getcol', 'getformat', 'getmaxprint', 'getnnz', 'getrow', 'has_canonical_format', 'has_sorted_indices', 'indices', 'indptr', 'log1p', 'max', 'maximum', 'maxprint', 'mean', 'min', 'minimum', 'multiply', 'ndim', 'nnz', 'nonzero', 'power', 'prune', 'rad2deg', 'reshape', 'resize', 'rint', 'set_shape', 'setdiag', 'shape', 'sign', 'sin', 'sinh', 'sort_indices', 'sorted_indices', 'sqrt', 'sum', 'sum_duplicates', 'tan', 'tanh', 'toarray', 'tobsr', 'tocoo', 'tocsc', 'tocsr', 'todense', 'todia', 'todok', 'tolil', 'transpose', 'trunc']\n"
     ]
    }
   ],
   "source": [
    "print(dir(matrix))"
   ],
   "metadata": {
    "collapsed": false,
    "pycharm": {
     "name": "#%%\n"
    }
   }
  },
  {
   "cell_type": "code",
   "execution_count": 43,
   "outputs": [
    {
     "data": {
      "text/plain": "(337, 2217)"
     },
     "execution_count": 43,
     "metadata": {},
     "output_type": "execute_result"
    }
   ],
   "source": [
    "matrix.shape"
   ],
   "metadata": {
    "collapsed": false,
    "pycharm": {
     "name": "#%%\n"
    }
   }
  },
  {
   "cell_type": "code",
   "execution_count": 46,
   "outputs": [],
   "source": [
    "a = matrix.nonzero()[1]"
   ],
   "metadata": {
    "collapsed": false,
    "pycharm": {
     "name": "#%%\n"
    }
   }
  },
  {
   "cell_type": "code",
   "execution_count": 63,
   "outputs": [],
   "source": [
    "matrix = tfidf.transform([x_train[1]])"
   ],
   "metadata": {
    "collapsed": false,
    "pycharm": {
     "name": "#%%\n"
    }
   }
  },
  {
   "cell_type": "code",
   "execution_count": 64,
   "outputs": [],
   "source": [
    "scores = [(tfidf.get_feature_names()[col], matrix[0,col]) for col in matrix.nonzero()[1]]"
   ],
   "metadata": {
    "collapsed": false,
    "pycharm": {
     "name": "#%%\n"
    }
   }
  },
  {
   "cell_type": "code",
   "execution_count": 65,
   "outputs": [
    {
     "data": {
      "text/plain": "[('police', 0.6790216233930757),\n ('defunded', 0.6790216233930757),\n ('coyotes', 0.27903273988774896)]"
     },
     "execution_count": 65,
     "metadata": {},
     "output_type": "execute_result"
    }
   ],
   "source": [
    "sorted(scores, key= lambda x: x[1], reverse=True)"
   ],
   "metadata": {
    "collapsed": false,
    "pycharm": {
     "name": "#%%\n"
    }
   }
  },
  {
   "cell_type": "code",
   "execution_count": 66,
   "outputs": [
    {
     "name": "stdout",
     "output_type": "stream",
     "text": [
      "('area', 0.47606045380926804)\n",
      "('Quebec', 0.6069387948622126)\n",
      "('Superintendent', 0.4419837085172375)\n",
      "('void', 0.5587455849356965)\n",
      "('gotten', 0.47397766963382243)\n",
      "('watch', 0.45388047480766774)\n",
      "('summary', 0.37877362808380577)\n",
      "('siren', 0.4187044565691759)\n",
      "('player', 0.42941098104224124)\n",
      "('Arizona', 0.5692050670829605)\n",
      "('backed', 0.2738678191083713)\n",
      "('Playing', 0.5004814259848323)\n",
      "('Instagram', 0.6311919554219465)\n",
      "('road', 0.54421530833411)\n",
      "('tempted', 0.531603607906047)\n",
      "('urine', 0.4219703057018853)\n",
      "('throwing', 0.49263830892445204)\n",
      "('okay', 0.5145081047803857)\n",
      "('spot', 0.7269599143811216)\n",
      "('yea', 0.36019599078073616)\n",
      "('Why', 0.5492414950803964)\n",
      "('shitter', 0.6233867886901384)\n",
      "('vaxxed', 0.21362364113874174)\n",
      "('Have', 0.3952210177690782)\n",
      "('coffee', 0.5319824275123352)\n",
      "('utter', 0.39695802413800385)\n",
      "('wildness', 0.2166500704541117)\n",
      "('STEAM', 0.4331328081697876)\n",
      "('overall', 0.37431704062884685)\n",
      "('pizza', 0.4795925610886614)\n",
      "('step', 0.24985680501257274)\n",
      "('power', 0.48515032392137974)\n",
      "('stole', 0.5060122168281829)\n",
      "('plan', 0.3634096801829256)\n",
      "('daylight', 0.5717543896975674)\n",
      "('turning', 0.4099911823170905)\n",
      "('pledge', 0.3176139098954183)\n",
      "('question', 0.370664425136067)\n",
      "('released', 0.24720931562124698)\n",
      "('town', 0.5871713829521538)\n",
      "('Woof', 0.5189980341658003)\n",
      "('mcnally', 0.45443914011542563)\n",
      "('trash', 0.6035797693613691)\n",
      "('wandering', 0.49724464145320046)\n",
      "('Westminster', 0.41294145448421554)\n",
      "('statement', 0.4640794719324783)\n",
      "('frame', 0.43523716596439027)\n",
      "('Brody', 0.7617434163690692)\n",
      "('took', 0.3293960322230038)\n",
      "('yeah', 0.4252124266747762)\n",
      "('traps', 0.30093706015362276)\n",
      "('referring', 0.2361144537184288)\n",
      "('drawing', 0.3970452637366625)\n",
      "('Humane', 0.371990161858921)\n",
      "('virtual', 0.4757493237455255)\n",
      "('gosh', 0.6514396260700104)\n",
      "('Level', 0.47968734462778023)\n",
      "('SanFransisco', 0.39801583093960824)\n",
      "('starring', 0.43891150691807657)\n",
      "('minutes', 0.35033639478454953)\n",
      "('moved', 0.23412375408839015)\n",
      "('stunts', 0.2985329238520446)\n",
      "('named', 0.4669348361277001)\n",
      "('trap', 0.41726832362588995)\n",
      "('wildlife', 0.3310613194646726)\n",
      "('reporting', 0.25124934597179216)\n",
      "('Way', 0.41005383498986775)\n",
      "('scholars', 0.4260135702869274)\n",
      "('recognize', 0.3832312336760091)\n",
      "('believe', 0.5433209326468835)\n",
      "('Was', 0.39469336933091226)\n",
      "('visited', 0.211946678384638)\n",
      "('injuries', 0.2886235709508197)\n",
      "('wagged', 0.3721996367639812)\n",
      "('uglies', 0.492731689552629)\n",
      "('wrong', 0.25368472083496085)\n",
      "('specific', 0.4635949629925086)\n",
      "('million', 0.4202276692249673)\n",
      "('How', 0.9004118541768299)\n",
      "('supply', 0.29138221120921887)\n",
      "('Christmas', 0.5149761510648484)\n",
      "('lay', 0.32043451168700243)\n",
      "('enclaves', 0.3607139981765049)\n",
      "('football', 0.43293223194600416)\n",
      "('things', 0.31991913596315474)\n",
      "('swear', 0.3024750115661919)\n",
      "('Happy', 0.37059492218113044)\n",
      "('Same', 0.5063541756693182)\n",
      "('WelcomeToThePack', 0.33670892837259203)\n",
      "('use', 0.44106524764012167)\n",
      "('photography', 0.5559319269508961)\n",
      "('comes', 0.49414122658384674)\n",
      "('like', 0.4042430915766215)\n",
      "('messed', 1.0)\n",
      "('lab', 0.41498491304505836)\n",
      "('worry', 0.271803213591553)\n",
      "('Science', 0.33190261302830704)\n",
      "('kings', 0.5160309751509159)\n",
      "('daycare', 0.5500689203272567)\n",
      "('word', 0.5028046901128883)\n",
      "('look', 0.5419003388225093)\n",
      "('forgot', 0.37284732728355324)\n",
      "('howling', 0.5176515461401561)\n",
      "('fans', 0.4087951079150789)\n",
      "('brooo', 0.5946922003650448)\n",
      "('slaps', 0.28653636860716575)\n",
      "('goooo', 0.6132871866245362)\n",
      "('disagree', 0.7071067811865476)\n",
      "('confused', 0.7087097385388128)\n",
      "('unimpressed', 0.24354824313414125)\n",
      "('finish', 0.5558284317801818)\n",
      "('Dude', 0.5443180414404317)\n",
      "('unscathed', 0.3263337740287266)\n",
      "('fences', 0.4305467083469736)\n",
      "('prize', 0.4255524912223189)\n",
      "('wish', 0.32822651145160897)\n",
      "('Watch', 0.36324293989014456)\n",
      "('traffic', 0.5197974547422174)\n",
      "('picks', 0.5320990293062037)\n",
      "('neat', 0.39826410481001895)\n",
      "('GIVE', 0.41267091471392836)\n",
      "('Portland', 0.2948540725121397)\n",
      "('uploaded', 0.5486374530405633)\n",
      "('AND', 0.6666666666666666)\n",
      "('harmfulhandout', 0.2988520107905342)\n",
      "('lmaoo', 0.5773502691896258)\n",
      "('pet', 0.41271131432436886)\n",
      "('The', 0.242189344026353)\n",
      "('valet', 0.4876207186668227)\n",
      "('developers', 0.3550330440238127)\n",
      "('friendship', 0.46189106511343425)\n",
      "('trickster', 0.24121182015682832)\n",
      "('amp', 0.23900018081855462)\n",
      "('Badass', 0.3513636488393937)\n",
      "('white', 0.20942637811801634)\n",
      "('barfing', 1.0)\n",
      "('Recommendation', 0.45948600914375176)\n",
      "('determined', 0.4450778695533199)\n",
      "('barking', 0.5129618265275346)\n",
      "('Girl', 0.7943618341983105)\n",
      "('weekendinLA', 0.25645496980086635)\n",
      "('maligning', 0.3603827484761826)\n",
      "('More', 0.6295047089195488)\n",
      "('polluting', 0.29587541403640705)\n",
      "('neighbors', 0.4079632912010356)\n",
      "('tyruhhh', 0.5931543594126287)\n",
      "('despicable', 0.47153239546156106)\n",
      "('wonder', 0.40347723444562117)\n",
      "('warning', 0.34353323476068504)\n",
      "('penguins', 0.4952351035977561)\n",
      "('notice', 0.5444983946168429)\n",
      "('Serena', 0.38203245646146705)\n",
      "('Rosie', 0.4636342030325688)\n",
      "('stealing', 0.4157066920635379)\n",
      "('signings', 0.2441354250259829)\n",
      "('platform', 0.26743877206253786)\n",
      "('hanging', 0.4103114702420039)\n",
      "('The', 0.7841529321796377)\n",
      "('urging', 0.2127563506263188)\n",
      "('loss', 0.4262876812129164)\n",
      "('police', 0.6790216233930757)\n",
      "('Used', 0.2899115390744629)\n",
      "('unexpected', 0.34059689172952334)\n",
      "('story', 0.2114577092415203)\n",
      "('Yes', 0.5345740882225165)\n",
      "('Lets', 0.5337590325377073)\n",
      "('day', 0.34056762275150854)\n",
      "('goalies', 0.6033591170114425)\n",
      "('Teeth', 0.4382899156543926)\n",
      "('kitty', 0.5101414738898485)\n",
      "('sirens', 0.25382210924622417)\n",
      "('dues', 0.5434884769242847)\n",
      "('hitting', 0.46165461435633415)\n",
      "('upset', 0.52494355044477)\n",
      "('woodpeckers', 0.24119459711195113)\n",
      "('successful', 0.44062600186726425)\n",
      "('half', 0.338866518153352)\n",
      "('ugly', 0.9267460243242822)\n",
      "('Eagles', 0.5780918301218742)\n",
      "('suppose', 0.28138723157410217)\n",
      "('South', 0.35664673572237887)\n",
      "('adopted', 0.3573278403781529)\n",
      "('begins', 0.32367524728327224)\n",
      "('say', 0.9175494339595845)\n",
      "('real', 0.5647900049349783)\n",
      "('used', 0.6171512429676929)\n",
      "('coyotes', 1.0)\n",
      "('Adolescent', 0.4283345867064543)\n",
      "('wall', 0.4393380951837745)\n",
      "('San', 0.3594134726457631)\n",
      "('cat', 0.42317809552218066)\n",
      "('teachers', 0.39541654715850383)\n",
      "('forward', 0.3667779688424491)\n",
      "('writerslift', 0.23752264394694453)\n",
      "('wile', 0.4788239457781651)\n",
      "('CoyoteRadio', 0.7367008746082168)\n",
      "('walked', 0.3075327921772742)\n",
      "('odd', 0.41506590397211973)\n",
      "('game', 0.35690705703566533)\n",
      "('voles', 0.24030057387385453)\n",
      "('tufts', 0.4625627640274707)\n",
      "('niggas', 0.38797947104809466)\n",
      "('amp', 0.25717899557737195)\n",
      "('thrive', 0.5345740882225165)\n",
      "('yelping', 0.6126053064921608)\n",
      "('pigeons', 0.3165153259330024)\n",
      "('star', 0.27368298558487536)\n",
      "('How', 0.9004118541768299)\n",
      "('snacking', 0.3744961689734246)\n",
      "('praised', 0.2757888347540936)\n",
      "('Proactive', 0.3703260280775225)\n",
      "('Malibu', 0.5709112440030876)\n",
      "('way', 0.3505902142984222)\n",
      "('Makes', 0.7308652345932842)\n",
      "('San', 0.4949085653340127)\n",
      "('prey', 0.5353570375113827)\n",
      "('sort', 0.5138937907271162)\n",
      "('Rescued', 0.375882502383644)\n",
      "('feed', 0.5028046901128883)\n",
      "('wagon', 0.4662436742789401)\n",
      "('NHL', 0.27190880346070734)\n",
      "('forth', 0.584841894920946)\n",
      "('time', 0.37461031096617126)\n",
      "('pls', 0.25217414843558505)\n",
      "('watching', 0.21775669431888284)\n",
      "('snoot', 0.5773502691896258)\n",
      "('matches', 0.2383061740478914)\n",
      "('Read', 0.438507001727665)\n",
      "('probably', 0.9320496362866324)\n",
      "('NHL', 0.7487937980492307)\n",
      "('whale', 0.36087009595925346)\n",
      "('spoiling', 0.24579457353531725)\n",
      "('weight', 0.21253434767922397)\n",
      "('room', 0.39207810810956417)\n",
      "('dear', 0.6438877288170456)\n",
      "('talk', 0.23180466830686508)\n",
      "('Vermont', 0.4191451135758506)\n",
      "('helicopters', 0.6790216233930756)\n",
      "('roll', 0.34129210020203576)\n",
      "('wailing', 0.30522562800434105)\n",
      "('wanna', 0.27081522490463233)\n",
      "('Update', 0.9453845061579328)\n",
      "('stars', 0.33428840275198524)\n",
      "('tsla', 0.492731689552629)\n",
      "('work', 0.4885681970765879)\n",
      "('winner', 0.3132204888989124)\n",
      "('sup', 0.36360851519922033)\n",
      "('purpose', 0.6036630741521077)\n",
      "('omen', 0.37913234893730835)\n",
      "('count', 0.6733319903083478)\n",
      "('vine', 0.4006958839454099)\n",
      "('shader', 0.24617565266116634)\n",
      "('wolves', 0.5813799358035665)\n",
      "('Radio', 0.6937490415970693)\n",
      "('great', 0.3757674611850063)\n",
      "('events', 0.4631073782655974)\n",
      "('tailed', 0.35444197451864035)\n",
      "('manifesting', 0.6068195351975337)\n",
      "('San', 0.4949085653340127)\n",
      "('smooth', 0.5824062577384764)\n",
      "('Survives', 0.2975444656893976)\n",
      "('bet', 0.43745411720681154)\n",
      "('Coyote', 0.409242853176223)\n",
      "('cut', 0.3802054682127404)\n",
      "('day', 0.5325210989716909)\n",
      "('conflict', 0.45944440779678636)\n",
      "('Devils', 0.2935644500161923)\n",
      "('wanted', 0.29664158372948374)\n",
      "('wolf', 0.39104153252874874)\n",
      "('amp', 0.41697319754099416)\n",
      "('North', 0.5143459305134155)\n",
      "('waist', 0.25540614218271096)\n",
      "('Sharks', 0.23473033982652883)\n",
      "('game', 0.5231664135021304)\n",
      "('load', 0.372111699535095)\n",
      "('raised', 0.5752393757194973)\n",
      "('varsity', 0.2588985140349517)\n",
      "('wtf', 0.48490780979635906)\n",
      "('City', 0.35240035641219053)\n",
      "('dogs', 0.42298051976450013)\n",
      "('shouted', 0.4085976912517392)\n",
      "('trending', 0.5298434895153195)\n",
      "('yapping', 0.233712833039087)\n",
      "('treating', 0.508191738179239)\n",
      "('value', 0.24613612771732812)\n",
      "('poetry', 0.29084114832747016)\n",
      "('revolution', 0.5585219696996573)\n",
      "('Ratio', 1.0)\n",
      "('salad', 0.3703260280775225)\n",
      "('And', 0.380735246830422)\n",
      "('pup', 0.7212148934354302)\n",
      "('workshop', 0.4201591780634962)\n",
      "('upppppp', 0.36608374470659105)\n",
      "('post', 0.7887431188168516)\n",
      "('opponents', 0.36331598261728415)\n",
      "('reminder', 0.38229210938331215)\n",
      "('sighting', 0.6869845082759112)\n",
      "('Workshop', 0.42531657127668093)\n",
      "('sweetie', 0.33632457689822465)\n",
      "('cat', 0.42317809552218066)\n",
      "('street', 0.33059922990884144)\n",
      "('looks', 0.34747707287855045)\n",
      "('Stars', 0.24714400387379468)\n",
      "('sport', 0.3898269511454217)\n",
      "('pleasure', 0.35600713335307815)\n",
      "('joint', 0.7210976174982964)\n",
      "('los', 0.5101414738898485)\n",
      "('joggin', 0.42387655090315857)\n",
      "('lease', 0.41694263510565815)\n",
      "('yesterday', 0.2870811524261009)\n",
      "('tweet', 0.6790216233930756)\n",
      "('eating', 0.5115420518470033)\n",
      "('twist', 0.3399245349419509)\n",
      "('photos', 0.5757936515641561)\n",
      "('winner', 0.3132204888989124)\n",
      "('ORIGINSTORIES', 0.5773502691896258)\n",
      "('like', 0.26525765611209634)\n",
      "('schedule', 0.4878213439315483)\n",
      "('hill', 0.4478666072844706)\n",
      "('boar', 0.5005657685464002)\n",
      "('canyon', 0.3738120183034169)\n",
      "('vests', 0.529578794510937)\n",
      "('door', 0.6001892761637017)\n",
      "('The', 0.2651331953441024)\n",
      "('champions', 0.5292916106527276)\n",
      "('make', 0.4223676162166907)\n",
      "('anymore', 0.5909976284604518)\n",
      "('succulent', 0.20493106914971418)\n",
      "('Billions', 0.5367199815217286)\n",
      "('flirtation', 0.7617434163690692)\n",
      "('scored', 0.35186573687033507)\n",
      "('trophy', 0.3593458242095184)\n",
      "('metaphor', 0.4283790046888525)\n",
      "('gone', 0.6712883251778037)\n",
      "('dog', 0.34738686726971724)\n",
      "('teasing', 0.4312734959199193)\n",
      "('missions', 0.3007221999000126)\n"
     ]
    }
   ],
   "source": [
    "for tweet in x_train:\n",
    "    matrix = tfidf.transform([tweet])\n",
    "    scores = [(tfidf.get_feature_names()[col], matrix[0,col]) for col in matrix.nonzero()[1]]\n",
    "    print(sorted(scores, key= lambda x: x[1], reverse=True)[0])"
   ],
   "metadata": {
    "collapsed": false,
    "pycharm": {
     "name": "#%%\n"
    }
   }
  },
  {
   "cell_type": "code",
   "execution_count": null,
   "outputs": [],
   "source": [],
   "metadata": {
    "collapsed": false,
    "pycharm": {
     "name": "#%%\n"
    }
   }
  }
 ],
 "metadata": {
  "kernelspec": {
   "display_name": "Python 3",
   "language": "python",
   "name": "python3"
  },
  "language_info": {
   "codemirror_mode": {
    "name": "ipython",
    "version": 2
   },
   "file_extension": ".py",
   "mimetype": "text/x-python",
   "name": "python",
   "nbconvert_exporter": "python",
   "pygments_lexer": "ipython2",
   "version": "2.7.6"
  }
 },
 "nbformat": 4,
 "nbformat_minor": 0
}