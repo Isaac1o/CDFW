{
 "cells": [
  {
   "cell_type": "code",
   "execution_count": 12,
   "metadata": {
    "collapsed": true
   },
   "outputs": [],
   "source": [
    "import pandas as pd\n",
    "import numpy as np\n",
    "from sklearn.naive_bayes import MultinomialNB\n",
    "from sklearn.model_selection import train_test_split\n",
    "from sklearn.feature_extraction.text import CountVectorizer\n",
    "from sklearn.metrics import accuracy_score\n",
    "from utility.get_twitter import *\n",
    "from sklearn.model_selection import GridSearchCV\n",
    "from sklearn.pipeline import Pipeline\n",
    "from sklearn.metrics import log_loss"
   ]
  },
  {
   "cell_type": "code",
   "execution_count": 4,
   "outputs": [
    {
     "data": {
      "text/plain": "       tweet_id                                              tweet  revelant  \\\n0  1.455952e+14  @OnlineAlison Several comments later… “I feed ...       1.0   \n1  1.455952e+14  @johnlevenstein If we hadn’t defunded police t...       0.0   \n2  1.455933e+14   @TheOGpianoGeek That her COYOTE dues are late...       0.0   \n3  1.455932e+14  Hey Coyotes! There is a virtual PFC meeting ne...       0.0   \n4  1.455930e+14  @DunkaPeacecraft The Dems have been in power f...       0.0   \n\n   sighting  lost_pet  coyote_death  eating  pet_coyote_interaction  traffic  \\\n0       0.0       0.0           0.0     0.0                     0.0      0.0   \n1       0.0       0.0           0.0     0.0                     0.0      0.0   \n2       0.0       0.0           0.0     0.0                     0.0      0.0   \n3       0.0       0.0           0.0     0.0                     0.0      0.0   \n4       0.0       0.0           0.0     0.0                     0.0      0.0   \n\n   howling  \n0      0.0  \n1      0.0  \n2      0.0  \n3      0.0  \n4      0.0  ",
      "text/html": "<div>\n<style scoped>\n    .dataframe tbody tr th:only-of-type {\n        vertical-align: middle;\n    }\n\n    .dataframe tbody tr th {\n        vertical-align: top;\n    }\n\n    .dataframe thead th {\n        text-align: right;\n    }\n</style>\n<table border=\"1\" class=\"dataframe\">\n  <thead>\n    <tr style=\"text-align: right;\">\n      <th></th>\n      <th>tweet_id</th>\n      <th>tweet</th>\n      <th>revelant</th>\n      <th>sighting</th>\n      <th>lost_pet</th>\n      <th>coyote_death</th>\n      <th>eating</th>\n      <th>pet_coyote_interaction</th>\n      <th>traffic</th>\n      <th>howling</th>\n    </tr>\n  </thead>\n  <tbody>\n    <tr>\n      <th>0</th>\n      <td>1.455952e+14</td>\n      <td>@OnlineAlison Several comments later… “I feed ...</td>\n      <td>1.0</td>\n      <td>0.0</td>\n      <td>0.0</td>\n      <td>0.0</td>\n      <td>0.0</td>\n      <td>0.0</td>\n      <td>0.0</td>\n      <td>0.0</td>\n    </tr>\n    <tr>\n      <th>1</th>\n      <td>1.455952e+14</td>\n      <td>@johnlevenstein If we hadn’t defunded police t...</td>\n      <td>0.0</td>\n      <td>0.0</td>\n      <td>0.0</td>\n      <td>0.0</td>\n      <td>0.0</td>\n      <td>0.0</td>\n      <td>0.0</td>\n      <td>0.0</td>\n    </tr>\n    <tr>\n      <th>2</th>\n      <td>1.455933e+14</td>\n      <td>@TheOGpianoGeek That her COYOTE dues are late...</td>\n      <td>0.0</td>\n      <td>0.0</td>\n      <td>0.0</td>\n      <td>0.0</td>\n      <td>0.0</td>\n      <td>0.0</td>\n      <td>0.0</td>\n      <td>0.0</td>\n    </tr>\n    <tr>\n      <th>3</th>\n      <td>1.455932e+14</td>\n      <td>Hey Coyotes! There is a virtual PFC meeting ne...</td>\n      <td>0.0</td>\n      <td>0.0</td>\n      <td>0.0</td>\n      <td>0.0</td>\n      <td>0.0</td>\n      <td>0.0</td>\n      <td>0.0</td>\n      <td>0.0</td>\n    </tr>\n    <tr>\n      <th>4</th>\n      <td>1.455930e+14</td>\n      <td>@DunkaPeacecraft The Dems have been in power f...</td>\n      <td>0.0</td>\n      <td>0.0</td>\n      <td>0.0</td>\n      <td>0.0</td>\n      <td>0.0</td>\n      <td>0.0</td>\n      <td>0.0</td>\n      <td>0.0</td>\n    </tr>\n  </tbody>\n</table>\n</div>"
     },
     "execution_count": 4,
     "metadata": {},
     "output_type": "execute_result"
    }
   ],
   "source": [
    "# Load manually tagged tweets\n",
    "df = pd.read_csv('../data/tagged_tweets.csv')\n",
    "df.head()"
   ],
   "metadata": {
    "collapsed": false,
    "pycharm": {
     "name": "#%%\n"
    }
   }
  },
  {
   "cell_type": "code",
   "execution_count": 5,
   "outputs": [],
   "source": [
    "X = df['tweet']\n",
    "y = df['revelant']"
   ],
   "metadata": {
    "collapsed": false,
    "pycharm": {
     "name": "#%%\n"
    }
   }
  },
  {
   "cell_type": "markdown",
   "source": [
    "# Find best hyperparameters"
   ],
   "metadata": {
    "collapsed": false,
    "pycharm": {
     "name": "#%% md\n"
    }
   }
  },
  {
   "cell_type": "code",
   "execution_count": 6,
   "outputs": [
    {
     "data": {
      "text/plain": "dict_keys(['memory', 'steps', 'verbose', 'wordcount', 'bayes', 'wordcount__analyzer', 'wordcount__binary', 'wordcount__decode_error', 'wordcount__dtype', 'wordcount__encoding', 'wordcount__input', 'wordcount__lowercase', 'wordcount__max_df', 'wordcount__max_features', 'wordcount__min_df', 'wordcount__ngram_range', 'wordcount__preprocessor', 'wordcount__stop_words', 'wordcount__strip_accents', 'wordcount__token_pattern', 'wordcount__tokenizer', 'wordcount__vocabulary', 'bayes__alpha', 'bayes__class_prior', 'bayes__fit_prior'])"
     },
     "execution_count": 6,
     "metadata": {},
     "output_type": "execute_result"
    }
   ],
   "source": [
    "# Initialize CountVectorizer and Naive Bayes object to pass into a pipeline.\n",
    "# Pipeline does the following:\n",
    "# Tweets -> CountVectorizer to get word count -> Naive Bayes model to predict relevancy\n",
    "count_vec = CountVectorizer()\n",
    "nb = MultinomialNB()\n",
    "pipeline = Pipeline(steps=[('wordcount', count_vec), ('bayes', nb)])\n",
    "pipeline.get_params().keys()"
   ],
   "metadata": {
    "collapsed": false,
    "pycharm": {
     "name": "#%%\n"
    }
   }
  },
  {
   "cell_type": "code",
   "execution_count": 7,
   "outputs": [],
   "source": [
    "from utility.text_normalizer import *"
   ],
   "metadata": {
    "collapsed": false,
    "pycharm": {
     "name": "#%%\n"
    }
   }
  },
  {
   "cell_type": "code",
   "execution_count": 8,
   "outputs": [],
   "source": [
    "# Different hyper-parameters to try\n",
    "params = {\n",
    "    'wordcount__input': ['content'],\n",
    "    'wordcount__decode_error': ['ignore'],\n",
    "    'wordcount__preprocessor': [tweet_preprocessor],\n",
    "    'wordcount__ngram_range': [(1,2), (1,1), (2,2)],\n",
    "    'wordcount__stop_words': ['english'],\n",
    "    'wordcount__lowercase': [True, False],\n",
    "    'wordcount__strip_accents': ['ascii'],\n",
    "    'wordcount__min_df': [0, 1, 2, 3],\n",
    "    'bayes__alpha': [0, 1, 2],\n",
    "    'memory': ['wordcount']\n",
    "}"
   ],
   "metadata": {
    "collapsed": false,
    "pycharm": {
     "name": "#%%\n"
    }
   }
  },
  {
   "cell_type": "code",
   "execution_count": 9,
   "outputs": [
    {
     "data": {
      "text/plain": "((337,), (85,), (337,), (85,))"
     },
     "execution_count": 9,
     "metadata": {},
     "output_type": "execute_result"
    }
   ],
   "source": [
    "x_train, x_test, y_train, y_test = train_test_split(X, y, test_size=.2)\n",
    "x_train.shape, x_test.shape, y_train.shape, y_test.shape"
   ],
   "metadata": {
    "collapsed": false,
    "pycharm": {
     "name": "#%%\n"
    }
   }
  },
  {
   "cell_type": "code",
   "execution_count": 10,
   "outputs": [],
   "source": [
    "# Find best hyper-parameters for CountVectorizer() and MultinomialNB()\n",
    "search = GridSearchCV(pipeline, param_grid=params, n_jobs=-1)"
   ],
   "metadata": {
    "collapsed": false,
    "pycharm": {
     "name": "#%%\n"
    }
   }
  },
  {
   "cell_type": "code",
   "execution_count": 11,
   "outputs": [
    {
     "data": {
      "text/plain": "GridSearchCV(estimator=Pipeline(steps=[('wordcount', CountVectorizer()),\n                                       ('bayes', MultinomialNB())]),\n             n_jobs=-1,\n             param_grid={'bayes__alpha': [0, 1, 2], 'memory': ['wordcount'],\n                         'wordcount__decode_error': ['ignore'],\n                         'wordcount__input': ['content'],\n                         'wordcount__lowercase': [True, False],\n                         'wordcount__min_df': [0, 1, 2, 3],\n                         'wordcount__ngram_range': [(1, 2), (1, 1), (2, 2)],\n                         'wordcount__preprocessor': [<function tweet_preprocessor at 0x7fe5c9bf0040>],\n                         'wordcount__stop_words': ['english'],\n                         'wordcount__strip_accents': ['ascii']})"
     },
     "execution_count": 11,
     "metadata": {},
     "output_type": "execute_result"
    }
   ],
   "source": [
    "search.fit(x_train, y_train)"
   ],
   "metadata": {
    "collapsed": false,
    "pycharm": {
     "name": "#%%\n"
    }
   }
  },
  {
   "cell_type": "code",
   "execution_count": 13,
   "outputs": [],
   "source": [
    "best_pipeline = search.best_estimator_"
   ],
   "metadata": {
    "collapsed": false,
    "pycharm": {
     "name": "#%%\n"
    }
   }
  },
  {
   "cell_type": "code",
   "execution_count": 14,
   "outputs": [
    {
     "data": {
      "text/plain": "0.8488147497805091"
     },
     "execution_count": 14,
     "metadata": {},
     "output_type": "execute_result"
    }
   ],
   "source": [
    "search.best_score_"
   ],
   "metadata": {
    "collapsed": false,
    "pycharm": {
     "name": "#%%\n"
    }
   }
  },
  {
   "cell_type": "code",
   "execution_count": 16,
   "outputs": [
    {
     "data": {
      "text/plain": "{'bayes__alpha': 1,\n 'memory': 'wordcount',\n 'wordcount__decode_error': 'ignore',\n 'wordcount__input': 'content',\n 'wordcount__lowercase': True,\n 'wordcount__min_df': 2,\n 'wordcount__ngram_range': (1, 1),\n 'wordcount__preprocessor': <function utility.text_normalizer.tweet_preprocessor(tweet: str) -> str>,\n 'wordcount__stop_words': 'english',\n 'wordcount__strip_accents': 'ascii'}"
     },
     "execution_count": 16,
     "metadata": {},
     "output_type": "execute_result"
    }
   ],
   "source": [
    "# Best hyper-parameters\n",
    "search.best_params_"
   ],
   "metadata": {
    "collapsed": false,
    "pycharm": {
     "name": "#%%\n"
    }
   }
  },
  {
   "cell_type": "code",
   "execution_count": 21,
   "outputs": [
    {
     "data": {
      "text/plain": "array([6.61814984e-02, 3.91921439e-02, 3.33496306e-03, 2.49258160e-01,\n       9.41983985e-01, 6.08708933e-02, 6.94038331e-02, 1.56703296e-02,\n       5.87431151e-01, 7.47566113e-01, 9.51139572e-01, 8.51713473e-01,\n       1.17310184e-01, 3.82652498e-02, 3.04415305e-01, 2.75189484e-01,\n       9.70886221e-01, 9.82590299e-01, 2.02122870e-01, 3.61827831e-01,\n       5.28528559e-01, 8.25088652e-01, 2.54679035e-01, 4.58305827e-02,\n       5.23896974e-04, 1.42923820e-01, 8.10301163e-01, 2.99230928e-01,\n       7.69296297e-01, 3.04477872e-01, 1.96197365e-01, 2.38099453e-01,\n       8.36376978e-06, 2.49258160e-01, 4.97306061e-04, 1.08361378e-01,\n       1.67659956e-02, 1.85536801e-01, 9.99624057e-01, 9.99912774e-01,\n       4.06251105e-03, 3.53540663e-01, 2.94169337e-01, 3.12106899e-01,\n       5.08221706e-01, 3.50476659e-01, 5.36553976e-02, 2.20646960e-03,\n       1.05017416e-02, 4.18647520e-05, 2.49258160e-01, 9.21075802e-01,\n       2.19627484e-01, 5.30578411e-01, 3.38867348e-01, 2.25862170e-01,\n       1.45518718e-02, 2.16847580e-01, 3.14103491e-02, 9.43416076e-02,\n       1.50591160e-02, 4.05966830e-01, 1.35946717e-01, 8.66698667e-01,\n       8.13583182e-02, 3.53552200e-01, 3.00114342e-01, 3.21855798e-01,\n       2.54679035e-01, 1.45921031e-01, 1.31369943e-01, 7.71484761e-01,\n       2.08700179e-02, 3.07808293e-01, 5.25431982e-01, 2.42639560e-02,\n       1.05613577e-01, 1.60395927e-01, 1.29827169e-03, 2.29826082e-01,\n       1.50474300e-01, 9.50209167e-01, 2.42639560e-02, 8.55243080e-01,\n       4.18506558e-02])"
     },
     "execution_count": 21,
     "metadata": {},
     "output_type": "execute_result"
    }
   ],
   "source": [
    "y_hat = best_pipeline.predict_proba(x_test)[:,1]\n",
    "y_hat"
   ],
   "metadata": {
    "collapsed": false,
    "pycharm": {
     "name": "#%%\n"
    }
   }
  },
  {
   "cell_type": "code",
   "execution_count": 22,
   "outputs": [
    {
     "data": {
      "text/plain": "0.41224883226657494"
     },
     "execution_count": 22,
     "metadata": {},
     "output_type": "execute_result"
    }
   ],
   "source": [
    "log_loss(y_test, y_hat)"
   ],
   "metadata": {
    "collapsed": false,
    "pycharm": {
     "name": "#%%\n"
    }
   }
  },
  {
   "cell_type": "code",
   "execution_count": 23,
   "outputs": [
    {
     "data": {
      "text/plain": "0.8588235294117647"
     },
     "execution_count": 23,
     "metadata": {},
     "output_type": "execute_result"
    }
   ],
   "source": [
    "# Compare on test set\n",
    "best_pipeline.score(x_test, y_test)"
   ],
   "metadata": {
    "collapsed": false,
    "pycharm": {
     "name": "#%%\n"
    }
   }
  },
  {
   "cell_type": "code",
   "execution_count": 24,
   "outputs": [],
   "source": [
    "# Sample tweets to see how model does\n",
    "tweets = ['The Coyotes are my favorite team', 'I like wolfs', 'The coyote attacked my dog']"
   ],
   "metadata": {
    "collapsed": false,
    "pycharm": {
     "name": "#%%\n"
    }
   }
  },
  {
   "cell_type": "code",
   "execution_count": 25,
   "outputs": [
    {
     "data": {
      "text/plain": "array([0., 0., 1.])"
     },
     "execution_count": 25,
     "metadata": {},
     "output_type": "execute_result"
    }
   ],
   "source": [
    "best_pipeline.predict(tweets)"
   ],
   "metadata": {
    "collapsed": false,
    "pycharm": {
     "name": "#%%\n"
    }
   }
  },
  {
   "cell_type": "markdown",
   "source": [
    "# Save model"
   ],
   "metadata": {
    "collapsed": false,
    "pycharm": {
     "name": "#%% md\n"
    }
   }
  },
  {
   "cell_type": "code",
   "execution_count": 26,
   "outputs": [],
   "source": [
    "import joblib"
   ],
   "metadata": {
    "collapsed": false,
    "pycharm": {
     "name": "#%%\n"
    }
   }
  },
  {
   "cell_type": "code",
   "execution_count": 27,
   "outputs": [],
   "source": [
    "with open('bayes_pipeline.pkl', 'wb') as f:\n",
    "    joblib.dump(best_pipeline, f)"
   ],
   "metadata": {
    "collapsed": false,
    "pycharm": {
     "name": "#%%\n"
    }
   }
  },
  {
   "cell_type": "markdown",
   "source": [
    "---------------"
   ],
   "metadata": {
    "collapsed": false,
    "pycharm": {
     "name": "#%% md\n"
    }
   }
  },
  {
   "cell_type": "markdown",
   "source": [
    "{'bayes__alpha': 1,\n",
    " 'wordcount__decode_error': 'ignore',\n",
    " 'wordcount__input': 'content',\n",
    " 'wordcount__lowercase': True,\n",
    " 'wordcount__min_df': 2,\n",
    " 'wordcount__stop_words': 'english',\n",
    " 'wordcount__strip_accents': 'ascii',\n",
    " 'wordcount__tokenizer': <function text_normalizer.normalize_tweet(tweet)>}"
   ],
   "metadata": {
    "collapsed": false,
    "pycharm": {
     "name": "#%% md\n"
    }
   }
  }
 ],
 "metadata": {
  "kernelspec": {
   "display_name": "Python 3",
   "language": "python",
   "name": "python3"
  },
  "language_info": {
   "codemirror_mode": {
    "name": "ipython",
    "version": 2
   },
   "file_extension": ".py",
   "mimetype": "text/x-python",
   "name": "python",
   "nbconvert_exporter": "python",
   "pygments_lexer": "ipython2",
   "version": "2.7.6"
  }
 },
 "nbformat": 4,
 "nbformat_minor": 0
}