{
 "cells": [
  {
   "cell_type": "code",
   "execution_count": 1,
   "metadata": {
    "collapsed": true
   },
   "outputs": [],
   "source": [
    "import pandas as pd\n",
    "import numpy as np\n",
    "import matplotlib.pyplot as plt"
   ]
  },
  {
   "cell_type": "code",
   "execution_count": 2,
   "outputs": [],
   "source": [
    "df = pd.read_parquet('../data/coyote_tweets.gzip')"
   ],
   "metadata": {
    "collapsed": false,
    "pycharm": {
     "name": "#%%\n"
    }
   }
  },
  {
   "cell_type": "code",
   "execution_count": 3,
   "outputs": [
    {
     "name": "stdout",
     "output_type": "stream",
     "text": [
      "<class 'pandas.core.frame.DataFrame'>\n",
      "RangeIndex: 48424 entries, 0 to 48423\n",
      "Data columns (total 11 columns):\n",
      " #   Column      Non-Null Count  Dtype         \n",
      "---  ------      --------------  -----         \n",
      " 0   grid_id     48424 non-null  int64         \n",
      " 1   tweet_id    45354 non-null  object        \n",
      " 2   created_at  45354 non-null  datetime64[ns]\n",
      " 3   text        45354 non-null  object        \n",
      " 4   author_id   45354 non-null  object        \n",
      " 5   place_id    42353 non-null  object        \n",
      " 6   lat         24435 non-null  float64       \n",
      " 7   long        24435 non-null  float64       \n",
      " 8   full_name   42348 non-null  object        \n",
      " 9   name        42348 non-null  object        \n",
      " 10  place_type  42348 non-null  object        \n",
      "dtypes: datetime64[ns](1), float64(2), int64(1), object(7)\n",
      "memory usage: 4.1+ MB\n"
     ]
    }
   ],
   "source": [
    "df.info()"
   ],
   "metadata": {
    "collapsed": false,
    "pycharm": {
     "name": "#%%\n"
    }
   }
  },
  {
   "cell_type": "code",
   "execution_count": 8,
   "outputs": [
    {
     "data": {
      "text/plain": "(4062, 4090)"
     },
     "execution_count": 8,
     "metadata": {},
     "output_type": "execute_result"
    }
   ],
   "source": [
    "unique_grids = df['grid_id'].unique()\n",
    "max_grid = df['grid_id'].max()\n",
    "len(unique_grids), max_grid"
   ],
   "metadata": {
    "collapsed": false,
    "pycharm": {
     "name": "#%%\n"
    }
   }
  },
  {
   "cell_type": "markdown",
   "source": [
    "Length of unique grids and max grid value are not the same. I'm missing some grids."
   ],
   "metadata": {
    "collapsed": false,
    "pycharm": {
     "name": "#%% md\n"
    }
   }
  },
  {
   "cell_type": "code",
   "execution_count": 9,
   "outputs": [],
   "source": [
    "unique_grids = set(unique_grids)\n",
    "all_grids = set(np.arange(1, max_grid + 1))"
   ],
   "metadata": {
    "collapsed": false,
    "pycharm": {
     "name": "#%%\n"
    }
   }
  },
  {
   "cell_type": "code",
   "execution_count": 17,
   "outputs": [
    {
     "name": "stdout",
     "output_type": "stream",
     "text": [
      "{3204, 3205, 3206, 3207, 3208, 3209, 3210, 3211, 3212, 3480, 3481, 3482, 3483, 3484, 3375, 3381, 3260, 3261, 3263, 3267, 3431, 3434, 3435, 3691, 1774, 3316, 3317, 3318}\n"
     ]
    }
   ],
   "source": [
    "missing_grids = all_grids.difference(unique_grids)\n",
    "print(missing_grids)"
   ],
   "metadata": {
    "collapsed": false,
    "pycharm": {
     "name": "#%%\n"
    }
   }
  },
  {
   "cell_type": "markdown",
   "source": [
    "I'll need to query the grids above."
   ],
   "metadata": {
    "collapsed": false,
    "pycharm": {
     "name": "#%% md\n"
    }
   }
  },
  {
   "cell_type": "code",
   "execution_count": 20,
   "outputs": [
    {
     "data": {
      "text/plain": "   grid_id tweet_id created_at  text author_id place_id  lat  long full_name  \\\n0        1     None        NaT  None      None     None  NaN   NaN      None   \n1        2     None        NaT  None      None     None  NaN   NaN      None   \n2        3     None        NaT  None      None     None  NaN   NaN      None   \n3        4     None        NaT  None      None     None  NaN   NaN      None   \n4        5     None        NaT  None      None     None  NaN   NaN      None   \n5        6     None        NaT  None      None     None  NaN   NaN      None   \n6        7     None        NaT  None      None     None  NaN   NaN      None   \n7        8     None        NaT  None      None     None  NaN   NaN      None   \n8        9     None        NaT  None      None     None  NaN   NaN      None   \n9       10     None        NaT  None      None     None  NaN   NaN      None   \n\n   name place_type  \n0  None       None  \n1  None       None  \n2  None       None  \n3  None       None  \n4  None       None  \n5  None       None  \n6  None       None  \n7  None       None  \n8  None       None  \n9  None       None  ",
      "text/html": "<div>\n<style scoped>\n    .dataframe tbody tr th:only-of-type {\n        vertical-align: middle;\n    }\n\n    .dataframe tbody tr th {\n        vertical-align: top;\n    }\n\n    .dataframe thead th {\n        text-align: right;\n    }\n</style>\n<table border=\"1\" class=\"dataframe\">\n  <thead>\n    <tr style=\"text-align: right;\">\n      <th></th>\n      <th>grid_id</th>\n      <th>tweet_id</th>\n      <th>created_at</th>\n      <th>text</th>\n      <th>author_id</th>\n      <th>place_id</th>\n      <th>lat</th>\n      <th>long</th>\n      <th>full_name</th>\n      <th>name</th>\n      <th>place_type</th>\n    </tr>\n  </thead>\n  <tbody>\n    <tr>\n      <th>0</th>\n      <td>1</td>\n      <td>None</td>\n      <td>NaT</td>\n      <td>None</td>\n      <td>None</td>\n      <td>None</td>\n      <td>NaN</td>\n      <td>NaN</td>\n      <td>None</td>\n      <td>None</td>\n      <td>None</td>\n    </tr>\n    <tr>\n      <th>1</th>\n      <td>2</td>\n      <td>None</td>\n      <td>NaT</td>\n      <td>None</td>\n      <td>None</td>\n      <td>None</td>\n      <td>NaN</td>\n      <td>NaN</td>\n      <td>None</td>\n      <td>None</td>\n      <td>None</td>\n    </tr>\n    <tr>\n      <th>2</th>\n      <td>3</td>\n      <td>None</td>\n      <td>NaT</td>\n      <td>None</td>\n      <td>None</td>\n      <td>None</td>\n      <td>NaN</td>\n      <td>NaN</td>\n      <td>None</td>\n      <td>None</td>\n      <td>None</td>\n    </tr>\n    <tr>\n      <th>3</th>\n      <td>4</td>\n      <td>None</td>\n      <td>NaT</td>\n      <td>None</td>\n      <td>None</td>\n      <td>None</td>\n      <td>NaN</td>\n      <td>NaN</td>\n      <td>None</td>\n      <td>None</td>\n      <td>None</td>\n    </tr>\n    <tr>\n      <th>4</th>\n      <td>5</td>\n      <td>None</td>\n      <td>NaT</td>\n      <td>None</td>\n      <td>None</td>\n      <td>None</td>\n      <td>NaN</td>\n      <td>NaN</td>\n      <td>None</td>\n      <td>None</td>\n      <td>None</td>\n    </tr>\n    <tr>\n      <th>5</th>\n      <td>6</td>\n      <td>None</td>\n      <td>NaT</td>\n      <td>None</td>\n      <td>None</td>\n      <td>None</td>\n      <td>NaN</td>\n      <td>NaN</td>\n      <td>None</td>\n      <td>None</td>\n      <td>None</td>\n    </tr>\n    <tr>\n      <th>6</th>\n      <td>7</td>\n      <td>None</td>\n      <td>NaT</td>\n      <td>None</td>\n      <td>None</td>\n      <td>None</td>\n      <td>NaN</td>\n      <td>NaN</td>\n      <td>None</td>\n      <td>None</td>\n      <td>None</td>\n    </tr>\n    <tr>\n      <th>7</th>\n      <td>8</td>\n      <td>None</td>\n      <td>NaT</td>\n      <td>None</td>\n      <td>None</td>\n      <td>None</td>\n      <td>NaN</td>\n      <td>NaN</td>\n      <td>None</td>\n      <td>None</td>\n      <td>None</td>\n    </tr>\n    <tr>\n      <th>8</th>\n      <td>9</td>\n      <td>None</td>\n      <td>NaT</td>\n      <td>None</td>\n      <td>None</td>\n      <td>None</td>\n      <td>NaN</td>\n      <td>NaN</td>\n      <td>None</td>\n      <td>None</td>\n      <td>None</td>\n    </tr>\n    <tr>\n      <th>9</th>\n      <td>10</td>\n      <td>None</td>\n      <td>NaT</td>\n      <td>None</td>\n      <td>None</td>\n      <td>None</td>\n      <td>NaN</td>\n      <td>NaN</td>\n      <td>None</td>\n      <td>None</td>\n      <td>None</td>\n    </tr>\n  </tbody>\n</table>\n</div>"
     },
     "execution_count": 20,
     "metadata": {},
     "output_type": "execute_result"
    }
   ],
   "source": [
    "df.head(10)"
   ],
   "metadata": {
    "collapsed": false,
    "pycharm": {
     "name": "#%%\n"
    }
   }
  },
  {
   "cell_type": "code",
   "execution_count": 28,
   "outputs": [
    {
     "data": {
      "text/plain": "grid_id           0\ntweet_id       3070\ncreated_at     3070\ntext           3070\nauthor_id      3070\nplace_id       6071\nlat           23989\nlong          23989\nfull_name      6076\nname           6076\nplace_type     6076\ndtype: int64"
     },
     "execution_count": 28,
     "metadata": {},
     "output_type": "execute_result"
    }
   ],
   "source": [
    "df.isnull().sum()"
   ],
   "metadata": {
    "collapsed": false,
    "pycharm": {
     "name": "#%%\n"
    }
   }
  },
  {
   "cell_type": "code",
   "execution_count": 34,
   "outputs": [
    {
     "name": "stdout",
     "output_type": "stream",
     "text": [
      "There are 3070 null observations\n"
     ]
    }
   ],
   "source": [
    "df_notnull = df[df['tweet_id'].notnull()]\n",
    "print(f'There are {df.shape[0] - df_notnull.shape[0]} null observations')"
   ],
   "metadata": {
    "collapsed": false,
    "pycharm": {
     "name": "#%%\n"
    }
   }
  },
  {
   "cell_type": "code",
   "execution_count": 36,
   "outputs": [
    {
     "name": "stdout",
     "output_type": "stream",
     "text": [
      "0.9366% of all observations are not null\n"
     ]
    }
   ],
   "source": [
    "print(f'{df_notnull.shape[0] / df.shape[0]:.4}% of all observations are not null')"
   ],
   "metadata": {
    "collapsed": false,
    "pycharm": {
     "name": "#%%\n"
    }
   }
  },
  {
   "cell_type": "code",
   "execution_count": 37,
   "outputs": [
    {
     "name": "stdout",
     "output_type": "stream",
     "text": [
      "45354 out of 48424 are not null\n"
     ]
    }
   ],
   "source": [
    "print(f'{df_notnull.shape[0]} out of {df.shape[0]} are not null')"
   ],
   "metadata": {
    "collapsed": false,
    "pycharm": {
     "name": "#%%\n"
    }
   }
  },
  {
   "cell_type": "markdown",
   "source": [
    "### Join county to each grid"
   ],
   "metadata": {
    "collapsed": false,
    "pycharm": {
     "name": "#%% md\n"
    }
   }
  },
  {
   "cell_type": "code",
   "execution_count": 40,
   "outputs": [
    {
     "data": {
      "text/plain": "   id     county\n1   1  DEL NORTE\n2   2  DEL NORTE\n3   3  DEL NORTE\n4   4  DEL NORTE\n5   5  DEL NORTE",
      "text/html": "<div>\n<style scoped>\n    .dataframe tbody tr th:only-of-type {\n        vertical-align: middle;\n    }\n\n    .dataframe tbody tr th {\n        vertical-align: top;\n    }\n\n    .dataframe thead th {\n        text-align: right;\n    }\n</style>\n<table border=\"1\" class=\"dataframe\">\n  <thead>\n    <tr style=\"text-align: right;\">\n      <th></th>\n      <th>id</th>\n      <th>county</th>\n    </tr>\n  </thead>\n  <tbody>\n    <tr>\n      <th>1</th>\n      <td>1</td>\n      <td>DEL NORTE</td>\n    </tr>\n    <tr>\n      <th>2</th>\n      <td>2</td>\n      <td>DEL NORTE</td>\n    </tr>\n    <tr>\n      <th>3</th>\n      <td>3</td>\n      <td>DEL NORTE</td>\n    </tr>\n    <tr>\n      <th>4</th>\n      <td>4</td>\n      <td>DEL NORTE</td>\n    </tr>\n    <tr>\n      <th>5</th>\n      <td>5</td>\n      <td>DEL NORTE</td>\n    </tr>\n  </tbody>\n</table>\n</div>"
     },
     "execution_count": 40,
     "metadata": {},
     "output_type": "execute_result"
    }
   ],
   "source": [
    "county_df = pd.read_csv('../geo_grid/R_code_from_Brett/grid_out.csv', index_col=[0])\n",
    "county_df = county_df[['id', 'county']]\n",
    "county_df.head()"
   ],
   "metadata": {
    "collapsed": false,
    "pycharm": {
     "name": "#%%\n"
    }
   }
  },
  {
   "cell_type": "code",
   "execution_count": 42,
   "outputs": [],
   "source": [
    "df = df.merge(county_df, how='left', left_on='grid_id', right_on='id')"
   ],
   "metadata": {
    "collapsed": false,
    "pycharm": {
     "name": "#%%\n"
    }
   }
  },
  {
   "cell_type": "code",
   "execution_count": 43,
   "outputs": [
    {
     "data": {
      "text/plain": "       grid_id             tweet_id          created_at  \\\n22677     3518   513157678542389248 2014-09-20 02:48:19   \n3301      1287   158984381715853312 2012-01-16 18:50:05   \n18769     1981   655567488286109697 2015-10-18 02:14:03   \n37586     3695   455567897763381248 2014-04-14 04:47:05   \n8485      1597   561590880134365184 2015-01-31 18:24:34   \n48319     4084  1075648071873130501 2018-12-20 07:04:19   \n24108     3572  1101162979700031488 2019-02-28 16:51:27   \n24058     3572  1272781487016837120 2020-06-16 06:42:08   \n37520     3695   439936817841074177 2014-03-02 01:34:45   \n5527      1555  1358242225516253186 2021-02-07 02:32:36   \n\n                                                    text   author_id  \\\n22677  Free Kings tickets for Mondays preseason game ...   727809144   \n3301   El Coyote Junction Coupon in Sacramento, CA ht...   151980747   \n18769  We rare 💎 @ Coyote Stadium https://t.co/SvpZYb...   431376363   \n37586                       Theres a coyote on cypress 😖   419071611   \n8485   Captured this pack of coyotes singing this AM ...  2809868412   \n48319  If the coyotes in my neighborhood could stop s...  1567876452   \n24108  @Explorationproj I was surprised one day hikin...   629581583   \n24058  Coyotes run the streets of Burbank now. This i...   247197623   \n37520  First I was like... #evbertwedding030114 @ Coy...    15203209   \n5527   My beautiful little coyote friend just now at ...    10167932   \n\n               place_id         lat       long        full_name         name  \\\n22677  a3c0ae863771d69e -119.187211  34.237934       Oxnard, CA       Oxnard   \n3301   fbd6d2f5a4e4a15e -121.492000  38.583100  California, USA   California   \n18769  d9d3e9c476e0c0dc -120.066313  36.951853       Madera, CA       Madera   \n37586  7a615ec218d177f6 -117.943378  33.923227     La Habra, CA     La Habra   \n8485   4ccb1b26b2b91248 -121.972168  37.775706    San Ramon, CA    San Ramon   \n48319  28ace6b8d6dbc3af         NaN        NaN  Chula Vista, CA  Chula Vista   \n24108  b0b79caecef59fb5         NaN        NaN      Burbank, CA      Burbank   \n24058  b0b79caecef59fb5         NaN        NaN      Burbank, CA      Burbank   \n37520  2feb76248fd9c581 -117.904964  33.898988    Fullerton, CA    Fullerton   \n5527   c7b003d493c9e5ee         NaN        NaN    Sausalito, CA    Sausalito   \n\n      place_type    id         county  \n22677       city  3518        VENTURA  \n3301       admin  1287           YOLO  \n18769       city  1981         MADERA  \n37586       city  3695         ORANGE  \n8485        city  1597   CONTRA COSTA  \n48319       city  4084      SAN DIEGO  \n24108       city  3572    LOS ANGELES  \n24058       city  3572    LOS ANGELES  \n37520       city  3695         ORANGE  \n5527        city  1555  SAN FRANCISCO  ",
      "text/html": "<div>\n<style scoped>\n    .dataframe tbody tr th:only-of-type {\n        vertical-align: middle;\n    }\n\n    .dataframe tbody tr th {\n        vertical-align: top;\n    }\n\n    .dataframe thead th {\n        text-align: right;\n    }\n</style>\n<table border=\"1\" class=\"dataframe\">\n  <thead>\n    <tr style=\"text-align: right;\">\n      <th></th>\n      <th>grid_id</th>\n      <th>tweet_id</th>\n      <th>created_at</th>\n      <th>text</th>\n      <th>author_id</th>\n      <th>place_id</th>\n      <th>lat</th>\n      <th>long</th>\n      <th>full_name</th>\n      <th>name</th>\n      <th>place_type</th>\n      <th>id</th>\n      <th>county</th>\n    </tr>\n  </thead>\n  <tbody>\n    <tr>\n      <th>22677</th>\n      <td>3518</td>\n      <td>513157678542389248</td>\n      <td>2014-09-20 02:48:19</td>\n      <td>Free Kings tickets for Mondays preseason game ...</td>\n      <td>727809144</td>\n      <td>a3c0ae863771d69e</td>\n      <td>-119.187211</td>\n      <td>34.237934</td>\n      <td>Oxnard, CA</td>\n      <td>Oxnard</td>\n      <td>city</td>\n      <td>3518</td>\n      <td>VENTURA</td>\n    </tr>\n    <tr>\n      <th>3301</th>\n      <td>1287</td>\n      <td>158984381715853312</td>\n      <td>2012-01-16 18:50:05</td>\n      <td>El Coyote Junction Coupon in Sacramento, CA ht...</td>\n      <td>151980747</td>\n      <td>fbd6d2f5a4e4a15e</td>\n      <td>-121.492000</td>\n      <td>38.583100</td>\n      <td>California, USA</td>\n      <td>California</td>\n      <td>admin</td>\n      <td>1287</td>\n      <td>YOLO</td>\n    </tr>\n    <tr>\n      <th>18769</th>\n      <td>1981</td>\n      <td>655567488286109697</td>\n      <td>2015-10-18 02:14:03</td>\n      <td>We rare 💎 @ Coyote Stadium https://t.co/SvpZYb...</td>\n      <td>431376363</td>\n      <td>d9d3e9c476e0c0dc</td>\n      <td>-120.066313</td>\n      <td>36.951853</td>\n      <td>Madera, CA</td>\n      <td>Madera</td>\n      <td>city</td>\n      <td>1981</td>\n      <td>MADERA</td>\n    </tr>\n    <tr>\n      <th>37586</th>\n      <td>3695</td>\n      <td>455567897763381248</td>\n      <td>2014-04-14 04:47:05</td>\n      <td>Theres a coyote on cypress 😖</td>\n      <td>419071611</td>\n      <td>7a615ec218d177f6</td>\n      <td>-117.943378</td>\n      <td>33.923227</td>\n      <td>La Habra, CA</td>\n      <td>La Habra</td>\n      <td>city</td>\n      <td>3695</td>\n      <td>ORANGE</td>\n    </tr>\n    <tr>\n      <th>8485</th>\n      <td>1597</td>\n      <td>561590880134365184</td>\n      <td>2015-01-31 18:24:34</td>\n      <td>Captured this pack of coyotes singing this AM ...</td>\n      <td>2809868412</td>\n      <td>4ccb1b26b2b91248</td>\n      <td>-121.972168</td>\n      <td>37.775706</td>\n      <td>San Ramon, CA</td>\n      <td>San Ramon</td>\n      <td>city</td>\n      <td>1597</td>\n      <td>CONTRA COSTA</td>\n    </tr>\n    <tr>\n      <th>48319</th>\n      <td>4084</td>\n      <td>1075648071873130501</td>\n      <td>2018-12-20 07:04:19</td>\n      <td>If the coyotes in my neighborhood could stop s...</td>\n      <td>1567876452</td>\n      <td>28ace6b8d6dbc3af</td>\n      <td>NaN</td>\n      <td>NaN</td>\n      <td>Chula Vista, CA</td>\n      <td>Chula Vista</td>\n      <td>city</td>\n      <td>4084</td>\n      <td>SAN DIEGO</td>\n    </tr>\n    <tr>\n      <th>24108</th>\n      <td>3572</td>\n      <td>1101162979700031488</td>\n      <td>2019-02-28 16:51:27</td>\n      <td>@Explorationproj I was surprised one day hikin...</td>\n      <td>629581583</td>\n      <td>b0b79caecef59fb5</td>\n      <td>NaN</td>\n      <td>NaN</td>\n      <td>Burbank, CA</td>\n      <td>Burbank</td>\n      <td>city</td>\n      <td>3572</td>\n      <td>LOS ANGELES</td>\n    </tr>\n    <tr>\n      <th>24058</th>\n      <td>3572</td>\n      <td>1272781487016837120</td>\n      <td>2020-06-16 06:42:08</td>\n      <td>Coyotes run the streets of Burbank now. This i...</td>\n      <td>247197623</td>\n      <td>b0b79caecef59fb5</td>\n      <td>NaN</td>\n      <td>NaN</td>\n      <td>Burbank, CA</td>\n      <td>Burbank</td>\n      <td>city</td>\n      <td>3572</td>\n      <td>LOS ANGELES</td>\n    </tr>\n    <tr>\n      <th>37520</th>\n      <td>3695</td>\n      <td>439936817841074177</td>\n      <td>2014-03-02 01:34:45</td>\n      <td>First I was like... #evbertwedding030114 @ Coy...</td>\n      <td>15203209</td>\n      <td>2feb76248fd9c581</td>\n      <td>-117.904964</td>\n      <td>33.898988</td>\n      <td>Fullerton, CA</td>\n      <td>Fullerton</td>\n      <td>city</td>\n      <td>3695</td>\n      <td>ORANGE</td>\n    </tr>\n    <tr>\n      <th>5527</th>\n      <td>1555</td>\n      <td>1358242225516253186</td>\n      <td>2021-02-07 02:32:36</td>\n      <td>My beautiful little coyote friend just now at ...</td>\n      <td>10167932</td>\n      <td>c7b003d493c9e5ee</td>\n      <td>NaN</td>\n      <td>NaN</td>\n      <td>Sausalito, CA</td>\n      <td>Sausalito</td>\n      <td>city</td>\n      <td>1555</td>\n      <td>SAN FRANCISCO</td>\n    </tr>\n  </tbody>\n</table>\n</div>"
     },
     "execution_count": 43,
     "metadata": {},
     "output_type": "execute_result"
    }
   ],
   "source": [
    "df_notnull = df[df['tweet_id'].notnull()]\n",
    "df_notnull.sample(10)"
   ],
   "metadata": {
    "collapsed": false,
    "pycharm": {
     "name": "#%%\n"
    }
   }
  },
  {
   "cell_type": "code",
   "execution_count": 51,
   "outputs": [
    {
     "data": {
      "text/plain": "             county   text\n0       LOS ANGELES  11076\n1    SAN BERNARDINO   4530\n2         SAN DIEGO   4429\n3       SANTA CLARA   4103\n4            ORANGE   4052\n5     SAN FRANCISCO   2594\n6         SAN MATEO   2515\n7            MADERA   2021\n8         RIVERSIDE   1618\n9      CONTRA COSTA   1017\n10             YOLO    952\n11       SACRAMENTO    946\n12          VENTURA    774\n13          ALAMEDA    652\n14           PLACER    422\n15           FRESNO    359\n16       SANTA CRUZ    272\n17      SAN JOAQUIN    226\n18             KERN    224\n19            MARIN    217\n20         MONTEREY    201\n21           SONOMA    199\n22        EL DORADO    189\n23       STANISLAUS    183\n24    SANTA BARBARA    176\n25           SOLANO    174\n26  SAN LUIS OBISPO    158\n27         MARIPOSA    119\n28            BUTTE    109\n29           TULARE    104\n30           MERCED     94\n31             INYO     87\n32            KINGS     76\n33         IMPERIAL     72\n34        MENDOCINO     48\n35             NAPA     43\n36             MONO     41\n37           SHASTA     39\n38             YUBA     36\n39           TEHAMA     32\n40       SAN BENITO     30\n41         TUOLUMNE     25\n42         HUMBOLDT     18\n43           PLUMAS     17\n44         SISKIYOU     17\n45        CALAVERAS     14\n46           NEVADA     13\n47             LAKE     12\n48           SUTTER     10\n49           COLUSA      5\n50           LASSEN      4\n51            GLENN      4\n52           AMADOR      3\n53            MODOC      2\n54          TRINITY      1",
      "text/html": "<div>\n<style scoped>\n    .dataframe tbody tr th:only-of-type {\n        vertical-align: middle;\n    }\n\n    .dataframe tbody tr th {\n        vertical-align: top;\n    }\n\n    .dataframe thead th {\n        text-align: right;\n    }\n</style>\n<table border=\"1\" class=\"dataframe\">\n  <thead>\n    <tr style=\"text-align: right;\">\n      <th></th>\n      <th>county</th>\n      <th>text</th>\n    </tr>\n  </thead>\n  <tbody>\n    <tr>\n      <th>0</th>\n      <td>LOS ANGELES</td>\n      <td>11076</td>\n    </tr>\n    <tr>\n      <th>1</th>\n      <td>SAN BERNARDINO</td>\n      <td>4530</td>\n    </tr>\n    <tr>\n      <th>2</th>\n      <td>SAN DIEGO</td>\n      <td>4429</td>\n    </tr>\n    <tr>\n      <th>3</th>\n      <td>SANTA CLARA</td>\n      <td>4103</td>\n    </tr>\n    <tr>\n      <th>4</th>\n      <td>ORANGE</td>\n      <td>4052</td>\n    </tr>\n    <tr>\n      <th>5</th>\n      <td>SAN FRANCISCO</td>\n      <td>2594</td>\n    </tr>\n    <tr>\n      <th>6</th>\n      <td>SAN MATEO</td>\n      <td>2515</td>\n    </tr>\n    <tr>\n      <th>7</th>\n      <td>MADERA</td>\n      <td>2021</td>\n    </tr>\n    <tr>\n      <th>8</th>\n      <td>RIVERSIDE</td>\n      <td>1618</td>\n    </tr>\n    <tr>\n      <th>9</th>\n      <td>CONTRA COSTA</td>\n      <td>1017</td>\n    </tr>\n    <tr>\n      <th>10</th>\n      <td>YOLO</td>\n      <td>952</td>\n    </tr>\n    <tr>\n      <th>11</th>\n      <td>SACRAMENTO</td>\n      <td>946</td>\n    </tr>\n    <tr>\n      <th>12</th>\n      <td>VENTURA</td>\n      <td>774</td>\n    </tr>\n    <tr>\n      <th>13</th>\n      <td>ALAMEDA</td>\n      <td>652</td>\n    </tr>\n    <tr>\n      <th>14</th>\n      <td>PLACER</td>\n      <td>422</td>\n    </tr>\n    <tr>\n      <th>15</th>\n      <td>FRESNO</td>\n      <td>359</td>\n    </tr>\n    <tr>\n      <th>16</th>\n      <td>SANTA CRUZ</td>\n      <td>272</td>\n    </tr>\n    <tr>\n      <th>17</th>\n      <td>SAN JOAQUIN</td>\n      <td>226</td>\n    </tr>\n    <tr>\n      <th>18</th>\n      <td>KERN</td>\n      <td>224</td>\n    </tr>\n    <tr>\n      <th>19</th>\n      <td>MARIN</td>\n      <td>217</td>\n    </tr>\n    <tr>\n      <th>20</th>\n      <td>MONTEREY</td>\n      <td>201</td>\n    </tr>\n    <tr>\n      <th>21</th>\n      <td>SONOMA</td>\n      <td>199</td>\n    </tr>\n    <tr>\n      <th>22</th>\n      <td>EL DORADO</td>\n      <td>189</td>\n    </tr>\n    <tr>\n      <th>23</th>\n      <td>STANISLAUS</td>\n      <td>183</td>\n    </tr>\n    <tr>\n      <th>24</th>\n      <td>SANTA BARBARA</td>\n      <td>176</td>\n    </tr>\n    <tr>\n      <th>25</th>\n      <td>SOLANO</td>\n      <td>174</td>\n    </tr>\n    <tr>\n      <th>26</th>\n      <td>SAN LUIS OBISPO</td>\n      <td>158</td>\n    </tr>\n    <tr>\n      <th>27</th>\n      <td>MARIPOSA</td>\n      <td>119</td>\n    </tr>\n    <tr>\n      <th>28</th>\n      <td>BUTTE</td>\n      <td>109</td>\n    </tr>\n    <tr>\n      <th>29</th>\n      <td>TULARE</td>\n      <td>104</td>\n    </tr>\n    <tr>\n      <th>30</th>\n      <td>MERCED</td>\n      <td>94</td>\n    </tr>\n    <tr>\n      <th>31</th>\n      <td>INYO</td>\n      <td>87</td>\n    </tr>\n    <tr>\n      <th>32</th>\n      <td>KINGS</td>\n      <td>76</td>\n    </tr>\n    <tr>\n      <th>33</th>\n      <td>IMPERIAL</td>\n      <td>72</td>\n    </tr>\n    <tr>\n      <th>34</th>\n      <td>MENDOCINO</td>\n      <td>48</td>\n    </tr>\n    <tr>\n      <th>35</th>\n      <td>NAPA</td>\n      <td>43</td>\n    </tr>\n    <tr>\n      <th>36</th>\n      <td>MONO</td>\n      <td>41</td>\n    </tr>\n    <tr>\n      <th>37</th>\n      <td>SHASTA</td>\n      <td>39</td>\n    </tr>\n    <tr>\n      <th>38</th>\n      <td>YUBA</td>\n      <td>36</td>\n    </tr>\n    <tr>\n      <th>39</th>\n      <td>TEHAMA</td>\n      <td>32</td>\n    </tr>\n    <tr>\n      <th>40</th>\n      <td>SAN BENITO</td>\n      <td>30</td>\n    </tr>\n    <tr>\n      <th>41</th>\n      <td>TUOLUMNE</td>\n      <td>25</td>\n    </tr>\n    <tr>\n      <th>42</th>\n      <td>HUMBOLDT</td>\n      <td>18</td>\n    </tr>\n    <tr>\n      <th>43</th>\n      <td>PLUMAS</td>\n      <td>17</td>\n    </tr>\n    <tr>\n      <th>44</th>\n      <td>SISKIYOU</td>\n      <td>17</td>\n    </tr>\n    <tr>\n      <th>45</th>\n      <td>CALAVERAS</td>\n      <td>14</td>\n    </tr>\n    <tr>\n      <th>46</th>\n      <td>NEVADA</td>\n      <td>13</td>\n    </tr>\n    <tr>\n      <th>47</th>\n      <td>LAKE</td>\n      <td>12</td>\n    </tr>\n    <tr>\n      <th>48</th>\n      <td>SUTTER</td>\n      <td>10</td>\n    </tr>\n    <tr>\n      <th>49</th>\n      <td>COLUSA</td>\n      <td>5</td>\n    </tr>\n    <tr>\n      <th>50</th>\n      <td>LASSEN</td>\n      <td>4</td>\n    </tr>\n    <tr>\n      <th>51</th>\n      <td>GLENN</td>\n      <td>4</td>\n    </tr>\n    <tr>\n      <th>52</th>\n      <td>AMADOR</td>\n      <td>3</td>\n    </tr>\n    <tr>\n      <th>53</th>\n      <td>MODOC</td>\n      <td>2</td>\n    </tr>\n    <tr>\n      <th>54</th>\n      <td>TRINITY</td>\n      <td>1</td>\n    </tr>\n  </tbody>\n</table>\n</div>"
     },
     "execution_count": 51,
     "metadata": {},
     "output_type": "execute_result"
    }
   ],
   "source": [
    "tweet_ct_by_county = df_notnull.groupby('county')['text'].count().sort_values(ascending=False)\n",
    "data = tweet_ct_by_county.reset_index()\n",
    "data"
   ],
   "metadata": {
    "collapsed": false,
    "pycharm": {
     "name": "#%%\n"
    }
   }
  },
  {
   "cell_type": "code",
   "execution_count": 101,
   "outputs": [
    {
     "data": {
      "text/plain": "<Figure size 432x720 with 1 Axes>",
      "image/png": "[encoded data removed]"
     },
     "metadata": {
      "needs_background": "light"
     },
     "output_type": "display_data"
    }
   ],
   "source": [
    "fig, ax = plt.subplots(figsize=(6, 10))\n",
    "ax.barh(data['county'], data['text'], height=2/3)\n",
    "ax.set_xlabel('Number of Tweets Found', labelpad=10)\n",
    "ax.set_ylabel('County', labelpad=10)\n",
    "ax.set_title('Number of Tweets Found by County')\n",
    "plt.gca().invert_yaxis()\n",
    "plt.tick_params(axis='y', which='both', labelsize=9, width=1, length=5)\n",
    "plt.margins(y=0.01)\n",
    "plt.show()"
   ],
   "metadata": {
    "collapsed": false,
    "pycharm": {
     "name": "#%%\n"
    }
   }
  },
  {
   "cell_type": "code",
   "execution_count": 102,
   "outputs": [],
   "source": [
    "sample_1000 = df_notnull[['tweet_id', 'text']].sample(1000)"
   ],
   "metadata": {
    "collapsed": false,
    "pycharm": {
     "name": "#%%\n"
    }
   }
  },
  {
   "cell_type": "code",
   "execution_count": 104,
   "outputs": [
    {
     "data": {
      "text/plain": "                  tweet_id                                               text\n2654    762011911663783936  I'm at Dos Coyotes Border Cafe - @mydoscoyotes...\n8447    443182153472692224  Go Jay! Go Giants! Way to get me out! @ coyote...\n40683   530915506925350912  I'm at Honda Center for Arizona Coyotes vs Ana...\n43194   792457552080564224  Our faces. Hahahah. #casamigos #tequila #no #m...\n15501  1025567753585840128  Two dogs snatched, killed by coyote in Lake Os...",
      "text/html": "<div>\n<style scoped>\n    .dataframe tbody tr th:only-of-type {\n        vertical-align: middle;\n    }\n\n    .dataframe tbody tr th {\n        vertical-align: top;\n    }\n\n    .dataframe thead th {\n        text-align: right;\n    }\n</style>\n<table border=\"1\" class=\"dataframe\">\n  <thead>\n    <tr style=\"text-align: right;\">\n      <th></th>\n      <th>tweet_id</th>\n      <th>text</th>\n    </tr>\n  </thead>\n  <tbody>\n    <tr>\n      <th>2654</th>\n      <td>762011911663783936</td>\n      <td>I'm at Dos Coyotes Border Cafe - @mydoscoyotes...</td>\n    </tr>\n    <tr>\n      <th>8447</th>\n      <td>443182153472692224</td>\n      <td>Go Jay! Go Giants! Way to get me out! @ coyote...</td>\n    </tr>\n    <tr>\n      <th>40683</th>\n      <td>530915506925350912</td>\n      <td>I'm at Honda Center for Arizona Coyotes vs Ana...</td>\n    </tr>\n    <tr>\n      <th>43194</th>\n      <td>792457552080564224</td>\n      <td>Our faces. Hahahah. #casamigos #tequila #no #m...</td>\n    </tr>\n    <tr>\n      <th>15501</th>\n      <td>1025567753585840128</td>\n      <td>Two dogs snatched, killed by coyote in Lake Os...</td>\n    </tr>\n  </tbody>\n</table>\n</div>"
     },
     "execution_count": 104,
     "metadata": {},
     "output_type": "execute_result"
    }
   ],
   "source": [
    "sample_1000.sample(5)"
   ],
   "metadata": {
    "collapsed": false,
    "pycharm": {
     "name": "#%%\n"
    }
   }
  },
  {
   "cell_type": "code",
   "execution_count": 106,
   "outputs": [
    {
     "name": "stderr",
     "output_type": "stream",
     "text": [
      "/var/folders/50/cgfcx8d97_52qyt5jj7jf52w0000gn/T/ipykernel_67027/2736961272.py:1: FutureWarning: As the xlwt package is no longer maintained, the xlwt engine will be removed in a future version of pandas. This is the only engine in pandas that supports writing in the xls format. Install openpyxl and write to an xlsx file instead. You can set the option io.excel.xls.writer to 'xlwt' to silence this warning. While this option is deprecated and will also raise a warning, it can be globally set and the warning suppressed.\n",
      "  sample_1000.to_excel('../data/coyote_tweet_1000.xls', index=None)\n"
     ]
    }
   ],
   "source": [
    "sample_1000.to_excel('../data/coyote_tweet_1000.xls', index=None)"
   ],
   "metadata": {
    "collapsed": false,
    "pycharm": {
     "name": "#%%\n"
    }
   }
  },
  {
   "cell_type": "markdown",
   "source": [
    "### I queried the missing grids. Lets double check"
   ],
   "metadata": {
    "collapsed": false,
    "pycharm": {
     "name": "#%% md\n"
    }
   }
  },
  {
   "cell_type": "code",
   "execution_count": 107,
   "outputs": [],
   "source": [
    "df_new = pd.read_parquet('../data/coyote_tweets2.gzip')"
   ],
   "metadata": {
    "collapsed": false,
    "pycharm": {
     "name": "#%%\n"
    }
   }
  },
  {
   "cell_type": "code",
   "execution_count": 108,
   "outputs": [
    {
     "data": {
      "text/plain": "(4090, 4090)"
     },
     "execution_count": 108,
     "metadata": {},
     "output_type": "execute_result"
    }
   ],
   "source": [
    "unique_grids = df_new['grid_id'].unique()\n",
    "max_grid = df_new['grid_id'].max()\n",
    "len(unique_grids), max_grid"
   ],
   "metadata": {
    "collapsed": false,
    "pycharm": {
     "name": "#%%\n"
    }
   }
  },
  {
   "cell_type": "markdown",
   "source": [
    "Looks good"
   ],
   "metadata": {
    "collapsed": false,
    "pycharm": {
     "name": "#%% md\n"
    }
   }
  },
  {
   "cell_type": "code",
   "execution_count": 109,
   "outputs": [],
   "source": [
    "df_new = df_new.merge(county_df, how='left', left_on='grid_id', right_on='id')"
   ],
   "metadata": {
    "collapsed": false,
    "pycharm": {
     "name": "#%%\n"
    }
   }
  },
  {
   "cell_type": "code",
   "execution_count": 110,
   "outputs": [
    {
     "data": {
      "text/plain": "       grid_id             tweet_id          created_at  \\\n0            1                 None                 NaT   \n1            2                 None                 NaT   \n2            3                 None                 NaT   \n3            4                 None                 NaT   \n4            5                 None                 NaT   \n...        ...                  ...                 ...   \n48590     4087                 None                 NaT   \n48591     4088   699642589348306945 2016-02-16 17:12:46   \n48592     4088  1149699890500591616 2019-07-12 15:19:48   \n48593     4089   828666935525199874 2017-02-06 18:09:27   \n48594     4090                 None                 NaT   \n\n                                                    text  author_id  \\\n0                                                   None       None   \n1                                                   None       None   \n2                                                   None       None   \n3                                                   None       None   \n4                                                   None       None   \n...                                                  ...        ...   \n48590                                               None       None   \n48591  One of my favorite short #roadbike rides with ...  236074117   \n48592  Molly in her coyote vest decided she wanted to...  167237995   \n48593  DOP for Undead Express. The suns down and the ...   17798317   \n48594                                               None       None   \n\n               place_id         lat       long        full_name        name  \\\n0                  None         NaN        NaN             None        None   \n1                  None         NaN        NaN             None        None   \n2                  None         NaN        NaN             None        None   \n3                  None         NaN        NaN             None        None   \n4                  None         NaN        NaN             None        None   \n...                 ...         ...        ...              ...         ...   \n48590              None         NaN        NaN             None        None   \n48591  fbd6d2f5a4e4a15e -116.612000  32.604700  California, USA  California   \n48592  fbd6d2f5a4e4a15e -116.592854  32.612469  California, USA  California   \n48593  fbd6d2f5a4e4a15e -116.472193  32.613785  California, USA  California   \n48594              None         NaN        NaN             None        None   \n\n      place_type    id     county  \n0           None     1  DEL NORTE  \n1           None     2  DEL NORTE  \n2           None     3  DEL NORTE  \n3           None     4  DEL NORTE  \n4           None     5  DEL NORTE  \n...          ...   ...        ...  \n48590       None  4087  SAN DIEGO  \n48591      admin  4088  SAN DIEGO  \n48592      admin  4088  SAN DIEGO  \n48593      admin  4089  SAN DIEGO  \n48594       None  4090  SAN DIEGO  \n\n[48595 rows x 13 columns]",
      "text/html": "<div>\n<style scoped>\n    .dataframe tbody tr th:only-of-type {\n        vertical-align: middle;\n    }\n\n    .dataframe tbody tr th {\n        vertical-align: top;\n    }\n\n    .dataframe thead th {\n        text-align: right;\n    }\n</style>\n<table border=\"1\" class=\"dataframe\">\n  <thead>\n    <tr style=\"text-align: right;\">\n      <th></th>\n      <th>grid_id</th>\n      <th>tweet_id</th>\n      <th>created_at</th>\n      <th>text</th>\n      <th>author_id</th>\n      <th>place_id</th>\n      <th>lat</th>\n      <th>long</th>\n      <th>full_name</th>\n      <th>name</th>\n      <th>place_type</th>\n      <th>id</th>\n      <th>county</th>\n    </tr>\n  </thead>\n  <tbody>\n    <tr>\n      <th>0</th>\n      <td>1</td>\n      <td>None</td>\n      <td>NaT</td>\n      <td>None</td>\n      <td>None</td>\n      <td>None</td>\n      <td>NaN</td>\n      <td>NaN</td>\n      <td>None</td>\n      <td>None</td>\n      <td>None</td>\n      <td>1</td>\n      <td>DEL NORTE</td>\n    </tr>\n    <tr>\n      <th>1</th>\n      <td>2</td>\n      <td>None</td>\n      <td>NaT</td>\n      <td>None</td>\n      <td>None</td>\n      <td>None</td>\n      <td>NaN</td>\n      <td>NaN</td>\n      <td>None</td>\n      <td>None</td>\n      <td>None</td>\n      <td>2</td>\n      <td>DEL NORTE</td>\n    </tr>\n    <tr>\n      <th>2</th>\n      <td>3</td>\n      <td>None</td>\n      <td>NaT</td>\n      <td>None</td>\n      <td>None</td>\n      <td>None</td>\n      <td>NaN</td>\n      <td>NaN</td>\n      <td>None</td>\n      <td>None</td>\n      <td>None</td>\n      <td>3</td>\n      <td>DEL NORTE</td>\n    </tr>\n    <tr>\n      <th>3</th>\n      <td>4</td>\n      <td>None</td>\n      <td>NaT</td>\n      <td>None</td>\n      <td>None</td>\n      <td>None</td>\n      <td>NaN</td>\n      <td>NaN</td>\n      <td>None</td>\n      <td>None</td>\n      <td>None</td>\n      <td>4</td>\n      <td>DEL NORTE</td>\n    </tr>\n    <tr>\n      <th>4</th>\n      <td>5</td>\n      <td>None</td>\n      <td>NaT</td>\n      <td>None</td>\n      <td>None</td>\n      <td>None</td>\n      <td>NaN</td>\n      <td>NaN</td>\n      <td>None</td>\n      <td>None</td>\n      <td>None</td>\n      <td>5</td>\n      <td>DEL NORTE</td>\n    </tr>\n    <tr>\n      <th>...</th>\n      <td>...</td>\n      <td>...</td>\n      <td>...</td>\n      <td>...</td>\n      <td>...</td>\n      <td>...</td>\n      <td>...</td>\n      <td>...</td>\n      <td>...</td>\n      <td>...</td>\n      <td>...</td>\n      <td>...</td>\n      <td>...</td>\n    </tr>\n    <tr>\n      <th>48590</th>\n      <td>4087</td>\n      <td>None</td>\n      <td>NaT</td>\n      <td>None</td>\n      <td>None</td>\n      <td>None</td>\n      <td>NaN</td>\n      <td>NaN</td>\n      <td>None</td>\n      <td>None</td>\n      <td>None</td>\n      <td>4087</td>\n      <td>SAN DIEGO</td>\n    </tr>\n    <tr>\n      <th>48591</th>\n      <td>4088</td>\n      <td>699642589348306945</td>\n      <td>2016-02-16 17:12:46</td>\n      <td>One of my favorite short #roadbike rides with ...</td>\n      <td>236074117</td>\n      <td>fbd6d2f5a4e4a15e</td>\n      <td>-116.612000</td>\n      <td>32.604700</td>\n      <td>California, USA</td>\n      <td>California</td>\n      <td>admin</td>\n      <td>4088</td>\n      <td>SAN DIEGO</td>\n    </tr>\n    <tr>\n      <th>48592</th>\n      <td>4088</td>\n      <td>1149699890500591616</td>\n      <td>2019-07-12 15:19:48</td>\n      <td>Molly in her coyote vest decided she wanted to...</td>\n      <td>167237995</td>\n      <td>fbd6d2f5a4e4a15e</td>\n      <td>-116.592854</td>\n      <td>32.612469</td>\n      <td>California, USA</td>\n      <td>California</td>\n      <td>admin</td>\n      <td>4088</td>\n      <td>SAN DIEGO</td>\n    </tr>\n    <tr>\n      <th>48593</th>\n      <td>4089</td>\n      <td>828666935525199874</td>\n      <td>2017-02-06 18:09:27</td>\n      <td>DOP for Undead Express. The suns down and the ...</td>\n      <td>17798317</td>\n      <td>fbd6d2f5a4e4a15e</td>\n      <td>-116.472193</td>\n      <td>32.613785</td>\n      <td>California, USA</td>\n      <td>California</td>\n      <td>admin</td>\n      <td>4089</td>\n      <td>SAN DIEGO</td>\n    </tr>\n    <tr>\n      <th>48594</th>\n      <td>4090</td>\n      <td>None</td>\n      <td>NaT</td>\n      <td>None</td>\n      <td>None</td>\n      <td>None</td>\n      <td>NaN</td>\n      <td>NaN</td>\n      <td>None</td>\n      <td>None</td>\n      <td>None</td>\n      <td>4090</td>\n      <td>SAN DIEGO</td>\n    </tr>\n  </tbody>\n</table>\n<p>48595 rows × 13 columns</p>\n</div>"
     },
     "execution_count": 110,
     "metadata": {},
     "output_type": "execute_result"
    }
   ],
   "source": [
    "df_new"
   ],
   "metadata": {
    "collapsed": false,
    "pycharm": {
     "name": "#%%\n"
    }
   }
  },
  {
   "cell_type": "code",
   "execution_count": 111,
   "outputs": [],
   "source": [
    "df_new.to_parquet('../data/coyote_tweets.gzip', index=None)"
   ],
   "metadata": {
    "collapsed": false,
    "pycharm": {
     "name": "#%%\n"
    }
   }
  },
  {
   "cell_type": "code",
   "execution_count": 119,
   "outputs": [
    {
     "data": {
      "text/plain": "array(['1215345232016887808', '1081351054925619200',\n       '1195543563838226438', '1207791734316396546', '883523800725241857',\n       '455369740559867905', '1483802951919407104', '841880460489830400',\n       '893334696402182144', '202588010435452928', '646572220798472192',\n       '270577856193638400', '692950623818530816', '473849442466942976',\n       '692093392407392257', '911350768715698176', '1031258881454952448',\n       '394496556378112000', '973352249236758528', '1045444852966612992',\n       '1033193091648249856', '25704555811438592', '873968632765788162',\n       '1246998773424967681', '851173258422476800', '557941398154932225',\n       '936323657722236928', '931595729977487360', '1258568264243908609',\n       '436504517639536641', '791588408036503552', '912047251895095296',\n       '860306775907631106', '336227538370170881', '54695542126673920',\n       '324522846917378049', '191750958999552003', '798722783425372160',\n       '921446157087162368', '203280488331354115', '5715921742069761',\n       '912256568049070080', '11969485579', '1162550488065290240',\n       '682369652027174912', '413771875332808704', '437700539141214208',\n       '353942952457936896', '158318737206935552', '1429662318732840964',\n       '763161655513460737', '1086729093624676352', '1025844234262208512',\n       '706624735510196224', '1462621453711405060', '461233473874034690',\n       '717001542751092736', '1497677711959105542', '119657961097412608',\n       '89899945125093376', '404343221935173632', '1218086667707224064',\n       '774205614880727040', '424076211220779008', '764089211964100608',\n       '988087293423570946', '590344623974780928', '1384051204678774784',\n       '294696590852112384', '990283513239818241', '1176445853399011328',\n       '1464720193427443712', '1131361177731121152',\n       '1040201760533442560', '205285716983427072', '784510500650426371',\n       '1153379377935265792', '262672020779712512', '855460755482697728',\n       '1104582736650461184', '608480303003369472', '674472854742654977',\n       '1038144822920368128', '1161663080817758208',\n       '1322579947278356482', '1227818732292055040', '587845088195153920',\n       '14261842420', '173258187741470720', '20937355435184128',\n       '1120073901466210304', '501264666941992960', '538040585635241984',\n       '402240090522390528', '914063782464315392', '898703582786052096',\n       '1076592153340592128', '652310932450840576', '429092320714039296',\n       '314940087613923328', '749873718554402816', '848739314234081282',\n       '1243568180481658883', '701987418379956224', '559473361450192896',\n       '171014231125274625', '786096589504995328', '946920971289497601',\n       '921830745244495872', '1251057426238976001', '1117485901666574336',\n       '936423930935484417', '161685766676811776', '670454928314232832',\n       '862053603640360960', '168628445893496833', '597627424231194624',\n       '566431807097143296', '444941798272536576', '916917831895093248',\n       '1029933049285238784', '355237096404942849', '447273042113089536',\n       '1317176837995261953', '850089870273806336', '788923001920102400',\n       '368074977305964544', '1228574647953682432', '201850722332053505',\n       '204750501508681729', '788351693767348224', '506309411254837248',\n       '1022382806050263040', '983351218058620928', '841855083369316352',\n       '1377418989601751040', '305827109132189696', '555206509076807680',\n       '827783483858620416', '1393505460267880449', '1465788550524248064',\n       '396847399290695680', '953328576203337729', '204250076309241856',\n       '411630382581555200', '137762669536088064', '1110061130372702208',\n       '676277395196805120', '317756007914827778', '1048002602166706177',\n       '937461346316124160', '1190449534947610624', '19944510133903361',\n       '860556395921330176', '675267966615834624', '814728021005377536',\n       '366421269039693826', '231209399589433344', '530534692374994944',\n       '207679713936814080', '431948931585425408', '1413182445667504131',\n       '350294853663465473', '692914423128838144', '1343785683240902656',\n       '815690912412139521', '743681069321330688', '1021131275753598976',\n       '773391735590445060', '792457552080564224', '1486483169905823744',\n       '1367966143714037761', '1038277288989667328',\n       '1207307221484392448', '221990301840056320', '415540872520818689',\n       '1395894603027337216', '1180511601415245824', '69879683566665728',\n       '526587538828304385', '189776537854287872', '716302663697186817',\n       '140874962134253568', '439523902084354048', '777243488157138944',\n       '564610416605552641', '1140300507501584384', '840781899605897216',\n       '683927826945282048', '244850689191333888', '1135826498999296001',\n       '1192240854146019328', '1095488337803014144',\n       '1030667462243540992', '828044984544735232', '135818137953239040',\n       '1107866291115683840', '583484578066784257', '187041587862306817',\n       '481305504916836353', '204244548505972736', '54184285200064513',\n       '1458852590507098114', '443182153472692224', '1187178955163328512',\n       '341114628392247296', '726124658131648513', '266029500301713408',\n       '1112861709381722113', '1483206797242474501', '834468336729628672',\n       '1212416556904247301', '257903622904496129', '518109786856894464',\n       '181183090541072384', '868988138466689024', '906688459406012417',\n       '800145573491838976', '1036629495111774208', '720037830106296321',\n       '294642411882295296', '1245525158527303680', '949184767752208384',\n       '300346970382401538', '1202346814411694080', '1058072934508453888',\n       '779757316229005312', '587480590221447168', '155714798087192576',\n       '546442296531894274', '1085699026295578626', '99219812189872128',\n       '304460090973499392', '1042803431457484801', '417997723120312320',\n       '207776991473188864', '1229958286935384067', '567453554370048000',\n       '285340313990602752', '735263158579789826', '974301397993705479',\n       '1050027331551604738', '1414122467992346628', '329998682474807296',\n       '773696443622100992', '390529650805727234', '698515975356882944',\n       '379801642243072000', '1044683600304594944', '398589136187052032',\n       '38464737209622528', '707331793419169793', '524420915254525953',\n       '874002267715756032', '1004951844987101184', '27911662631',\n       '140159619002662912', '143780859890241536', '101492528783699970',\n       '769248867523055617', '192791792071094272', '969662230135373824',\n       '625889275322630148', '727947103545098240', '265825907472728064',\n       '1178928221074657280', '1184298009640738817', '381133408694697984',\n       '333689215068020737', '120238123866259456', '323495914809483264',\n       '834892418184962048', '815801228605079552', '116976460123742208',\n       '336594863325839360', '82979097239764992', '230114795196645376',\n       '125181354567671808', '452917808221794304', '843280118738952194',\n       '530915506925350912', '986697496637227008', '827647498365702144',\n       '994038110592712704', '803861418109849600', '81765254450774016',\n       '925178762043387904', '1207079149510316032', '747794455642652672',\n       '227778551070474241', '594689556969959424', '1427332941936537605',\n       '379079515030294528', '643231629712863232', '482367167380221952',\n       '540576602271129600', '1025567753585840128', '1310924414016315392',\n       '585330827598278657', '842833268588265472', '647102744512339969',\n       '1142922509311811585', '441058280778252288', '782771649095479297',\n       '913593418302947328', '646067911937818624', '1162527805122338817',\n       '284354882394279937', '760637883438997504', '331271425941962752',\n       '26748830846291968', '589631742602047488', '491662200436973568',\n       '393394725807329280', '194093794524803072', '207340845198872576',\n       '1116437041556811776', '1498223835635539976',\n       '1069261486294478849', '960244706436370432', '155131777705451520',\n       '1205636817510252545', '1455351737456336896', '954190538529370112',\n       '1325116339355312130', '1235394166693101568', '773512037074767872',\n       '593243201906937856', '1188811333271089152', '569308539069403138',\n       '122873382172758016', '103261218554388481', '349282349411872769',\n       '1105115829048410112', '1135522853598552064',\n       '1264740611145555970', '859944829756821505', '109642167542226945',\n       '60947264679575552', '1470433870562484224', '503341413871128576',\n       '835651927077761024', '900779745234755584', '1071163306499563520',\n       '1109528554725756928', '516070342998364160', '452898182679109632',\n       '771946593381715970', '350609780873768963', '675474739414958080',\n       '946945031042039808', '966818152083480581', '122860622621839361',\n       '305416149556924416', '431847952659656704', '1132313143927959553',\n       '862201177609355264', '533602613980176385', '697914683366449152',\n       '443110923809849344', '1075998457670713344', '285162736437051392',\n       '844972138872406017', '858075796685987840', '767311105244798976',\n       '1486947904963035136', '264582048038154241', '1291235106049290241',\n       '1374907851437576192', '414630272320016384', '522326168578428928',\n       '465385798331019264', '313796598549315584', '233379049915949057',\n       '185812972336201728', '340627458300727296', '725681615175737345',\n       '1312894557848244226', '1228870621276229632', '924814677489491968',\n       '783907311442014208', '909263100615868417', '417021646042460160',\n       '90149694336008192', '169974559137730560', '568845068389322753',\n       '773680248302874625', '375094304555167744', '1117717188524142592',\n       '789660335556866048', '511664305830629376', '873640677095096320',\n       '237216828722663424', '1419406171509719042', '1085918231712284672',\n       '454813637253672960', '90827206850379776', '164808606653480960',\n       '856996075218980864', '721449070842109952', '1250478927417454592',\n       '796131497388318720', '1107724735729659904', '550743584740499456',\n       '934601145598672896', '137723102036631552', '427169528192458752',\n       '1117059147168718851', '843347529198526464', '991236229264916480',\n       '1234930232676585473', '179349155527929857', '507310530243989505',\n       '341844162452258816', '212008575260831744', '896783169898283008',\n       '319142705043238913', '804599212599980032', '1282732168607719424',\n       '629400639773110272', '545739481895034880', '938494567959052288',\n       '1066176416272674816', '495796886205648896', '705688430865285121',\n       '435235775035494400', '1312597093576404994', '371347644809236480',\n       '1041386504193359872', '645726914213244928', '1048378897342062593',\n       '986404962195341312', '723992154599657472', '1263690958069100544',\n       '308321321593470978', '663954252939681792', '834503738450665472',\n       '1357119598290608130', '664292956812087297', '604233753532047361',\n       '856961584328876032', '980413742616690688', '386706983552057344',\n       '1241050573509505024', '834521626653765632', '1074428725591040000',\n       '873693757803184128', '665092568565219328', '239919117098946560',\n       '559236174506496002', '1077003616748294144', '186657324285427713',\n       '1043969889856368640', '1233593086392950784',\n       '1389446879096627200', '110083428287922176', '713197467127324673',\n       '794375559727808512', '751649044007514112', '789267947583778816',\n       '989685862534299648', '353584598938165248', '896170283836481536',\n       '730389490477469697', '962926109774954496', '428271548479197184',\n       '214126109065871361', '364757071461224449', '1051289986006306816',\n       '386604946831204352', '1435113704169738241', '805247935873060864',\n       '750350199369850881', '838558817407348742', '625752169053048832',\n       '1094075952932376577', '923447596676390912', '214189379604840448',\n       '327132193614876673', '726319818144505856', '204253997819899904',\n       '400487229300019200', '295203719501463554', '1070130442165149696',\n       '320805518300033024', '169683381888618496', '675307147236941826',\n       '297169861086441472', '664173732445843456', '834416236985344001',\n       '1039715708354134016', '766608449677340672', '1313319148563300352',\n       '834410492458213378', '395434089278234624', '760275356246880256',\n       '741114315839787008', '441814087463206912', '1405990497328373760',\n       '1349481327632924675', '673359359498293248', '89920859296366592',\n       '1410332399276232706', '127709769157967873', '610819722846736384',\n       '749226316226961408', '804887578012831744', '1182906115874443264',\n       '807252649821212672', '872669467607580672', '726548969304772609',\n       '668938357435580417', '13655454861238272', '821898431425712128',\n       '222883024260444161', '1475741060341002243', '1211518857837285381',\n       '231909875171606528', '787545549146771456', '790434266249179137',\n       '151495706144800768', '1009540620048744448', '1045976539995795457',\n       '404343221935173632', '1319401678525792256', '244661688505335809',\n       '680294066135773185', '700388920068952064', '48787191702364160',\n       '90195321870745600', '1317901729862766592', '541438533123059713',\n       '589630505064235008', '477891691857575937', '832189910895386629',\n       '1199010733633101826', '1071994214379020288',\n       '1165403170719326208', '1287537911051632640',\n       '1227858007725240321', '212210395329470464', '212566485674115073',\n       '813048239595229184', '827407696051580929', '1422397028575813640',\n       '1443215221657534464', '664997277505728512', '1026550403754651648',\n       '836991354727100417', '1177663058274967552', '122833888711151616',\n       '485648024517885955', '211514527471243264', '318736781908529153',\n       '24088456043', '170356971222999040', '377275842478358529',\n       '1026233530412662784', '286864530561175552', '151481819143999489',\n       '1434169951363874826', '1429913485538824204', '856686425101582336',\n       '176356412660789248', '808972474536689664', '1225271837522833409',\n       '378533544500281344', '725971192637591552', '153677242394877952',\n       '1183804835738443779', '1241507012053213186', '414417400533364736',\n       '1129499847881441281', '822985456019066880', '420845119483293696',\n       '271301535902871552', '1442665087060357130', '432700010552377344',\n       '642977741512413184', '312256761274978304', '193416908899495936',\n       '1068036495003373570', '445934952387854336', '432081027998031872',\n       '81905759176237056', '352888498350596098', '651136776283684864',\n       '1472048507108442120', '422006836888215552', '388140185327652864',\n       '907461516508717056', '675726906092871685', '453711254868078592',\n       '1170021225080315904', '445809850115555328', '470029829304107008',\n       '645704239256178688', '443846050315386880', '1078837385096421376',\n       '909388922366472197', '432051296967725057', '968558562116022272',\n       '189745716346884097', '573980811583709185', '773408814632689664',\n       '1230667121002074114', '215349799015301120', '1264258566187175936',\n       '291218415933341696', '1202423222563524608', '882144530408939521',\n       '1363660328752488449', '533019607330615296', '1273038814634745857',\n       '762523694618914817', '653699087473221632', '204281805665353728',\n       '669278932957401088', '835644345126543360', '1121783925838270464',\n       '1062711536215445504', '1165893619523280896', '368042022080241664',\n       '830596658668843008', '955304483872849920', '567010608680161280',\n       '817567975402151938', '174653357112311808', '1089626943429971969',\n       '338766966376497152', '733034872806105089', '1014737145729204231',\n       '219087113969352705', '795375397772738560', '1349227661801885702',\n       '1261321054204485633', '899830388398333952', '642512516468215809',\n       '54616534479421440', '393491108476354560', '812537530880905216',\n       '1272588484071456768', '1227414019268497409', '248269767616626688',\n       '563938020890402816', '751697455633174528', '305456192174563330',\n       '470394267446562816', '1388681562145837056', '694898454166802432',\n       '297165881136541696', '1058959219347480576', '953484776782082048',\n       '457596399916687360', '733912564950650881', '238070416059555840',\n       '717220929051426817', '204274106814836737', '841880928288931846',\n       '383616221377462272', '589629934299127808', '89715971811577856',\n       '810343273470435329', '1052255895856406528', '212006360173379586',\n       '434794628340916225', '702361105600024576', '1394017071130808320',\n       '408703425179025408', '188461041057923072', '1081453957640204288',\n       '997178116823859205', '723089234467287041', '1102022800796086274',\n       '651959903783796736', '859929010758860800', '647505921539723264',\n       '834063868775301120', '898258929943158790', '497546016338763776',\n       '853451076560801792', '206564817543241728', '181231783126372353',\n       '172133637666504705', '908320977037271041', '408434589502152705',\n       '1110608947877048320', '780608462015332352', '644737874156474368',\n       '244545120664428544', '434909066825965568', '1130300464455491584',\n       '1301626013005176832', '1011850464696995840',\n       '1049127422174478337', '840364237218230272', '1165461194779447296',\n       '937772383540146176', '1428570626109755392', '25505738555',\n       '301486527651917824', '1272732753964920833', '622533631312007168',\n       '1238243594131189763', '482194855087857666', '247339981390094336',\n       '77298573380812800', '960044870919340034', '1121448943223656448',\n       '482985288910663680', '1220890663941701633', '546852292222152705',\n       '980290796720041985', '1138200526275792897', '90265105517912064',\n       '775559896607711232', '719792159059083264', '596456738016108544',\n       '412450240797880320', '630553404364988417', '447395839166537728',\n       '44583570320261121', '1298686601468370945', '685715177828831233',\n       '895511062564491264', '411709322679554048', '573718304159703041',\n       '762011911663783936', '1183099790554468357', '22857031538966528',\n       '1109120265873547264', '1048637924546293762',\n       '1170180480685101056', '1166048184235200512', '936268232603852800',\n       '646153413621755904', '442241723352502273', '255201798938316800',\n       '1296947791621578753', '863063051095883776', '862511462547308544',\n       '273578118093090816', '567980416348475393', '1306645011480678400',\n       '1069042300481757184', '1439812726750998534', '447625552350810112',\n       '509793817344499712', '200415517415186433', '1294928872434098176',\n       '448531968469524480', '1161800975197331457', '1324485980099801088',\n       '916579310533615617', '99056215321100289', '599393434089164800',\n       '1305678934848151552', '263909947304181760', '947560527185809413',\n       '1472269402393374727', '486949732388843520', '1299770925852717056',\n       '293185654681112576', '1048026103300984833', '325038944976777217',\n       '1393944560435286017', '1413654280511410177', '791033920720470017',\n       '748929410024239104', '485542554604404736', '410034511343136768',\n       '1211062787113398273', '564662663913799680', '160027976312954881',\n       '1406513288939290628', '410123702677016576', '435139964217872384',\n       '567183527914266624', '1336860476785848321', '1190047072981938176',\n       '293912435071516672', '511333133241708544', '324542842120835073',\n       '1155875403275182080', '891474546028498944', '328281580911067137',\n       '529714142299430912', '1397001873018658817', '524651640365023233',\n       '836338199144218624', '484227016418271233', '372985629484646400',\n       '971902032750653440', '1086317643559100416', '199482907801305088',\n       '994080255500607488', '181145299526492160', '1148104622801707009',\n       '540976509352034304', '576980787028848640', '686090073998163969',\n       '608878272382828544', '354430821526024195', '741970232495902720',\n       '323343010295320576', '842205745428873216', '1320167365833703424',\n       '462787655391264768', '1176216009214087168', '223469532583444481',\n       '114534477027487744', '644737874135547904', '914014900401213440',\n       '698594451439034368', '846613200019734528', '499590889698631682',\n       '1301246298561998848', '509953582792073217', '1087446680667123712',\n       '771422822530818048', '1102939125710184448', '453115887537905664',\n       '224567968800047105', '1320412682965581824', '447896503496228864',\n       '698708257737560064', '181919326352322562', '925211370815152134',\n       '988295112470888449', '386712964864045056', '475143977079799809',\n       '78314304646021120', '135556489543815169', '207643284435255296',\n       '372581308284690432', '10465387390', '232661354325106688',\n       '409597591471407104', '789003412021010434', '804499671318040576',\n       '65281642616463360', '742116818114863104', '420974634298007552',\n       '1277441388246822913', '447394275396190209', '1099034310047281152',\n       '230859274144858112', '992560228045656065', '450757962408009728',\n       '594564514416328704', '597845057618640896', '1129945363522170880',\n       '434454782942531584', '816001565555388416', '196479329562144768',\n       '89558279516209153', '654842264485662720', '18147879621234688',\n       '127997501570695168', '1216770452107886596', '743812972988928000',\n       '609407218291621888', '834212888424247296', '843360070251503616',\n       '494740755538530304', '1054470919224094720', '833183771742527490',\n       '1319719753506680832', '20286897658011648', '274010339945885696',\n       '204276857770745857', '441124631060049920', '650519066256506880',\n       '312667638826409985', '831236257539825665', '476125749523398656',\n       '384028184595165184', '190160755620986880', '848248679962038272',\n       '1124394837329846272', '608992581137989634', '340747124885045248',\n       '794756051438485505', '182238127140769792', '314206988408070144',\n       '513271918821380096', '455046658381078528', '1257819548801134593',\n       '1073842177191464960', '529500456779644928', '1113567199682129922',\n       '1159710894433034240', '1269657612083007489', '314199520093278208',\n       '1188543347750772736', '1280507740973158406', '514982325806186497',\n       '1106660429730734080', '1224748913418129408', '746239277126737924',\n       '945700505195397120', '75300681300455424', '257548421899096064',\n       '748640592528175104', '1100136128454094848', '793435234880593920',\n       '1048970533348544513', '427275190318665728', '1445122276681080832',\n       '645509861355098112', '679516352047001600', '763994491728506882',\n       '785371993285754880', '152314195776503809', '1488550218496831488',\n       '568966387013545985', '501578420309229568', '992789430158045184',\n       '25426568755023872', '880297266732441600', '916142982192971776',\n       '455088672954920960', '1197721298748633088', '757834368043749377',\n       '1264315851458691072', '299293488447623168', '31476594371469312',\n       '1197015400799588353', '503371844901437441', '489449659039879168',\n       '1382938791447457792', '990995980337135617', '1208043914705301506',\n       '1216786570268880897', '820841383099437058', '1058249091350638592',\n       '1202825700715024385', '851157165884579841', '452185178195374080',\n       '308761300702482432', '814918403152482305', '97539911581839360',\n       '272870313803538433', '1186317823280201730', '710606099078979584',\n       '204755344923172866', '389341975670824960', '252455671495262208',\n       '235578111046066176', '499315982720987136', '308706126684381185',\n       '541855002537779200', '633710593107697664', '1278372934017355776',\n       '419052299747479552', '389775158128283650', '1009584674035789825',\n       '619287108549632000', '555239764673064960', '768269253958963200',\n       '1290003816603987968', '261487351400894466', '181579815613243392',\n       '252306517829746689', '593725628026785792', '506662037255356417',\n       '1096807431584153600', '521451668408262656', '837764254228832256',\n       '1439752311698509825', '1416541400380821505', '654371146427596800',\n       '1443396387056406528', '1084101656843759616', '242730413519417344',\n       '372649551808581633', '1247368104868380675', '728770689747046400',\n       '1379925018293923842', '1048416512917159936',\n       '1445830271421485056', '67116679162892288', '703673434597826560',\n       '107257884831784960', '705513290533765120', '1292951980332130304',\n       '1206020721543016448', '1076666088224505856',\n       '1095579746748882944', '1300482124710129667', '596139336686436353',\n       '834264981122187264', '1176982380331954176', '26021420756',\n       '441396915234566144', '841179184508559360', '317629294505508866',\n       '1129598475014774784', '651092067058327552', '837807747466846209'],\n      dtype=object)"
     },
     "execution_count": 119,
     "metadata": {},
     "output_type": "execute_result"
    }
   ],
   "source": [
    "used_tweets = sample_1000['tweet_id'].values\n",
    "used_tweets"
   ],
   "metadata": {
    "collapsed": false,
    "pycharm": {
     "name": "#%%\n"
    }
   }
  },
  {
   "cell_type": "code",
   "execution_count": 131,
   "outputs": [
    {
     "data": {
      "text/plain": "(44406, 13)"
     },
     "execution_count": 131,
     "metadata": {},
     "output_type": "execute_result"
    }
   ],
   "source": [
    "df_not_sampled = df_new.drop(df_new.index[df_new['tweet_id'].isin(used_tweets)])\n",
    "df_not_sampled = df_not_sampled[df_not_sampled['tweet_id'].notnull()]\n",
    "df_not_sampled.shape"
   ],
   "metadata": {
    "collapsed": false,
    "pycharm": {
     "name": "#%%\n"
    }
   }
  },
  {
   "cell_type": "code",
   "execution_count": 132,
   "outputs": [
    {
     "data": {
      "text/plain": "                  tweet_id                                               text\n6517   1297680994309419008  City coyote out for an afternoon stroll in Bue...\n46536   252225014462558208  At Mission Trails, This Land is Your Land! -Sc...\n3048   1261350788825182208  See? This that ish I’m talking about. What am ...\n44125   843862456502046725  #BorregoInSpringtime @ Coyote Canyon, Anza-Bor...\n17608   430034569015070720  Man it is wet! (@ Coyote Valley Sporting Clays...\n...                    ...                                                ...\n31185   474969582298361857  I hate My Coyote 😠 This shit acts stupid on me! 😠\n17114  1352399273216806913  This is actually super interesting. A team lik...\n18878   348976231179485187  maybe we can give Nic one of those little umbr...\n3789   1111766133059674112  Fort Benning officials have reportedly sanctio...\n3803    436031471191465984  I get free dos coyotes almost every day. I fee...\n\n[1000 rows x 2 columns]",
      "text/html": "<div>\n<style scoped>\n    .dataframe tbody tr th:only-of-type {\n        vertical-align: middle;\n    }\n\n    .dataframe tbody tr th {\n        vertical-align: top;\n    }\n\n    .dataframe thead th {\n        text-align: right;\n    }\n</style>\n<table border=\"1\" class=\"dataframe\">\n  <thead>\n    <tr style=\"text-align: right;\">\n      <th></th>\n      <th>tweet_id</th>\n      <th>text</th>\n    </tr>\n  </thead>\n  <tbody>\n    <tr>\n      <th>6517</th>\n      <td>1297680994309419008</td>\n      <td>City coyote out for an afternoon stroll in Bue...</td>\n    </tr>\n    <tr>\n      <th>46536</th>\n      <td>252225014462558208</td>\n      <td>At Mission Trails, This Land is Your Land! -Sc...</td>\n    </tr>\n    <tr>\n      <th>3048</th>\n      <td>1261350788825182208</td>\n      <td>See? This that ish I’m talking about. What am ...</td>\n    </tr>\n    <tr>\n      <th>44125</th>\n      <td>843862456502046725</td>\n      <td>#BorregoInSpringtime @ Coyote Canyon, Anza-Bor...</td>\n    </tr>\n    <tr>\n      <th>17608</th>\n      <td>430034569015070720</td>\n      <td>Man it is wet! (@ Coyote Valley Sporting Clays...</td>\n    </tr>\n    <tr>\n      <th>...</th>\n      <td>...</td>\n      <td>...</td>\n    </tr>\n    <tr>\n      <th>31185</th>\n      <td>474969582298361857</td>\n      <td>I hate My Coyote 😠 This shit acts stupid on me! 😠</td>\n    </tr>\n    <tr>\n      <th>17114</th>\n      <td>1352399273216806913</td>\n      <td>This is actually super interesting. A team lik...</td>\n    </tr>\n    <tr>\n      <th>18878</th>\n      <td>348976231179485187</td>\n      <td>maybe we can give Nic one of those little umbr...</td>\n    </tr>\n    <tr>\n      <th>3789</th>\n      <td>1111766133059674112</td>\n      <td>Fort Benning officials have reportedly sanctio...</td>\n    </tr>\n    <tr>\n      <th>3803</th>\n      <td>436031471191465984</td>\n      <td>I get free dos coyotes almost every day. I fee...</td>\n    </tr>\n  </tbody>\n</table>\n<p>1000 rows × 2 columns</p>\n</div>"
     },
     "execution_count": 132,
     "metadata": {},
     "output_type": "execute_result"
    }
   ],
   "source": [
    "my_1000_samples = df_not_sampled[['tweet_id', 'text']].sample(1000)\n",
    "my_1000_samples"
   ],
   "metadata": {
    "collapsed": false,
    "pycharm": {
     "name": "#%%\n"
    }
   }
  },
  {
   "cell_type": "code",
   "execution_count": 134,
   "outputs": [
    {
     "name": "stderr",
     "output_type": "stream",
     "text": [
      "/var/folders/50/cgfcx8d97_52qyt5jj7jf52w0000gn/T/ipykernel_67027/1913617800.py:1: FutureWarning: As the xlwt package is no longer maintained, the xlwt engine will be removed in a future version of pandas. This is the only engine in pandas that supports writing in the xls format. Install openpyxl and write to an xlsx file instead. You can set the option io.excel.xls.writer to 'xlwt' to silence this warning. While this option is deprecated and will also raise a warning, it can be globally set and the warning suppressed.\n",
      "  my_1000_samples.to_excel('../data/my_1000_samples.xls', index=None)\n"
     ]
    }
   ],
   "source": [
    "my_1000_samples.to_excel('../data/my_1000_samples.xls', index=None)"
   ],
   "metadata": {
    "collapsed": false,
    "pycharm": {
     "name": "#%%\n"
    }
   }
  },
  {
   "cell_type": "code",
   "execution_count": null,
   "outputs": [],
   "source": [],
   "metadata": {
    "collapsed": false,
    "pycharm": {
     "name": "#%%\n"
    }
   }
  }
 ],
 "metadata": {
  "kernelspec": {
   "display_name": "Python 3",
   "language": "python",
   "name": "python3"
  },
  "language_info": {
   "codemirror_mode": {
    "name": "ipython",
    "version": 2
   },
   "file_extension": ".py",
   "mimetype": "text/x-python",
   "name": "python",
   "nbconvert_exporter": "python",
   "pygments_lexer": "ipython2",
   "version": "2.7.6"
  }
 },
 "nbformat": 4,
 "nbformat_minor": 0
}