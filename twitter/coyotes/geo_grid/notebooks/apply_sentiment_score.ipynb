{
 "cells": [
  {
   "cell_type": "code",
   "execution_count": 68,
   "metadata": {
    "collapsed": true
   },
   "outputs": [],
   "source": [
    "import pandas as pd\n",
    "import numpy as np\n",
    "import matplotlib.pyplot as plt\n",
    "import joblib\n",
    "from sklearn.ensemble import RandomForestClassifier\n",
    "from vaderSentiment.vaderSentiment import SentimentIntensityAnalyzer\n",
    "from utility.sentiment import *\n",
    "import utility.text_normalizer as tn\n",
    "import tqdm\n",
    "import spacy"
   ]
  },
  {
   "cell_type": "markdown",
   "source": [
    "# Load data"
   ],
   "metadata": {
    "collapsed": false,
    "pycharm": {
     "name": "#%% md\n"
    }
   }
  },
  {
   "cell_type": "code",
   "execution_count": 32,
   "outputs": [
    {
     "name": "stderr",
     "output_type": "stream",
     "text": [
      "/Users/Isaacbolo/opt/anaconda3/envs/CDFW/lib/python3.8/site-packages/openpyxl/worksheet/header_footer.py:48: UserWarning: Cannot parse header or footer so it will be ignored\n",
      "  warn(\"\"\"Cannot parse header or footer so it will be ignored\"\"\")\n",
      "/Users/Isaacbolo/opt/anaconda3/envs/CDFW/lib/python3.8/site-packages/openpyxl/worksheet/header_footer.py:48: UserWarning: Cannot parse header or footer so it will be ignored\n",
      "  warn(\"\"\"Cannot parse header or footer so it will be ignored\"\"\")\n"
     ]
    }
   ],
   "source": [
    "# Load all the manually tagged data\n",
    "tag1 = pd.read_excel('tagged_tweets/tagged_1.xlsx')\n",
    "tag2 = pd.read_excel('tagged_tweets/tagged_2.xls')\n",
    "tag3 = pd.read_excel('tagged_tweets/tagged_3.xls')\n",
    "tag4 = pd.read_excel('tagged_tweets/tagged_4.xls')\n",
    "tag5 = pd.read_excel('tagged_tweets/tagged_5.xlsx')"
   ],
   "metadata": {
    "collapsed": false,
    "pycharm": {
     "name": "#%%\n"
    }
   }
  },
  {
   "cell_type": "code",
   "execution_count": 33,
   "outputs": [],
   "source": [
    "tagged_tweets = pd.concat([tag1, tag2, tag3, tag4, tag5])"
   ],
   "metadata": {
    "collapsed": false,
    "pycharm": {
     "name": "#%%\n"
    }
   }
  },
  {
   "cell_type": "code",
   "execution_count": 46,
   "outputs": [
    {
     "data": {
      "text/plain": "         tweet_id                                               text  tag\n399  3.935967e+17                 Coyotes.... http://t.co/2POIPjVqeE  NaN\n857  1.901608e+17  Coyotes force closure of trails in GG Park to ...  1.0\n606  7.034044e+17  Davis!! (@ Dos Coyotes Border Cafe - @mydoscoy...  0.0\n545  2.459792e+17  Trying out this place. (@ Coyote Grill) [pic]:...  0.0\n211  5.399246e+16  At Coyote Bar & Grill they call this the 'Bubb...  0.0\n456  1.515059e+17  Gooooo Kings!!! (@ STAPLES Center for Phoenix ...  NaN\n773  7.886307e+17          There was a coyote running down my street  1.0\n882  8.070402e+17  @Twitt_Itches @TheAtlantic need to bring giraf...  1.0\n106  7.860966e+17  Tonight I have mostly been hanging out in the ...  0.0\n376  9.082721e+16  I'm at Chase Bank (4571 Los Coyotes Diagonal, ...  0.0",
      "text/html": "<div>\n<style scoped>\n    .dataframe tbody tr th:only-of-type {\n        vertical-align: middle;\n    }\n\n    .dataframe tbody tr th {\n        vertical-align: top;\n    }\n\n    .dataframe thead th {\n        text-align: right;\n    }\n</style>\n<table border=\"1\" class=\"dataframe\">\n  <thead>\n    <tr style=\"text-align: right;\">\n      <th></th>\n      <th>tweet_id</th>\n      <th>text</th>\n      <th>tag</th>\n    </tr>\n  </thead>\n  <tbody>\n    <tr>\n      <th>399</th>\n      <td>3.935967e+17</td>\n      <td>Coyotes.... http://t.co/2POIPjVqeE</td>\n      <td>NaN</td>\n    </tr>\n    <tr>\n      <th>857</th>\n      <td>1.901608e+17</td>\n      <td>Coyotes force closure of trails in GG Park to ...</td>\n      <td>1.0</td>\n    </tr>\n    <tr>\n      <th>606</th>\n      <td>7.034044e+17</td>\n      <td>Davis!! (@ Dos Coyotes Border Cafe - @mydoscoy...</td>\n      <td>0.0</td>\n    </tr>\n    <tr>\n      <th>545</th>\n      <td>2.459792e+17</td>\n      <td>Trying out this place. (@ Coyote Grill) [pic]:...</td>\n      <td>0.0</td>\n    </tr>\n    <tr>\n      <th>211</th>\n      <td>5.399246e+16</td>\n      <td>At Coyote Bar &amp; Grill they call this the 'Bubb...</td>\n      <td>0.0</td>\n    </tr>\n    <tr>\n      <th>456</th>\n      <td>1.515059e+17</td>\n      <td>Gooooo Kings!!! (@ STAPLES Center for Phoenix ...</td>\n      <td>NaN</td>\n    </tr>\n    <tr>\n      <th>773</th>\n      <td>7.886307e+17</td>\n      <td>There was a coyote running down my street</td>\n      <td>1.0</td>\n    </tr>\n    <tr>\n      <th>882</th>\n      <td>8.070402e+17</td>\n      <td>@Twitt_Itches @TheAtlantic need to bring giraf...</td>\n      <td>1.0</td>\n    </tr>\n    <tr>\n      <th>106</th>\n      <td>7.860966e+17</td>\n      <td>Tonight I have mostly been hanging out in the ...</td>\n      <td>0.0</td>\n    </tr>\n    <tr>\n      <th>376</th>\n      <td>9.082721e+16</td>\n      <td>I'm at Chase Bank (4571 Los Coyotes Diagonal, ...</td>\n      <td>0.0</td>\n    </tr>\n  </tbody>\n</table>\n</div>"
     },
     "execution_count": 46,
     "metadata": {},
     "output_type": "execute_result"
    }
   ],
   "source": [
    "tagged_tweets.sample(10)"
   ],
   "metadata": {
    "collapsed": false,
    "pycharm": {
     "name": "#%%\n"
    }
   }
  },
  {
   "cell_type": "code",
   "execution_count": 53,
   "outputs": [],
   "source": [
    "tagged_tweets['tweet_id'] = tagged_tweets['tweet_id'].astype('int').astype('O')"
   ],
   "metadata": {
    "collapsed": false,
    "pycharm": {
     "name": "#%%\n"
    }
   }
  },
  {
   "cell_type": "code",
   "execution_count": 54,
   "outputs": [
    {
     "data": {
      "text/plain": "                tweet_id                                               text  \\\n0    1215345232016880128  @ABC Coyotes rarely attack people unless they ...   \n1    1081351054925609984  Crazy girl caught a cricket earlier 😅🤦🏽‍♂️ @ C...   \n2    1195543563838220032  Division 1 playoffs Calabasas vs Saint John Bo...   \n3    1207791734316389888  Someone got hold of video of @Doc_Coyote meeti...   \n4     883523800725240960  Name of that drink: Cranky coyote @ Ace Hotel ...   \n..                   ...                                                ...   \n995          12961025407  I just became the mayor of Coyote Taqueria on ...   \n996  1319463344005279488  You stupid stupid jackasses. These children ha...   \n997  1315857557802540032  This is the old barn at P Ranch on Malhuer NWF...   \n998   836671614888497024  New web tool tracks #coyote activity using sha...   \n999  1102029274674940032  Break in the rain yesterday. Took a great walk...   \n\n     tag  \n0    1.0  \n1    0.0  \n2    0.0  \n3    0.0  \n4    0.0  \n..   ...  \n995  0.0  \n996  0.0  \n997  1.0  \n998  1.0  \n999  1.0  \n\n[4980 rows x 3 columns]",
      "text/html": "<div>\n<style scoped>\n    .dataframe tbody tr th:only-of-type {\n        vertical-align: middle;\n    }\n\n    .dataframe tbody tr th {\n        vertical-align: top;\n    }\n\n    .dataframe thead th {\n        text-align: right;\n    }\n</style>\n<table border=\"1\" class=\"dataframe\">\n  <thead>\n    <tr style=\"text-align: right;\">\n      <th></th>\n      <th>tweet_id</th>\n      <th>text</th>\n      <th>tag</th>\n    </tr>\n  </thead>\n  <tbody>\n    <tr>\n      <th>0</th>\n      <td>1215345232016880128</td>\n      <td>@ABC Coyotes rarely attack people unless they ...</td>\n      <td>1.0</td>\n    </tr>\n    <tr>\n      <th>1</th>\n      <td>1081351054925609984</td>\n      <td>Crazy girl caught a cricket earlier 😅🤦🏽‍♂️ @ C...</td>\n      <td>0.0</td>\n    </tr>\n    <tr>\n      <th>2</th>\n      <td>1195543563838220032</td>\n      <td>Division 1 playoffs Calabasas vs Saint John Bo...</td>\n      <td>0.0</td>\n    </tr>\n    <tr>\n      <th>3</th>\n      <td>1207791734316389888</td>\n      <td>Someone got hold of video of @Doc_Coyote meeti...</td>\n      <td>0.0</td>\n    </tr>\n    <tr>\n      <th>4</th>\n      <td>883523800725240960</td>\n      <td>Name of that drink: Cranky coyote @ Ace Hotel ...</td>\n      <td>0.0</td>\n    </tr>\n    <tr>\n      <th>...</th>\n      <td>...</td>\n      <td>...</td>\n      <td>...</td>\n    </tr>\n    <tr>\n      <th>995</th>\n      <td>12961025407</td>\n      <td>I just became the mayor of Coyote Taqueria on ...</td>\n      <td>0.0</td>\n    </tr>\n    <tr>\n      <th>996</th>\n      <td>1319463344005279488</td>\n      <td>You stupid stupid jackasses. These children ha...</td>\n      <td>0.0</td>\n    </tr>\n    <tr>\n      <th>997</th>\n      <td>1315857557802540032</td>\n      <td>This is the old barn at P Ranch on Malhuer NWF...</td>\n      <td>1.0</td>\n    </tr>\n    <tr>\n      <th>998</th>\n      <td>836671614888497024</td>\n      <td>New web tool tracks #coyote activity using sha...</td>\n      <td>1.0</td>\n    </tr>\n    <tr>\n      <th>999</th>\n      <td>1102029274674940032</td>\n      <td>Break in the rain yesterday. Took a great walk...</td>\n      <td>1.0</td>\n    </tr>\n  </tbody>\n</table>\n<p>4980 rows × 3 columns</p>\n</div>"
     },
     "execution_count": 54,
     "metadata": {},
     "output_type": "execute_result"
    }
   ],
   "source": [
    "tagged_tweets"
   ],
   "metadata": {
    "collapsed": false,
    "pycharm": {
     "name": "#%%\n"
    }
   }
  },
  {
   "cell_type": "markdown",
   "source": [
    "Load the complete dataset"
   ],
   "metadata": {
    "collapsed": false,
    "pycharm": {
     "name": "#%% md\n"
    }
   }
  },
  {
   "cell_type": "code",
   "execution_count": 89,
   "outputs": [
    {
     "data": {
      "text/plain": "       grid_id             tweet_id          created_at  \\\n0            1                 None                 NaT   \n1            2                 None                 NaT   \n2            3                 None                 NaT   \n3            4                 None                 NaT   \n4            5                 None                 NaT   \n...        ...                  ...                 ...   \n48590     4087                 None                 NaT   \n48591     4088   699642589348306945 2016-02-16 17:12:46   \n48592     4088  1149699890500591616 2019-07-12 15:19:48   \n48593     4089   828666935525199874 2017-02-06 18:09:27   \n48594     4090                 None                 NaT   \n\n                                                    text  author_id  \\\n0                                                   None       None   \n1                                                   None       None   \n2                                                   None       None   \n3                                                   None       None   \n4                                                   None       None   \n...                                                  ...        ...   \n48590                                               None       None   \n48591  One of my favorite short #roadbike rides with ...  236074117   \n48592  Molly in her coyote vest decided she wanted to...  167237995   \n48593  DOP for Undead Express. The suns down and the ...   17798317   \n48594                                               None       None   \n\n               place_id         lat       long        full_name        name  \\\n0                  None         NaN        NaN             None        None   \n1                  None         NaN        NaN             None        None   \n2                  None         NaN        NaN             None        None   \n3                  None         NaN        NaN             None        None   \n4                  None         NaN        NaN             None        None   \n...                 ...         ...        ...              ...         ...   \n48590              None         NaN        NaN             None        None   \n48591  fbd6d2f5a4e4a15e -116.612000  32.604700  California, USA  California   \n48592  fbd6d2f5a4e4a15e -116.592854  32.612469  California, USA  California   \n48593  fbd6d2f5a4e4a15e -116.472193  32.613785  California, USA  California   \n48594              None         NaN        NaN             None        None   \n\n      place_type    id     county  \n0           None     1  DEL NORTE  \n1           None     2  DEL NORTE  \n2           None     3  DEL NORTE  \n3           None     4  DEL NORTE  \n4           None     5  DEL NORTE  \n...          ...   ...        ...  \n48590       None  4087  SAN DIEGO  \n48591      admin  4088  SAN DIEGO  \n48592      admin  4088  SAN DIEGO  \n48593      admin  4089  SAN DIEGO  \n48594       None  4090  SAN DIEGO  \n\n[48595 rows x 13 columns]",
      "text/html": "<div>\n<style scoped>\n    .dataframe tbody tr th:only-of-type {\n        vertical-align: middle;\n    }\n\n    .dataframe tbody tr th {\n        vertical-align: top;\n    }\n\n    .dataframe thead th {\n        text-align: right;\n    }\n</style>\n<table border=\"1\" class=\"dataframe\">\n  <thead>\n    <tr style=\"text-align: right;\">\n      <th></th>\n      <th>grid_id</th>\n      <th>tweet_id</th>\n      <th>created_at</th>\n      <th>text</th>\n      <th>author_id</th>\n      <th>place_id</th>\n      <th>lat</th>\n      <th>long</th>\n      <th>full_name</th>\n      <th>name</th>\n      <th>place_type</th>\n      <th>id</th>\n      <th>county</th>\n    </tr>\n  </thead>\n  <tbody>\n    <tr>\n      <th>0</th>\n      <td>1</td>\n      <td>None</td>\n      <td>NaT</td>\n      <td>None</td>\n      <td>None</td>\n      <td>None</td>\n      <td>NaN</td>\n      <td>NaN</td>\n      <td>None</td>\n      <td>None</td>\n      <td>None</td>\n      <td>1</td>\n      <td>DEL NORTE</td>\n    </tr>\n    <tr>\n      <th>1</th>\n      <td>2</td>\n      <td>None</td>\n      <td>NaT</td>\n      <td>None</td>\n      <td>None</td>\n      <td>None</td>\n      <td>NaN</td>\n      <td>NaN</td>\n      <td>None</td>\n      <td>None</td>\n      <td>None</td>\n      <td>2</td>\n      <td>DEL NORTE</td>\n    </tr>\n    <tr>\n      <th>2</th>\n      <td>3</td>\n      <td>None</td>\n      <td>NaT</td>\n      <td>None</td>\n      <td>None</td>\n      <td>None</td>\n      <td>NaN</td>\n      <td>NaN</td>\n      <td>None</td>\n      <td>None</td>\n      <td>None</td>\n      <td>3</td>\n      <td>DEL NORTE</td>\n    </tr>\n    <tr>\n      <th>3</th>\n      <td>4</td>\n      <td>None</td>\n      <td>NaT</td>\n      <td>None</td>\n      <td>None</td>\n      <td>None</td>\n      <td>NaN</td>\n      <td>NaN</td>\n      <td>None</td>\n      <td>None</td>\n      <td>None</td>\n      <td>4</td>\n      <td>DEL NORTE</td>\n    </tr>\n    <tr>\n      <th>4</th>\n      <td>5</td>\n      <td>None</td>\n      <td>NaT</td>\n      <td>None</td>\n      <td>None</td>\n      <td>None</td>\n      <td>NaN</td>\n      <td>NaN</td>\n      <td>None</td>\n      <td>None</td>\n      <td>None</td>\n      <td>5</td>\n      <td>DEL NORTE</td>\n    </tr>\n    <tr>\n      <th>...</th>\n      <td>...</td>\n      <td>...</td>\n      <td>...</td>\n      <td>...</td>\n      <td>...</td>\n      <td>...</td>\n      <td>...</td>\n      <td>...</td>\n      <td>...</td>\n      <td>...</td>\n      <td>...</td>\n      <td>...</td>\n      <td>...</td>\n    </tr>\n    <tr>\n      <th>48590</th>\n      <td>4087</td>\n      <td>None</td>\n      <td>NaT</td>\n      <td>None</td>\n      <td>None</td>\n      <td>None</td>\n      <td>NaN</td>\n      <td>NaN</td>\n      <td>None</td>\n      <td>None</td>\n      <td>None</td>\n      <td>4087</td>\n      <td>SAN DIEGO</td>\n    </tr>\n    <tr>\n      <th>48591</th>\n      <td>4088</td>\n      <td>699642589348306945</td>\n      <td>2016-02-16 17:12:46</td>\n      <td>One of my favorite short #roadbike rides with ...</td>\n      <td>236074117</td>\n      <td>fbd6d2f5a4e4a15e</td>\n      <td>-116.612000</td>\n      <td>32.604700</td>\n      <td>California, USA</td>\n      <td>California</td>\n      <td>admin</td>\n      <td>4088</td>\n      <td>SAN DIEGO</td>\n    </tr>\n    <tr>\n      <th>48592</th>\n      <td>4088</td>\n      <td>1149699890500591616</td>\n      <td>2019-07-12 15:19:48</td>\n      <td>Molly in her coyote vest decided she wanted to...</td>\n      <td>167237995</td>\n      <td>fbd6d2f5a4e4a15e</td>\n      <td>-116.592854</td>\n      <td>32.612469</td>\n      <td>California, USA</td>\n      <td>California</td>\n      <td>admin</td>\n      <td>4088</td>\n      <td>SAN DIEGO</td>\n    </tr>\n    <tr>\n      <th>48593</th>\n      <td>4089</td>\n      <td>828666935525199874</td>\n      <td>2017-02-06 18:09:27</td>\n      <td>DOP for Undead Express. The suns down and the ...</td>\n      <td>17798317</td>\n      <td>fbd6d2f5a4e4a15e</td>\n      <td>-116.472193</td>\n      <td>32.613785</td>\n      <td>California, USA</td>\n      <td>California</td>\n      <td>admin</td>\n      <td>4089</td>\n      <td>SAN DIEGO</td>\n    </tr>\n    <tr>\n      <th>48594</th>\n      <td>4090</td>\n      <td>None</td>\n      <td>NaT</td>\n      <td>None</td>\n      <td>None</td>\n      <td>None</td>\n      <td>NaN</td>\n      <td>NaN</td>\n      <td>None</td>\n      <td>None</td>\n      <td>None</td>\n      <td>4090</td>\n      <td>SAN DIEGO</td>\n    </tr>\n  </tbody>\n</table>\n<p>48595 rows × 13 columns</p>\n</div>"
     },
     "execution_count": 89,
     "metadata": {},
     "output_type": "execute_result"
    }
   ],
   "source": [
    "data = pd.read_parquet('modeling_notebooks/data/all_tweets.gzip')\n",
    "data"
   ],
   "metadata": {
    "collapsed": false,
    "pycharm": {
     "name": "#%%\n"
    }
   }
  },
  {
   "cell_type": "markdown",
   "source": [
    "Join datasets on text"
   ],
   "metadata": {
    "collapsed": false,
    "pycharm": {
     "name": "#%% md\n"
    }
   }
  },
  {
   "cell_type": "code",
   "execution_count": 90,
   "outputs": [],
   "source": [
    "data = data.merge(tagged_tweets, how='left', on='text')"
   ],
   "metadata": {
    "collapsed": false,
    "pycharm": {
     "name": "#%%\n"
    }
   }
  },
  {
   "cell_type": "code",
   "execution_count": 91,
   "outputs": [
    {
     "data": {
      "text/plain": "       grid_id           tweet_id_x          created_at  \\\n0            1                 None                 NaT   \n1            2                 None                 NaT   \n2            3                 None                 NaT   \n3            4                 None                 NaT   \n4            5                 None                 NaT   \n...        ...                  ...                 ...   \n48876     4087                 None                 NaT   \n48877     4088   699642589348306945 2016-02-16 17:12:46   \n48878     4088  1149699890500591616 2019-07-12 15:19:48   \n48879     4089   828666935525199874 2017-02-06 18:09:27   \n48880     4090                 None                 NaT   \n\n                                                    text  author_id  \\\n0                                                   None       None   \n1                                                   None       None   \n2                                                   None       None   \n3                                                   None       None   \n4                                                   None       None   \n...                                                  ...        ...   \n48876                                               None       None   \n48877  One of my favorite short #roadbike rides with ...  236074117   \n48878  Molly in her coyote vest decided she wanted to...  167237995   \n48879  DOP for Undead Express. The suns down and the ...   17798317   \n48880                                               None       None   \n\n               place_id         lat       long        full_name        name  \\\n0                  None         NaN        NaN             None        None   \n1                  None         NaN        NaN             None        None   \n2                  None         NaN        NaN             None        None   \n3                  None         NaN        NaN             None        None   \n4                  None         NaN        NaN             None        None   \n...                 ...         ...        ...              ...         ...   \n48876              None         NaN        NaN             None        None   \n48877  fbd6d2f5a4e4a15e -116.612000  32.604700  California, USA  California   \n48878  fbd6d2f5a4e4a15e -116.592854  32.612469  California, USA  California   \n48879  fbd6d2f5a4e4a15e -116.472193  32.613785  California, USA  California   \n48880              None         NaN        NaN             None        None   \n\n      place_type    id     county tweet_id_y  tag  \n0           None     1  DEL NORTE        NaN  NaN  \n1           None     2  DEL NORTE        NaN  NaN  \n2           None     3  DEL NORTE        NaN  NaN  \n3           None     4  DEL NORTE        NaN  NaN  \n4           None     5  DEL NORTE        NaN  NaN  \n...          ...   ...        ...        ...  ...  \n48876       None  4087  SAN DIEGO        NaN  NaN  \n48877      admin  4088  SAN DIEGO        NaN  NaN  \n48878      admin  4088  SAN DIEGO        NaN  NaN  \n48879      admin  4089  SAN DIEGO        NaN  NaN  \n48880       None  4090  SAN DIEGO        NaN  NaN  \n\n[48881 rows x 15 columns]",
      "text/html": "<div>\n<style scoped>\n    .dataframe tbody tr th:only-of-type {\n        vertical-align: middle;\n    }\n\n    .dataframe tbody tr th {\n        vertical-align: top;\n    }\n\n    .dataframe thead th {\n        text-align: right;\n    }\n</style>\n<table border=\"1\" class=\"dataframe\">\n  <thead>\n    <tr style=\"text-align: right;\">\n      <th></th>\n      <th>grid_id</th>\n      <th>tweet_id_x</th>\n      <th>created_at</th>\n      <th>text</th>\n      <th>author_id</th>\n      <th>place_id</th>\n      <th>lat</th>\n      <th>long</th>\n      <th>full_name</th>\n      <th>name</th>\n      <th>place_type</th>\n      <th>id</th>\n      <th>county</th>\n      <th>tweet_id_y</th>\n      <th>tag</th>\n    </tr>\n  </thead>\n  <tbody>\n    <tr>\n      <th>0</th>\n      <td>1</td>\n      <td>None</td>\n      <td>NaT</td>\n      <td>None</td>\n      <td>None</td>\n      <td>None</td>\n      <td>NaN</td>\n      <td>NaN</td>\n      <td>None</td>\n      <td>None</td>\n      <td>None</td>\n      <td>1</td>\n      <td>DEL NORTE</td>\n      <td>NaN</td>\n      <td>NaN</td>\n    </tr>\n    <tr>\n      <th>1</th>\n      <td>2</td>\n      <td>None</td>\n      <td>NaT</td>\n      <td>None</td>\n      <td>None</td>\n      <td>None</td>\n      <td>NaN</td>\n      <td>NaN</td>\n      <td>None</td>\n      <td>None</td>\n      <td>None</td>\n      <td>2</td>\n      <td>DEL NORTE</td>\n      <td>NaN</td>\n      <td>NaN</td>\n    </tr>\n    <tr>\n      <th>2</th>\n      <td>3</td>\n      <td>None</td>\n      <td>NaT</td>\n      <td>None</td>\n      <td>None</td>\n      <td>None</td>\n      <td>NaN</td>\n      <td>NaN</td>\n      <td>None</td>\n      <td>None</td>\n      <td>None</td>\n      <td>3</td>\n      <td>DEL NORTE</td>\n      <td>NaN</td>\n      <td>NaN</td>\n    </tr>\n    <tr>\n      <th>3</th>\n      <td>4</td>\n      <td>None</td>\n      <td>NaT</td>\n      <td>None</td>\n      <td>None</td>\n      <td>None</td>\n      <td>NaN</td>\n      <td>NaN</td>\n      <td>None</td>\n      <td>None</td>\n      <td>None</td>\n      <td>4</td>\n      <td>DEL NORTE</td>\n      <td>NaN</td>\n      <td>NaN</td>\n    </tr>\n    <tr>\n      <th>4</th>\n      <td>5</td>\n      <td>None</td>\n      <td>NaT</td>\n      <td>None</td>\n      <td>None</td>\n      <td>None</td>\n      <td>NaN</td>\n      <td>NaN</td>\n      <td>None</td>\n      <td>None</td>\n      <td>None</td>\n      <td>5</td>\n      <td>DEL NORTE</td>\n      <td>NaN</td>\n      <td>NaN</td>\n    </tr>\n    <tr>\n      <th>...</th>\n      <td>...</td>\n      <td>...</td>\n      <td>...</td>\n      <td>...</td>\n      <td>...</td>\n      <td>...</td>\n      <td>...</td>\n      <td>...</td>\n      <td>...</td>\n      <td>...</td>\n      <td>...</td>\n      <td>...</td>\n      <td>...</td>\n      <td>...</td>\n      <td>...</td>\n    </tr>\n    <tr>\n      <th>48876</th>\n      <td>4087</td>\n      <td>None</td>\n      <td>NaT</td>\n      <td>None</td>\n      <td>None</td>\n      <td>None</td>\n      <td>NaN</td>\n      <td>NaN</td>\n      <td>None</td>\n      <td>None</td>\n      <td>None</td>\n      <td>4087</td>\n      <td>SAN DIEGO</td>\n      <td>NaN</td>\n      <td>NaN</td>\n    </tr>\n    <tr>\n      <th>48877</th>\n      <td>4088</td>\n      <td>699642589348306945</td>\n      <td>2016-02-16 17:12:46</td>\n      <td>One of my favorite short #roadbike rides with ...</td>\n      <td>236074117</td>\n      <td>fbd6d2f5a4e4a15e</td>\n      <td>-116.612000</td>\n      <td>32.604700</td>\n      <td>California, USA</td>\n      <td>California</td>\n      <td>admin</td>\n      <td>4088</td>\n      <td>SAN DIEGO</td>\n      <td>NaN</td>\n      <td>NaN</td>\n    </tr>\n    <tr>\n      <th>48878</th>\n      <td>4088</td>\n      <td>1149699890500591616</td>\n      <td>2019-07-12 15:19:48</td>\n      <td>Molly in her coyote vest decided she wanted to...</td>\n      <td>167237995</td>\n      <td>fbd6d2f5a4e4a15e</td>\n      <td>-116.592854</td>\n      <td>32.612469</td>\n      <td>California, USA</td>\n      <td>California</td>\n      <td>admin</td>\n      <td>4088</td>\n      <td>SAN DIEGO</td>\n      <td>NaN</td>\n      <td>NaN</td>\n    </tr>\n    <tr>\n      <th>48879</th>\n      <td>4089</td>\n      <td>828666935525199874</td>\n      <td>2017-02-06 18:09:27</td>\n      <td>DOP for Undead Express. The suns down and the ...</td>\n      <td>17798317</td>\n      <td>fbd6d2f5a4e4a15e</td>\n      <td>-116.472193</td>\n      <td>32.613785</td>\n      <td>California, USA</td>\n      <td>California</td>\n      <td>admin</td>\n      <td>4089</td>\n      <td>SAN DIEGO</td>\n      <td>NaN</td>\n      <td>NaN</td>\n    </tr>\n    <tr>\n      <th>48880</th>\n      <td>4090</td>\n      <td>None</td>\n      <td>NaT</td>\n      <td>None</td>\n      <td>None</td>\n      <td>None</td>\n      <td>NaN</td>\n      <td>NaN</td>\n      <td>None</td>\n      <td>None</td>\n      <td>None</td>\n      <td>4090</td>\n      <td>SAN DIEGO</td>\n      <td>NaN</td>\n      <td>NaN</td>\n    </tr>\n  </tbody>\n</table>\n<p>48881 rows × 15 columns</p>\n</div>"
     },
     "execution_count": 91,
     "metadata": {},
     "output_type": "execute_result"
    }
   ],
   "source": [
    "data"
   ],
   "metadata": {
    "collapsed": false,
    "pycharm": {
     "name": "#%%\n"
    }
   }
  },
  {
   "cell_type": "code",
   "execution_count": 92,
   "outputs": [
    {
     "data": {
      "text/plain": "4648"
     },
     "execution_count": 92,
     "metadata": {},
     "output_type": "execute_result"
    }
   ],
   "source": [
    "data['tag'].notnull().sum()"
   ],
   "metadata": {
    "collapsed": false,
    "pycharm": {
     "name": "#%%\n"
    }
   }
  },
  {
   "cell_type": "code",
   "execution_count": 94,
   "outputs": [],
   "source": [
    "# Get rows with text\n",
    "notnull_data = data.loc[data['text'].notnull()]"
   ],
   "metadata": {
    "collapsed": false,
    "pycharm": {
     "name": "#%%\n"
    }
   }
  },
  {
   "cell_type": "code",
   "execution_count": 95,
   "outputs": [
    {
     "data": {
      "text/plain": "       grid_id           tweet_id_x          created_at  \\\n0           40   820841383099437058 2017-01-16 03:53:30   \n1           40   820841383099437058 2017-01-16 03:53:30   \n2           67   310585251560841216 2013-03-10 02:57:49   \n3           73          19057484971 2010-07-21 06:52:06   \n4          101  1115718553406033921 2019-04-09 20:50:06   \n...        ...                  ...                 ...   \n45779     4085   185202748202033152 2012-03-29 03:12:30   \n45780     4086  1195116824913776640 2019-11-14 23:10:29   \n45781     4088   699642589348306945 2016-02-16 17:12:46   \n45782     4088  1149699890500591616 2019-07-12 15:19:48   \n45783     4089   828666935525199874 2017-02-06 18:09:27   \n\n                                                    text  author_id  \\\n0      Back of the camera preview from today at the r...  231610931   \n1      Back of the camera preview from today at the r...  231610931   \n2      @phoenixcoyotes. Nicccce starting the 3rd with...   69728061   \n3      And now I hear coyotes... they better not hurt...   54453264   \n4      @almostjingo Not to mention American citizens ...  823970107   \n...                                                  ...        ...   \n45779  Who runs with dogs this late?? Coyotes   Still...  375866895   \n45780  In the 90s, when border enforcement was still ...   15118889   \n45781  One of my favorite short #roadbike rides with ...  236074117   \n45782  Molly in her coyote vest decided she wanted to...  167237995   \n45783  DOP for Undead Express. The suns down and the ...   17798317   \n\n               place_id         lat       long                  full_name  \\\n0      fbd6d2f5a4e4a15e -121.697000  41.948800            California, USA   \n1      fbd6d2f5a4e4a15e -121.697000  41.948800            California, USA   \n2      fbd6d2f5a4e4a15e -122.581384  41.805792            California, USA   \n3      ca06c9bd1e591f53         NaN        NaN           Butte Valley, CA   \n4      e057ac551ce5df02         NaN        NaN                  Yreka, CA   \n...                 ...         ...        ...                        ...   \n45779  28ace6b8d6dbc3af -116.945490  32.643177            Chula Vista, CA   \n45780  07d9d3592f487000         NaN        NaN  Otay Mountain Truck Trail   \n45781  fbd6d2f5a4e4a15e -116.612000  32.604700            California, USA   \n45782  fbd6d2f5a4e4a15e -116.592854  32.612469            California, USA   \n45783  fbd6d2f5a4e4a15e -116.472193  32.613785            California, USA   \n\n                            name place_type    id     county  \\\n0                     California      admin    40   SISKIYOU   \n1                     California      admin    40   SISKIYOU   \n2                     California      admin    67   SISKIYOU   \n3                   Butte Valley       city    73   SISKIYOU   \n4                          Yreka       city   101   SISKIYOU   \n...                          ...        ...   ...        ...   \n45779                Chula Vista       city  4085  SAN DIEGO   \n45780  Otay Mountain Truck Trail        poi  4086  SAN DIEGO   \n45781                 California      admin  4088  SAN DIEGO   \n45782                 California      admin  4088  SAN DIEGO   \n45783                 California      admin  4089  SAN DIEGO   \n\n                tweet_id_y  tag  \n0       820841383099436928  1.0  \n1       820841383099437056  1.0  \n2       310585251560841216  0.0  \n3              19057484971  1.0  \n4      1115718553406033920  0.0  \n...                    ...  ...  \n45779                  NaN  NaN  \n45780                  NaN  NaN  \n45781                  NaN  NaN  \n45782                  NaN  NaN  \n45783                  NaN  NaN  \n\n[45784 rows x 15 columns]",
      "text/html": "<div>\n<style scoped>\n    .dataframe tbody tr th:only-of-type {\n        vertical-align: middle;\n    }\n\n    .dataframe tbody tr th {\n        vertical-align: top;\n    }\n\n    .dataframe thead th {\n        text-align: right;\n    }\n</style>\n<table border=\"1\" class=\"dataframe\">\n  <thead>\n    <tr style=\"text-align: right;\">\n      <th></th>\n      <th>grid_id</th>\n      <th>tweet_id_x</th>\n      <th>created_at</th>\n      <th>text</th>\n      <th>author_id</th>\n      <th>place_id</th>\n      <th>lat</th>\n      <th>long</th>\n      <th>full_name</th>\n      <th>name</th>\n      <th>place_type</th>\n      <th>id</th>\n      <th>county</th>\n      <th>tweet_id_y</th>\n      <th>tag</th>\n    </tr>\n  </thead>\n  <tbody>\n    <tr>\n      <th>0</th>\n      <td>40</td>\n      <td>820841383099437058</td>\n      <td>2017-01-16 03:53:30</td>\n      <td>Back of the camera preview from today at the r...</td>\n      <td>231610931</td>\n      <td>fbd6d2f5a4e4a15e</td>\n      <td>-121.697000</td>\n      <td>41.948800</td>\n      <td>California, USA</td>\n      <td>California</td>\n      <td>admin</td>\n      <td>40</td>\n      <td>SISKIYOU</td>\n      <td>820841383099436928</td>\n      <td>1.0</td>\n    </tr>\n    <tr>\n      <th>1</th>\n      <td>40</td>\n      <td>820841383099437058</td>\n      <td>2017-01-16 03:53:30</td>\n      <td>Back of the camera preview from today at the r...</td>\n      <td>231610931</td>\n      <td>fbd6d2f5a4e4a15e</td>\n      <td>-121.697000</td>\n      <td>41.948800</td>\n      <td>California, USA</td>\n      <td>California</td>\n      <td>admin</td>\n      <td>40</td>\n      <td>SISKIYOU</td>\n      <td>820841383099437056</td>\n      <td>1.0</td>\n    </tr>\n    <tr>\n      <th>2</th>\n      <td>67</td>\n      <td>310585251560841216</td>\n      <td>2013-03-10 02:57:49</td>\n      <td>@phoenixcoyotes. Nicccce starting the 3rd with...</td>\n      <td>69728061</td>\n      <td>fbd6d2f5a4e4a15e</td>\n      <td>-122.581384</td>\n      <td>41.805792</td>\n      <td>California, USA</td>\n      <td>California</td>\n      <td>admin</td>\n      <td>67</td>\n      <td>SISKIYOU</td>\n      <td>310585251560841216</td>\n      <td>0.0</td>\n    </tr>\n    <tr>\n      <th>3</th>\n      <td>73</td>\n      <td>19057484971</td>\n      <td>2010-07-21 06:52:06</td>\n      <td>And now I hear coyotes... they better not hurt...</td>\n      <td>54453264</td>\n      <td>ca06c9bd1e591f53</td>\n      <td>NaN</td>\n      <td>NaN</td>\n      <td>Butte Valley, CA</td>\n      <td>Butte Valley</td>\n      <td>city</td>\n      <td>73</td>\n      <td>SISKIYOU</td>\n      <td>19057484971</td>\n      <td>1.0</td>\n    </tr>\n    <tr>\n      <th>4</th>\n      <td>101</td>\n      <td>1115718553406033921</td>\n      <td>2019-04-09 20:50:06</td>\n      <td>@almostjingo Not to mention American citizens ...</td>\n      <td>823970107</td>\n      <td>e057ac551ce5df02</td>\n      <td>NaN</td>\n      <td>NaN</td>\n      <td>Yreka, CA</td>\n      <td>Yreka</td>\n      <td>city</td>\n      <td>101</td>\n      <td>SISKIYOU</td>\n      <td>1115718553406033920</td>\n      <td>0.0</td>\n    </tr>\n    <tr>\n      <th>...</th>\n      <td>...</td>\n      <td>...</td>\n      <td>...</td>\n      <td>...</td>\n      <td>...</td>\n      <td>...</td>\n      <td>...</td>\n      <td>...</td>\n      <td>...</td>\n      <td>...</td>\n      <td>...</td>\n      <td>...</td>\n      <td>...</td>\n      <td>...</td>\n      <td>...</td>\n    </tr>\n    <tr>\n      <th>45779</th>\n      <td>4085</td>\n      <td>185202748202033152</td>\n      <td>2012-03-29 03:12:30</td>\n      <td>Who runs with dogs this late?? Coyotes   Still...</td>\n      <td>375866895</td>\n      <td>28ace6b8d6dbc3af</td>\n      <td>-116.945490</td>\n      <td>32.643177</td>\n      <td>Chula Vista, CA</td>\n      <td>Chula Vista</td>\n      <td>city</td>\n      <td>4085</td>\n      <td>SAN DIEGO</td>\n      <td>NaN</td>\n      <td>NaN</td>\n    </tr>\n    <tr>\n      <th>45780</th>\n      <td>4086</td>\n      <td>1195116824913776640</td>\n      <td>2019-11-14 23:10:29</td>\n      <td>In the 90s, when border enforcement was still ...</td>\n      <td>15118889</td>\n      <td>07d9d3592f487000</td>\n      <td>NaN</td>\n      <td>NaN</td>\n      <td>Otay Mountain Truck Trail</td>\n      <td>Otay Mountain Truck Trail</td>\n      <td>poi</td>\n      <td>4086</td>\n      <td>SAN DIEGO</td>\n      <td>NaN</td>\n      <td>NaN</td>\n    </tr>\n    <tr>\n      <th>45781</th>\n      <td>4088</td>\n      <td>699642589348306945</td>\n      <td>2016-02-16 17:12:46</td>\n      <td>One of my favorite short #roadbike rides with ...</td>\n      <td>236074117</td>\n      <td>fbd6d2f5a4e4a15e</td>\n      <td>-116.612000</td>\n      <td>32.604700</td>\n      <td>California, USA</td>\n      <td>California</td>\n      <td>admin</td>\n      <td>4088</td>\n      <td>SAN DIEGO</td>\n      <td>NaN</td>\n      <td>NaN</td>\n    </tr>\n    <tr>\n      <th>45782</th>\n      <td>4088</td>\n      <td>1149699890500591616</td>\n      <td>2019-07-12 15:19:48</td>\n      <td>Molly in her coyote vest decided she wanted to...</td>\n      <td>167237995</td>\n      <td>fbd6d2f5a4e4a15e</td>\n      <td>-116.592854</td>\n      <td>32.612469</td>\n      <td>California, USA</td>\n      <td>California</td>\n      <td>admin</td>\n      <td>4088</td>\n      <td>SAN DIEGO</td>\n      <td>NaN</td>\n      <td>NaN</td>\n    </tr>\n    <tr>\n      <th>45783</th>\n      <td>4089</td>\n      <td>828666935525199874</td>\n      <td>2017-02-06 18:09:27</td>\n      <td>DOP for Undead Express. The suns down and the ...</td>\n      <td>17798317</td>\n      <td>fbd6d2f5a4e4a15e</td>\n      <td>-116.472193</td>\n      <td>32.613785</td>\n      <td>California, USA</td>\n      <td>California</td>\n      <td>admin</td>\n      <td>4089</td>\n      <td>SAN DIEGO</td>\n      <td>NaN</td>\n      <td>NaN</td>\n    </tr>\n  </tbody>\n</table>\n<p>45784 rows × 15 columns</p>\n</div>"
     },
     "execution_count": 95,
     "metadata": {},
     "output_type": "execute_result"
    }
   ],
   "source": [
    "notnull_data = notnull_data.reset_index(drop=True)\n",
    "notnull_data"
   ],
   "metadata": {
    "collapsed": false,
    "pycharm": {
     "name": "#%%\n"
    }
   }
  },
  {
   "cell_type": "markdown",
   "source": [
    "# Predict: Convert text to word embeddings"
   ],
   "metadata": {
    "collapsed": false,
    "pycharm": {
     "name": "#%% md\n"
    }
   }
  },
  {
   "cell_type": "code",
   "execution_count": 96,
   "outputs": [],
   "source": [
    "def tweet_vector(nlp, tweet):\n",
    "    tweet = tn.tweet_preprocessor2(tweet)\n",
    "    tweet = nlp(tweet)\n",
    "    return tweet.vector\n",
    "\n",
    "\n",
    "def tweets2vector(nlp, tweets):\n",
    "    vectors = []\n",
    "    for tweet in tqdm.tqdm(tweets):\n",
    "        vectors.append(tweet_vector(nlp, tweet))\n",
    "    return np.array(vectors)"
   ],
   "metadata": {
    "collapsed": false,
    "pycharm": {
     "name": "#%%\n"
    }
   }
  },
  {
   "cell_type": "code",
   "execution_count": 97,
   "outputs": [],
   "source": [
    "nlp = spacy.load('en_core_web_md')"
   ],
   "metadata": {
    "collapsed": false,
    "pycharm": {
     "name": "#%%\n"
    }
   }
  },
  {
   "cell_type": "code",
   "execution_count": 98,
   "outputs": [
    {
     "name": "stderr",
     "output_type": "stream",
     "text": [
      "100%|██████████| 45784/45784 [04:01<00:00, 189.74it/s]\n"
     ]
    }
   ],
   "source": [
    "word_embeddings = tweets2vector(nlp, notnull_data['text'])"
   ],
   "metadata": {
    "collapsed": false,
    "pycharm": {
     "name": "#%%\n"
    }
   }
  },
  {
   "cell_type": "code",
   "execution_count": 99,
   "outputs": [
    {
     "data": {
      "text/plain": "array([[-0.00965526,  0.09418506, -0.162947  , ...,  0.04442416,\n        -0.03511579,  0.13016784],\n       [-0.00965526,  0.09418506, -0.162947  , ...,  0.04442416,\n        -0.03511579,  0.13016784],\n       [-0.04693058,  0.14849557, -0.05399417, ..., -0.05143673,\n        -0.02890075,  0.02756908],\n       ...,\n       [ 0.1400825 ,  0.08723924, -0.2610565 , ..., -0.03904875,\n        -0.01670982, -0.02110842],\n       [-0.06393279,  0.15761217, -0.02621064, ..., -0.00551164,\n         0.07185886,  0.12273428],\n       [ 0.06804594, -0.00928667, -0.07735228, ..., -0.00643467,\n        -0.03804067,  0.02941406]], dtype=float32)"
     },
     "execution_count": 99,
     "metadata": {},
     "output_type": "execute_result"
    }
   ],
   "source": [
    "word_embeddings"
   ],
   "metadata": {
    "collapsed": false,
    "pycharm": {
     "name": "#%%\n"
    }
   }
  },
  {
   "cell_type": "markdown",
   "source": [
    "Load model and predict on word embeddings"
   ],
   "metadata": {
    "collapsed": false,
    "pycharm": {
     "name": "#%% md\n"
    }
   }
  },
  {
   "cell_type": "code",
   "execution_count": 100,
   "outputs": [],
   "source": [
    "model = joblib.load('../../models/xgc_.89.pkl')"
   ],
   "metadata": {
    "collapsed": false,
    "pycharm": {
     "name": "#%%\n"
    }
   }
  },
  {
   "cell_type": "code",
   "execution_count": 101,
   "outputs": [],
   "source": [
    "preds = model.predict(word_embeddings)"
   ],
   "metadata": {
    "collapsed": false,
    "pycharm": {
     "name": "#%%\n"
    }
   }
  },
  {
   "cell_type": "code",
   "execution_count": 102,
   "outputs": [
    {
     "data": {
      "text/plain": "array([1., 1., 0., ..., 0., 1., 0.])"
     },
     "execution_count": 102,
     "metadata": {},
     "output_type": "execute_result"
    }
   ],
   "source": [
    "preds"
   ],
   "metadata": {
    "collapsed": false,
    "pycharm": {
     "name": "#%%\n"
    }
   }
  },
  {
   "cell_type": "code",
   "execution_count": 103,
   "outputs": [],
   "source": [
    "notnull_data['relevance_pred'] = preds"
   ],
   "metadata": {
    "collapsed": false,
    "pycharm": {
     "name": "#%%\n"
    }
   }
  },
  {
   "cell_type": "code",
   "execution_count": 105,
   "outputs": [
    {
     "data": {
      "text/plain": "                                                    text  tag  relevance_pred\n0      Back of the camera preview from today at the r...  1.0             1.0\n1      Back of the camera preview from today at the r...  1.0             1.0\n2      @phoenixcoyotes. Nicccce starting the 3rd with...  0.0             0.0\n3      And now I hear coyotes... they better not hurt...  1.0             1.0\n4      @almostjingo Not to mention American citizens ...  0.0             0.0\n...                                                  ...  ...             ...\n45779  Who runs with dogs this late?? Coyotes   Still...  NaN             1.0\n45780  In the 90s, when border enforcement was still ...  NaN             0.0\n45781  One of my favorite short #roadbike rides with ...  NaN             0.0\n45782  Molly in her coyote vest decided she wanted to...  NaN             1.0\n45783  DOP for Undead Express. The suns down and the ...  NaN             0.0\n\n[45784 rows x 3 columns]",
      "text/html": "<div>\n<style scoped>\n    .dataframe tbody tr th:only-of-type {\n        vertical-align: middle;\n    }\n\n    .dataframe tbody tr th {\n        vertical-align: top;\n    }\n\n    .dataframe thead th {\n        text-align: right;\n    }\n</style>\n<table border=\"1\" class=\"dataframe\">\n  <thead>\n    <tr style=\"text-align: right;\">\n      <th></th>\n      <th>text</th>\n      <th>tag</th>\n      <th>relevance_pred</th>\n    </tr>\n  </thead>\n  <tbody>\n    <tr>\n      <th>0</th>\n      <td>Back of the camera preview from today at the r...</td>\n      <td>1.0</td>\n      <td>1.0</td>\n    </tr>\n    <tr>\n      <th>1</th>\n      <td>Back of the camera preview from today at the r...</td>\n      <td>1.0</td>\n      <td>1.0</td>\n    </tr>\n    <tr>\n      <th>2</th>\n      <td>@phoenixcoyotes. Nicccce starting the 3rd with...</td>\n      <td>0.0</td>\n      <td>0.0</td>\n    </tr>\n    <tr>\n      <th>3</th>\n      <td>And now I hear coyotes... they better not hurt...</td>\n      <td>1.0</td>\n      <td>1.0</td>\n    </tr>\n    <tr>\n      <th>4</th>\n      <td>@almostjingo Not to mention American citizens ...</td>\n      <td>0.0</td>\n      <td>0.0</td>\n    </tr>\n    <tr>\n      <th>...</th>\n      <td>...</td>\n      <td>...</td>\n      <td>...</td>\n    </tr>\n    <tr>\n      <th>45779</th>\n      <td>Who runs with dogs this late?? Coyotes   Still...</td>\n      <td>NaN</td>\n      <td>1.0</td>\n    </tr>\n    <tr>\n      <th>45780</th>\n      <td>In the 90s, when border enforcement was still ...</td>\n      <td>NaN</td>\n      <td>0.0</td>\n    </tr>\n    <tr>\n      <th>45781</th>\n      <td>One of my favorite short #roadbike rides with ...</td>\n      <td>NaN</td>\n      <td>0.0</td>\n    </tr>\n    <tr>\n      <th>45782</th>\n      <td>Molly in her coyote vest decided she wanted to...</td>\n      <td>NaN</td>\n      <td>1.0</td>\n    </tr>\n    <tr>\n      <th>45783</th>\n      <td>DOP for Undead Express. The suns down and the ...</td>\n      <td>NaN</td>\n      <td>0.0</td>\n    </tr>\n  </tbody>\n</table>\n<p>45784 rows × 3 columns</p>\n</div>"
     },
     "execution_count": 105,
     "metadata": {},
     "output_type": "execute_result"
    }
   ],
   "source": [
    "notnull_data[['text', 'tag', 'relevance_pred']]"
   ],
   "metadata": {
    "collapsed": false,
    "pycharm": {
     "name": "#%%\n"
    }
   }
  },
  {
   "cell_type": "markdown",
   "source": [
    "Get sentiment score of relevant tweets"
   ],
   "metadata": {
    "collapsed": false,
    "pycharm": {
     "name": "#%% md\n"
    }
   }
  },
  {
   "cell_type": "code",
   "execution_count": 106,
   "outputs": [
    {
     "data": {
      "text/plain": "(14838, 16)"
     },
     "execution_count": 106,
     "metadata": {},
     "output_type": "execute_result"
    }
   ],
   "source": [
    "rel_tweets = notnull_data[(notnull_data['tag'] == 1) | (notnull_data['relevance_pred'] == 1)]\n",
    "rel_tweets.shape"
   ],
   "metadata": {
    "collapsed": false,
    "pycharm": {
     "name": "#%%\n"
    }
   }
  },
  {
   "cell_type": "code",
   "execution_count": 107,
   "outputs": [
    {
     "data": {
      "text/plain": "       grid_id           tweet_id_x          created_at  \\\n0           40   820841383099437058 2017-01-16 03:53:30   \n1           40   820841383099437058 2017-01-16 03:53:30   \n3           73          19057484971 2010-07-21 06:52:06   \n5          101   364985527600033795 2013-08-07 05:45:05   \n6          101  1397357765811597312 2021-05-26 01:03:47   \n...        ...                  ...                 ...   \n45776     4085   212411891711090689 2012-06-12 05:11:56   \n45777     4085   210056659815501825 2012-06-05 17:13:05   \n45778     4085   699096334415089664 2016-02-15 05:02:09   \n45779     4085   185202748202033152 2012-03-29 03:12:30   \n45782     4088  1149699890500591616 2019-07-12 15:19:48   \n\n                                                    text   author_id  \\\n0      Back of the camera preview from today at the r...   231610931   \n1      Back of the camera preview from today at the r...   231610931   \n3      And now I hear coyotes... they better not hurt...    54453264   \n5      Goal for tomorrow is to rope a coyote  #gottah...   266238333   \n6      @numinousstock I could potentially run into a ...  2802522932   \n...                                                  ...         ...   \n45776  Just saw a coyote, thought it was a teen wolf ...   449271004   \n45777  Coyotes refuel.   @ New Hope Community Church ...   457642307   \n45778  Listening to the  howling of coyotes. @thousan...    11954102   \n45779  Who runs with dogs this late?? Coyotes   Still...   375866895   \n45782  Molly in her coyote vest decided she wanted to...   167237995   \n\n               place_id         lat       long         full_name  \\\n0      fbd6d2f5a4e4a15e -121.697000  41.948800   California, USA   \n1      fbd6d2f5a4e4a15e -121.697000  41.948800   California, USA   \n3      ca06c9bd1e591f53         NaN        NaN  Butte Valley, CA   \n5      e057ac551ce5df02 -122.611145  41.742534         Yreka, CA   \n6      e057ac551ce5df02         NaN        NaN         Yreka, CA   \n...                 ...         ...        ...               ...   \n45776  28ace6b8d6dbc3af -116.950282  32.658601   Chula Vista, CA   \n45777  28ace6b8d6dbc3af -116.940160  32.631622   Chula Vista, CA   \n45778  fbd6d2f5a4e4a15e -116.852493  32.649029   California, USA   \n45779  28ace6b8d6dbc3af -116.945490  32.643177   Chula Vista, CA   \n45782  fbd6d2f5a4e4a15e -116.592854  32.612469   California, USA   \n\n               name place_type    id     county           tweet_id_y  tag  \\\n0        California      admin    40   SISKIYOU   820841383099436928  1.0   \n1        California      admin    40   SISKIYOU   820841383099437056  1.0   \n3      Butte Valley       city    73   SISKIYOU          19057484971  1.0   \n5             Yreka       city   101   SISKIYOU   364985527600033792  1.0   \n6             Yreka       city   101   SISKIYOU  1397357765811597312  1.0   \n...             ...        ...   ...        ...                  ...  ...   \n45776   Chula Vista       city  4085  SAN DIEGO                  NaN  NaN   \n45777   Chula Vista       city  4085  SAN DIEGO                  NaN  NaN   \n45778    California      admin  4085  SAN DIEGO   699096334415089664  1.0   \n45779   Chula Vista       city  4085  SAN DIEGO                  NaN  NaN   \n45782    California      admin  4088  SAN DIEGO                  NaN  NaN   \n\n       relevance_pred  \n0                 1.0  \n1                 1.0  \n3                 1.0  \n5                 0.0  \n6                 1.0  \n...               ...  \n45776             1.0  \n45777             1.0  \n45778             1.0  \n45779             1.0  \n45782             1.0  \n\n[14838 rows x 16 columns]",
      "text/html": "<div>\n<style scoped>\n    .dataframe tbody tr th:only-of-type {\n        vertical-align: middle;\n    }\n\n    .dataframe tbody tr th {\n        vertical-align: top;\n    }\n\n    .dataframe thead th {\n        text-align: right;\n    }\n</style>\n<table border=\"1\" class=\"dataframe\">\n  <thead>\n    <tr style=\"text-align: right;\">\n      <th></th>\n      <th>grid_id</th>\n      <th>tweet_id_x</th>\n      <th>created_at</th>\n      <th>text</th>\n      <th>author_id</th>\n      <th>place_id</th>\n      <th>lat</th>\n      <th>long</th>\n      <th>full_name</th>\n      <th>name</th>\n      <th>place_type</th>\n      <th>id</th>\n      <th>county</th>\n      <th>tweet_id_y</th>\n      <th>tag</th>\n      <th>relevance_pred</th>\n    </tr>\n  </thead>\n  <tbody>\n    <tr>\n      <th>0</th>\n      <td>40</td>\n      <td>820841383099437058</td>\n      <td>2017-01-16 03:53:30</td>\n      <td>Back of the camera preview from today at the r...</td>\n      <td>231610931</td>\n      <td>fbd6d2f5a4e4a15e</td>\n      <td>-121.697000</td>\n      <td>41.948800</td>\n      <td>California, USA</td>\n      <td>California</td>\n      <td>admin</td>\n      <td>40</td>\n      <td>SISKIYOU</td>\n      <td>820841383099436928</td>\n      <td>1.0</td>\n      <td>1.0</td>\n    </tr>\n    <tr>\n      <th>1</th>\n      <td>40</td>\n      <td>820841383099437058</td>\n      <td>2017-01-16 03:53:30</td>\n      <td>Back of the camera preview from today at the r...</td>\n      <td>231610931</td>\n      <td>fbd6d2f5a4e4a15e</td>\n      <td>-121.697000</td>\n      <td>41.948800</td>\n      <td>California, USA</td>\n      <td>California</td>\n      <td>admin</td>\n      <td>40</td>\n      <td>SISKIYOU</td>\n      <td>820841383099437056</td>\n      <td>1.0</td>\n      <td>1.0</td>\n    </tr>\n    <tr>\n      <th>3</th>\n      <td>73</td>\n      <td>19057484971</td>\n      <td>2010-07-21 06:52:06</td>\n      <td>And now I hear coyotes... they better not hurt...</td>\n      <td>54453264</td>\n      <td>ca06c9bd1e591f53</td>\n      <td>NaN</td>\n      <td>NaN</td>\n      <td>Butte Valley, CA</td>\n      <td>Butte Valley</td>\n      <td>city</td>\n      <td>73</td>\n      <td>SISKIYOU</td>\n      <td>19057484971</td>\n      <td>1.0</td>\n      <td>1.0</td>\n    </tr>\n    <tr>\n      <th>5</th>\n      <td>101</td>\n      <td>364985527600033795</td>\n      <td>2013-08-07 05:45:05</td>\n      <td>Goal for tomorrow is to rope a coyote  #gottah...</td>\n      <td>266238333</td>\n      <td>e057ac551ce5df02</td>\n      <td>-122.611145</td>\n      <td>41.742534</td>\n      <td>Yreka, CA</td>\n      <td>Yreka</td>\n      <td>city</td>\n      <td>101</td>\n      <td>SISKIYOU</td>\n      <td>364985527600033792</td>\n      <td>1.0</td>\n      <td>0.0</td>\n    </tr>\n    <tr>\n      <th>6</th>\n      <td>101</td>\n      <td>1397357765811597312</td>\n      <td>2021-05-26 01:03:47</td>\n      <td>@numinousstock I could potentially run into a ...</td>\n      <td>2802522932</td>\n      <td>e057ac551ce5df02</td>\n      <td>NaN</td>\n      <td>NaN</td>\n      <td>Yreka, CA</td>\n      <td>Yreka</td>\n      <td>city</td>\n      <td>101</td>\n      <td>SISKIYOU</td>\n      <td>1397357765811597312</td>\n      <td>1.0</td>\n      <td>1.0</td>\n    </tr>\n    <tr>\n      <th>...</th>\n      <td>...</td>\n      <td>...</td>\n      <td>...</td>\n      <td>...</td>\n      <td>...</td>\n      <td>...</td>\n      <td>...</td>\n      <td>...</td>\n      <td>...</td>\n      <td>...</td>\n      <td>...</td>\n      <td>...</td>\n      <td>...</td>\n      <td>...</td>\n      <td>...</td>\n      <td>...</td>\n    </tr>\n    <tr>\n      <th>45776</th>\n      <td>4085</td>\n      <td>212411891711090689</td>\n      <td>2012-06-12 05:11:56</td>\n      <td>Just saw a coyote, thought it was a teen wolf ...</td>\n      <td>449271004</td>\n      <td>28ace6b8d6dbc3af</td>\n      <td>-116.950282</td>\n      <td>32.658601</td>\n      <td>Chula Vista, CA</td>\n      <td>Chula Vista</td>\n      <td>city</td>\n      <td>4085</td>\n      <td>SAN DIEGO</td>\n      <td>NaN</td>\n      <td>NaN</td>\n      <td>1.0</td>\n    </tr>\n    <tr>\n      <th>45777</th>\n      <td>4085</td>\n      <td>210056659815501825</td>\n      <td>2012-06-05 17:13:05</td>\n      <td>Coyotes refuel.   @ New Hope Community Church ...</td>\n      <td>457642307</td>\n      <td>28ace6b8d6dbc3af</td>\n      <td>-116.940160</td>\n      <td>32.631622</td>\n      <td>Chula Vista, CA</td>\n      <td>Chula Vista</td>\n      <td>city</td>\n      <td>4085</td>\n      <td>SAN DIEGO</td>\n      <td>NaN</td>\n      <td>NaN</td>\n      <td>1.0</td>\n    </tr>\n    <tr>\n      <th>45778</th>\n      <td>4085</td>\n      <td>699096334415089664</td>\n      <td>2016-02-15 05:02:09</td>\n      <td>Listening to the  howling of coyotes. @thousan...</td>\n      <td>11954102</td>\n      <td>fbd6d2f5a4e4a15e</td>\n      <td>-116.852493</td>\n      <td>32.649029</td>\n      <td>California, USA</td>\n      <td>California</td>\n      <td>admin</td>\n      <td>4085</td>\n      <td>SAN DIEGO</td>\n      <td>699096334415089664</td>\n      <td>1.0</td>\n      <td>1.0</td>\n    </tr>\n    <tr>\n      <th>45779</th>\n      <td>4085</td>\n      <td>185202748202033152</td>\n      <td>2012-03-29 03:12:30</td>\n      <td>Who runs with dogs this late?? Coyotes   Still...</td>\n      <td>375866895</td>\n      <td>28ace6b8d6dbc3af</td>\n      <td>-116.945490</td>\n      <td>32.643177</td>\n      <td>Chula Vista, CA</td>\n      <td>Chula Vista</td>\n      <td>city</td>\n      <td>4085</td>\n      <td>SAN DIEGO</td>\n      <td>NaN</td>\n      <td>NaN</td>\n      <td>1.0</td>\n    </tr>\n    <tr>\n      <th>45782</th>\n      <td>4088</td>\n      <td>1149699890500591616</td>\n      <td>2019-07-12 15:19:48</td>\n      <td>Molly in her coyote vest decided she wanted to...</td>\n      <td>167237995</td>\n      <td>fbd6d2f5a4e4a15e</td>\n      <td>-116.592854</td>\n      <td>32.612469</td>\n      <td>California, USA</td>\n      <td>California</td>\n      <td>admin</td>\n      <td>4088</td>\n      <td>SAN DIEGO</td>\n      <td>NaN</td>\n      <td>NaN</td>\n      <td>1.0</td>\n    </tr>\n  </tbody>\n</table>\n<p>14838 rows × 16 columns</p>\n</div>"
     },
     "execution_count": 107,
     "metadata": {},
     "output_type": "execute_result"
    }
   ],
   "source": [
    "rel_tweets"
   ],
   "metadata": {
    "collapsed": false,
    "pycharm": {
     "name": "#%%\n"
    }
   }
  },
  {
   "cell_type": "code",
   "execution_count": 108,
   "outputs": [],
   "source": [
    "sent_scores = [score_tweet(t) for t in rel_tweets['text']]"
   ],
   "metadata": {
    "collapsed": false,
    "pycharm": {
     "name": "#%%\n"
    }
   }
  },
  {
   "cell_type": "code",
   "execution_count": 110,
   "outputs": [
    {
     "data": {
      "text/plain": "       neg_sent_score  neu_sent_score  pos_sent_score  compound_sent_score  \\\n0               0.094           0.906           0.000              -0.2411   \n1               0.094           0.906           0.000              -0.2411   \n2               0.000           0.579           0.421               0.7616   \n3               0.000           1.000           0.000               0.0000   \n4               0.000           1.000           0.000               0.0000   \n...               ...             ...             ...                  ...   \n14833           0.000           1.000           0.000               0.0000   \n14834           0.000           0.707           0.293               0.4404   \n14835           0.000           1.000           0.000               0.0000   \n14836           0.000           1.000           0.000               0.0000   \n14837           0.000           1.000           0.000               0.0000   \n\n      sent_class  \n0       negative  \n1       negative  \n2       positive  \n3        neutral  \n4        neutral  \n...          ...  \n14833    neutral  \n14834   positive  \n14835    neutral  \n14836    neutral  \n14837    neutral  \n\n[14838 rows x 5 columns]",
      "text/html": "<div>\n<style scoped>\n    .dataframe tbody tr th:only-of-type {\n        vertical-align: middle;\n    }\n\n    .dataframe tbody tr th {\n        vertical-align: top;\n    }\n\n    .dataframe thead th {\n        text-align: right;\n    }\n</style>\n<table border=\"1\" class=\"dataframe\">\n  <thead>\n    <tr style=\"text-align: right;\">\n      <th></th>\n      <th>neg_sent_score</th>\n      <th>neu_sent_score</th>\n      <th>pos_sent_score</th>\n      <th>compound_sent_score</th>\n      <th>sent_class</th>\n    </tr>\n  </thead>\n  <tbody>\n    <tr>\n      <th>0</th>\n      <td>0.094</td>\n      <td>0.906</td>\n      <td>0.000</td>\n      <td>-0.2411</td>\n      <td>negative</td>\n    </tr>\n    <tr>\n      <th>1</th>\n      <td>0.094</td>\n      <td>0.906</td>\n      <td>0.000</td>\n      <td>-0.2411</td>\n      <td>negative</td>\n    </tr>\n    <tr>\n      <th>2</th>\n      <td>0.000</td>\n      <td>0.579</td>\n      <td>0.421</td>\n      <td>0.7616</td>\n      <td>positive</td>\n    </tr>\n    <tr>\n      <th>3</th>\n      <td>0.000</td>\n      <td>1.000</td>\n      <td>0.000</td>\n      <td>0.0000</td>\n      <td>neutral</td>\n    </tr>\n    <tr>\n      <th>4</th>\n      <td>0.000</td>\n      <td>1.000</td>\n      <td>0.000</td>\n      <td>0.0000</td>\n      <td>neutral</td>\n    </tr>\n    <tr>\n      <th>...</th>\n      <td>...</td>\n      <td>...</td>\n      <td>...</td>\n      <td>...</td>\n      <td>...</td>\n    </tr>\n    <tr>\n      <th>14833</th>\n      <td>0.000</td>\n      <td>1.000</td>\n      <td>0.000</td>\n      <td>0.0000</td>\n      <td>neutral</td>\n    </tr>\n    <tr>\n      <th>14834</th>\n      <td>0.000</td>\n      <td>0.707</td>\n      <td>0.293</td>\n      <td>0.4404</td>\n      <td>positive</td>\n    </tr>\n    <tr>\n      <th>14835</th>\n      <td>0.000</td>\n      <td>1.000</td>\n      <td>0.000</td>\n      <td>0.0000</td>\n      <td>neutral</td>\n    </tr>\n    <tr>\n      <th>14836</th>\n      <td>0.000</td>\n      <td>1.000</td>\n      <td>0.000</td>\n      <td>0.0000</td>\n      <td>neutral</td>\n    </tr>\n    <tr>\n      <th>14837</th>\n      <td>0.000</td>\n      <td>1.000</td>\n      <td>0.000</td>\n      <td>0.0000</td>\n      <td>neutral</td>\n    </tr>\n  </tbody>\n</table>\n<p>14838 rows × 5 columns</p>\n</div>"
     },
     "execution_count": 110,
     "metadata": {},
     "output_type": "execute_result"
    }
   ],
   "source": [
    "df_sent = pd.DataFrame.from_records(sent_scores)\n",
    "df_sent"
   ],
   "metadata": {
    "collapsed": false,
    "pycharm": {
     "name": "#%%\n"
    }
   }
  },
  {
   "cell_type": "code",
   "execution_count": 111,
   "outputs": [],
   "source": [
    "rel_tweets = pd.concat([rel_tweets, df_sent], axis=1)"
   ],
   "metadata": {
    "collapsed": false,
    "pycharm": {
     "name": "#%%\n"
    }
   }
  },
  {
   "cell_type": "code",
   "execution_count": 112,
   "outputs": [
    {
     "data": {
      "text/plain": "       grid_id           tweet_id_x          created_at  \\\n0         40.0   820841383099437058 2017-01-16 03:53:30   \n1         40.0   820841383099437058 2017-01-16 03:53:30   \n3         73.0          19057484971 2010-07-21 06:52:06   \n5        101.0   364985527600033795 2013-08-07 05:45:05   \n6        101.0  1397357765811597312 2021-05-26 01:03:47   \n...        ...                  ...                 ...   \n14830      NaN                  NaN                 NaT   \n14832      NaN                  NaN                 NaT   \n14834      NaN                  NaN                 NaT   \n14836      NaN                  NaN                 NaT   \n14837      NaN                  NaN                 NaT   \n\n                                                    text   author_id  \\\n0      Back of the camera preview from today at the r...   231610931   \n1      Back of the camera preview from today at the r...   231610931   \n3      And now I hear coyotes... they better not hurt...    54453264   \n5      Goal for tomorrow is to rope a coyote  #gottah...   266238333   \n6      @numinousstock I could potentially run into a ...  2802522932   \n...                                                  ...         ...   \n14830                                                NaN         NaN   \n14832                                                NaN         NaN   \n14834                                                NaN         NaN   \n14836                                                NaN         NaN   \n14837                                                NaN         NaN   \n\n               place_id         lat       long         full_name  \\\n0      fbd6d2f5a4e4a15e -121.697000  41.948800   California, USA   \n1      fbd6d2f5a4e4a15e -121.697000  41.948800   California, USA   \n3      ca06c9bd1e591f53         NaN        NaN  Butte Valley, CA   \n5      e057ac551ce5df02 -122.611145  41.742534         Yreka, CA   \n6      e057ac551ce5df02         NaN        NaN         Yreka, CA   \n...                 ...         ...        ...               ...   \n14830               NaN         NaN        NaN               NaN   \n14832               NaN         NaN        NaN               NaN   \n14834               NaN         NaN        NaN               NaN   \n14836               NaN         NaN        NaN               NaN   \n14837               NaN         NaN        NaN               NaN   \n\n               name  ...     id    county           tweet_id_y  tag  \\\n0        California  ...   40.0  SISKIYOU   820841383099436928  1.0   \n1        California  ...   40.0  SISKIYOU   820841383099437056  1.0   \n3      Butte Valley  ...   73.0  SISKIYOU          19057484971  1.0   \n5             Yreka  ...  101.0  SISKIYOU   364985527600033792  1.0   \n6             Yreka  ...  101.0  SISKIYOU  1397357765811597312  1.0   \n...             ...  ...    ...       ...                  ...  ...   \n14830           NaN  ...    NaN       NaN                  NaN  NaN   \n14832           NaN  ...    NaN       NaN                  NaN  NaN   \n14834           NaN  ...    NaN       NaN                  NaN  NaN   \n14836           NaN  ...    NaN       NaN                  NaN  NaN   \n14837           NaN  ...    NaN       NaN                  NaN  NaN   \n\n       relevance_pred  neg_sent_score  neu_sent_score  pos_sent_score  \\\n0                 1.0           0.094           0.906           0.000   \n1                 1.0           0.094           0.906           0.000   \n3                 1.0           0.000           1.000           0.000   \n5                 0.0           0.000           0.955           0.045   \n6                 1.0           0.000           1.000           0.000   \n...               ...             ...             ...             ...   \n14830             NaN           0.000           0.607           0.393   \n14832             NaN           0.000           1.000           0.000   \n14834             NaN           0.000           0.707           0.293   \n14836             NaN           0.000           1.000           0.000   \n14837             NaN           0.000           1.000           0.000   \n\n       compound_sent_score  sent_class  \n0                  -0.2411    negative  \n1                  -0.2411    negative  \n3                   0.0000     neutral  \n5                   0.2732    positive  \n6                   0.0000     neutral  \n...                    ...         ...  \n14830               0.7974    positive  \n14832               0.0000     neutral  \n14834               0.4404    positive  \n14836               0.0000     neutral  \n14837               0.0000     neutral  \n\n[25636 rows x 21 columns]",
      "text/html": "<div>\n<style scoped>\n    .dataframe tbody tr th:only-of-type {\n        vertical-align: middle;\n    }\n\n    .dataframe tbody tr th {\n        vertical-align: top;\n    }\n\n    .dataframe thead th {\n        text-align: right;\n    }\n</style>\n<table border=\"1\" class=\"dataframe\">\n  <thead>\n    <tr style=\"text-align: right;\">\n      <th></th>\n      <th>grid_id</th>\n      <th>tweet_id_x</th>\n      <th>created_at</th>\n      <th>text</th>\n      <th>author_id</th>\n      <th>place_id</th>\n      <th>lat</th>\n      <th>long</th>\n      <th>full_name</th>\n      <th>name</th>\n      <th>...</th>\n      <th>id</th>\n      <th>county</th>\n      <th>tweet_id_y</th>\n      <th>tag</th>\n      <th>relevance_pred</th>\n      <th>neg_sent_score</th>\n      <th>neu_sent_score</th>\n      <th>pos_sent_score</th>\n      <th>compound_sent_score</th>\n      <th>sent_class</th>\n    </tr>\n  </thead>\n  <tbody>\n    <tr>\n      <th>0</th>\n      <td>40.0</td>\n      <td>820841383099437058</td>\n      <td>2017-01-16 03:53:30</td>\n      <td>Back of the camera preview from today at the r...</td>\n      <td>231610931</td>\n      <td>fbd6d2f5a4e4a15e</td>\n      <td>-121.697000</td>\n      <td>41.948800</td>\n      <td>California, USA</td>\n      <td>California</td>\n      <td>...</td>\n      <td>40.0</td>\n      <td>SISKIYOU</td>\n      <td>820841383099436928</td>\n      <td>1.0</td>\n      <td>1.0</td>\n      <td>0.094</td>\n      <td>0.906</td>\n      <td>0.000</td>\n      <td>-0.2411</td>\n      <td>negative</td>\n    </tr>\n    <tr>\n      <th>1</th>\n      <td>40.0</td>\n      <td>820841383099437058</td>\n      <td>2017-01-16 03:53:30</td>\n      <td>Back of the camera preview from today at the r...</td>\n      <td>231610931</td>\n      <td>fbd6d2f5a4e4a15e</td>\n      <td>-121.697000</td>\n      <td>41.948800</td>\n      <td>California, USA</td>\n      <td>California</td>\n      <td>...</td>\n      <td>40.0</td>\n      <td>SISKIYOU</td>\n      <td>820841383099437056</td>\n      <td>1.0</td>\n      <td>1.0</td>\n      <td>0.094</td>\n      <td>0.906</td>\n      <td>0.000</td>\n      <td>-0.2411</td>\n      <td>negative</td>\n    </tr>\n    <tr>\n      <th>3</th>\n      <td>73.0</td>\n      <td>19057484971</td>\n      <td>2010-07-21 06:52:06</td>\n      <td>And now I hear coyotes... they better not hurt...</td>\n      <td>54453264</td>\n      <td>ca06c9bd1e591f53</td>\n      <td>NaN</td>\n      <td>NaN</td>\n      <td>Butte Valley, CA</td>\n      <td>Butte Valley</td>\n      <td>...</td>\n      <td>73.0</td>\n      <td>SISKIYOU</td>\n      <td>19057484971</td>\n      <td>1.0</td>\n      <td>1.0</td>\n      <td>0.000</td>\n      <td>1.000</td>\n      <td>0.000</td>\n      <td>0.0000</td>\n      <td>neutral</td>\n    </tr>\n    <tr>\n      <th>5</th>\n      <td>101.0</td>\n      <td>364985527600033795</td>\n      <td>2013-08-07 05:45:05</td>\n      <td>Goal for tomorrow is to rope a coyote  #gottah...</td>\n      <td>266238333</td>\n      <td>e057ac551ce5df02</td>\n      <td>-122.611145</td>\n      <td>41.742534</td>\n      <td>Yreka, CA</td>\n      <td>Yreka</td>\n      <td>...</td>\n      <td>101.0</td>\n      <td>SISKIYOU</td>\n      <td>364985527600033792</td>\n      <td>1.0</td>\n      <td>0.0</td>\n      <td>0.000</td>\n      <td>0.955</td>\n      <td>0.045</td>\n      <td>0.2732</td>\n      <td>positive</td>\n    </tr>\n    <tr>\n      <th>6</th>\n      <td>101.0</td>\n      <td>1397357765811597312</td>\n      <td>2021-05-26 01:03:47</td>\n      <td>@numinousstock I could potentially run into a ...</td>\n      <td>2802522932</td>\n      <td>e057ac551ce5df02</td>\n      <td>NaN</td>\n      <td>NaN</td>\n      <td>Yreka, CA</td>\n      <td>Yreka</td>\n      <td>...</td>\n      <td>101.0</td>\n      <td>SISKIYOU</td>\n      <td>1397357765811597312</td>\n      <td>1.0</td>\n      <td>1.0</td>\n      <td>0.000</td>\n      <td>1.000</td>\n      <td>0.000</td>\n      <td>0.0000</td>\n      <td>neutral</td>\n    </tr>\n    <tr>\n      <th>...</th>\n      <td>...</td>\n      <td>...</td>\n      <td>...</td>\n      <td>...</td>\n      <td>...</td>\n      <td>...</td>\n      <td>...</td>\n      <td>...</td>\n      <td>...</td>\n      <td>...</td>\n      <td>...</td>\n      <td>...</td>\n      <td>...</td>\n      <td>...</td>\n      <td>...</td>\n      <td>...</td>\n      <td>...</td>\n      <td>...</td>\n      <td>...</td>\n      <td>...</td>\n      <td>...</td>\n    </tr>\n    <tr>\n      <th>14830</th>\n      <td>NaN</td>\n      <td>NaN</td>\n      <td>NaT</td>\n      <td>NaN</td>\n      <td>NaN</td>\n      <td>NaN</td>\n      <td>NaN</td>\n      <td>NaN</td>\n      <td>NaN</td>\n      <td>NaN</td>\n      <td>...</td>\n      <td>NaN</td>\n      <td>NaN</td>\n      <td>NaN</td>\n      <td>NaN</td>\n      <td>NaN</td>\n      <td>0.000</td>\n      <td>0.607</td>\n      <td>0.393</td>\n      <td>0.7974</td>\n      <td>positive</td>\n    </tr>\n    <tr>\n      <th>14832</th>\n      <td>NaN</td>\n      <td>NaN</td>\n      <td>NaT</td>\n      <td>NaN</td>\n      <td>NaN</td>\n      <td>NaN</td>\n      <td>NaN</td>\n      <td>NaN</td>\n      <td>NaN</td>\n      <td>NaN</td>\n      <td>...</td>\n      <td>NaN</td>\n      <td>NaN</td>\n      <td>NaN</td>\n      <td>NaN</td>\n      <td>NaN</td>\n      <td>0.000</td>\n      <td>1.000</td>\n      <td>0.000</td>\n      <td>0.0000</td>\n      <td>neutral</td>\n    </tr>\n    <tr>\n      <th>14834</th>\n      <td>NaN</td>\n      <td>NaN</td>\n      <td>NaT</td>\n      <td>NaN</td>\n      <td>NaN</td>\n      <td>NaN</td>\n      <td>NaN</td>\n      <td>NaN</td>\n      <td>NaN</td>\n      <td>NaN</td>\n      <td>...</td>\n      <td>NaN</td>\n      <td>NaN</td>\n      <td>NaN</td>\n      <td>NaN</td>\n      <td>NaN</td>\n      <td>0.000</td>\n      <td>0.707</td>\n      <td>0.293</td>\n      <td>0.4404</td>\n      <td>positive</td>\n    </tr>\n    <tr>\n      <th>14836</th>\n      <td>NaN</td>\n      <td>NaN</td>\n      <td>NaT</td>\n      <td>NaN</td>\n      <td>NaN</td>\n      <td>NaN</td>\n      <td>NaN</td>\n      <td>NaN</td>\n      <td>NaN</td>\n      <td>NaN</td>\n      <td>...</td>\n      <td>NaN</td>\n      <td>NaN</td>\n      <td>NaN</td>\n      <td>NaN</td>\n      <td>NaN</td>\n      <td>0.000</td>\n      <td>1.000</td>\n      <td>0.000</td>\n      <td>0.0000</td>\n      <td>neutral</td>\n    </tr>\n    <tr>\n      <th>14837</th>\n      <td>NaN</td>\n      <td>NaN</td>\n      <td>NaT</td>\n      <td>NaN</td>\n      <td>NaN</td>\n      <td>NaN</td>\n      <td>NaN</td>\n      <td>NaN</td>\n      <td>NaN</td>\n      <td>NaN</td>\n      <td>...</td>\n      <td>NaN</td>\n      <td>NaN</td>\n      <td>NaN</td>\n      <td>NaN</td>\n      <td>NaN</td>\n      <td>0.000</td>\n      <td>1.000</td>\n      <td>0.000</td>\n      <td>0.0000</td>\n      <td>neutral</td>\n    </tr>\n  </tbody>\n</table>\n<p>25636 rows × 21 columns</p>\n</div>"
     },
     "execution_count": 112,
     "metadata": {},
     "output_type": "execute_result"
    }
   ],
   "source": [
    "rel_tweets"
   ],
   "metadata": {
    "collapsed": false,
    "pycharm": {
     "name": "#%%\n"
    }
   }
  },
  {
   "cell_type": "markdown",
   "source": [
    "Save relevant tweets with sentiment scores"
   ],
   "metadata": {
    "collapsed": false,
    "pycharm": {
     "name": "#%% md\n"
    }
   }
  },
  {
   "cell_type": "code",
   "execution_count": 113,
   "outputs": [],
   "source": [
    "# rel_tweets.to_parquet('modeling_notebooks/data/rel_tweets_with_sentiment.gzip', index=None)"
   ],
   "metadata": {
    "collapsed": false,
    "pycharm": {
     "name": "#%%\n"
    }
   }
  },
  {
   "cell_type": "code",
   "execution_count": 114,
   "outputs": [
    {
     "data": {
      "text/plain": "   grid_id           tweet_id_x          created_at  \\\n0     40.0   820841383099437058 2017-01-16 03:53:30   \n1     40.0   820841383099437058 2017-01-16 03:53:30   \n3     73.0          19057484971 2010-07-21 06:52:06   \n5    101.0   364985527600033795 2013-08-07 05:45:05   \n6    101.0  1397357765811597312 2021-05-26 01:03:47   \n\n                                                text   author_id  \\\n0  Back of the camera preview from today at the r...   231610931   \n1  Back of the camera preview from today at the r...   231610931   \n3  And now I hear coyotes... they better not hurt...    54453264   \n5  Goal for tomorrow is to rope a coyote  #gottah...   266238333   \n6  @numinousstock I could potentially run into a ...  2802522932   \n\n           place_id         lat       long         full_name          name  \\\n0  fbd6d2f5a4e4a15e -121.697000  41.948800   California, USA    California   \n1  fbd6d2f5a4e4a15e -121.697000  41.948800   California, USA    California   \n3  ca06c9bd1e591f53         NaN        NaN  Butte Valley, CA  Butte Valley   \n5  e057ac551ce5df02 -122.611145  41.742534         Yreka, CA         Yreka   \n6  e057ac551ce5df02         NaN        NaN         Yreka, CA         Yreka   \n\n   ...     id    county    tweet_id_y  tag  relevance_pred  neg_sent_score  \\\n0  ...   40.0  SISKIYOU  8.208414e+17  1.0             1.0           0.094   \n1  ...   40.0  SISKIYOU  8.208414e+17  1.0             1.0           0.094   \n3  ...   73.0  SISKIYOU  1.905748e+10  1.0             1.0           0.000   \n5  ...  101.0  SISKIYOU  3.649855e+17  1.0             0.0           0.000   \n6  ...  101.0  SISKIYOU  1.397358e+18  1.0             1.0           0.000   \n\n   neu_sent_score  pos_sent_score  compound_sent_score  sent_class  \n0           0.906           0.000              -0.2411    negative  \n1           0.906           0.000              -0.2411    negative  \n3           1.000           0.000               0.0000     neutral  \n5           0.955           0.045               0.2732    positive  \n6           1.000           0.000               0.0000     neutral  \n\n[5 rows x 21 columns]",
      "text/html": "<div>\n<style scoped>\n    .dataframe tbody tr th:only-of-type {\n        vertical-align: middle;\n    }\n\n    .dataframe tbody tr th {\n        vertical-align: top;\n    }\n\n    .dataframe thead th {\n        text-align: right;\n    }\n</style>\n<table border=\"1\" class=\"dataframe\">\n  <thead>\n    <tr style=\"text-align: right;\">\n      <th></th>\n      <th>grid_id</th>\n      <th>tweet_id_x</th>\n      <th>created_at</th>\n      <th>text</th>\n      <th>author_id</th>\n      <th>place_id</th>\n      <th>lat</th>\n      <th>long</th>\n      <th>full_name</th>\n      <th>name</th>\n      <th>...</th>\n      <th>id</th>\n      <th>county</th>\n      <th>tweet_id_y</th>\n      <th>tag</th>\n      <th>relevance_pred</th>\n      <th>neg_sent_score</th>\n      <th>neu_sent_score</th>\n      <th>pos_sent_score</th>\n      <th>compound_sent_score</th>\n      <th>sent_class</th>\n    </tr>\n  </thead>\n  <tbody>\n    <tr>\n      <th>0</th>\n      <td>40.0</td>\n      <td>820841383099437058</td>\n      <td>2017-01-16 03:53:30</td>\n      <td>Back of the camera preview from today at the r...</td>\n      <td>231610931</td>\n      <td>fbd6d2f5a4e4a15e</td>\n      <td>-121.697000</td>\n      <td>41.948800</td>\n      <td>California, USA</td>\n      <td>California</td>\n      <td>...</td>\n      <td>40.0</td>\n      <td>SISKIYOU</td>\n      <td>8.208414e+17</td>\n      <td>1.0</td>\n      <td>1.0</td>\n      <td>0.094</td>\n      <td>0.906</td>\n      <td>0.000</td>\n      <td>-0.2411</td>\n      <td>negative</td>\n    </tr>\n    <tr>\n      <th>1</th>\n      <td>40.0</td>\n      <td>820841383099437058</td>\n      <td>2017-01-16 03:53:30</td>\n      <td>Back of the camera preview from today at the r...</td>\n      <td>231610931</td>\n      <td>fbd6d2f5a4e4a15e</td>\n      <td>-121.697000</td>\n      <td>41.948800</td>\n      <td>California, USA</td>\n      <td>California</td>\n      <td>...</td>\n      <td>40.0</td>\n      <td>SISKIYOU</td>\n      <td>8.208414e+17</td>\n      <td>1.0</td>\n      <td>1.0</td>\n      <td>0.094</td>\n      <td>0.906</td>\n      <td>0.000</td>\n      <td>-0.2411</td>\n      <td>negative</td>\n    </tr>\n    <tr>\n      <th>3</th>\n      <td>73.0</td>\n      <td>19057484971</td>\n      <td>2010-07-21 06:52:06</td>\n      <td>And now I hear coyotes... they better not hurt...</td>\n      <td>54453264</td>\n      <td>ca06c9bd1e591f53</td>\n      <td>NaN</td>\n      <td>NaN</td>\n      <td>Butte Valley, CA</td>\n      <td>Butte Valley</td>\n      <td>...</td>\n      <td>73.0</td>\n      <td>SISKIYOU</td>\n      <td>1.905748e+10</td>\n      <td>1.0</td>\n      <td>1.0</td>\n      <td>0.000</td>\n      <td>1.000</td>\n      <td>0.000</td>\n      <td>0.0000</td>\n      <td>neutral</td>\n    </tr>\n    <tr>\n      <th>5</th>\n      <td>101.0</td>\n      <td>364985527600033795</td>\n      <td>2013-08-07 05:45:05</td>\n      <td>Goal for tomorrow is to rope a coyote  #gottah...</td>\n      <td>266238333</td>\n      <td>e057ac551ce5df02</td>\n      <td>-122.611145</td>\n      <td>41.742534</td>\n      <td>Yreka, CA</td>\n      <td>Yreka</td>\n      <td>...</td>\n      <td>101.0</td>\n      <td>SISKIYOU</td>\n      <td>3.649855e+17</td>\n      <td>1.0</td>\n      <td>0.0</td>\n      <td>0.000</td>\n      <td>0.955</td>\n      <td>0.045</td>\n      <td>0.2732</td>\n      <td>positive</td>\n    </tr>\n    <tr>\n      <th>6</th>\n      <td>101.0</td>\n      <td>1397357765811597312</td>\n      <td>2021-05-26 01:03:47</td>\n      <td>@numinousstock I could potentially run into a ...</td>\n      <td>2802522932</td>\n      <td>e057ac551ce5df02</td>\n      <td>NaN</td>\n      <td>NaN</td>\n      <td>Yreka, CA</td>\n      <td>Yreka</td>\n      <td>...</td>\n      <td>101.0</td>\n      <td>SISKIYOU</td>\n      <td>1.397358e+18</td>\n      <td>1.0</td>\n      <td>1.0</td>\n      <td>0.000</td>\n      <td>1.000</td>\n      <td>0.000</td>\n      <td>0.0000</td>\n      <td>neutral</td>\n    </tr>\n  </tbody>\n</table>\n<p>5 rows × 21 columns</p>\n</div>"
     },
     "execution_count": 114,
     "metadata": {},
     "output_type": "execute_result"
    }
   ],
   "source": [
    "data = pd.read_parquet('modeling_notebooks/data/rel_tweets_with_sentiment.gzip')\n",
    "data.head()"
   ],
   "metadata": {
    "collapsed": false,
    "pycharm": {
     "name": "#%%\n"
    }
   }
  },
  {
   "cell_type": "code",
   "execution_count": 115,
   "outputs": [
    {
     "name": "stdout",
     "output_type": "stream",
     "text": [
      "<class 'pandas.core.frame.DataFrame'>\n",
      "Int64Index: 25636 entries, 0 to 14837\n",
      "Data columns (total 21 columns):\n",
      " #   Column               Non-Null Count  Dtype         \n",
      "---  ------               --------------  -----         \n",
      " 0   grid_id              14838 non-null  float64       \n",
      " 1   tweet_id_x           14838 non-null  object        \n",
      " 2   created_at           14838 non-null  datetime64[ns]\n",
      " 3   text                 14838 non-null  object        \n",
      " 4   author_id            14838 non-null  object        \n",
      " 5   place_id             14722 non-null  object        \n",
      " 6   lat                  5572 non-null   float64       \n",
      " 7   long                 5572 non-null   float64       \n",
      " 8   full_name            14719 non-null  object        \n",
      " 9   name                 14719 non-null  object        \n",
      " 10  place_type           14719 non-null  object        \n",
      " 11  id                   14838 non-null  float64       \n",
      " 12  county               14838 non-null  object        \n",
      " 13  tweet_id_y           1552 non-null   float64       \n",
      " 14  tag                  1493 non-null   float64       \n",
      " 15  relevance_pred       14838 non-null  float64       \n",
      " 16  neg_sent_score       14838 non-null  float64       \n",
      " 17  neu_sent_score       14838 non-null  float64       \n",
      " 18  pos_sent_score       14838 non-null  float64       \n",
      " 19  compound_sent_score  14838 non-null  float64       \n",
      " 20  sent_class           14838 non-null  object        \n",
      "dtypes: datetime64[ns](1), float64(11), object(9)\n",
      "memory usage: 4.3+ MB\n"
     ]
    }
   ],
   "source": [
    "data.info()"
   ],
   "metadata": {
    "collapsed": false,
    "pycharm": {
     "name": "#%%\n"
    }
   }
  },
  {
   "cell_type": "markdown",
   "source": [
    "# Sentiment Analysis"
   ],
   "metadata": {
    "collapsed": false,
    "pycharm": {
     "name": "#%% md\n"
    }
   }
  },
  {
   "cell_type": "code",
   "execution_count": null,
   "outputs": [],
   "source": [],
   "metadata": {
    "collapsed": false,
    "pycharm": {
     "name": "#%%\n"
    }
   }
  }
 ],
 "metadata": {
  "kernelspec": {
   "display_name": "Python 3",
   "language": "python",
   "name": "python3"
  },
  "language_info": {
   "codemirror_mode": {
    "name": "ipython",
    "version": 2
   },
   "file_extension": ".py",
   "mimetype": "text/x-python",
   "name": "python",
   "nbconvert_exporter": "python",
   "pygments_lexer": "ipython2",
   "version": "2.7.6"
  }
 },
 "nbformat": 4,
 "nbformat_minor": 0
}