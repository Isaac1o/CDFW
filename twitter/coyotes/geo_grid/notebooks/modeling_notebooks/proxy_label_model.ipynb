{
 "cells": [
  {
   "cell_type": "code",
   "execution_count": 19,
   "metadata": {
    "collapsed": true
   },
   "outputs": [],
   "source": [
    "import copy\n",
    "\n",
    "import pandas as pd\n",
    "import numpy as np\n",
    "import spacy\n",
    "from sklearn.naive_bayes import MultinomialNB\n",
    "from sklearn.svm import SVC\n",
    "from sklearn.feature_extraction.text import CountVectorizer, TfidfVectorizer\n",
    "from sklearn.model_selection import GridSearchCV, RandomizedSearchCV, train_test_split\n",
    "from sklearn.pipeline import Pipeline\n",
    "from sklearn.metrics import log_loss, f1_score\n",
    "from utility.text_normalizer import *\n",
    "from utility.get_twitter import *\n",
    "from sklearn.metrics import confusion_matrix\n",
    "from sklearn.metrics import classification_report\n",
    "import seaborn as sns\n",
    "import joblib"
   ]
  },
  {
   "cell_type": "markdown",
   "source": [
    "# Load Support Functions"
   ],
   "metadata": {
    "collapsed": false,
    "pycharm": {
     "name": "#%% md\n"
    }
   }
  },
  {
   "cell_type": "code",
   "execution_count": 2,
   "outputs": [],
   "source": [
    "def get_log_loss(model, y_true, X):\n",
    "    y_hat = model.predict_proba(X)[:, 1]\n",
    "    return log_loss(y_true, y_hat)\n",
    "\n",
    "def print_scores(model, y_true, X_val):\n",
    "    y_pred = model.predict(X_val)\n",
    "    print(classification_report(y_true, y_pred, target_names=['irrelevant', 'relevant']))\n",
    "    sns.heatmap(confusion_matrix(y_true, y_pred).T, square=True, annot=True, fmt='d')"
   ],
   "metadata": {
    "collapsed": false,
    "pycharm": {
     "name": "#%%\n"
    }
   }
  },
  {
   "cell_type": "markdown",
   "source": [
    "# Load data"
   ],
   "metadata": {
    "collapsed": false,
    "pycharm": {
     "name": "#%% md\n"
    }
   }
  },
  {
   "cell_type": "code",
   "execution_count": 3,
   "outputs": [],
   "source": [
    "train = pd.read_parquet('data/selftrain_data.gzip')\n",
    "test = pd.read_parquet('data/test_initial.gzip')"
   ],
   "metadata": {
    "collapsed": false,
    "pycharm": {
     "name": "#%%\n"
    }
   }
  },
  {
   "cell_type": "code",
   "execution_count": 9,
   "outputs": [
    {
     "data": {
      "text/plain": "((44044, 15), (660, 3))"
     },
     "execution_count": 9,
     "metadata": {},
     "output_type": "execute_result"
    }
   ],
   "source": [
    "train.shape, test.shape"
   ],
   "metadata": {
    "collapsed": false,
    "pycharm": {
     "name": "#%%\n"
    }
   }
  },
  {
   "cell_type": "code",
   "execution_count": 11,
   "outputs": [
    {
     "name": "stdout",
     "output_type": "stream",
     "text": [
      "<class 'pandas.core.frame.DataFrame'>\n",
      "Int64Index: 44044 entries, 706 to 17187\n",
      "Data columns (total 15 columns):\n",
      " #   Column      Non-Null Count  Dtype         \n",
      "---  ------      --------------  -----         \n",
      " 0   tweet_id    44044 non-null  object        \n",
      " 1   text        44044 non-null  object        \n",
      " 2   tag         44044 non-null  float64       \n",
      " 3   grid_id     42724 non-null  float64       \n",
      " 4   created_at  42724 non-null  datetime64[ns]\n",
      " 5   author_id   42724 non-null  object        \n",
      " 6   place_id    39752 non-null  object        \n",
      " 7   lat         23381 non-null  float64       \n",
      " 8   long        23381 non-null  float64       \n",
      " 9   full_name   39748 non-null  object        \n",
      " 10  name        39748 non-null  object        \n",
      " 11  place_type  39748 non-null  object        \n",
      " 12  id          42724 non-null  float64       \n",
      " 13  county      42724 non-null  object        \n",
      " 14  tag_proba   42724 non-null  float64       \n",
      "dtypes: datetime64[ns](1), float64(6), object(8)\n",
      "memory usage: 5.4+ MB\n"
     ]
    }
   ],
   "source": [
    "train.info()"
   ],
   "metadata": {
    "collapsed": false,
    "pycharm": {
     "name": "#%%\n"
    }
   }
  },
  {
   "cell_type": "code",
   "execution_count": 13,
   "outputs": [
    {
     "data": {
      "text/plain": "               tweet_id                                               text  \\\n706  363824209840992256  I'm at Coyote Cantina (Redondo Beach, CA) http...   \n360  699298531815718912  @CoyoteWags coyotes are so fabulous! -yips eve...   \n50   155138791856807937  Yeewwwwwwwwww (@ STAPLES Center for Phoenix Co...   \n299  850790083602939904  BASE | @SonomaSeawolves lead 7-0 over the Coyo...   \n692  442753097925132288  Us coyotes are getting wild today!!! I love my...   \n\n     tag  grid_id created_at author_id place_id  lat  long full_name  name  \\\n706  0.0      NaN        NaT      None     None  NaN   NaN      None  None   \n360  1.0      NaN        NaT      None     None  NaN   NaN      None  None   \n50   0.0      NaN        NaT      None     None  NaN   NaN      None  None   \n299  0.0      NaN        NaT      None     None  NaN   NaN      None  None   \n692  0.0      NaN        NaT      None     None  NaN   NaN      None  None   \n\n    place_type  id county  tag_proba  \n706       None NaN   None        NaN  \n360       None NaN   None        NaN  \n50        None NaN   None        NaN  \n299       None NaN   None        NaN  \n692       None NaN   None        NaN  ",
      "text/html": "<div>\n<style scoped>\n    .dataframe tbody tr th:only-of-type {\n        vertical-align: middle;\n    }\n\n    .dataframe tbody tr th {\n        vertical-align: top;\n    }\n\n    .dataframe thead th {\n        text-align: right;\n    }\n</style>\n<table border=\"1\" class=\"dataframe\">\n  <thead>\n    <tr style=\"text-align: right;\">\n      <th></th>\n      <th>tweet_id</th>\n      <th>text</th>\n      <th>tag</th>\n      <th>grid_id</th>\n      <th>created_at</th>\n      <th>author_id</th>\n      <th>place_id</th>\n      <th>lat</th>\n      <th>long</th>\n      <th>full_name</th>\n      <th>name</th>\n      <th>place_type</th>\n      <th>id</th>\n      <th>county</th>\n      <th>tag_proba</th>\n    </tr>\n  </thead>\n  <tbody>\n    <tr>\n      <th>706</th>\n      <td>363824209840992256</td>\n      <td>I'm at Coyote Cantina (Redondo Beach, CA) http...</td>\n      <td>0.0</td>\n      <td>NaN</td>\n      <td>NaT</td>\n      <td>None</td>\n      <td>None</td>\n      <td>NaN</td>\n      <td>NaN</td>\n      <td>None</td>\n      <td>None</td>\n      <td>None</td>\n      <td>NaN</td>\n      <td>None</td>\n      <td>NaN</td>\n    </tr>\n    <tr>\n      <th>360</th>\n      <td>699298531815718912</td>\n      <td>@CoyoteWags coyotes are so fabulous! -yips eve...</td>\n      <td>1.0</td>\n      <td>NaN</td>\n      <td>NaT</td>\n      <td>None</td>\n      <td>None</td>\n      <td>NaN</td>\n      <td>NaN</td>\n      <td>None</td>\n      <td>None</td>\n      <td>None</td>\n      <td>NaN</td>\n      <td>None</td>\n      <td>NaN</td>\n    </tr>\n    <tr>\n      <th>50</th>\n      <td>155138791856807937</td>\n      <td>Yeewwwwwwwwww (@ STAPLES Center for Phoenix Co...</td>\n      <td>0.0</td>\n      <td>NaN</td>\n      <td>NaT</td>\n      <td>None</td>\n      <td>None</td>\n      <td>NaN</td>\n      <td>NaN</td>\n      <td>None</td>\n      <td>None</td>\n      <td>None</td>\n      <td>NaN</td>\n      <td>None</td>\n      <td>NaN</td>\n    </tr>\n    <tr>\n      <th>299</th>\n      <td>850790083602939904</td>\n      <td>BASE | @SonomaSeawolves lead 7-0 over the Coyo...</td>\n      <td>0.0</td>\n      <td>NaN</td>\n      <td>NaT</td>\n      <td>None</td>\n      <td>None</td>\n      <td>NaN</td>\n      <td>NaN</td>\n      <td>None</td>\n      <td>None</td>\n      <td>None</td>\n      <td>NaN</td>\n      <td>None</td>\n      <td>NaN</td>\n    </tr>\n    <tr>\n      <th>692</th>\n      <td>442753097925132288</td>\n      <td>Us coyotes are getting wild today!!! I love my...</td>\n      <td>0.0</td>\n      <td>NaN</td>\n      <td>NaT</td>\n      <td>None</td>\n      <td>None</td>\n      <td>NaN</td>\n      <td>NaN</td>\n      <td>None</td>\n      <td>None</td>\n      <td>None</td>\n      <td>NaN</td>\n      <td>None</td>\n      <td>NaN</td>\n    </tr>\n  </tbody>\n</table>\n</div>"
     },
     "execution_count": 13,
     "metadata": {},
     "output_type": "execute_result"
    }
   ],
   "source": [
    "train.head()"
   ],
   "metadata": {
    "collapsed": false,
    "pycharm": {
     "name": "#%%\n"
    }
   }
  },
  {
   "cell_type": "code",
   "execution_count": 16,
   "outputs": [
    {
     "data": {
      "text/plain": "1320"
     },
     "execution_count": 16,
     "metadata": {},
     "output_type": "execute_result"
    }
   ],
   "source": [
    "train.shape[0] - train['tag_proba'].notnull().sum()"
   ],
   "metadata": {
    "collapsed": false,
    "pycharm": {
     "name": "#%%\n"
    }
   }
  },
  {
   "cell_type": "code",
   "execution_count": 5,
   "outputs": [],
   "source": [
    "# train = train[(train['ml_tag_proba'] >= 0.90) | (train['ml_tag_proba'] <= 0.02)]"
   ],
   "metadata": {
    "collapsed": false,
    "pycharm": {
     "name": "#%%\n"
    }
   }
  },
  {
   "cell_type": "code",
   "execution_count": 6,
   "outputs": [],
   "source": [
    "# train.to_parquet('data/proxy_train_1_iter.gzip', index=None)"
   ],
   "metadata": {
    "collapsed": false,
    "pycharm": {
     "name": "#%%\n"
    }
   }
  },
  {
   "cell_type": "markdown",
   "source": [
    "# Load Model"
   ],
   "metadata": {
    "collapsed": false,
    "pycharm": {
     "name": "#%% md\n"
    }
   }
  },
  {
   "cell_type": "code",
   "execution_count": 31,
   "outputs": [],
   "source": [
    "m_proxy_nb = joblib.load('../../../models/baseline_nb.pkl')\n",
    "m_baseline_nb = copy.deepcopy(m_proxy_nb)"
   ],
   "metadata": {
    "collapsed": false,
    "pycharm": {
     "name": "#%%\n"
    }
   }
  },
  {
   "cell_type": "code",
   "execution_count": 39,
   "outputs": [],
   "source": [
    "m_baseline = joblib.load('../../../models/baseline_cvsvm.pkl')\n",
    "m_proxy = copy.deepcopy(m_baseline)"
   ],
   "metadata": {
    "collapsed": false,
    "pycharm": {
     "name": "#%%\n"
    }
   }
  },
  {
   "cell_type": "code",
   "execution_count": 40,
   "outputs": [
    {
     "name": "stderr",
     "output_type": "stream",
     "text": [
      "/Users/Isaacbolo/opt/anaconda3/lib/python3.9/site-packages/sklearn/feature_extraction/text.py:388: UserWarning: Your stop_words may be inconsistent with your preprocessing. Tokenizing the stop words generated tokens ['far', 'make'] not in stop_words.\n",
      "  warnings.warn('Your stop_words may be inconsistent with '\n"
     ]
    },
    {
     "data": {
      "text/plain": "Pipeline(steps=[('cv',\n                 CountVectorizer(lowercase=False, ngram_range=(1, 2),\n                                 preprocessor=<function tweet_preprocessor at 0x7f8a3c740af0>,\n                                 stop_words='english')),\n                ('svc', SVC(C=3, kernel='sigmoid', probability=True))])"
     },
     "execution_count": 40,
     "metadata": {},
     "output_type": "execute_result"
    }
   ],
   "source": [
    "m_proxy.fit(train['text'], train['tag'])"
   ],
   "metadata": {
    "collapsed": false,
    "pycharm": {
     "name": "#%%\n"
    }
   }
  },
  {
   "cell_type": "code",
   "execution_count": 32,
   "outputs": [
    {
     "data": {
      "text/plain": "Pipeline(steps=[('cv',\n                 CountVectorizer(min_df=4, ngram_range=(1, 2),\n                                 preprocessor=<function tweet_preprocessor at 0x7f8a3c740af0>)),\n                ('nb', MultinomialNB(alpha=6))])"
     },
     "execution_count": 32,
     "metadata": {},
     "output_type": "execute_result"
    }
   ],
   "source": [
    "m_proxy_nb.fit(train['text'], train['tag'])"
   ],
   "metadata": {
    "collapsed": false,
    "pycharm": {
     "name": "#%%\n"
    }
   }
  },
  {
   "cell_type": "code",
   "execution_count": 41,
   "outputs": [
    {
     "name": "stdout",
     "output_type": "stream",
     "text": [
      "              precision    recall  f1-score   support\n",
      "\n",
      "  irrelevant       0.96      0.82      0.88       452\n",
      "    relevant       0.70      0.92      0.80       208\n",
      "\n",
      "    accuracy                           0.85       660\n",
      "   macro avg       0.83      0.87      0.84       660\n",
      "weighted avg       0.88      0.85      0.86       660\n",
      "\n",
      "Log Loss: 1.37621\n"
     ]
    },
    {
     "data": {
      "text/plain": "<Figure size 432x288 with 2 Axes>",
      "image/png": "[encoded data removed]"
     },
     "metadata": {
      "needs_background": "light"
     },
     "output_type": "display_data"
    }
   ],
   "source": [
    "print_scores(m_proxy, test['tag'], test['text'])"
   ],
   "metadata": {
    "collapsed": false,
    "pycharm": {
     "name": "#%%\n"
    }
   }
  },
  {
   "cell_type": "code",
   "execution_count": 42,
   "outputs": [
    {
     "name": "stderr",
     "output_type": "stream",
     "text": [
      "/Users/Isaacbolo/opt/anaconda3/lib/python3.9/site-packages/sklearn/feature_extraction/text.py:388: UserWarning: Your stop_words may be inconsistent with your preprocessing. Tokenizing the stop words generated tokens ['far', 'make'] not in stop_words.\n",
      "  warnings.warn('Your stop_words may be inconsistent with '\n"
     ]
    },
    {
     "name": "stdout",
     "output_type": "stream",
     "text": [
      "              precision    recall  f1-score   support\n",
      "\n",
      "  irrelevant       0.90      0.90      0.90       452\n",
      "    relevant       0.79      0.79      0.79       208\n",
      "\n",
      "    accuracy                           0.87       660\n",
      "   macro avg       0.85      0.85      0.85       660\n",
      "weighted avg       0.87      0.87      0.87       660\n",
      "\n",
      "Log Loss: 0.33273\n"
     ]
    },
    {
     "data": {
      "text/plain": "<Figure size 432x288 with 2 Axes>",
      "image/png": "[encoded data removed]"
     },
     "metadata": {
      "needs_background": "light"
     },
     "output_type": "display_data"
    }
   ],
   "source": [
    "print_scores(m_baseline, test['tag'], test['text'])"
   ],
   "metadata": {
    "collapsed": false,
    "pycharm": {
     "name": "#%%\n"
    }
   }
  },
  {
   "cell_type": "code",
   "execution_count": 35,
   "outputs": [
    {
     "name": "stdout",
     "output_type": "stream",
     "text": [
      "              precision    recall  f1-score   support\n",
      "\n",
      "  irrelevant       0.97      0.81      0.88       452\n",
      "    relevant       0.70      0.95      0.80       208\n",
      "\n",
      "    accuracy                           0.85       660\n",
      "   macro avg       0.83      0.88      0.84       660\n",
      "weighted avg       0.89      0.85      0.86       660\n",
      "\n",
      "Log Loss: 1.19949\n"
     ]
    },
    {
     "data": {
      "text/plain": "<Figure size 432x288 with 2 Axes>",
      "image/png": "[encoded data removed]"
     },
     "metadata": {
      "needs_background": "light"
     },
     "output_type": "display_data"
    }
   ],
   "source": [
    "print_scores(m_proxy_nb, test['tag'], test['text'])"
   ],
   "metadata": {
    "collapsed": false,
    "pycharm": {
     "name": "#%%\n"
    }
   }
  },
  {
   "cell_type": "code",
   "execution_count": 36,
   "outputs": [
    {
     "name": "stdout",
     "output_type": "stream",
     "text": [
      "              precision    recall  f1-score   support\n",
      "\n",
      "  irrelevant       0.93      0.87      0.90       452\n",
      "    relevant       0.75      0.85      0.80       208\n",
      "\n",
      "    accuracy                           0.87       660\n",
      "   macro avg       0.84      0.86      0.85       660\n",
      "weighted avg       0.87      0.87      0.87       660\n",
      "\n",
      "Log Loss: 0.42120\n"
     ]
    },
    {
     "data": {
      "text/plain": "<Figure size 432x288 with 2 Axes>",
      "image/png": "[encoded data removed]"
     },
     "metadata": {
      "needs_background": "light"
     },
     "output_type": "display_data"
    }
   ],
   "source": [
    "print_scores(m_baseline_nb, test['tag'], test['text'])"
   ],
   "metadata": {
    "collapsed": false,
    "pycharm": {
     "name": "#%%\n"
    }
   }
  },
  {
   "cell_type": "markdown",
   "source": [
    "It's best not to use log-loss as a metric because SVC's probabilities are not always consistent with its argmax predictions. For example, for an observation, probability could be > .5 and predict 0, where 0.5 is the hard prediction cut off."
   ],
   "metadata": {
    "collapsed": false,
    "pycharm": {
     "name": "#%% md\n"
    }
   }
  },
  {
   "cell_type": "code",
   "execution_count": 43,
   "outputs": [
    {
     "data": {
      "text/plain": "['../../../models/NB_proxylabel.pkl']"
     },
     "execution_count": 43,
     "metadata": {},
     "output_type": "execute_result"
    }
   ],
   "source": [
    "# Save model\n",
    "# joblib.dump(m_proxy, '../../../models/SVC_proxlabel.pkl')\n",
    "# joblib.dump(m_proxy_nb, '../../../models/NB_proxylabel.pkl')"
   ],
   "metadata": {
    "collapsed": false,
    "pycharm": {
     "name": "#%%\n"
    }
   }
  },
  {
   "cell_type": "code",
   "execution_count": 47,
   "outputs": [],
   "source": [
    "f1_scores = []\n",
    "for model in [m_proxy_nb, m_proxy, m_baseline, m_baseline_nb]:\n",
    "    f1_scores.append((model,f1_score(test['tag'], model.predict(test['text']))))"
   ],
   "metadata": {
    "collapsed": false,
    "pycharm": {
     "name": "#%%\n"
    }
   }
  },
  {
   "cell_type": "code",
   "execution_count": 49,
   "outputs": [
    {
     "data": {
      "text/plain": "[(Pipeline(steps=[('cv',\n                   CountVectorizer(min_df=4, ngram_range=(1, 2),\n                                   preprocessor=<function tweet_preprocessor at 0x7f8a3c740af0>)),\n                  ('nb', MultinomialNB(alpha=6))]),\n  0.8040816326530613),\n (Pipeline(steps=[('cv',\n                   CountVectorizer(lowercase=False, ngram_range=(1, 2),\n                                   preprocessor=<function tweet_preprocessor at 0x7f8a3c740af0>,\n                                   stop_words='english')),\n                  ('svc', SVC(C=3, kernel='sigmoid', probability=True))]),\n  0.7974947807933193),\n (Pipeline(steps=[('cv',\n                   CountVectorizer(lowercase=False, ngram_range=(1, 2),\n                                   preprocessor=<function tweet_preprocessor at 0x7f8a3c740af0>,\n                                   stop_words='english')),\n                  ('svc', SVC(C=3, kernel='sigmoid', probability=True))]),\n  0.7894736842105263),\n (Pipeline(steps=[('cv',\n                   CountVectorizer(min_df=4, ngram_range=(1, 2),\n                                   preprocessor=<function tweet_preprocessor at 0x7f8a3c740af0>)),\n                  ('nb', MultinomialNB(alpha=6))]),\n  0.7990970654627538)]"
     },
     "execution_count": 49,
     "metadata": {},
     "output_type": "execute_result"
    }
   ],
   "source": [
    "f1_scores"
   ],
   "metadata": {
    "collapsed": false,
    "pycharm": {
     "name": "#%%\n"
    }
   }
  },
  {
   "cell_type": "code",
   "execution_count": 52,
   "outputs": [
    {
     "data": {
      "text/plain": "Pipeline(steps=[('cv',\n                 CountVectorizer(min_df=4, ngram_range=(1, 2),\n                                 preprocessor=<function tweet_preprocessor at 0x7f8a3c740af0>)),\n                ('nb', MultinomialNB(alpha=6))])"
     },
     "execution_count": 52,
     "metadata": {},
     "output_type": "execute_result"
    }
   ],
   "source": [
    "best_model = max(f1_scores, key=lambda x: x[1])[0]\n",
    "best_model"
   ],
   "metadata": {
    "collapsed": false,
    "pycharm": {
     "name": "#%%\n"
    }
   }
  },
  {
   "cell_type": "markdown",
   "source": [
    "## Check out the predictions"
   ],
   "metadata": {
    "collapsed": false,
    "pycharm": {
     "name": "#%% md\n"
    }
   }
  },
  {
   "cell_type": "code",
   "execution_count": 53,
   "outputs": [],
   "source": [
    "test['ml_pred'] = best_model.predict(test['text'])"
   ],
   "metadata": {
    "collapsed": false,
    "pycharm": {
     "name": "#%%\n"
    }
   }
  },
  {
   "cell_type": "code",
   "execution_count": 28,
   "outputs": [
    {
     "data": {
      "text/plain": "                tweet_id                                               text  \\\n45    548718940562530304  Fremont Police Kill Coyote After It Attacks Re...   \n917   798749289421733889                     Tf just saw a coyote on campus   \n780   834212891553263616  Most discussed topic in San Jose right now: Co...   \n679          25505738555  ...volunteering at National Public Lands Day! ...   \n241   560113978546741248  'They're chewing the roots of the vine' #Coyot...   \n..                   ...                                                ...   \n172  1038277288989660032  9 min left in the game and the Coyotes down 42...   \n760  1460473121463410693  It will send a message to the Coyotes and immi...   \n323  1071163306499563648  Coyote Magic! \\nYou can’t see them all, but th...   \n0    1297680994309419008  City coyote out for an afternoon stroll in Bue...   \n448  1051289986006306816  Coyotes improve to 22-1-2 at the DEN after bla...   \n\n     tag  ml_pred  ml_pred2  \n45   1.0      0.0       0.0  \n917  1.0      1.0       1.0  \n780  0.0      0.0       0.0  \n679  0.0      0.0       0.0  \n241  0.0      0.0       0.0  \n..   ...      ...       ...  \n172  0.0      0.0       0.0  \n760  0.0      0.0       0.0  \n323  1.0      1.0       1.0  \n0    1.0      1.0       1.0  \n448  0.0      0.0       0.0  \n\n[660 rows x 5 columns]",
      "text/html": "<div>\n<style scoped>\n    .dataframe tbody tr th:only-of-type {\n        vertical-align: middle;\n    }\n\n    .dataframe tbody tr th {\n        vertical-align: top;\n    }\n\n    .dataframe thead th {\n        text-align: right;\n    }\n</style>\n<table border=\"1\" class=\"dataframe\">\n  <thead>\n    <tr style=\"text-align: right;\">\n      <th></th>\n      <th>tweet_id</th>\n      <th>text</th>\n      <th>tag</th>\n      <th>ml_pred</th>\n      <th>ml_pred2</th>\n    </tr>\n  </thead>\n  <tbody>\n    <tr>\n      <th>45</th>\n      <td>548718940562530304</td>\n      <td>Fremont Police Kill Coyote After It Attacks Re...</td>\n      <td>1.0</td>\n      <td>0.0</td>\n      <td>0.0</td>\n    </tr>\n    <tr>\n      <th>917</th>\n      <td>798749289421733889</td>\n      <td>Tf just saw a coyote on campus</td>\n      <td>1.0</td>\n      <td>1.0</td>\n      <td>1.0</td>\n    </tr>\n    <tr>\n      <th>780</th>\n      <td>834212891553263616</td>\n      <td>Most discussed topic in San Jose right now: Co...</td>\n      <td>0.0</td>\n      <td>0.0</td>\n      <td>0.0</td>\n    </tr>\n    <tr>\n      <th>679</th>\n      <td>25505738555</td>\n      <td>...volunteering at National Public Lands Day! ...</td>\n      <td>0.0</td>\n      <td>0.0</td>\n      <td>0.0</td>\n    </tr>\n    <tr>\n      <th>241</th>\n      <td>560113978546741248</td>\n      <td>'They're chewing the roots of the vine' #Coyot...</td>\n      <td>0.0</td>\n      <td>0.0</td>\n      <td>0.0</td>\n    </tr>\n    <tr>\n      <th>...</th>\n      <td>...</td>\n      <td>...</td>\n      <td>...</td>\n      <td>...</td>\n      <td>...</td>\n    </tr>\n    <tr>\n      <th>172</th>\n      <td>1038277288989660032</td>\n      <td>9 min left in the game and the Coyotes down 42...</td>\n      <td>0.0</td>\n      <td>0.0</td>\n      <td>0.0</td>\n    </tr>\n    <tr>\n      <th>760</th>\n      <td>1460473121463410693</td>\n      <td>It will send a message to the Coyotes and immi...</td>\n      <td>0.0</td>\n      <td>0.0</td>\n      <td>0.0</td>\n    </tr>\n    <tr>\n      <th>323</th>\n      <td>1071163306499563648</td>\n      <td>Coyote Magic! \\nYou can’t see them all, but th...</td>\n      <td>1.0</td>\n      <td>1.0</td>\n      <td>1.0</td>\n    </tr>\n    <tr>\n      <th>0</th>\n      <td>1297680994309419008</td>\n      <td>City coyote out for an afternoon stroll in Bue...</td>\n      <td>1.0</td>\n      <td>1.0</td>\n      <td>1.0</td>\n    </tr>\n    <tr>\n      <th>448</th>\n      <td>1051289986006306816</td>\n      <td>Coyotes improve to 22-1-2 at the DEN after bla...</td>\n      <td>0.0</td>\n      <td>0.0</td>\n      <td>0.0</td>\n    </tr>\n  </tbody>\n</table>\n<p>660 rows × 5 columns</p>\n</div>"
     },
     "execution_count": 28,
     "metadata": {},
     "output_type": "execute_result"
    }
   ],
   "source": [
    "test"
   ],
   "metadata": {
    "collapsed": false,
    "pycharm": {
     "name": "#%%\n"
    }
   }
  },
  {
   "cell_type": "code",
   "execution_count": null,
   "outputs": [],
   "source": [],
   "metadata": {
    "collapsed": false,
    "pycharm": {
     "name": "#%%\n"
    }
   }
  }
 ],
 "metadata": {
  "kernelspec": {
   "display_name": "Python 3",
   "language": "python",
   "name": "python3"
  },
  "language_info": {
   "codemirror_mode": {
    "name": "ipython",
    "version": 2
   },
   "file_extension": ".py",
   "mimetype": "text/x-python",
   "name": "python",
   "nbconvert_exporter": "python",
   "pygments_lexer": "ipython2",
   "version": "2.7.6"
  }
 },
 "nbformat": 4,
 "nbformat_minor": 0
}