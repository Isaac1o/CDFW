{
 "cells": [
  {
   "cell_type": "code",
   "execution_count": 59,
   "metadata": {},
   "outputs": [],
   "source": [
    "import tweepy\n",
    "from tweepy import OAuthHandler\n",
    "import pandas as pd\n",
    "ENGLISH_STOP_WORDS = frozenset([\n",
    "    \"a\", \"about\", \"above\", \"across\", \"after\", \"afterwards\", \"again\", \"against\",\n",
    "    \"all\", \"almost\", \"alone\", \"along\", \"already\", \"also\", \"although\", \"always\",\n",
    "    \"am\", \"among\", \"amongst\", \"amoungst\", \"amount\", \"an\", \"and\", \"another\",\n",
    "    \"any\", \"anyhow\", \"anyone\", \"anything\", \"anyway\", \"anywhere\", \"are\",\n",
    "    \"around\", \"as\", \"at\", \"back\", \"be\", \"became\", \"because\", \"become\",\n",
    "    \"becomes\", \"becoming\", \"been\", \"before\", \"beforehand\", \"behind\", \"being\",\n",
    "    \"below\", \"beside\", \"besides\", \"between\", \"beyond\", \"bill\", \"both\",\n",
    "    \"bottom\", \"but\", \"by\", \"call\", \"can\", \"cannot\", \"cant\", \"co\", \"con\",\n",
    "    \"could\", \"couldnt\", \"cry\", \"de\", \"describe\", \"detail\", \"do\", \"done\",\n",
    "    \"down\", \"due\", \"during\", \"each\", \"eg\", \"eight\", \"either\", \"eleven\", \"else\",\n",
    "    \"elsewhere\", \"empty\", \"enough\", \"etc\", \"even\", \"ever\", \"every\", \"everyone\",\n",
    "    \"everything\", \"everywhere\", \"except\", \"few\", \"fifteen\", \"fifty\", \"fill\",\n",
    "    \"find\", \"fire\", \"first\", \"five\", \"for\", \"former\", \"formerly\", \"forty\",\n",
    "    \"found\", \"four\", \"from\", \"front\", \"full\", \"further\", \"get\", \"give\", \"go\",\n",
    "    \"had\", \"has\", \"hasnt\", \"have\", \"he\", \"hence\", \"her\", \"here\", \"hereafter\",\n",
    "    \"hereby\", \"herein\", \"hereupon\", \"hers\", \"herself\", \"him\", \"himself\", \"his\",\n",
    "    \"how\", \"however\", \"hundred\", \"i\", \"ie\", \"if\", \"in\", \"inc\", \"indeed\",\n",
    "    \"interest\", \"into\", \"is\", \"it\", \"its\", \"itself\", \"keep\", \"last\", \"latter\",\n",
    "    \"latterly\", \"least\", \"less\", \"ltd\", \"made\", \"many\", \"may\", \"me\",\n",
    "    \"meanwhile\", \"might\", \"mill\", \"mine\", \"more\", \"moreover\", \"most\", \"mostly\",\n",
    "    \"move\", \"much\", \"must\", \"my\", \"myself\", \"name\", \"namely\", \"neither\",\n",
    "    \"never\", \"nevertheless\", \"next\", \"nine\", \"no\", \"nobody\", \"none\", \"noone\",\n",
    "    \"nor\", \"not\", \"nothing\", \"now\", \"nowhere\", \"of\", \"off\", \"often\", \"on\",\n",
    "    \"once\", \"one\", \"only\", \"onto\", \"or\", \"other\", \"others\", \"otherwise\", \"our\",\n",
    "    \"ours\", \"ourselves\", \"out\", \"over\", \"own\", \"part\", \"per\", \"perhaps\",\n",
    "    \"please\", \"put\", \"rather\", \"re\", \"same\", \"see\", \"seem\", \"seemed\",\n",
    "    \"seeming\", \"seems\", \"serious\", \"several\", \"she\", \"should\", \"show\", \"side\",\n",
    "    \"since\", \"sincere\", \"six\", \"sixty\", \"so\", \"some\", \"somehow\", \"someone\",\n",
    "    \"something\", \"sometime\", \"sometimes\", \"somewhere\", \"still\", \"such\",\n",
    "    \"system\", \"take\", \"ten\", \"than\", \"that\", \"the\", \"their\", \"them\",\n",
    "    \"themselves\", \"then\", \"thence\", \"there\", \"thereafter\", \"thereby\",\n",
    "    \"therefore\", \"therein\", \"thereupon\", \"these\", \"they\", \"thick\", \"thin\",\n",
    "    \"third\", \"this\", \"those\", \"though\", \"three\", \"through\", \"throughout\",\n",
    "    \"thru\", \"thus\", \"to\", \"together\", \"too\", \"top\", \"toward\", \"towards\",\n",
    "    \"twelve\", \"twenty\", \"two\", \"un\", \"under\", \"until\", \"up\", \"upon\", \"us\",\n",
    "    \"very\", \"via\", \"was\", \"we\", \"well\", \"were\", \"what\", \"whatever\", \"when\",\n",
    "    \"whence\", \"whenever\", \"where\", \"whereafter\", \"whereas\", \"whereby\",\n",
    "    \"wherein\", \"whereupon\", \"wherever\", \"whether\", \"which\", \"while\", \"whither\",\n",
    "    \"who\", \"whoever\", \"whole\", \"whom\", \"whose\", \"why\", \"will\", \"with\",\n",
    "    \"within\", \"without\", \"would\", \"yet\", \"you\", \"your\", \"yours\", \"yourself\",\n",
    "    \"yourselves\"])"
   ]
  },
  {
   "cell_type": "code",
   "execution_count": null,
   "metadata": {},
   "outputs": [],
   "source": []
  },
  {
   "cell_type": "code",
   "execution_count": 3,
   "metadata": {},
   "outputs": [],
   "source": [
    "consumer_key = 'gD689FCbPxShlOSRckjO2wxGy'\n",
    "consumer_secret = 'Wv4XfGpuznMMDPDkC3Ifh1LWZOCBWbVMLy15T964hDd2iJ14bh'\n",
    "access_token = '328927011-rcNHFG9BjVBqfB79yyTfen2Sn4XPN1nBYEj70tCb'\n",
    "access_token_secret = 'vrpvMGTMnrDpJPVjQEqX2YB94aXYEFZgdoRrOY8jhxBT1'\n",
    "# create OAuthHandler object\n",
    "auth = tweepy.OAuthHandler(consumer_key, consumer_secret)\n",
    "# set access token and secret\n",
    "auth.set_access_token(access_token, access_token_secret)\n",
    "# create tweepy API object to fetch tweets\n",
    "api = tweepy.API(auth)"
   ]
  },
  {
   "cell_type": "code",
   "execution_count": 110,
   "metadata": {},
   "outputs": [],
   "source": [
    "query = \"'black bear' -filter:retweets\"\n",
    "item = 1000\n",
    "search = tweepy.Cursor(api.search_tweets,\n",
    "                            q=query,\n",
    "                            lang='en',\n",
    "                            tweet_mode='extended'\n",
    "                            ).items(item)\n",
    "\n",
    "holder = pd.DataFrame(columns=['created_at','full_text','id','screen_name'],index=range(item))"
   ]
  },
  {
   "cell_type": "code",
   "execution_count": 111,
   "metadata": {},
   "outputs": [],
   "source": [
    "for i,tweet in enumerate(search):\n",
    "    create = tweet.created_at\n",
    "    full_txt = tweet.full_text\n",
    "    id = tweet.id\n",
    "    scr_name = tweet.user.screen_name\n",
    "    idx = i\n",
    "    holder.iloc[idx,0] = create\n",
    "    holder.iloc[idx,1] = full_txt\n",
    "    holder.iloc[idx,2] = id\n",
    "    holder.iloc[idx,3] = scr_name"
   ]
  },
  {
   "cell_type": "code",
   "execution_count": 112,
   "metadata": {},
   "outputs": [
    {
     "data": {
      "text/html": [
       "<div>\n",
       "<style scoped>\n",
       "    .dataframe tbody tr th:only-of-type {\n",
       "        vertical-align: middle;\n",
       "    }\n",
       "\n",
       "    .dataframe tbody tr th {\n",
       "        vertical-align: top;\n",
       "    }\n",
       "\n",
       "    .dataframe thead th {\n",
       "        text-align: right;\n",
       "    }\n",
       "</style>\n",
       "<table border=\"1\" class=\"dataframe\">\n",
       "  <thead>\n",
       "    <tr style=\"text-align: right;\">\n",
       "      <th></th>\n",
       "      <th>created_at</th>\n",
       "      <th>full_text</th>\n",
       "      <th>id</th>\n",
       "      <th>screen_name</th>\n",
       "    </tr>\n",
       "  </thead>\n",
       "  <tbody>\n",
       "    <tr>\n",
       "      <th>0</th>\n",
       "      <td>2021-11-30 08:13:22+00:00</td>\n",
       "      <td>My favourite blend... is black tea infused wit...</td>\n",
       "      <td>1465594790662537218</td>\n",
       "      <td>maribellebot</td>\n",
       "    </tr>\n",
       "    <tr>\n",
       "      <th>1</th>\n",
       "      <td>2021-11-30 08:11:13+00:00</td>\n",
       "      <td>men in black aint lit and going around saying ...</td>\n",
       "      <td>1465594249538244609</td>\n",
       "      <td>ThiefNtheKnight</td>\n",
       "    </tr>\n",
       "    <tr>\n",
       "      <th>2</th>\n",
       "      <td>2021-11-30 08:05:58+00:00</td>\n",
       "      <td>Just posted a photo @ Black Bear Lodge https:/...</td>\n",
       "      <td>1465592929150541826</td>\n",
       "      <td>thequivr</td>\n",
       "    </tr>\n",
       "    <tr>\n",
       "      <th>3</th>\n",
       "      <td>2021-11-30 08:01:32+00:00</td>\n",
       "      <td>@triviaseemiin Polar bear skin is black :) lov...</td>\n",
       "      <td>1465591813754949635</td>\n",
       "      <td>ijustwake</td>\n",
       "    </tr>\n",
       "    <tr>\n",
       "      <th>4</th>\n",
       "      <td>2021-11-30 08:00:02+00:00</td>\n",
       "      <td>Daily Anime - November 2021 \\n\\n🐈My Roommate I...</td>\n",
       "      <td>1465591434627665922</td>\n",
       "      <td>museacg_my</td>\n",
       "    </tr>\n",
       "    <tr>\n",
       "      <th>5</th>\n",
       "      <td>2021-11-30 07:55:39+00:00</td>\n",
       "      <td>@giveawayuwu @PlayAdoptMe golden mummy cat , e...</td>\n",
       "      <td>1465590333895544841</td>\n",
       "      <td>lalala_onew</td>\n",
       "    </tr>\n",
       "    <tr>\n",
       "      <th>6</th>\n",
       "      <td>2021-11-30 07:54:56+00:00</td>\n",
       "      <td>@AllanCh03173375 @vaeronikarigat1 Shoot they m...</td>\n",
       "      <td>1465590154958188544</td>\n",
       "      <td>Rick85379313</td>\n",
       "    </tr>\n",
       "    <tr>\n",
       "      <th>7</th>\n",
       "      <td>2021-11-30 07:37:18+00:00</td>\n",
       "      <td>him: babe would u still fuck me if i were a po...</td>\n",
       "      <td>1465585716994490369</td>\n",
       "      <td>cheytheemenace</td>\n",
       "    </tr>\n",
       "    <tr>\n",
       "      <th>8</th>\n",
       "      <td>2021-11-30 07:36:18+00:00</td>\n",
       "      <td>Yet another Himalayan Black Bear spotted at Ha...</td>\n",
       "      <td>1465585463847129089</td>\n",
       "      <td>SikkimChronicle</td>\n",
       "    </tr>\n",
       "    <tr>\n",
       "      <th>9</th>\n",
       "      <td>2021-11-30 07:28:59+00:00</td>\n",
       "      <td>MY MATES!  \\n\\nVERMONT BLACK BEAR- https://t.c...</td>\n",
       "      <td>1465583622073765889</td>\n",
       "      <td>RAHEBFORSENATE</td>\n",
       "    </tr>\n",
       "  </tbody>\n",
       "</table>\n",
       "</div>"
      ],
      "text/plain": [
       "                  created_at  \\\n",
       "0  2021-11-30 08:13:22+00:00   \n",
       "1  2021-11-30 08:11:13+00:00   \n",
       "2  2021-11-30 08:05:58+00:00   \n",
       "3  2021-11-30 08:01:32+00:00   \n",
       "4  2021-11-30 08:00:02+00:00   \n",
       "5  2021-11-30 07:55:39+00:00   \n",
       "6  2021-11-30 07:54:56+00:00   \n",
       "7  2021-11-30 07:37:18+00:00   \n",
       "8  2021-11-30 07:36:18+00:00   \n",
       "9  2021-11-30 07:28:59+00:00   \n",
       "\n",
       "                                           full_text                   id  \\\n",
       "0  My favourite blend... is black tea infused wit...  1465594790662537218   \n",
       "1  men in black aint lit and going around saying ...  1465594249538244609   \n",
       "2  Just posted a photo @ Black Bear Lodge https:/...  1465592929150541826   \n",
       "3  @triviaseemiin Polar bear skin is black :) lov...  1465591813754949635   \n",
       "4  Daily Anime - November 2021 \\n\\n🐈My Roommate I...  1465591434627665922   \n",
       "5  @giveawayuwu @PlayAdoptMe golden mummy cat , e...  1465590333895544841   \n",
       "6  @AllanCh03173375 @vaeronikarigat1 Shoot they m...  1465590154958188544   \n",
       "7  him: babe would u still fuck me if i were a po...  1465585716994490369   \n",
       "8  Yet another Himalayan Black Bear spotted at Ha...  1465585463847129089   \n",
       "9  MY MATES!  \\n\\nVERMONT BLACK BEAR- https://t.c...  1465583622073765889   \n",
       "\n",
       "       screen_name  \n",
       "0     maribellebot  \n",
       "1  ThiefNtheKnight  \n",
       "2         thequivr  \n",
       "3        ijustwake  \n",
       "4       museacg_my  \n",
       "5      lalala_onew  \n",
       "6     Rick85379313  \n",
       "7   cheytheemenace  \n",
       "8  SikkimChronicle  \n",
       "9   RAHEBFORSENATE  "
      ]
     },
     "execution_count": 112,
     "metadata": {},
     "output_type": "execute_result"
    }
   ],
   "source": [
    "holder.head(10)"
   ]
  },
  {
   "cell_type": "code",
   "execution_count": 109,
   "metadata": {},
   "outputs": [],
   "source": [
    "holder.created_at = str(holder.created_at)\n",
    "holder.to_excel('black_bear_29nov_2.xlsx')"
   ]
  },
  {
   "cell_type": "code",
   "execution_count": 196,
   "metadata": {},
   "outputs": [],
   "source": [
    "df = pd.read_excel('black_bear_29nov.xlsx')"
   ]
  },
  {
   "cell_type": "code",
   "execution_count": 58,
   "metadata": {},
   "outputs": [],
   "source": [
    "X = df['full_text']\n",
    "y = df['label']"
   ]
  },
  {
   "cell_type": "code",
   "execution_count": 60,
   "metadata": {},
   "outputs": [],
   "source": [
    "from sklearn.feature_extraction.text import CountVectorizer\n",
    "\n",
    "cv = CountVectorizer(stop_words = ENGLISH_STOP_WORDS)"
   ]
  },
  {
   "cell_type": "code",
   "execution_count": 61,
   "metadata": {},
   "outputs": [
    {
     "data": {
      "text/plain": [
       "CountVectorizer(stop_words=frozenset({'a', 'about', 'above', 'across', 'after',\n",
       "                                      'afterwards', 'again', 'against', 'all',\n",
       "                                      'almost', 'alone', 'along', 'already',\n",
       "                                      'also', 'although', 'always', 'am',\n",
       "                                      'among', 'amongst', 'amoungst', 'amount',\n",
       "                                      'an', 'and', 'another', 'any', 'anyhow',\n",
       "                                      'anyone', 'anything', 'anyway',\n",
       "                                      'anywhere', ...}))"
      ]
     },
     "execution_count": 61,
     "metadata": {},
     "output_type": "execute_result"
    }
   ],
   "source": [
    "cv.fit(X)"
   ]
  },
  {
   "cell_type": "code",
   "execution_count": 62,
   "metadata": {},
   "outputs": [],
   "source": [
    "\n",
    "X = cv.transform(X)"
   ]
  },
  {
   "cell_type": "code",
   "execution_count": 137,
   "metadata": {},
   "outputs": [],
   "source": [
    "from sklearn.model_selection import train_test_split\n",
    "X_train, X_test, y_train, y_test = train_test_split(X, y, test_size=0.20)"
   ]
  },
  {
   "cell_type": "code",
   "execution_count": 138,
   "metadata": {},
   "outputs": [],
   "source": [
    "from sklearn.naive_bayes import MultinomialNB\n",
    "nb = MultinomialNB()"
   ]
  },
  {
   "cell_type": "code",
   "execution_count": 139,
   "metadata": {},
   "outputs": [
    {
     "data": {
      "text/plain": [
       "MultinomialNB()"
      ]
     },
     "execution_count": 139,
     "metadata": {},
     "output_type": "execute_result"
    }
   ],
   "source": [
    "nb.fit(X_train,y_train)"
   ]
  },
  {
   "cell_type": "code",
   "execution_count": 140,
   "metadata": {},
   "outputs": [
    {
     "data": {
      "text/plain": [
       "0.575"
      ]
     },
     "execution_count": 140,
     "metadata": {},
     "output_type": "execute_result"
    }
   ],
   "source": [
    "y_pred_class = nb.predict(X_test)\n",
    "from sklearn import metrics\n",
    "metrics.accuracy_score(y_test, y_pred_class)"
   ]
  },
  {
   "cell_type": "code",
   "execution_count": 141,
   "metadata": {},
   "outputs": [],
   "source": [
    "from sklearn.ensemble import RandomForestClassifier"
   ]
  },
  {
   "cell_type": "code",
   "execution_count": 142,
   "metadata": {},
   "outputs": [],
   "source": [
    "rf = RandomForestClassifier(max_depth=5,min_samples_leaf=10,n_estimators=100,n_jobs=-1)"
   ]
  },
  {
   "cell_type": "code",
   "execution_count": 143,
   "metadata": {},
   "outputs": [
    {
     "data": {
      "text/plain": [
       "RandomForestClassifier(max_depth=5, min_samples_leaf=10, n_jobs=-1)"
      ]
     },
     "execution_count": 143,
     "metadata": {},
     "output_type": "execute_result"
    }
   ],
   "source": [
    "rf.fit(X_train,y_train)"
   ]
  },
  {
   "cell_type": "code",
   "execution_count": 150,
   "metadata": {},
   "outputs": [],
   "source": [
    "y_hat = rf.predict_proba(X_test)"
   ]
  },
  {
   "cell_type": "code",
   "execution_count": 151,
   "metadata": {},
   "outputs": [
    {
     "data": {
      "text/plain": [
       "array([[0.78672006, 0.21327994],\n",
       "       [0.78670075, 0.21329925],\n",
       "       [0.78672006, 0.21327994],\n",
       "       [0.78670075, 0.21329925],\n",
       "       [0.78672006, 0.21327994],\n",
       "       [0.78670075, 0.21329925],\n",
       "       [0.78672006, 0.21327994],\n",
       "       [0.7865734 , 0.2134266 ],\n",
       "       [0.789768  , 0.210232  ],\n",
       "       [0.78670075, 0.21329925],\n",
       "       [0.78672006, 0.21327994],\n",
       "       [0.78670075, 0.21329925],\n",
       "       [0.78962665, 0.21037335],\n",
       "       [0.78672006, 0.21327994],\n",
       "       [0.79270009, 0.20729991],\n",
       "       [0.78670075, 0.21329925],\n",
       "       [0.85715347, 0.14284653],\n",
       "       [0.7920845 , 0.2079155 ],\n",
       "       [0.78670075, 0.21329925],\n",
       "       [0.79097221, 0.20902779],\n",
       "       [0.79270009, 0.20729991],\n",
       "       [0.78672006, 0.21327994],\n",
       "       [0.79270009, 0.20729991],\n",
       "       [0.78670075, 0.21329925],\n",
       "       [0.78670075, 0.21329925],\n",
       "       [0.79270009, 0.20729991],\n",
       "       [0.79270009, 0.20729991],\n",
       "       [0.78670075, 0.21329925],\n",
       "       [0.78670075, 0.21329925],\n",
       "       [0.78670075, 0.21329925],\n",
       "       [0.78670075, 0.21329925],\n",
       "       [0.78672006, 0.21327994],\n",
       "       [0.85715347, 0.14284653],\n",
       "       [0.79255851, 0.20744149],\n",
       "       [0.78903125, 0.21096875],\n",
       "       [0.78670075, 0.21329925],\n",
       "       [0.80666857, 0.19333143],\n",
       "       [0.79097221, 0.20902779],\n",
       "       [0.78672006, 0.21327994],\n",
       "       [0.78670075, 0.21329925]])"
      ]
     },
     "execution_count": 151,
     "metadata": {},
     "output_type": "execute_result"
    }
   ],
   "source": [
    "y_hat"
   ]
  },
  {
   "cell_type": "code",
   "execution_count": 197,
   "metadata": {},
   "outputs": [],
   "source": [
    "from vaderSentiment.vaderSentiment import SentimentIntensityAnalyzer\n"
   ]
  },
  {
   "cell_type": "code",
   "execution_count": 198,
   "metadata": {},
   "outputs": [],
   "source": [
    "sid_obj = SentimentIntensityAnalyzer()\n"
   ]
  },
  {
   "cell_type": "code",
   "execution_count": 199,
   "metadata": {},
   "outputs": [
    {
     "data": {
      "text/plain": [
       "-0.5719"
      ]
     },
     "execution_count": 199,
     "metadata": {},
     "output_type": "execute_result"
    }
   ],
   "source": [
    "sid_obj.polarity_scores('I hate you so much')['compound']"
   ]
  },
  {
   "cell_type": "code",
   "execution_count": 168,
   "metadata": {},
   "outputs": [
    {
     "data": {
      "text/html": [
       "<div>\n",
       "<style scoped>\n",
       "    .dataframe tbody tr th:only-of-type {\n",
       "        vertical-align: middle;\n",
       "    }\n",
       "\n",
       "    .dataframe tbody tr th {\n",
       "        vertical-align: top;\n",
       "    }\n",
       "\n",
       "    .dataframe thead th {\n",
       "        text-align: right;\n",
       "    }\n",
       "</style>\n",
       "<table border=\"1\" class=\"dataframe\">\n",
       "  <thead>\n",
       "    <tr style=\"text-align: right;\">\n",
       "      <th></th>\n",
       "      <th>created_at</th>\n",
       "      <th>full_text</th>\n",
       "      <th>id</th>\n",
       "      <th>screen_name</th>\n",
       "      <th>sentiment</th>\n",
       "    </tr>\n",
       "  </thead>\n",
       "  <tbody>\n",
       "    <tr>\n",
       "      <th>0</th>\n",
       "      <td>2021-11-30 08:13:22+00:00</td>\n",
       "      <td>My favourite blend... is black tea infused wit...</td>\n",
       "      <td>1465594790662537218</td>\n",
       "      <td>maribellebot</td>\n",
       "      <td>1.0</td>\n",
       "    </tr>\n",
       "    <tr>\n",
       "      <th>1</th>\n",
       "      <td>2021-11-30 08:11:13+00:00</td>\n",
       "      <td>men in black aint lit and going around saying ...</td>\n",
       "      <td>1465594249538244609</td>\n",
       "      <td>ThiefNtheKnight</td>\n",
       "      <td>1.0</td>\n",
       "    </tr>\n",
       "    <tr>\n",
       "      <th>2</th>\n",
       "      <td>2021-11-30 08:05:58+00:00</td>\n",
       "      <td>Just posted a photo @ Black Bear Lodge https:/...</td>\n",
       "      <td>1465592929150541826</td>\n",
       "      <td>thequivr</td>\n",
       "      <td>1.0</td>\n",
       "    </tr>\n",
       "    <tr>\n",
       "      <th>3</th>\n",
       "      <td>2021-11-30 08:01:32+00:00</td>\n",
       "      <td>@triviaseemiin Polar bear skin is black :) lov...</td>\n",
       "      <td>1465591813754949635</td>\n",
       "      <td>ijustwake</td>\n",
       "      <td>1.0</td>\n",
       "    </tr>\n",
       "    <tr>\n",
       "      <th>4</th>\n",
       "      <td>2021-11-30 08:00:02+00:00</td>\n",
       "      <td>Daily Anime - November 2021 \\n\\n🐈My Roommate I...</td>\n",
       "      <td>1465591434627665922</td>\n",
       "      <td>museacg_my</td>\n",
       "      <td>1.0</td>\n",
       "    </tr>\n",
       "  </tbody>\n",
       "</table>\n",
       "</div>"
      ],
      "text/plain": [
       "                  created_at  \\\n",
       "0  2021-11-30 08:13:22+00:00   \n",
       "1  2021-11-30 08:11:13+00:00   \n",
       "2  2021-11-30 08:05:58+00:00   \n",
       "3  2021-11-30 08:01:32+00:00   \n",
       "4  2021-11-30 08:00:02+00:00   \n",
       "\n",
       "                                           full_text                   id  \\\n",
       "0  My favourite blend... is black tea infused wit...  1465594790662537218   \n",
       "1  men in black aint lit and going around saying ...  1465594249538244609   \n",
       "2  Just posted a photo @ Black Bear Lodge https:/...  1465592929150541826   \n",
       "3  @triviaseemiin Polar bear skin is black :) lov...  1465591813754949635   \n",
       "4  Daily Anime - November 2021 \\n\\n🐈My Roommate I...  1465591434627665922   \n",
       "\n",
       "       screen_name  sentiment  \n",
       "0     maribellebot        1.0  \n",
       "1  ThiefNtheKnight        1.0  \n",
       "2         thequivr        1.0  \n",
       "3        ijustwake        1.0  \n",
       "4       museacg_my        1.0  "
      ]
     },
     "execution_count": 168,
     "metadata": {},
     "output_type": "execute_result"
    }
   ],
   "source": [
    "holder.head()"
   ]
  },
  {
   "cell_type": "code",
   "execution_count": 201,
   "metadata": {},
   "outputs": [],
   "source": [
    "df['sentiment'] = df.apply(lambda row: sid_obj.polarity_scores(row['full_text']),axis=1)\n",
    "#df['sentiment_neutral'] = df.apply(lambda row: sid_obj.polarity_scores(row['full_text']),axis=1)\n",
    "#df['sentiment_positive'] = df.apply(lambda row: sid_obj.polarity_scores(row['full_text']),axis=1)"
   ]
  },
  {
   "cell_type": "code",
   "execution_count": 205,
   "metadata": {},
   "outputs": [
    {
     "data": {
      "text/html": [
       "<div>\n",
       "<style scoped>\n",
       "    .dataframe tbody tr th:only-of-type {\n",
       "        vertical-align: middle;\n",
       "    }\n",
       "\n",
       "    .dataframe tbody tr th {\n",
       "        vertical-align: top;\n",
       "    }\n",
       "\n",
       "    .dataframe thead th {\n",
       "        text-align: right;\n",
       "    }\n",
       "</style>\n",
       "<table border=\"1\" class=\"dataframe\">\n",
       "  <thead>\n",
       "    <tr style=\"text-align: right;\">\n",
       "      <th></th>\n",
       "      <th>neg</th>\n",
       "      <th>neu</th>\n",
       "      <th>pos</th>\n",
       "      <th>compound</th>\n",
       "    </tr>\n",
       "  </thead>\n",
       "  <tbody>\n",
       "    <tr>\n",
       "      <th>0</th>\n",
       "      <td>0.075</td>\n",
       "      <td>0.793</td>\n",
       "      <td>0.133</td>\n",
       "      <td>0.3595</td>\n",
       "    </tr>\n",
       "    <tr>\n",
       "      <th>1</th>\n",
       "      <td>0.000</td>\n",
       "      <td>0.740</td>\n",
       "      <td>0.260</td>\n",
       "      <td>0.8591</td>\n",
       "    </tr>\n",
       "    <tr>\n",
       "      <th>2</th>\n",
       "      <td>0.141</td>\n",
       "      <td>0.725</td>\n",
       "      <td>0.134</td>\n",
       "      <td>0.3089</td>\n",
       "    </tr>\n",
       "    <tr>\n",
       "      <th>3</th>\n",
       "      <td>0.091</td>\n",
       "      <td>0.909</td>\n",
       "      <td>0.000</td>\n",
       "      <td>-0.4767</td>\n",
       "    </tr>\n",
       "    <tr>\n",
       "      <th>4</th>\n",
       "      <td>0.459</td>\n",
       "      <td>0.541</td>\n",
       "      <td>0.000</td>\n",
       "      <td>-0.8085</td>\n",
       "    </tr>\n",
       "    <tr>\n",
       "      <th>...</th>\n",
       "      <td>...</td>\n",
       "      <td>...</td>\n",
       "      <td>...</td>\n",
       "      <td>...</td>\n",
       "    </tr>\n",
       "    <tr>\n",
       "      <th>195</th>\n",
       "      <td>0.211</td>\n",
       "      <td>0.620</td>\n",
       "      <td>0.169</td>\n",
       "      <td>0.0000</td>\n",
       "    </tr>\n",
       "    <tr>\n",
       "      <th>196</th>\n",
       "      <td>0.073</td>\n",
       "      <td>0.749</td>\n",
       "      <td>0.178</td>\n",
       "      <td>0.5830</td>\n",
       "    </tr>\n",
       "    <tr>\n",
       "      <th>197</th>\n",
       "      <td>0.000</td>\n",
       "      <td>1.000</td>\n",
       "      <td>0.000</td>\n",
       "      <td>0.0000</td>\n",
       "    </tr>\n",
       "    <tr>\n",
       "      <th>198</th>\n",
       "      <td>0.090</td>\n",
       "      <td>0.830</td>\n",
       "      <td>0.080</td>\n",
       "      <td>0.1724</td>\n",
       "    </tr>\n",
       "    <tr>\n",
       "      <th>199</th>\n",
       "      <td>0.138</td>\n",
       "      <td>0.793</td>\n",
       "      <td>0.068</td>\n",
       "      <td>-0.3729</td>\n",
       "    </tr>\n",
       "  </tbody>\n",
       "</table>\n",
       "<p>200 rows × 4 columns</p>\n",
       "</div>"
      ],
      "text/plain": [
       "       neg    neu    pos  compound\n",
       "0    0.075  0.793  0.133    0.3595\n",
       "1    0.000  0.740  0.260    0.8591\n",
       "2    0.141  0.725  0.134    0.3089\n",
       "3    0.091  0.909  0.000   -0.4767\n",
       "4    0.459  0.541  0.000   -0.8085\n",
       "..     ...    ...    ...       ...\n",
       "195  0.211  0.620  0.169    0.0000\n",
       "196  0.073  0.749  0.178    0.5830\n",
       "197  0.000  1.000  0.000    0.0000\n",
       "198  0.090  0.830  0.080    0.1724\n",
       "199  0.138  0.793  0.068   -0.3729\n",
       "\n",
       "[200 rows x 4 columns]"
      ]
     },
     "execution_count": 205,
     "metadata": {},
     "output_type": "execute_result"
    }
   ],
   "source": [
    "df.sentiment.apply(pd.Series)"
   ]
  },
  {
   "cell_type": "code",
   "execution_count": 208,
   "metadata": {},
   "outputs": [],
   "source": [
    "df = df.join(df.sentiment.apply(pd.Series))"
   ]
  },
  {
   "cell_type": "code",
   "execution_count": 211,
   "metadata": {},
   "outputs": [],
   "source": [
    "df.drop(columns=['Unnamed: 0'],inplace=True)"
   ]
  },
  {
   "cell_type": "code",
   "execution_count": 214,
   "metadata": {},
   "outputs": [
    {
     "data": {
      "text/html": [
       "<div>\n",
       "<style scoped>\n",
       "    .dataframe tbody tr th:only-of-type {\n",
       "        vertical-align: middle;\n",
       "    }\n",
       "\n",
       "    .dataframe tbody tr th {\n",
       "        vertical-align: top;\n",
       "    }\n",
       "\n",
       "    .dataframe thead th {\n",
       "        text-align: right;\n",
       "    }\n",
       "</style>\n",
       "<table border=\"1\" class=\"dataframe\">\n",
       "  <thead>\n",
       "    <tr style=\"text-align: right;\">\n",
       "      <th></th>\n",
       "      <th>created_at</th>\n",
       "      <th>full_text</th>\n",
       "      <th>id</th>\n",
       "      <th>screen_name</th>\n",
       "      <th>label</th>\n",
       "      <th>sentiment</th>\n",
       "      <th>neg</th>\n",
       "      <th>neu</th>\n",
       "      <th>pos</th>\n",
       "      <th>compound</th>\n",
       "    </tr>\n",
       "  </thead>\n",
       "  <tbody>\n",
       "    <tr>\n",
       "      <th>180</th>\n",
       "      <td>0      2021-11-29 23:33:43+00:00\\n1      2021-...</td>\n",
       "      <td>Black Bear from this morning in North Carolina...</td>\n",
       "      <td>1.465247e+18</td>\n",
       "      <td>Brain_Gain_</td>\n",
       "      <td>1</td>\n",
       "      <td>{'neg': 0.0, 'neu': 1.0, 'pos': 0.0, 'compound...</td>\n",
       "      <td>0.000</td>\n",
       "      <td>1.000</td>\n",
       "      <td>0.000</td>\n",
       "      <td>0.0000</td>\n",
       "    </tr>\n",
       "    <tr>\n",
       "      <th>185</th>\n",
       "      <td>0      2021-11-29 23:33:43+00:00\\n1      2021-...</td>\n",
       "      <td>This is how fast a fleeing Black Bear can clim...</td>\n",
       "      <td>1.465237e+18</td>\n",
       "      <td>PenelopeRuzy</td>\n",
       "      <td>1</td>\n",
       "      <td>{'neg': 0.0, 'neu': 0.902, 'pos': 0.098, 'comp...</td>\n",
       "      <td>0.000</td>\n",
       "      <td>0.902</td>\n",
       "      <td>0.098</td>\n",
       "      <td>0.3818</td>\n",
       "    </tr>\n",
       "    <tr>\n",
       "      <th>186</th>\n",
       "      <td>0      2021-11-29 23:33:43+00:00\\n1      2021-...</td>\n",
       "      <td>Fantastic series of camera trap videos documen...</td>\n",
       "      <td>1.465237e+18</td>\n",
       "      <td>BulgarianBears</td>\n",
       "      <td>1</td>\n",
       "      <td>{'neg': 0.1, 'neu': 0.742, 'pos': 0.157, 'comp...</td>\n",
       "      <td>0.100</td>\n",
       "      <td>0.742</td>\n",
       "      <td>0.157</td>\n",
       "      <td>0.3182</td>\n",
       "    </tr>\n",
       "    <tr>\n",
       "      <th>190</th>\n",
       "      <td>0      2021-11-29 23:33:43+00:00\\n1      2021-...</td>\n",
       "      <td>Dispatch 36002: Mossy black bear documented at...</td>\n",
       "      <td>1.465227e+18</td>\n",
       "      <td>YellDispatches</td>\n",
       "      <td>1</td>\n",
       "      <td>{'neg': 0.0, 'neu': 1.0, 'pos': 0.0, 'compound...</td>\n",
       "      <td>0.000</td>\n",
       "      <td>1.000</td>\n",
       "      <td>0.000</td>\n",
       "      <td>0.0000</td>\n",
       "    </tr>\n",
       "    <tr>\n",
       "      <th>194</th>\n",
       "      <td>0      2021-11-29 23:33:43+00:00\\n1      2021-...</td>\n",
       "      <td>@guerrero_ramey There are bears here. I had a ...</td>\n",
       "      <td>1.465207e+18</td>\n",
       "      <td>hodsdon_k</td>\n",
       "      <td>1</td>\n",
       "      <td>{'neg': 0.164, 'neu': 0.759, 'pos': 0.077, 'co...</td>\n",
       "      <td>0.164</td>\n",
       "      <td>0.759</td>\n",
       "      <td>0.077</td>\n",
       "      <td>-0.6110</td>\n",
       "    </tr>\n",
       "  </tbody>\n",
       "</table>\n",
       "</div>"
      ],
      "text/plain": [
       "                                            created_at  \\\n",
       "180  0      2021-11-29 23:33:43+00:00\\n1      2021-...   \n",
       "185  0      2021-11-29 23:33:43+00:00\\n1      2021-...   \n",
       "186  0      2021-11-29 23:33:43+00:00\\n1      2021-...   \n",
       "190  0      2021-11-29 23:33:43+00:00\\n1      2021-...   \n",
       "194  0      2021-11-29 23:33:43+00:00\\n1      2021-...   \n",
       "\n",
       "                                             full_text            id  \\\n",
       "180  Black Bear from this morning in North Carolina...  1.465247e+18   \n",
       "185  This is how fast a fleeing Black Bear can clim...  1.465237e+18   \n",
       "186  Fantastic series of camera trap videos documen...  1.465237e+18   \n",
       "190  Dispatch 36002: Mossy black bear documented at...  1.465227e+18   \n",
       "194  @guerrero_ramey There are bears here. I had a ...  1.465207e+18   \n",
       "\n",
       "        screen_name  label                                          sentiment  \\\n",
       "180     Brain_Gain_      1  {'neg': 0.0, 'neu': 1.0, 'pos': 0.0, 'compound...   \n",
       "185    PenelopeRuzy      1  {'neg': 0.0, 'neu': 0.902, 'pos': 0.098, 'comp...   \n",
       "186  BulgarianBears      1  {'neg': 0.1, 'neu': 0.742, 'pos': 0.157, 'comp...   \n",
       "190  YellDispatches      1  {'neg': 0.0, 'neu': 1.0, 'pos': 0.0, 'compound...   \n",
       "194       hodsdon_k      1  {'neg': 0.164, 'neu': 0.759, 'pos': 0.077, 'co...   \n",
       "\n",
       "       neg    neu    pos  compound  \n",
       "180  0.000  1.000  0.000    0.0000  \n",
       "185  0.000  0.902  0.098    0.3818  \n",
       "186  0.100  0.742  0.157    0.3182  \n",
       "190  0.000  1.000  0.000    0.0000  \n",
       "194  0.164  0.759  0.077   -0.6110  "
      ]
     },
     "execution_count": 214,
     "metadata": {},
     "output_type": "execute_result"
    }
   ],
   "source": [
    "df[df['label']==1].tail(5)"
   ]
  },
  {
   "cell_type": "code",
   "execution_count": null,
   "metadata": {},
   "outputs": [],
   "source": []
  }
 ],
 "metadata": {
  "interpreter": {
   "hash": "51257e3d6adcf4f249880334112f68e609bc91a365f964b61c4cee61bd4b0e6f"
  },
  "kernelspec": {
   "display_name": "Python 3.8.12 64-bit ('base': conda)",
   "language": "python",
   "name": "python3"
  },
  "language_info": {
   "codemirror_mode": {
    "name": "ipython",
    "version": 3
   },
   "file_extension": ".py",
   "mimetype": "text/x-python",
   "name": "python",
   "nbconvert_exporter": "python",
   "pygments_lexer": "ipython3",
   "version": "3.8.12"
  },
  "orig_nbformat": 4
 },
 "nbformat": 4,
 "nbformat_minor": 2
}
